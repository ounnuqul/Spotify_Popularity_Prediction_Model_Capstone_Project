{
 "cells": [
  {
   "cell_type": "code",
   "execution_count": 1,
   "id": "45476ec4",
   "metadata": {},
   "outputs": [],
   "source": [
    "import pandas as pd\n",
    "import numpy as np \n",
    "import matplotlib.pyplot as plt\n",
    "import pickle\n",
    "from tqdm.notebook import tqdm"
   ]
  },
  {
   "cell_type": "markdown",
   "id": "7c8109cf",
   "metadata": {},
   "source": [
    "## Loading Data"
   ]
  },
  {
   "cell_type": "code",
   "execution_count": 29,
   "id": "7910f6f7",
   "metadata": {},
   "outputs": [],
   "source": [
    "#reading from pickle\n",
    "with open('final_df_new.pkl', 'rb') as f:\n",
    "    df = pickle.load(f)"
   ]
  },
  {
   "cell_type": "code",
   "execution_count": 30,
   "id": "0291b8b3",
   "metadata": {},
   "outputs": [
    {
     "name": "stdout",
     "output_type": "stream",
     "text": [
      "<class 'pandas.core.frame.DataFrame'>\n",
      "RangeIndex: 65871 entries, 0 to 65870\n",
      "Data columns (total 23 columns):\n",
      " #   Column            Non-Null Count  Dtype  \n",
      "---  ------            --------------  -----  \n",
      " 0   track_id          65871 non-null  object \n",
      " 1   album_name        65871 non-null  object \n",
      " 2   artists           65871 non-null  object \n",
      " 3   track_name        65871 non-null  object \n",
      " 4   release_date      65871 non-null  object \n",
      " 5   track_genre       65871 non-null  object \n",
      " 6   duration_ms       65871 non-null  int64  \n",
      " 7   explicit          65871 non-null  bool   \n",
      " 8   href              65871 non-null  object \n",
      " 9   danceability      65871 non-null  float64\n",
      " 10  energy            65871 non-null  float64\n",
      " 11  key               65871 non-null  int64  \n",
      " 12  loudness          65871 non-null  float64\n",
      " 13  mode              65871 non-null  int64  \n",
      " 14  speechiness       65871 non-null  float64\n",
      " 15  acousticness      65871 non-null  float64\n",
      " 16  instrumentalness  65871 non-null  float64\n",
      " 17  liveness          65871 non-null  float64\n",
      " 18  valence           65871 non-null  float64\n",
      " 19  tempo             65871 non-null  float64\n",
      " 20  time_signature    65871 non-null  int64  \n",
      " 21  preview_url       51938 non-null  object \n",
      " 22  popularity        65871 non-null  int64  \n",
      "dtypes: bool(1), float64(9), int64(5), object(8)\n",
      "memory usage: 11.1+ MB\n"
     ]
    }
   ],
   "source": [
    "df.info()"
   ]
  },
  {
   "cell_type": "markdown",
   "id": "e520b61f",
   "metadata": {},
   "source": [
    "## Extracting `year`, `month`, and `day` from `release date`"
   ]
  },
  {
   "cell_type": "code",
   "execution_count": 31,
   "id": "33080cef",
   "metadata": {},
   "outputs": [],
   "source": [
    "date_d = {'year':[], 'month':[], 'day':[]}\n",
    "\n",
    "for x in df['release_date']:\n",
    "    if len(x) == 10:\n",
    "        date_d['year'].append(x[:4])\n",
    "        date_d['month'].append(x[5:7])\n",
    "        date_d['day'].append(x[8:])\n",
    "    elif len(x) == 7:\n",
    "        date_d['year'].append(x[:4])\n",
    "        date_d['month'].append(x[5:7])\n",
    "        date_d['day'].append(np.nan)\n",
    "    elif len(x) == 4:\n",
    "        date_d['year'].append(x[:4])\n",
    "        date_d['month'].append(np.nan)\n",
    "        date_d['day'].append(np.nan)"
   ]
  },
  {
   "cell_type": "code",
   "execution_count": 32,
   "id": "bf329614",
   "metadata": {},
   "outputs": [],
   "source": [
    "df_date = pd.concat([df,pd.DataFrame(date_d)], axis=1)"
   ]
  },
  {
   "cell_type": "code",
   "execution_count": 33,
   "id": "d1aa813c",
   "metadata": {},
   "outputs": [
    {
     "name": "stdout",
     "output_type": "stream",
     "text": [
      "<class 'pandas.core.frame.DataFrame'>\n",
      "RangeIndex: 65871 entries, 0 to 65870\n",
      "Data columns (total 26 columns):\n",
      " #   Column            Non-Null Count  Dtype  \n",
      "---  ------            --------------  -----  \n",
      " 0   track_id          65871 non-null  object \n",
      " 1   album_name        65871 non-null  object \n",
      " 2   artists           65871 non-null  object \n",
      " 3   track_name        65871 non-null  object \n",
      " 4   release_date      65871 non-null  object \n",
      " 5   track_genre       65871 non-null  object \n",
      " 6   duration_ms       65871 non-null  int64  \n",
      " 7   explicit          65871 non-null  bool   \n",
      " 8   href              65871 non-null  object \n",
      " 9   danceability      65871 non-null  float64\n",
      " 10  energy            65871 non-null  float64\n",
      " 11  key               65871 non-null  int64  \n",
      " 12  loudness          65871 non-null  float64\n",
      " 13  mode              65871 non-null  int64  \n",
      " 14  speechiness       65871 non-null  float64\n",
      " 15  acousticness      65871 non-null  float64\n",
      " 16  instrumentalness  65871 non-null  float64\n",
      " 17  liveness          65871 non-null  float64\n",
      " 18  valence           65871 non-null  float64\n",
      " 19  tempo             65871 non-null  float64\n",
      " 20  time_signature    65871 non-null  int64  \n",
      " 21  preview_url       51938 non-null  object \n",
      " 22  popularity        65871 non-null  int64  \n",
      " 23  year              65871 non-null  object \n",
      " 24  month             60434 non-null  object \n",
      " 25  day               60291 non-null  object \n",
      "dtypes: bool(1), float64(9), int64(5), object(11)\n",
      "memory usage: 12.6+ MB\n"
     ]
    }
   ],
   "source": [
    "df_date.info()"
   ]
  },
  {
   "cell_type": "code",
   "execution_count": 65,
   "id": "6b50b75b",
   "metadata": {},
   "outputs": [
    {
     "name": "stdout",
     "output_type": "stream",
     "text": [
      "<class 'pandas.core.frame.DataFrame'>\n",
      "Int64Index: 60434 entries, 0 to 65868\n",
      "Data columns (total 25 columns):\n",
      " #   Column            Non-Null Count  Dtype  \n",
      "---  ------            --------------  -----  \n",
      " 0   track_id          60434 non-null  object \n",
      " 1   album_name        60434 non-null  object \n",
      " 2   artists           60434 non-null  object \n",
      " 3   track_name        60434 non-null  object \n",
      " 4   release_date      60434 non-null  object \n",
      " 5   track_genre       60434 non-null  object \n",
      " 6   duration_ms       60434 non-null  int64  \n",
      " 7   explicit          60434 non-null  bool   \n",
      " 8   href              60434 non-null  object \n",
      " 9   danceability      60434 non-null  float64\n",
      " 10  energy            60434 non-null  float64\n",
      " 11  key               60434 non-null  int64  \n",
      " 12  loudness          60434 non-null  float64\n",
      " 13  mode              60434 non-null  int64  \n",
      " 14  speechiness       60434 non-null  float64\n",
      " 15  acousticness      60434 non-null  float64\n",
      " 16  instrumentalness  60434 non-null  float64\n",
      " 17  liveness          60434 non-null  float64\n",
      " 18  valence           60434 non-null  float64\n",
      " 19  tempo             60434 non-null  float64\n",
      " 20  time_signature    60434 non-null  int64  \n",
      " 21  preview_url       47486 non-null  object \n",
      " 22  popularity        60434 non-null  int64  \n",
      " 23  year              60434 non-null  object \n",
      " 24  month             60434 non-null  object \n",
      "dtypes: bool(1), float64(9), int64(5), object(10)\n",
      "memory usage: 11.6+ MB\n"
     ]
    }
   ],
   "source": [
    "df_new = df_date.dropna(subset='month').drop(columns='day')\n",
    "df_new.info()"
   ]
  },
  {
   "cell_type": "markdown",
   "id": "50616217",
   "metadata": {},
   "source": [
    "Now we have a data set with values for `month` and `year`. We can now drop `release_date`."
   ]
  },
  {
   "cell_type": "code",
   "execution_count": 66,
   "id": "8472db92",
   "metadata": {},
   "outputs": [],
   "source": [
    "df_new.drop(columns='release_date',inplace=True)"
   ]
  },
  {
   "cell_type": "code",
   "execution_count": 67,
   "id": "b9b447ad",
   "metadata": {},
   "outputs": [],
   "source": [
    "#converting year and month columns to int \n",
    "df_new['year'] = df_new['year'].astype(int)\n",
    "df_new['month'] = df_new['month'].astype(int)"
   ]
  },
  {
   "cell_type": "code",
   "execution_count": 68,
   "id": "75b9b7a7",
   "metadata": {},
   "outputs": [
    {
     "name": "stdout",
     "output_type": "stream",
     "text": [
      "<class 'pandas.core.frame.DataFrame'>\n",
      "Int64Index: 60434 entries, 0 to 65868\n",
      "Data columns (total 24 columns):\n",
      " #   Column            Non-Null Count  Dtype  \n",
      "---  ------            --------------  -----  \n",
      " 0   track_id          60434 non-null  object \n",
      " 1   album_name        60434 non-null  object \n",
      " 2   artists           60434 non-null  object \n",
      " 3   track_name        60434 non-null  object \n",
      " 4   track_genre       60434 non-null  object \n",
      " 5   duration_ms       60434 non-null  int64  \n",
      " 6   explicit          60434 non-null  bool   \n",
      " 7   href              60434 non-null  object \n",
      " 8   danceability      60434 non-null  float64\n",
      " 9   energy            60434 non-null  float64\n",
      " 10  key               60434 non-null  int64  \n",
      " 11  loudness          60434 non-null  float64\n",
      " 12  mode              60434 non-null  int64  \n",
      " 13  speechiness       60434 non-null  float64\n",
      " 14  acousticness      60434 non-null  float64\n",
      " 15  instrumentalness  60434 non-null  float64\n",
      " 16  liveness          60434 non-null  float64\n",
      " 17  valence           60434 non-null  float64\n",
      " 18  tempo             60434 non-null  float64\n",
      " 19  time_signature    60434 non-null  int64  \n",
      " 20  preview_url       47486 non-null  object \n",
      " 21  popularity        60434 non-null  int64  \n",
      " 22  year              60434 non-null  int64  \n",
      " 23  month             60434 non-null  int64  \n",
      "dtypes: bool(1), float64(9), int64(7), object(7)\n",
      "memory usage: 11.1+ MB\n"
     ]
    }
   ],
   "source": [
    "#sanity check\n",
    "df_new.info()"
   ]
  },
  {
   "cell_type": "code",
   "execution_count": 71,
   "id": "7f09e14d",
   "metadata": {},
   "outputs": [],
   "source": [
    "df_new['season'] = np.nan\n",
    "df_new['season'] = np.where(df_new['month'] < 4, 1, df_new['season'])\n",
    "df_new['season'] = np.where((df_new['month'] >= 4) & (df_new['month'] < 7), 2, df_new['season'])\n",
    "df_new['season'] = np.where((df_new['month'] >= 7) & (df_new['month'] < 10), 3, df_new['season'])\n",
    "df_new['season'] = np.where(df_new['month'] >= 10, 4, df_new['season'])\n",
    "df_new['season'] = df_new['season'].astype(int)"
   ]
  },
  {
   "cell_type": "code",
   "execution_count": 72,
   "id": "b9247b45",
   "metadata": {},
   "outputs": [
    {
     "data": {
      "text/plain": [
       "1    19124\n",
       "4    14098\n",
       "3    13797\n",
       "2    13415\n",
       "Name: season, dtype: int64"
      ]
     },
     "execution_count": 72,
     "metadata": {},
     "output_type": "execute_result"
    }
   ],
   "source": [
    "df_new['season'].value_counts()"
   ]
  },
  {
   "cell_type": "code",
   "execution_count": 73,
   "id": "dc7800c3",
   "metadata": {},
   "outputs": [
    {
     "name": "stdout",
     "output_type": "stream",
     "text": [
      "<class 'pandas.core.frame.DataFrame'>\n",
      "Int64Index: 60434 entries, 0 to 65868\n",
      "Data columns (total 25 columns):\n",
      " #   Column            Non-Null Count  Dtype  \n",
      "---  ------            --------------  -----  \n",
      " 0   track_id          60434 non-null  object \n",
      " 1   album_name        60434 non-null  object \n",
      " 2   artists           60434 non-null  object \n",
      " 3   track_name        60434 non-null  object \n",
      " 4   track_genre       60434 non-null  object \n",
      " 5   duration_ms       60434 non-null  int64  \n",
      " 6   explicit          60434 non-null  bool   \n",
      " 7   href              60434 non-null  object \n",
      " 8   danceability      60434 non-null  float64\n",
      " 9   energy            60434 non-null  float64\n",
      " 10  key               60434 non-null  int64  \n",
      " 11  loudness          60434 non-null  float64\n",
      " 12  mode              60434 non-null  int64  \n",
      " 13  speechiness       60434 non-null  float64\n",
      " 14  acousticness      60434 non-null  float64\n",
      " 15  instrumentalness  60434 non-null  float64\n",
      " 16  liveness          60434 non-null  float64\n",
      " 17  valence           60434 non-null  float64\n",
      " 18  tempo             60434 non-null  float64\n",
      " 19  time_signature    60434 non-null  int64  \n",
      " 20  preview_url       47486 non-null  object \n",
      " 21  popularity        60434 non-null  int64  \n",
      " 22  year              60434 non-null  int64  \n",
      " 23  month             60434 non-null  int64  \n",
      " 24  season            60434 non-null  int64  \n",
      "dtypes: bool(1), float64(9), int64(8), object(7)\n",
      "memory usage: 11.6+ MB\n"
     ]
    }
   ],
   "source": [
    "df_new.info()"
   ]
  },
  {
   "cell_type": "code",
   "execution_count": 74,
   "id": "39f5d342",
   "metadata": {},
   "outputs": [],
   "source": [
    "# dropping month since season would likely be more usefull and\n",
    "# they are correalted since one was transformed into the other\n",
    "df_new.drop(columns='month', inplace=True)"
   ]
  },
  {
   "cell_type": "markdown",
   "id": "dfae05e1",
   "metadata": {},
   "source": [
    "## Transforming `key` and `explicit` columns"
   ]
  },
  {
   "cell_type": "code",
   "execution_count": 75,
   "id": "2aeb2445",
   "metadata": {},
   "outputs": [],
   "source": [
    "# Making explicit column a binary column\n",
    "df_new['explicit'] = np.where(df_new['explicit'], 1, 0)"
   ]
  },
  {
   "cell_type": "code",
   "execution_count": 76,
   "id": "c954db10",
   "metadata": {},
   "outputs": [],
   "source": [
    "#Circular encoding the Key column\n",
    "\n",
    "# Define the circular encoding function\n",
    "def circular_encode(value, max_value):\n",
    "    sin_value = np.sin(2 * np.pi * value / max_value)\n",
    "    cos_value = np.cos(2 * np.pi * value / max_value)\n",
    "    return sin_value, cos_value\n",
    "\n",
    "# Apply the function to the key column of your DataFrame\n",
    "max_value = 11  # maximum value in the key column\n",
    "df_new[['key_sin', 'key_cos']] = df_new['key'].apply(circular_encode, max_value=max_value).apply(pd.Series)"
   ]
  },
  {
   "cell_type": "code",
   "execution_count": 77,
   "id": "fb27ef57",
   "metadata": {},
   "outputs": [],
   "source": [
    "#dropping key \n",
    "df_new.drop(columns='key',inplace=True)"
   ]
  },
  {
   "cell_type": "code",
   "execution_count": 376,
   "id": "63cd405d",
   "metadata": {},
   "outputs": [
    {
     "name": "stdout",
     "output_type": "stream",
     "text": [
      "<class 'pandas.core.frame.DataFrame'>\n",
      "Int64Index: 60434 entries, 0 to 65868\n",
      "Data columns (total 25 columns):\n",
      " #   Column            Non-Null Count  Dtype  \n",
      "---  ------            --------------  -----  \n",
      " 0   track_id          60434 non-null  object \n",
      " 1   album_name        60434 non-null  object \n",
      " 2   artists           60434 non-null  object \n",
      " 3   track_name        60434 non-null  object \n",
      " 4   track_genre       60434 non-null  object \n",
      " 5   duration_ms       60434 non-null  int64  \n",
      " 6   explicit          60434 non-null  int64  \n",
      " 7   href              60434 non-null  object \n",
      " 8   danceability      60434 non-null  float64\n",
      " 9   energy            60434 non-null  float64\n",
      " 10  loudness          60434 non-null  float64\n",
      " 11  mode              60434 non-null  int64  \n",
      " 12  speechiness       60434 non-null  float64\n",
      " 13  acousticness      60434 non-null  float64\n",
      " 14  instrumentalness  60434 non-null  float64\n",
      " 15  liveness          60434 non-null  float64\n",
      " 16  valence           60434 non-null  float64\n",
      " 17  tempo             60434 non-null  float64\n",
      " 18  time_signature    60434 non-null  int64  \n",
      " 19  preview_url       47486 non-null  object \n",
      " 20  popularity        60434 non-null  int64  \n",
      " 21  year              60434 non-null  int64  \n",
      " 22  season            60434 non-null  int64  \n",
      " 23  key_sin           60434 non-null  float64\n",
      " 24  key_cos           60434 non-null  float64\n",
      "dtypes: float64(11), int64(7), object(7)\n",
      "memory usage: 14.0+ MB\n"
     ]
    }
   ],
   "source": [
    "#sanity check (explicit should now be int, key should now be replaced by key_sin and key_cos)\n",
    "df_new.info()"
   ]
  },
  {
   "cell_type": "code",
   "execution_count": 377,
   "id": "d353a2b8",
   "metadata": {},
   "outputs": [],
   "source": [
    "#writting to pickle\n",
    "#with open('processed_df_final.pkl', \"wb\") as f:\n",
    "#    pickle.dump(df_new, f)"
   ]
  },
  {
   "cell_type": "markdown",
   "id": "a66e9211",
   "metadata": {},
   "source": [
    "## Dealing with Genres"
   ]
  },
  {
   "cell_type": "markdown",
   "id": "0f9a25f8",
   "metadata": {},
   "source": [
    "### 1. grouping genres"
   ]
  },
  {
   "cell_type": "code",
   "execution_count": 122,
   "id": "00c1739e",
   "metadata": {},
   "outputs": [],
   "source": [
    "# Genres to Categories Dictionary\n",
    "genre_categories_dict = {\n",
    "1 : ['acoustic','singer-songwriter','songwriter','folk'],\n",
    "2 : ['alternative','alt-rock'],\n",
    "3 : ['ambient','study','sleep','new-age'],\n",
    "4 : ['brazil','samba','pagode','sertanejo','tango','forro','mpb','bossanova'],\n",
    "5 : ['british'],\n",
    "6 : ['classical'],\n",
    "7 : ['comedy'],\n",
    "8 : ['country','honky-tonk'],\n",
    "9 : ['indie','indie-pop'],\n",
    "10 : ['french'],\n",
    "11 : ['funk','disco'],\n",
    "12 : ['gospel'],\n",
    "13 : ['guitar'],\n",
    "14 : ['happy','summer','road-trip'],\n",
    "15 : ['hip-hop','trip-hop','work-out'],\n",
    "16 : ['dubstep','dub','synth-pop','electro','electronic','breakbeat','industrial','garage','post-dubstep'],\n",
    "17 : ['progressive-house','house','deep-house','chicago-house','trance','techno','idm','edm','drum-and-bass','party','club','detroit-techno','minimal-techno'],\n",
    "18 : ['metalcore','metal','death-metal','heavy-metal','black-metal','hardstyle','hardcore','grindcore'],\n",
    "19 : ['j-dance','dancehall','dance'],\n",
    "20 : ['j-idol','emo','punk','punk-rock','hard-rock','goth','grunge'],\n",
    "21 : ['anime','j-rock','j-pop'],\n",
    "22 : ['k-pop'],\n",
    "23 : ['jazz','chill','groove','afrobeat','bluegrass'],\n",
    "24 : ['blues','sad','soul','rainy-day'],\n",
    "25 : ['kids','disney','children'],\n",
    "26 : ['latin','latino','reggae','reggaeton','ska'],\n",
    "27 : ['mandopop'],\n",
    "28 : ['cantopop'],\n",
    "29 : ['opera'],\n",
    "30 : ['piano'],\n",
    "31 : ['pop','power-pop','pop-film'],\n",
    "32 : ['psych-rock','rock-n-roll','rock','rockabilly'],\n",
    "33 : ['r-n-b'],\n",
    "34 : ['romance'],\n",
    "35 : ['salsa', 'spanish'],\n",
    "36 : ['show-tunes','holidays','movies'],\n",
    "37 : ['world-music','turkish','swedish','iranian','indian','german','malay','philippines-opm']}"
   ]
  },
  {
   "cell_type": "code",
   "execution_count": 123,
   "id": "80e8be0c",
   "metadata": {},
   "outputs": [
    {
     "data": {
      "text/plain": [
       "True"
      ]
     },
     "execution_count": 123,
     "metadata": {},
     "output_type": "execute_result"
    }
   ],
   "source": [
    "#checking that all genres in the data set are included in the groupings\n",
    "count = 0\n",
    "for c in genre_categories_dict:\n",
    "    count += len(genre_categories_dict[c])\n",
    "count == df_new['track_genre'].nunique()"
   ]
  },
  {
   "cell_type": "code",
   "execution_count": 169,
   "id": "93d2723d",
   "metadata": {},
   "outputs": [],
   "source": [
    "df_grouped_gens = df_new.copy()"
   ]
  },
  {
   "cell_type": "code",
   "execution_count": 170,
   "id": "d662982f",
   "metadata": {},
   "outputs": [],
   "source": [
    "# Forming the track_category column\n",
    "df_grouped_gens['track_category'] = None\n",
    "for x in genre_categories_dict.keys():\n",
    "    df_grouped_gens['track_category'] = np.where(df_grouped_gens['track_genre'].isin(genre_categories_dict[x]),\n",
    "                                                 x, df_grouped_gens['track_category'])"
   ]
  },
  {
   "cell_type": "code",
   "execution_count": 171,
   "id": "997947f4",
   "metadata": {},
   "outputs": [
    {
     "data": {
      "text/plain": [
       "True"
      ]
     },
     "execution_count": 171,
     "metadata": {},
     "output_type": "execute_result"
    }
   ],
   "source": [
    "# Checking that no track is placed in a category\n",
    "None not in df_grouped_gens['track_category'].unique()"
   ]
  },
  {
   "cell_type": "code",
   "execution_count": 172,
   "id": "a2d249d0",
   "metadata": {},
   "outputs": [],
   "source": [
    "df_grouped_gens['track_category'] = df_grouped_gens['track_category'].astype(int)"
   ]
  },
  {
   "cell_type": "code",
   "execution_count": 173,
   "id": "497f2f35",
   "metadata": {},
   "outputs": [],
   "source": [
    "df_grouped_gens.drop(columns='track_genre',inplace=True)"
   ]
  },
  {
   "cell_type": "markdown",
   "id": "10f028a5",
   "metadata": {},
   "source": [
    "### 2. count vectorizing genres"
   ]
  },
  {
   "cell_type": "code",
   "execution_count": 187,
   "id": "2f892b0f",
   "metadata": {},
   "outputs": [],
   "source": [
    "import re\n",
    "from sklearn.feature_extraction.text import CountVectorizer"
   ]
  },
  {
   "cell_type": "code",
   "execution_count": 186,
   "id": "87557ea5",
   "metadata": {},
   "outputs": [],
   "source": [
    "df_vect = df_new.copy()"
   ]
  },
  {
   "cell_type": "code",
   "execution_count": 188,
   "id": "b42e65d8",
   "metadata": {
    "run_control": {
     "marked": false
    }
   },
   "outputs": [],
   "source": [
    "# creating a custom tokenizer that will only split words based on white space since multi-word genres \n",
    "# are formatted with dashes (-) to between the words\n",
    "def my_tokenizer(text):\n",
    "    # Split text into tokens based on whitespace characters\n",
    "    tokens = re.split(r'\\s+', text)\n",
    "    return tokens"
   ]
  },
  {
   "cell_type": "code",
   "execution_count": 189,
   "id": "e7331de1",
   "metadata": {},
   "outputs": [
    {
     "name": "stderr",
     "output_type": "stream",
     "text": [
      "/Users/ounnuqul/opt/anaconda3/lib/python3.9/site-packages/sklearn/feature_extraction/text.py:516: UserWarning: The parameter 'token_pattern' will not be used since 'tokenizer' is not None'\n",
      "  warnings.warn(\n"
     ]
    }
   ],
   "source": [
    "bagofwords = CountVectorizer(tokenizer=my_tokenizer).fit(df_vect['track_genre'])"
   ]
  },
  {
   "cell_type": "code",
   "execution_count": 190,
   "id": "1a48f47c",
   "metadata": {},
   "outputs": [],
   "source": [
    "transformed = bagofwords.transform(df_vect['track_genre'])"
   ]
  },
  {
   "cell_type": "code",
   "execution_count": 191,
   "id": "c6e70f11",
   "metadata": {},
   "outputs": [
    {
     "name": "stderr",
     "output_type": "stream",
     "text": [
      "/Users/ounnuqul/opt/anaconda3/lib/python3.9/site-packages/sklearn/utils/deprecation.py:87: FutureWarning: Function get_feature_names is deprecated; get_feature_names is deprecated in 1.0 and will be removed in 1.2. Please use get_feature_names_out instead.\n",
      "  warnings.warn(msg, category=FutureWarning)\n"
     ]
    },
    {
     "data": {
      "text/html": [
       "<div>\n",
       "<style scoped>\n",
       "    .dataframe tbody tr th:only-of-type {\n",
       "        vertical-align: middle;\n",
       "    }\n",
       "\n",
       "    .dataframe tbody tr th {\n",
       "        vertical-align: top;\n",
       "    }\n",
       "\n",
       "    .dataframe thead th {\n",
       "        text-align: right;\n",
       "    }\n",
       "</style>\n",
       "<table border=\"1\" class=\"dataframe\">\n",
       "  <thead>\n",
       "    <tr style=\"text-align: right;\">\n",
       "      <th></th>\n",
       "      <th>acoustic</th>\n",
       "      <th>afrobeat</th>\n",
       "      <th>alt-rock</th>\n",
       "      <th>alternative</th>\n",
       "      <th>ambient</th>\n",
       "      <th>anime</th>\n",
       "      <th>black-metal</th>\n",
       "      <th>bluegrass</th>\n",
       "      <th>blues</th>\n",
       "      <th>bossanova</th>\n",
       "      <th>...</th>\n",
       "      <th>summer</th>\n",
       "      <th>swedish</th>\n",
       "      <th>synth-pop</th>\n",
       "      <th>tango</th>\n",
       "      <th>techno</th>\n",
       "      <th>trance</th>\n",
       "      <th>trip-hop</th>\n",
       "      <th>turkish</th>\n",
       "      <th>work-out</th>\n",
       "      <th>world-music</th>\n",
       "    </tr>\n",
       "  </thead>\n",
       "  <tbody>\n",
       "    <tr>\n",
       "      <th>0</th>\n",
       "      <td>1</td>\n",
       "      <td>0</td>\n",
       "      <td>0</td>\n",
       "      <td>0</td>\n",
       "      <td>0</td>\n",
       "      <td>0</td>\n",
       "      <td>0</td>\n",
       "      <td>0</td>\n",
       "      <td>0</td>\n",
       "      <td>0</td>\n",
       "      <td>...</td>\n",
       "      <td>0</td>\n",
       "      <td>0</td>\n",
       "      <td>0</td>\n",
       "      <td>0</td>\n",
       "      <td>0</td>\n",
       "      <td>0</td>\n",
       "      <td>0</td>\n",
       "      <td>0</td>\n",
       "      <td>0</td>\n",
       "      <td>0</td>\n",
       "    </tr>\n",
       "    <tr>\n",
       "      <th>1</th>\n",
       "      <td>1</td>\n",
       "      <td>0</td>\n",
       "      <td>0</td>\n",
       "      <td>0</td>\n",
       "      <td>0</td>\n",
       "      <td>0</td>\n",
       "      <td>0</td>\n",
       "      <td>0</td>\n",
       "      <td>0</td>\n",
       "      <td>0</td>\n",
       "      <td>...</td>\n",
       "      <td>0</td>\n",
       "      <td>0</td>\n",
       "      <td>0</td>\n",
       "      <td>0</td>\n",
       "      <td>0</td>\n",
       "      <td>0</td>\n",
       "      <td>0</td>\n",
       "      <td>0</td>\n",
       "      <td>0</td>\n",
       "      <td>0</td>\n",
       "    </tr>\n",
       "    <tr>\n",
       "      <th>2</th>\n",
       "      <td>1</td>\n",
       "      <td>0</td>\n",
       "      <td>0</td>\n",
       "      <td>0</td>\n",
       "      <td>0</td>\n",
       "      <td>0</td>\n",
       "      <td>0</td>\n",
       "      <td>0</td>\n",
       "      <td>0</td>\n",
       "      <td>0</td>\n",
       "      <td>...</td>\n",
       "      <td>0</td>\n",
       "      <td>0</td>\n",
       "      <td>0</td>\n",
       "      <td>0</td>\n",
       "      <td>0</td>\n",
       "      <td>0</td>\n",
       "      <td>0</td>\n",
       "      <td>0</td>\n",
       "      <td>0</td>\n",
       "      <td>0</td>\n",
       "    </tr>\n",
       "    <tr>\n",
       "      <th>3</th>\n",
       "      <td>1</td>\n",
       "      <td>0</td>\n",
       "      <td>0</td>\n",
       "      <td>0</td>\n",
       "      <td>0</td>\n",
       "      <td>0</td>\n",
       "      <td>0</td>\n",
       "      <td>0</td>\n",
       "      <td>0</td>\n",
       "      <td>0</td>\n",
       "      <td>...</td>\n",
       "      <td>0</td>\n",
       "      <td>0</td>\n",
       "      <td>0</td>\n",
       "      <td>0</td>\n",
       "      <td>0</td>\n",
       "      <td>0</td>\n",
       "      <td>0</td>\n",
       "      <td>0</td>\n",
       "      <td>0</td>\n",
       "      <td>0</td>\n",
       "    </tr>\n",
       "    <tr>\n",
       "      <th>4</th>\n",
       "      <td>1</td>\n",
       "      <td>0</td>\n",
       "      <td>0</td>\n",
       "      <td>0</td>\n",
       "      <td>0</td>\n",
       "      <td>0</td>\n",
       "      <td>0</td>\n",
       "      <td>0</td>\n",
       "      <td>0</td>\n",
       "      <td>0</td>\n",
       "      <td>...</td>\n",
       "      <td>0</td>\n",
       "      <td>0</td>\n",
       "      <td>0</td>\n",
       "      <td>0</td>\n",
       "      <td>0</td>\n",
       "      <td>0</td>\n",
       "      <td>0</td>\n",
       "      <td>0</td>\n",
       "      <td>0</td>\n",
       "      <td>0</td>\n",
       "    </tr>\n",
       "  </tbody>\n",
       "</table>\n",
       "<p>5 rows × 123 columns</p>\n",
       "</div>"
      ],
      "text/plain": [
       "   acoustic  afrobeat  alt-rock  alternative  ambient  anime  black-metal  \\\n",
       "0         1         0         0            0        0      0            0   \n",
       "1         1         0         0            0        0      0            0   \n",
       "2         1         0         0            0        0      0            0   \n",
       "3         1         0         0            0        0      0            0   \n",
       "4         1         0         0            0        0      0            0   \n",
       "\n",
       "   bluegrass  blues  bossanova  ...  summer  swedish  synth-pop  tango  \\\n",
       "0          0      0          0  ...       0        0          0      0   \n",
       "1          0      0          0  ...       0        0          0      0   \n",
       "2          0      0          0  ...       0        0          0      0   \n",
       "3          0      0          0  ...       0        0          0      0   \n",
       "4          0      0          0  ...       0        0          0      0   \n",
       "\n",
       "   techno  trance  trip-hop  turkish  work-out  world-music  \n",
       "0       0       0         0        0         0            0  \n",
       "1       0       0         0        0         0            0  \n",
       "2       0       0         0        0         0            0  \n",
       "3       0       0         0        0         0            0  \n",
       "4       0       0         0        0         0            0  \n",
       "\n",
       "[5 rows x 123 columns]"
      ]
     },
     "execution_count": 191,
     "metadata": {},
     "output_type": "execute_result"
    }
   ],
   "source": [
    "vect_matrix = pd.DataFrame(columns=bagofwords.get_feature_names(), data=transformed.toarray())\n",
    "vect_matrix.head()"
   ]
  },
  {
   "cell_type": "code",
   "execution_count": 192,
   "id": "531bd9e9",
   "metadata": {},
   "outputs": [
    {
     "data": {
      "text/plain": [
       "True"
      ]
     },
     "execution_count": 192,
     "metadata": {},
     "output_type": "execute_result"
    }
   ],
   "source": [
    "#checking that all genres were vectorized\n",
    "vect_matrix.shape[1] == df_new['track_genre'].nunique()"
   ]
  },
  {
   "cell_type": "code",
   "execution_count": 193,
   "id": "98c2013e",
   "metadata": {},
   "outputs": [],
   "source": [
    "df_vect = pd.concat([df_vect.reset_index(),vect_matrix],axis=1)"
   ]
  },
  {
   "cell_type": "code",
   "execution_count": 194,
   "id": "a53c58b3",
   "metadata": {},
   "outputs": [
    {
     "data": {
      "text/plain": [
       "True"
      ]
     },
     "execution_count": 194,
     "metadata": {},
     "output_type": "execute_result"
    }
   ],
   "source": [
    "# checking that the concat worked correctly\n",
    "df_vect.isna().any().any()"
   ]
  },
  {
   "cell_type": "code",
   "execution_count": 195,
   "id": "fadc3b98",
   "metadata": {},
   "outputs": [
    {
     "name": "stdout",
     "output_type": "stream",
     "text": [
      "<class 'pandas.core.frame.DataFrame'>\n",
      "RangeIndex: 60434 entries, 0 to 60433\n",
      "Columns: 149 entries, index to world-music\n",
      "dtypes: float64(11), int64(131), object(7)\n",
      "memory usage: 68.7+ MB\n"
     ]
    }
   ],
   "source": [
    "df_vect.info()"
   ]
  },
  {
   "cell_type": "code",
   "execution_count": null,
   "id": "ebe388ac",
   "metadata": {},
   "outputs": [],
   "source": [
    "#149 columns = 123 genres + 25 columns"
   ]
  },
  {
   "cell_type": "markdown",
   "id": "504c440b",
   "metadata": {},
   "source": [
    "## Logit"
   ]
  },
  {
   "cell_type": "code",
   "execution_count": 342,
   "id": "319209b6",
   "metadata": {},
   "outputs": [],
   "source": [
    "from sklearn.linear_model import LogisticRegression\n",
    "from sklearn.model_selection import train_test_split\n",
    "from sklearn.preprocessing import StandardScaler\n",
    "from sklearn.metrics import ConfusionMatrixDisplay, confusion_matrix, precision_score, recall_score, f1_score"
   ]
  },
  {
   "cell_type": "markdown",
   "id": "dd65b701",
   "metadata": {},
   "source": [
    "### 1. Logit for grouped"
   ]
  },
  {
   "cell_type": "code",
   "execution_count": 174,
   "id": "39d31052",
   "metadata": {},
   "outputs": [],
   "source": [
    "df_grouped_gens['popularity'] = np.where(df_grouped_gens['popularity'] >= np.median(df_grouped_gens['popularity']),\n",
    "                                        1, 0)"
   ]
  },
  {
   "cell_type": "code",
   "execution_count": 308,
   "id": "c75f5f5c",
   "metadata": {},
   "outputs": [
    {
     "data": {
      "text/plain": [
       "1    0.504931\n",
       "0    0.495069\n",
       "Name: popularity, dtype: float64"
      ]
     },
     "execution_count": 308,
     "metadata": {},
     "output_type": "execute_result"
    }
   ],
   "source": [
    "df_grouped_gens['popularity'].value_counts(normalize=True)"
   ]
  },
  {
   "cell_type": "code",
   "execution_count": 343,
   "id": "3d7dc74b",
   "metadata": {},
   "outputs": [],
   "source": [
    "gg_train, gg_test = train_test_split(df_grouped_gens, test_size=0.25, random_state=42,\n",
    "                                     stratify=df_grouped_gens[['track_category','popularity']])"
   ]
  },
  {
   "cell_type": "code",
   "execution_count": 344,
   "id": "6fbe9b77",
   "metadata": {},
   "outputs": [],
   "source": [
    "X_train = gg_train.drop(columns='popularity')\n",
    "y_train = gg_train['popularity']\n",
    "X_test = gg_test.drop(columns='popularity')\n",
    "y_test = gg_test['popularity']"
   ]
  },
  {
   "cell_type": "code",
   "execution_count": 345,
   "id": "96c77a4f",
   "metadata": {},
   "outputs": [
    {
     "data": {
      "text/plain": [
       "Index(['track_id', 'album_name', 'artists', 'track_name', 'href',\n",
       "       'preview_url'],\n",
       "      dtype='object')"
      ]
     },
     "execution_count": 345,
     "metadata": {},
     "output_type": "execute_result"
    }
   ],
   "source": [
    "X_train.select_dtypes(exclude='number').columns"
   ]
  },
  {
   "cell_type": "code",
   "execution_count": 346,
   "id": "b9d5d1b6",
   "metadata": {
    "scrolled": true
   },
   "outputs": [
    {
     "data": {
      "text/plain": [
       "Index(['track_id', 'album_name', 'artists', 'track_name', 'href',\n",
       "       'preview_url'],\n",
       "      dtype='object')"
      ]
     },
     "execution_count": 346,
     "metadata": {},
     "output_type": "execute_result"
    }
   ],
   "source": [
    "X_test.select_dtypes(exclude='number').columns"
   ]
  },
  {
   "cell_type": "code",
   "execution_count": 347,
   "id": "d8024161",
   "metadata": {
    "run_control": {
     "marked": false
    }
   },
   "outputs": [],
   "source": [
    "X_train.drop(columns=['track_id', 'album_name', 'artists', 'track_name', 'href',\n",
    "       'preview_url'],inplace=True)\n",
    "X_test.drop(columns=['track_id', 'album_name', 'artists', 'track_name', 'href',\n",
    "       'preview_url'],inplace=True)"
   ]
  },
  {
   "cell_type": "code",
   "execution_count": 348,
   "id": "79ebb0a0",
   "metadata": {},
   "outputs": [
    {
     "data": {
      "text/plain": [
       "Index([], dtype='object')"
      ]
     },
     "execution_count": 348,
     "metadata": {},
     "output_type": "execute_result"
    }
   ],
   "source": [
    "X_train.select_dtypes(exclude='number').columns"
   ]
  },
  {
   "cell_type": "code",
   "execution_count": 349,
   "id": "f3919638",
   "metadata": {},
   "outputs": [
    {
     "data": {
      "text/plain": [
       "Index([], dtype='object')"
      ]
     },
     "execution_count": 349,
     "metadata": {},
     "output_type": "execute_result"
    }
   ],
   "source": [
    "X_test.select_dtypes(exclude='number').columns"
   ]
  },
  {
   "cell_type": "code",
   "execution_count": 350,
   "id": "c7bd4117",
   "metadata": {},
   "outputs": [],
   "source": [
    "scaler = StandardScaler()\n",
    "X_train_ss = scaler.fit_transform(X_train)\n",
    "X_test_ss = scaler.transform(X_test)"
   ]
  },
  {
   "cell_type": "code",
   "execution_count": 351,
   "id": "bd3b9770",
   "metadata": {},
   "outputs": [],
   "source": [
    "logit_grouped = LogisticRegression(max_iter=10000).fit(X_train_ss, y_train)"
   ]
  },
  {
   "cell_type": "markdown",
   "id": "1bfee06b",
   "metadata": {},
   "source": [
    "### 1. Logit grouped evaluation"
   ]
  },
  {
   "cell_type": "code",
   "execution_count": 352,
   "id": "7a15dda1",
   "metadata": {},
   "outputs": [
    {
     "data": {
      "text/plain": [
       "0.5829012686155544"
      ]
     },
     "execution_count": 352,
     "metadata": {},
     "output_type": "execute_result"
    }
   ],
   "source": [
    "logit_grouped.score(X_train_ss,y_train)"
   ]
  },
  {
   "cell_type": "code",
   "execution_count": 353,
   "id": "d75cc0f7",
   "metadata": {},
   "outputs": [],
   "source": [
    "y_pred = logit_grouped.predict(X_train_ss)"
   ]
  },
  {
   "cell_type": "code",
   "execution_count": 354,
   "id": "88858890",
   "metadata": {},
   "outputs": [],
   "source": [
    "cm = confusion_matrix(y_pred,y_train)"
   ]
  },
  {
   "cell_type": "code",
   "execution_count": 355,
   "id": "2f6731f3",
   "metadata": {},
   "outputs": [
    {
     "data": {
      "text/plain": [
       "<sklearn.metrics._plot.confusion_matrix.ConfusionMatrixDisplay at 0x7fe105e583d0>"
      ]
     },
     "execution_count": 355,
     "metadata": {},
     "output_type": "execute_result"
    },
    {
     "data": {
      "image/png": "[encoded data removed]",
      "text/plain": [
       "<Figure size 640x480 with 2 Axes>"
      ]
     },
     "metadata": {},
     "output_type": "display_data"
    }
   ],
   "source": [
    "ConfusionMatrixDisplay(cm).plot()"
   ]
  },
  {
   "cell_type": "code",
   "execution_count": 356,
   "id": "5dc81344",
   "metadata": {},
   "outputs": [
    {
     "data": {
      "text/plain": [
       "0.6674968322628566"
      ]
     },
     "execution_count": 356,
     "metadata": {},
     "output_type": "execute_result"
    }
   ],
   "source": [
    "#precision for grouped logit\n",
    "precision_score(y_pred,y_train)"
   ]
  },
  {
   "cell_type": "code",
   "execution_count": 357,
   "id": "9fcf3623",
   "metadata": {},
   "outputs": [
    {
     "data": {
      "text/plain": [
       "0.5749284961613729"
      ]
     },
     "execution_count": 357,
     "metadata": {},
     "output_type": "execute_result"
    }
   ],
   "source": [
    "#recall for grouped logit\n",
    "recall_score(y_pred, y_train)"
   ]
  },
  {
   "cell_type": "code",
   "execution_count": 358,
   "id": "34463719",
   "metadata": {},
   "outputs": [
    {
     "data": {
      "text/plain": [
       "0.6177642087385511"
      ]
     },
     "execution_count": 358,
     "metadata": {},
     "output_type": "execute_result"
    }
   ],
   "source": [
    "#f1 score for grouped logit\n",
    "f1_score(y_pred,y_train)"
   ]
  },
  {
   "cell_type": "markdown",
   "id": "077fca28",
   "metadata": {},
   "source": [
    "### 2. Logit for vectorized"
   ]
  },
  {
   "cell_type": "code",
   "execution_count": 324,
   "id": "e74b6606",
   "metadata": {},
   "outputs": [],
   "source": [
    "df_vect['popularity'] = np.where(df_vect['popularity'] >= np.median(df_vect['popularity']), 1, 0)"
   ]
  },
  {
   "cell_type": "code",
   "execution_count": 359,
   "id": "71e1b528",
   "metadata": {},
   "outputs": [
    {
     "data": {
      "text/plain": [
       "1    0.504931\n",
       "0    0.495069\n",
       "Name: popularity, dtype: float64"
      ]
     },
     "execution_count": 359,
     "metadata": {},
     "output_type": "execute_result"
    }
   ],
   "source": [
    "df_vect['popularity'].value_counts(normalize=True)"
   ]
  },
  {
   "cell_type": "code",
   "execution_count": 360,
   "id": "33c94faa",
   "metadata": {},
   "outputs": [],
   "source": [
    "vect_train, vect_test = train_test_split(df_vect, test_size=0.25, random_state=42,\n",
    "                                     stratify=df_vect[['track_genre','popularity']])"
   ]
  },
  {
   "cell_type": "code",
   "execution_count": 361,
   "id": "43ff8d24",
   "metadata": {},
   "outputs": [],
   "source": [
    "X_train = vect_train.drop(columns='popularity')\n",
    "y_train = vect_train['popularity']\n",
    "X_test = vect_test.drop(columns='popularity')\n",
    "y_test = vect_test['popularity']"
   ]
  },
  {
   "cell_type": "code",
   "execution_count": 362,
   "id": "a1ddb34c",
   "metadata": {
    "scrolled": true
   },
   "outputs": [
    {
     "data": {
      "text/plain": [
       "Index(['track_id', 'album_name', 'artists', 'track_name', 'track_genre',\n",
       "       'href', 'preview_url'],\n",
       "      dtype='object')"
      ]
     },
     "execution_count": 362,
     "metadata": {},
     "output_type": "execute_result"
    }
   ],
   "source": [
    "X_train.select_dtypes(exclude='number').columns"
   ]
  },
  {
   "cell_type": "code",
   "execution_count": 363,
   "id": "713b7d9a",
   "metadata": {
    "scrolled": true
   },
   "outputs": [
    {
     "data": {
      "text/plain": [
       "Index(['track_id', 'album_name', 'artists', 'track_name', 'track_genre',\n",
       "       'href', 'preview_url'],\n",
       "      dtype='object')"
      ]
     },
     "execution_count": 363,
     "metadata": {},
     "output_type": "execute_result"
    }
   ],
   "source": [
    "X_test.select_dtypes(exclude='number').columns"
   ]
  },
  {
   "cell_type": "code",
   "execution_count": 364,
   "id": "56d840d5",
   "metadata": {},
   "outputs": [],
   "source": [
    "X_train.drop(columns=['track_id', 'album_name', 'artists', 'track_name', 'track_genre',\n",
    "       'href', 'preview_url'],inplace=True)\n",
    "X_test.drop(columns=['track_id', 'album_name', 'artists', 'track_name', 'track_genre',\n",
    "       'href', 'preview_url'],inplace=True)"
   ]
  },
  {
   "cell_type": "code",
   "execution_count": 365,
   "id": "6b2d9ec9",
   "metadata": {
    "scrolled": true
   },
   "outputs": [
    {
     "data": {
      "text/plain": [
       "Index([], dtype='object')"
      ]
     },
     "execution_count": 365,
     "metadata": {},
     "output_type": "execute_result"
    }
   ],
   "source": [
    "X_train.select_dtypes(exclude='number').columns"
   ]
  },
  {
   "cell_type": "code",
   "execution_count": 366,
   "id": "dca7a724",
   "metadata": {
    "scrolled": true
   },
   "outputs": [
    {
     "data": {
      "text/plain": [
       "Index([], dtype='object')"
      ]
     },
     "execution_count": 366,
     "metadata": {},
     "output_type": "execute_result"
    }
   ],
   "source": [
    "X_test.select_dtypes(exclude='number').columns"
   ]
  },
  {
   "cell_type": "code",
   "execution_count": 367,
   "id": "b9c83b3e",
   "metadata": {},
   "outputs": [],
   "source": [
    "scaler = StandardScaler()\n",
    "X_train_ss = scaler.fit_transform(X_train)\n",
    "X_test_ss = scaler.transform(X_test)"
   ]
  },
  {
   "cell_type": "code",
   "execution_count": 368,
   "id": "2b18c989",
   "metadata": {},
   "outputs": [],
   "source": [
    "logit_vect = LogisticRegression(max_iter=10000).fit(X_train_ss, y_train)"
   ]
  },
  {
   "cell_type": "markdown",
   "id": "0d8bf0de",
   "metadata": {},
   "source": [
    "### 2. Evaluating logit vect"
   ]
  },
  {
   "cell_type": "code",
   "execution_count": 369,
   "id": "789f523d",
   "metadata": {},
   "outputs": [
    {
     "data": {
      "text/plain": [
       "0.6203861003861004"
      ]
     },
     "execution_count": 369,
     "metadata": {},
     "output_type": "execute_result"
    }
   ],
   "source": [
    "logit_vect.score(X_train_ss,y_train)"
   ]
  },
  {
   "cell_type": "code",
   "execution_count": 370,
   "id": "21ee7546",
   "metadata": {},
   "outputs": [],
   "source": [
    "y_pred = logit_vect.predict(X_train_ss)"
   ]
  },
  {
   "cell_type": "code",
   "execution_count": 371,
   "id": "287b06d6",
   "metadata": {},
   "outputs": [],
   "source": [
    "cm = confusion_matrix(y_pred,y_train)"
   ]
  },
  {
   "cell_type": "code",
   "execution_count": 372,
   "id": "485b4697",
   "metadata": {},
   "outputs": [
    {
     "data": {
      "text/plain": [
       "<sklearn.metrics._plot.confusion_matrix.ConfusionMatrixDisplay at 0x7fe100d445e0>"
      ]
     },
     "execution_count": 372,
     "metadata": {},
     "output_type": "execute_result"
    },
    {
     "data": {
      "image/png": "[encoded data removed]",
      "text/plain": [
       "<Figure size 640x480 with 2 Axes>"
      ]
     },
     "metadata": {},
     "output_type": "display_data"
    }
   ],
   "source": [
    "ConfusionMatrixDisplay(cm).plot()"
   ]
  },
  {
   "cell_type": "code",
   "execution_count": 373,
   "id": "34d6bb78",
   "metadata": {},
   "outputs": [
    {
     "data": {
      "text/plain": [
       "0.6582339319264211"
      ]
     },
     "execution_count": 373,
     "metadata": {},
     "output_type": "execute_result"
    }
   ],
   "source": [
    "#precision for vectorized logit\n",
    "precision_score(y_pred,y_train)"
   ]
  },
  {
   "cell_type": "code",
   "execution_count": 374,
   "id": "48ed1d5c",
   "metadata": {},
   "outputs": [
    {
     "data": {
      "text/plain": [
       "0.6161806208842897"
      ]
     },
     "execution_count": 374,
     "metadata": {},
     "output_type": "execute_result"
    }
   ],
   "source": [
    "#recall for vectorized logit\n",
    "recall_score(y_pred, y_train)"
   ]
  },
  {
   "cell_type": "code",
   "execution_count": 375,
   "id": "9b28b670",
   "metadata": {},
   "outputs": [
    {
     "data": {
      "text/plain": [
       "0.6365134358627683"
      ]
     },
     "execution_count": 375,
     "metadata": {},
     "output_type": "execute_result"
    }
   ],
   "source": [
    "#f1 score for vectorized logit\n",
    "f1_score(y_pred,y_train)"
   ]
  },
  {
   "cell_type": "markdown",
   "id": "ceb7b154",
   "metadata": {},
   "source": [
    "## Overall Evaluation"
   ]
  },
  {
   "cell_type": "markdown",
   "id": "7f046239",
   "metadata": {},
   "source": [
    "|               | Accuracy | Precision | Recall | F1 Score |\n",
    "|---------------|----------|-----------|--------|----------|\n",
    "| logit_grouped | 0.583    | 0.667     | 0.575  | 0.618    |\n",
    "| logit_vect    | 0.620    | 0.658     | 0.616  | 0.637    |"
   ]
  },
  {
   "cell_type": "markdown",
   "id": "7e7e110b",
   "metadata": {},
   "source": [
    "Vectorizing the genres showed a higher accuracy, recall and F1 Score, but a slightly lower precision. Thus, it's more appropriate to vectorize genres instead of grouping them."
   ]
  }
 ],
 "metadata": {
  "kernelspec": {
   "display_name": "Python 3 (ipykernel)",
   "language": "python",
   "name": "python3"
  },
  "language_info": {
   "codemirror_mode": {
    "name": "ipython",
    "version": 3
   },
   "file_extension": ".py",
   "mimetype": "text/x-python",
   "name": "python",
   "nbconvert_exporter": "python",
   "pygments_lexer": "ipython3",
   "version": "3.9.13"
  },
  "toc": {
   "base_numbering": 1,
   "nav_menu": {},
   "number_sections": false,
   "sideBar": true,
   "skip_h1_title": false,
   "title_cell": "Table of Contents",
   "title_sidebar": "Contents",
   "toc_cell": false,
   "toc_position": {
    "height": "calc(100% - 180px)",
    "left": "10px",
    "top": "150px",
    "width": "379px"
   },
   "toc_section_display": true,
   "toc_window_display": false
  },
  "varInspector": {
   "cols": {
    "lenName": 16,
    "lenType": 16,
    "lenVar": 40
   },
   "kernels_config": {
    "python": {
     "delete_cmd_postfix": "",
     "delete_cmd_prefix": "del ",
     "library": "var_list.py",
     "varRefreshCmd": "print(var_dic_list())"
    },
    "r": {
     "delete_cmd_postfix": ") ",
     "delete_cmd_prefix": "rm(",
     "library": "var_list.r",
     "varRefreshCmd": "cat(var_dic_list()) "
    }
   },
   "types_to_exclude": [
    "module",
    "function",
    "builtin_function_or_method",
    "instance",
    "_Feature"
   ],
   "window_display": false
  }
 },
 "nbformat": 4,
 "nbformat_minor": 5
}
