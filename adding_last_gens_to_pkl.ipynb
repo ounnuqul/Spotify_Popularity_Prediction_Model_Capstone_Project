{
 "cells": [
  {
   "cell_type": "code",
   "execution_count": 1,
   "id": "35f3fee2",
   "metadata": {},
   "outputs": [],
   "source": [
    "import pandas as pd\n",
    "import matplotlib.pyplot as plt\n",
    "import numpy as np\n",
    "from tqdm.notebook import tqdm\n",
    "\n",
    "import pickle"
   ]
  },
  {
   "cell_type": "code",
   "execution_count": 2,
   "id": "2ecc6e5c",
   "metadata": {},
   "outputs": [],
   "source": [
    "with open('final_df_new.pkl', 'rb') as f:\n",
    "    df = pickle.load(f)"
   ]
  },
  {
   "cell_type": "code",
   "execution_count": 4,
   "id": "66248eb7",
   "metadata": {},
   "outputs": [
    {
     "name": "stdout",
     "output_type": "stream",
     "text": [
      "<class 'pandas.core.frame.DataFrame'>\n",
      "Int64Index: 61887 entries, 0 to 61940\n",
      "Data columns (total 23 columns):\n",
      " #   Column            Non-Null Count  Dtype  \n",
      "---  ------            --------------  -----  \n",
      " 0   track_id          61887 non-null  object \n",
      " 1   album_name        61887 non-null  object \n",
      " 2   artists           61887 non-null  object \n",
      " 3   track_name        61887 non-null  object \n",
      " 4   release_date      61887 non-null  object \n",
      " 5   track_genre       61887 non-null  object \n",
      " 6   duration_ms       61887 non-null  int64  \n",
      " 7   explicit          61887 non-null  bool   \n",
      " 8   href              61887 non-null  object \n",
      " 9   danceability      61887 non-null  float64\n",
      " 10  energy            61887 non-null  float64\n",
      " 11  key               61887 non-null  int64  \n",
      " 12  loudness          61887 non-null  float64\n",
      " 13  mode              61887 non-null  int64  \n",
      " 14  speechiness       61887 non-null  float64\n",
      " 15  acousticness      61887 non-null  float64\n",
      " 16  instrumentalness  61887 non-null  float64\n",
      " 17  liveness          61887 non-null  float64\n",
      " 18  valence           61887 non-null  float64\n",
      " 19  tempo             61887 non-null  float64\n",
      " 20  time_signature    61887 non-null  int64  \n",
      " 21  preview_url       49057 non-null  object \n",
      " 22  popularity        61887 non-null  int64  \n",
      "dtypes: bool(1), float64(9), int64(5), object(8)\n",
      "memory usage: 10.9+ MB\n"
     ]
    }
   ],
   "source": [
    "df.info()"
   ]
  },
  {
   "cell_type": "code",
   "execution_count": 7,
   "id": "1c448c9f",
   "metadata": {},
   "outputs": [],
   "source": [
    "df_new_gen = pd.read_csv('new_gens_addition.csv')\n",
    "\n",
    "df_new_gen.drop(columns='Unnamed: 0', inplace=True)"
   ]
  },
  {
   "cell_type": "code",
   "execution_count": 9,
   "id": "dc0625e2",
   "metadata": {},
   "outputs": [
    {
     "name": "stdout",
     "output_type": "stream",
     "text": [
      "<class 'pandas.core.frame.DataFrame'>\n",
      "RangeIndex: 5141 entries, 0 to 5140\n",
      "Data columns (total 23 columns):\n",
      " #   Column            Non-Null Count  Dtype  \n",
      "---  ------            --------------  -----  \n",
      " 0   track_id          5141 non-null   object \n",
      " 1   album_name        5141 non-null   object \n",
      " 2   artists           5141 non-null   object \n",
      " 3   track_name        5141 non-null   object \n",
      " 4   release_date      5141 non-null   object \n",
      " 5   track_genre       5141 non-null   object \n",
      " 6   duration_ms       5141 non-null   int64  \n",
      " 7   explicit          5141 non-null   bool   \n",
      " 8   href              5141 non-null   object \n",
      " 9   danceability      5141 non-null   float64\n",
      " 10  energy            5141 non-null   float64\n",
      " 11  key               5141 non-null   int64  \n",
      " 12  loudness          5141 non-null   float64\n",
      " 13  mode              5141 non-null   int64  \n",
      " 14  speechiness       5141 non-null   float64\n",
      " 15  acousticness      5141 non-null   float64\n",
      " 16  instrumentalness  5141 non-null   float64\n",
      " 17  liveness          5141 non-null   float64\n",
      " 18  valence           5141 non-null   float64\n",
      " 19  tempo             5141 non-null   float64\n",
      " 20  time_signature    5141 non-null   int64  \n",
      " 21  preview_url       3526 non-null   object \n",
      " 22  popularity        5141 non-null   int64  \n",
      "dtypes: bool(1), float64(9), int64(5), object(8)\n",
      "memory usage: 888.8+ KB\n"
     ]
    }
   ],
   "source": [
    "df_new_gen.info()"
   ]
  },
  {
   "cell_type": "code",
   "execution_count": 13,
   "id": "408d74cb",
   "metadata": {},
   "outputs": [],
   "source": [
    "df_final = pd.concat([df,df_new_gen])"
   ]
  },
  {
   "cell_type": "code",
   "execution_count": 14,
   "id": "4477572f",
   "metadata": {},
   "outputs": [
    {
     "name": "stdout",
     "output_type": "stream",
     "text": [
      "<class 'pandas.core.frame.DataFrame'>\n",
      "Int64Index: 67028 entries, 0 to 5140\n",
      "Data columns (total 23 columns):\n",
      " #   Column            Non-Null Count  Dtype  \n",
      "---  ------            --------------  -----  \n",
      " 0   track_id          67028 non-null  object \n",
      " 1   album_name        67028 non-null  object \n",
      " 2   artists           67028 non-null  object \n",
      " 3   track_name        67028 non-null  object \n",
      " 4   release_date      67028 non-null  object \n",
      " 5   track_genre       67028 non-null  object \n",
      " 6   duration_ms       67028 non-null  int64  \n",
      " 7   explicit          67028 non-null  bool   \n",
      " 8   href              67028 non-null  object \n",
      " 9   danceability      67028 non-null  float64\n",
      " 10  energy            67028 non-null  float64\n",
      " 11  key               67028 non-null  int64  \n",
      " 12  loudness          67028 non-null  float64\n",
      " 13  mode              67028 non-null  int64  \n",
      " 14  speechiness       67028 non-null  float64\n",
      " 15  acousticness      67028 non-null  float64\n",
      " 16  instrumentalness  67028 non-null  float64\n",
      " 17  liveness          67028 non-null  float64\n",
      " 18  valence           67028 non-null  float64\n",
      " 19  tempo             67028 non-null  float64\n",
      " 20  time_signature    67028 non-null  int64  \n",
      " 21  preview_url       52583 non-null  object \n",
      " 22  popularity        67028 non-null  int64  \n",
      "dtypes: bool(1), float64(9), int64(5), object(8)\n",
      "memory usage: 11.8+ MB\n"
     ]
    }
   ],
   "source": [
    "df_final.info()"
   ]
  },
  {
   "cell_type": "code",
   "execution_count": 12,
   "id": "7d7539e5",
   "metadata": {},
   "outputs": [
    {
     "data": {
      "text/plain": [
       "True"
      ]
     },
     "execution_count": 12,
     "metadata": {},
     "output_type": "execute_result"
    }
   ],
   "source": [
    "67028 == 5141 + 61887"
   ]
  },
  {
   "cell_type": "code",
   "execution_count": 15,
   "id": "b89963a9",
   "metadata": {},
   "outputs": [],
   "source": [
    "#writting to pickle\n",
    "with open('final_df_new.pkl', \"wb\") as f:\n",
    "    pickle.dump(df_final, f)"
   ]
  }
 ],
 "metadata": {
  "kernelspec": {
   "display_name": "Python 3 (ipykernel)",
   "language": "python",
   "name": "python3"
  },
  "language_info": {
   "codemirror_mode": {
    "name": "ipython",
    "version": 3
   },
   "file_extension": ".py",
   "mimetype": "text/x-python",
   "name": "python",
   "nbconvert_exporter": "python",
   "pygments_lexer": "ipython3",
   "version": "3.9.13"
  },
  "toc": {
   "base_numbering": 1,
   "nav_menu": {},
   "number_sections": false,
   "sideBar": true,
   "skip_h1_title": false,
   "title_cell": "Table of Contents",
   "title_sidebar": "Contents",
   "toc_cell": false,
   "toc_position": {},
   "toc_section_display": true,
   "toc_window_display": false
  },
  "varInspector": {
   "cols": {
    "lenName": 16,
    "lenType": 16,
    "lenVar": 40
   },
   "kernels_config": {
    "python": {
     "delete_cmd_postfix": "",
     "delete_cmd_prefix": "del ",
     "library": "var_list.py",
     "varRefreshCmd": "print(var_dic_list())"
    },
    "r": {
     "delete_cmd_postfix": ") ",
     "delete_cmd_prefix": "rm(",
     "library": "var_list.r",
     "varRefreshCmd": "cat(var_dic_list()) "
    }
   },
   "types_to_exclude": [
    "module",
    "function",
    "builtin_function_or_method",
    "instance",
    "_Feature"
   ],
   "window_display": false
  }
 },
 "nbformat": 4,
 "nbformat_minor": 5
}
