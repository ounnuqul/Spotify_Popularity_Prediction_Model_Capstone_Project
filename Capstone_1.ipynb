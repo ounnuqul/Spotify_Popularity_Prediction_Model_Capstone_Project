{
 "cells": [
  {
   "cell_type": "markdown",
   "id": "563b7561",
   "metadata": {},
   "source": [
    "# Spotify Popularity Prediction Model\n"
   ]
  },
  {
   "cell_type": "markdown",
   "id": "fa9a1ba8",
   "metadata": {},
   "source": [
    "**Author**: Oun Nuqul\n",
    "\n",
    "**Contact**: oun.nuqul@gmail.com\n",
    "\n",
    "**Date**: April 11th 2023"
   ]
  },
  {
   "cell_type": "markdown",
   "id": "fc06f027",
   "metadata": {},
   "source": [
    "___"
   ]
  },
  {
   "cell_type": "markdown",
   "id": "3c7733f9",
   "metadata": {},
   "source": [
    "## Table of Contents"
   ]
  },
  {
   "cell_type": "markdown",
   "id": "2cd32008",
   "metadata": {},
   "source": [
    "1. Introduction to the Project\n",
    "    - Introducing this Notebook\n",
    "2. Exploration of Kaggle Dataset\n",
    "    - Data Dictionary\n",
    "3. Preparing for New Data Pull\n",
    "    - Defining Functions\n",
    "    - Setting Up Spotipy\n",
    "    - Getting New Genres\n",
    "    - Getting Ids for New Genre Track Seeds\n",
    "    - Concatenating All Track Seeds to Single DataFrame\n",
    "4. Pulling the New Data\n",
    "    - The Meta Data\n",
    "    - Structuring the Meta Data\n",
    "    - The Audio Features\n",
    "5. Conclusion to this Notebook"
   ]
  },
  {
   "cell_type": "markdown",
   "id": "36512839",
   "metadata": {},
   "source": [
    "___"
   ]
  },
  {
   "cell_type": "markdown",
   "id": "e30d1562",
   "metadata": {},
   "source": [
    "## Introduction to the Project"
   ]
  },
  {
   "cell_type": "markdown",
   "id": "fa5bda4d",
   "metadata": {},
   "source": [
    "The way people consume music has changed drastically in the passed few decades, transforming from a selling industry to a streaming industry. A indisputable giant of this industry is the platform Spotify, which was seeing as many as 100,000 new additions to its catalog daily at the end of 2022. From the perspective of artists, the growing nature of the industry is foreshadowing greater opportunities, as well greater competition. For that reason the ability to make data driven decisions has become invaluable and essential for any artists hoping to find success on a platform which is slowly becoming oversaturated with content. This project will start by taking a look at a dataset found on Kaggle that was sourced directly from the Spotify API. Using this dataset we can explore and process the data and attempt fitting a classification model that can predict whether a track is popular or not given a set of features."
   ]
  },
  {
   "cell_type": "markdown",
   "id": "12b8e71e",
   "metadata": {},
   "source": [
    "### Introducing this notebook"
   ]
  },
  {
   "cell_type": "markdown",
   "id": "5815454e",
   "metadata": {},
   "source": [
    "This notebook will start with an initial exploration How to Spotify data sets found on Kaggle. After exploring the significance of the features available we will move on to pulling a fresh and more balanced dataset directly from the Spotify API. The reason for this is because upon initial examination of the Kaggle page it seems that the data set was pulled with certain specifications in mind that end up making it problematic for fitting a model."
   ]
  },
  {
   "cell_type": "markdown",
   "id": "c415c484",
   "metadata": {},
   "source": [
    "## Exploration of Kaggle Dataset"
   ]
  },
  {
   "cell_type": "code",
   "execution_count": 1,
   "id": "ad1e6248",
   "metadata": {
    "run_control": {
     "marked": false
    }
   },
   "outputs": [],
   "source": [
    "import pandas as pd #importing pandas\n",
    "import numpy as np #importing numpy\n",
    "import time #importing time\n",
    "from tqdm.notebook import tqdm #importing tqdm\n",
    "import matplotlib.pyplot as plt #importing matplotlib\n",
    "import pickle #importing pickle"
   ]
  },
  {
   "cell_type": "code",
   "execution_count": 2,
   "id": "328ee539",
   "metadata": {},
   "outputs": [],
   "source": [
    "#reading the kaggle dataset\n",
    "df_kaggle = pd.read_csv('Data/kaggle_dataset.csv',index_col=0)"
   ]
  },
  {
   "cell_type": "code",
   "execution_count": 3,
   "id": "2150c09d",
   "metadata": {},
   "outputs": [
    {
     "data": {
      "text/html": [
       "<div>\n",
       "<style scoped>\n",
       "    .dataframe tbody tr th:only-of-type {\n",
       "        vertical-align: middle;\n",
       "    }\n",
       "\n",
       "    .dataframe tbody tr th {\n",
       "        vertical-align: top;\n",
       "    }\n",
       "\n",
       "    .dataframe thead th {\n",
       "        text-align: right;\n",
       "    }\n",
       "</style>\n",
       "<table border=\"1\" class=\"dataframe\">\n",
       "  <thead>\n",
       "    <tr style=\"text-align: right;\">\n",
       "      <th></th>\n",
       "      <th>track_id</th>\n",
       "      <th>artists</th>\n",
       "      <th>album_name</th>\n",
       "      <th>track_name</th>\n",
       "      <th>popularity</th>\n",
       "      <th>duration_ms</th>\n",
       "      <th>explicit</th>\n",
       "      <th>danceability</th>\n",
       "      <th>energy</th>\n",
       "      <th>key</th>\n",
       "      <th>loudness</th>\n",
       "      <th>mode</th>\n",
       "      <th>speechiness</th>\n",
       "      <th>acousticness</th>\n",
       "      <th>instrumentalness</th>\n",
       "      <th>liveness</th>\n",
       "      <th>valence</th>\n",
       "      <th>tempo</th>\n",
       "      <th>time_signature</th>\n",
       "      <th>track_genre</th>\n",
       "    </tr>\n",
       "  </thead>\n",
       "  <tbody>\n",
       "    <tr>\n",
       "      <th>0</th>\n",
       "      <td>5SuOikwiRyPMVoIQDJUgSV</td>\n",
       "      <td>Gen Hoshino</td>\n",
       "      <td>Comedy</td>\n",
       "      <td>Comedy</td>\n",
       "      <td>73</td>\n",
       "      <td>230666</td>\n",
       "      <td>False</td>\n",
       "      <td>0.676</td>\n",
       "      <td>0.4610</td>\n",
       "      <td>1</td>\n",
       "      <td>-6.746</td>\n",
       "      <td>0</td>\n",
       "      <td>0.1430</td>\n",
       "      <td>0.0322</td>\n",
       "      <td>0.000001</td>\n",
       "      <td>0.3580</td>\n",
       "      <td>0.715</td>\n",
       "      <td>87.917</td>\n",
       "      <td>4</td>\n",
       "      <td>acoustic</td>\n",
       "    </tr>\n",
       "    <tr>\n",
       "      <th>1</th>\n",
       "      <td>4qPNDBW1i3p13qLCt0Ki3A</td>\n",
       "      <td>Ben Woodward</td>\n",
       "      <td>Ghost (Acoustic)</td>\n",
       "      <td>Ghost - Acoustic</td>\n",
       "      <td>55</td>\n",
       "      <td>149610</td>\n",
       "      <td>False</td>\n",
       "      <td>0.420</td>\n",
       "      <td>0.1660</td>\n",
       "      <td>1</td>\n",
       "      <td>-17.235</td>\n",
       "      <td>1</td>\n",
       "      <td>0.0763</td>\n",
       "      <td>0.9240</td>\n",
       "      <td>0.000006</td>\n",
       "      <td>0.1010</td>\n",
       "      <td>0.267</td>\n",
       "      <td>77.489</td>\n",
       "      <td>4</td>\n",
       "      <td>acoustic</td>\n",
       "    </tr>\n",
       "    <tr>\n",
       "      <th>2</th>\n",
       "      <td>1iJBSr7s7jYXzM8EGcbK5b</td>\n",
       "      <td>Ingrid Michaelson;ZAYN</td>\n",
       "      <td>To Begin Again</td>\n",
       "      <td>To Begin Again</td>\n",
       "      <td>57</td>\n",
       "      <td>210826</td>\n",
       "      <td>False</td>\n",
       "      <td>0.438</td>\n",
       "      <td>0.3590</td>\n",
       "      <td>0</td>\n",
       "      <td>-9.734</td>\n",
       "      <td>1</td>\n",
       "      <td>0.0557</td>\n",
       "      <td>0.2100</td>\n",
       "      <td>0.000000</td>\n",
       "      <td>0.1170</td>\n",
       "      <td>0.120</td>\n",
       "      <td>76.332</td>\n",
       "      <td>4</td>\n",
       "      <td>acoustic</td>\n",
       "    </tr>\n",
       "    <tr>\n",
       "      <th>3</th>\n",
       "      <td>6lfxq3CG4xtTiEg7opyCyx</td>\n",
       "      <td>Kina Grannis</td>\n",
       "      <td>Crazy Rich Asians (Original Motion Picture Sou...</td>\n",
       "      <td>Can't Help Falling In Love</td>\n",
       "      <td>71</td>\n",
       "      <td>201933</td>\n",
       "      <td>False</td>\n",
       "      <td>0.266</td>\n",
       "      <td>0.0596</td>\n",
       "      <td>0</td>\n",
       "      <td>-18.515</td>\n",
       "      <td>1</td>\n",
       "      <td>0.0363</td>\n",
       "      <td>0.9050</td>\n",
       "      <td>0.000071</td>\n",
       "      <td>0.1320</td>\n",
       "      <td>0.143</td>\n",
       "      <td>181.740</td>\n",
       "      <td>3</td>\n",
       "      <td>acoustic</td>\n",
       "    </tr>\n",
       "    <tr>\n",
       "      <th>4</th>\n",
       "      <td>5vjLSffimiIP26QG5WcN2K</td>\n",
       "      <td>Chord Overstreet</td>\n",
       "      <td>Hold On</td>\n",
       "      <td>Hold On</td>\n",
       "      <td>82</td>\n",
       "      <td>198853</td>\n",
       "      <td>False</td>\n",
       "      <td>0.618</td>\n",
       "      <td>0.4430</td>\n",
       "      <td>2</td>\n",
       "      <td>-9.681</td>\n",
       "      <td>1</td>\n",
       "      <td>0.0526</td>\n",
       "      <td>0.4690</td>\n",
       "      <td>0.000000</td>\n",
       "      <td>0.0829</td>\n",
       "      <td>0.167</td>\n",
       "      <td>119.949</td>\n",
       "      <td>4</td>\n",
       "      <td>acoustic</td>\n",
       "    </tr>\n",
       "  </tbody>\n",
       "</table>\n",
       "</div>"
      ],
      "text/plain": [
       "                 track_id                 artists  \\\n",
       "0  5SuOikwiRyPMVoIQDJUgSV             Gen Hoshino   \n",
       "1  4qPNDBW1i3p13qLCt0Ki3A            Ben Woodward   \n",
       "2  1iJBSr7s7jYXzM8EGcbK5b  Ingrid Michaelson;ZAYN   \n",
       "3  6lfxq3CG4xtTiEg7opyCyx            Kina Grannis   \n",
       "4  5vjLSffimiIP26QG5WcN2K        Chord Overstreet   \n",
       "\n",
       "                                          album_name  \\\n",
       "0                                             Comedy   \n",
       "1                                   Ghost (Acoustic)   \n",
       "2                                     To Begin Again   \n",
       "3  Crazy Rich Asians (Original Motion Picture Sou...   \n",
       "4                                            Hold On   \n",
       "\n",
       "                   track_name  popularity  duration_ms  explicit  \\\n",
       "0                      Comedy          73       230666     False   \n",
       "1            Ghost - Acoustic          55       149610     False   \n",
       "2              To Begin Again          57       210826     False   \n",
       "3  Can't Help Falling In Love          71       201933     False   \n",
       "4                     Hold On          82       198853     False   \n",
       "\n",
       "   danceability  energy  key  loudness  mode  speechiness  acousticness  \\\n",
       "0         0.676  0.4610    1    -6.746     0       0.1430        0.0322   \n",
       "1         0.420  0.1660    1   -17.235     1       0.0763        0.9240   \n",
       "2         0.438  0.3590    0    -9.734     1       0.0557        0.2100   \n",
       "3         0.266  0.0596    0   -18.515     1       0.0363        0.9050   \n",
       "4         0.618  0.4430    2    -9.681     1       0.0526        0.4690   \n",
       "\n",
       "   instrumentalness  liveness  valence    tempo  time_signature track_genre  \n",
       "0          0.000001    0.3580    0.715   87.917               4    acoustic  \n",
       "1          0.000006    0.1010    0.267   77.489               4    acoustic  \n",
       "2          0.000000    0.1170    0.120   76.332               4    acoustic  \n",
       "3          0.000071    0.1320    0.143  181.740               3    acoustic  \n",
       "4          0.000000    0.0829    0.167  119.949               4    acoustic  "
      ]
     },
     "execution_count": 3,
     "metadata": {},
     "output_type": "execute_result"
    }
   ],
   "source": [
    "#taking a first look\n",
    "df_kaggle.head()"
   ]
  },
  {
   "cell_type": "code",
   "execution_count": 4,
   "id": "2ff2e8e2",
   "metadata": {},
   "outputs": [
    {
     "name": "stdout",
     "output_type": "stream",
     "text": [
      "<class 'pandas.core.frame.DataFrame'>\n",
      "Int64Index: 114000 entries, 0 to 113999\n",
      "Data columns (total 20 columns):\n",
      " #   Column            Non-Null Count   Dtype  \n",
      "---  ------            --------------   -----  \n",
      " 0   track_id          114000 non-null  object \n",
      " 1   artists           113999 non-null  object \n",
      " 2   album_name        113999 non-null  object \n",
      " 3   track_name        113999 non-null  object \n",
      " 4   popularity        114000 non-null  int64  \n",
      " 5   duration_ms       114000 non-null  int64  \n",
      " 6   explicit          114000 non-null  bool   \n",
      " 7   danceability      114000 non-null  float64\n",
      " 8   energy            114000 non-null  float64\n",
      " 9   key               114000 non-null  int64  \n",
      " 10  loudness          114000 non-null  float64\n",
      " 11  mode              114000 non-null  int64  \n",
      " 12  speechiness       114000 non-null  float64\n",
      " 13  acousticness      114000 non-null  float64\n",
      " 14  instrumentalness  114000 non-null  float64\n",
      " 15  liveness          114000 non-null  float64\n",
      " 16  valence           114000 non-null  float64\n",
      " 17  tempo             114000 non-null  float64\n",
      " 18  time_signature    114000 non-null  int64  \n",
      " 19  track_genre       114000 non-null  object \n",
      "dtypes: bool(1), float64(9), int64(5), object(5)\n",
      "memory usage: 17.5+ MB\n"
     ]
    }
   ],
   "source": [
    "#taking a look at the structure of the dataset\n",
    "df_kaggle.info()"
   ]
  },
  {
   "cell_type": "markdown",
   "id": "af866b31",
   "metadata": {},
   "source": [
    "Taking a look at the dataset we can see that it consists of 114,000 rows, and 20 features. Each row of the dataset is a single track of music. The features consist of mostly numeric data that refers to technical / musical details of that track, as well as categorical data which represents information on that track such as a unique identifier and details about the track and artist. "
   ]
  },
  {
   "cell_type": "markdown",
   "id": "0cb9cc46",
   "metadata": {},
   "source": [
    "### Data Dictionary"
   ]
  },
  {
   "cell_type": "markdown",
   "id": "887d2886",
   "metadata": {},
   "source": [
    "**Object Type**:\n",
    "- `track_id`: A string type feature that serves as a unique identifier for each track.\n",
    "- `artists`: The artist / artists that released the track.\n",
    "- `album_name`: The album name of the album that the track belongs to.\n",
    "- `track_name`: The name of the track.\n",
    "- `track_genre`: The genre that the track belongs to.\n",
    "\n",
    "**Boolean Type**:\n",
    "- `explicit`: Whether the track contains explicit content or not.\n",
    "\n",
    "**Numeric Type**:\n",
    "- `duration_ms`: The duration of the track in milliseconds.\n",
    "- `danceability`: A value from 0.0 to 1.0 that describes how suitable the track is for dancing.\n",
    "- `energy`: A value from 0.0 to 1.0 that describes how intense and energetic that track feels.\n",
    "- `key`: A value from 1 to 11 that describes the key that track is in (C = 0, C# = 1, ..., B = 11).\n",
    "- `loudness`: A value less than 0 the describes how loud the track is in decibels.\n",
    "- `mode`: A binary value that describes whether the song is in a major or minor key (Major = 1, Minor = 0).\n",
    "- `speechiness`: A value from 0.0 to 1.0 that describes how evident spoken word is on the track (1 is closer to podcasts, while around 0.3 is music with few lyrics)\n",
    "- `acousticness`: A value from 0.0 to 1.0 that describes how acoustic the track is.\n",
    "- `instrumentalness`: A value from 0.0 to 1.0 that describes how instrumental the track (Completely instrument = 1)\n",
    "- `liveness`: A value from 0.0 to 1.0 that describes how probable the track was recorded while be preformed live.\n",
    "- `valence`: A value from 0.0 to 1.0 that describes the type of emotion the track portrays (1 = Positive emotions, 0 = Negative emotions)\n",
    "- `tempo`: An overall estimate of the tracks tempo measured in beats per minute (BPM)\n",
    "- `time_signature`: The time signature of the track with values between 3 to 7 (translated to 3/4 to 7/4)\n",
    "- `popularity`: The popularity of a track is a value from 0 to 100 which is calculated by Spotify using an algorithm that takes into account the number of streams that track has, as well as how recent and repeated those streams were."
   ]
  },
  {
   "cell_type": "code",
   "execution_count": 5,
   "id": "afcc62a5",
   "metadata": {},
   "outputs": [
    {
     "data": {
      "text/plain": [
       "track_genre\n",
       "acoustic       1000\n",
       "afrobeat       1000\n",
       "alt-rock       1000\n",
       "alternative    1000\n",
       "ambient        1000\n",
       "               ... \n",
       "techno         1000\n",
       "trance         1000\n",
       "trip-hop       1000\n",
       "turkish        1000\n",
       "world-music    1000\n",
       "Name: track_id, Length: 114, dtype: int64"
      ]
     },
     "execution_count": 5,
     "metadata": {},
     "output_type": "execute_result"
    }
   ],
   "source": [
    "#checking the distribution of the dataset\n",
    "df_kaggle.groupby('track_genre')['track_id'].count()"
   ]
  },
  {
   "cell_type": "markdown",
   "id": "55fd01a7",
   "metadata": {},
   "source": [
    "It looks like the dataset was pulled with the intention of getting an even spread of songs from each genre.\n",
    "The data consists of 114 genres, with 1000 tracks for each of them. At first this seems desirable as no one genre is over represented, and thus a classification model would prove more effective. However, given that the `popularity` feature is to be the target variable to classify its distribution is far more important."
   ]
  },
  {
   "cell_type": "code",
   "execution_count": 6,
   "id": "9f77839d",
   "metadata": {},
   "outputs": [
    {
     "data": {
      "text/plain": [
       "count    114000.000000\n",
       "mean         33.238535\n",
       "std          22.305078\n",
       "min           0.000000\n",
       "25%          17.000000\n",
       "50%          35.000000\n",
       "75%          50.000000\n",
       "max         100.000000\n",
       "Name: popularity, dtype: float64"
      ]
     },
     "execution_count": 6,
     "metadata": {},
     "output_type": "execute_result"
    }
   ],
   "source": [
    "#A breakdown of the popularity features distribution\n",
    "df_kaggle['popularity'].describe()"
   ]
  },
  {
   "cell_type": "code",
   "execution_count": 7,
   "id": "4ae7358f",
   "metadata": {},
   "outputs": [
    {
     "data": {
      "image/png": "[encoded data removed]",
      "text/plain": [
       "<Figure size 640x480 with 1 Axes>"
      ]
     },
     "metadata": {},
     "output_type": "display_data"
    }
   ],
   "source": [
    "plt.figure()\n",
    "plt.hist(df_kaggle['popularity'], bins=100)\n",
    "plt.xlabel('Popularity')\n",
    "plt.ylabel('Frequency')\n",
    "plt.title('Distribution of Popularity Feature', fontweight='bold')\n",
    "plt.show()"
   ]
  },
  {
   "cell_type": "markdown",
   "id": "6e1f9ec1",
   "metadata": {},
   "source": [
    "Even though the range of values for the `popularity` feature reaches 100, the dataset is very imbalanced and consists of mostly of 0 values. Out of 114,000 tracks about 16,000 of them have a popularity value of zero, which is about 14% of the data. This proves very problematic as all models would have a difficult time predicting anything other than a zero has that is the most predominant value. Thus the needs for a new dataset became evident. However, the kaggle data set was not completely useless and would prove helpful when pulling the new data. "
   ]
  },
  {
   "cell_type": "markdown",
   "id": "9814dcba",
   "metadata": {},
   "source": [
    "## Preparing for New Data Pull"
   ]
  },
  {
   "cell_type": "markdown",
   "id": "f2af093c",
   "metadata": {},
   "source": [
    "To use the Spotify API with python, the use of an existing package is necessary. Spotipy is a library of commands that allows for both building third-party applications that work with Spotify, as well as pulling data. "
   ]
  },
  {
   "cell_type": "markdown",
   "id": "effce5a7",
   "metadata": {},
   "source": [
    "After going through the documentation of the Spotify API, certain essential concepts came to light. Data pulled from the API is returned in the form of JSON files, which are essentially dictionary embedded into each other, with each dictionary containing different information. "
   ]
  },
  {
   "cell_type": "markdown",
   "id": "cd9bb8de",
   "metadata": {},
   "source": [
    "By creating a developer account for the platform, we can get credentials that allow us to begin making use of the API."
   ]
  },
  {
   "cell_type": "markdown",
   "id": "165f867f",
   "metadata": {},
   "source": [
    "### Defining Functions"
   ]
  },
  {
   "cell_type": "markdown",
   "id": "b2936e0d",
   "metadata": {},
   "source": [
    "In order to make the best use of the API, defining a few functions would prove beneficial."
   ]
  },
  {
   "cell_type": "markdown",
   "id": "ff2e5a5c",
   "metadata": {},
   "source": [
    "Working with APIs comes with a certain limitations, of which are rate limits that limit the amount of requests a script can make of the API in a certain time period. In the case of Spotipy, only a finite number of requests can be made in a 30 second window. For that reason certain functions need to be defined in order to account for that."
   ]
  },
  {
   "cell_type": "code",
   "execution_count": 8,
   "id": "bc871294",
   "metadata": {},
   "outputs": [],
   "source": [
    "#Defining call/backoff strategy that accounts for rate limits\n",
    "def call_with_retry(func, max_retries=3, initial_delay=1, backoff_factor=2):\n",
    "    '''\n",
    "    This function takes in a function 'func' and attempts to call it with a retry mechanism.\n",
    "    The function will retry the call up to 'max_retries' times, with a delay of 'initial_delay'\n",
    "    seconds between retries that increases by a factor of 'backoff_factor' after each retry.\n",
    "    \n",
    "    - func: the function to be called with retry mechanism\n",
    "    - max_retries: the maximum number of retries to attempt (default=3)\n",
    "    - initial_delay: the initial delay (in seconds) between retries (default=1)\n",
    "    - backoff_factor: the factor by which the delay should be increased after each retry (default=2)\n",
    "    '''\n",
    "    \n",
    "    retries = 0\n",
    "    delay = initial_delay\n",
    "    \n",
    "    while retries < max_retries:\n",
    "        try:\n",
    "            result = func\n",
    "            return result\n",
    "        except spotipy.client.SpotifyException as e:\n",
    "            if e.http_status == 429: # Error 429 is what Spotipy returns when the rate limit is exceeded\n",
    "                print(f\"Rate limited. Retrying in {delay} seconds...\")\n",
    "                time.sleep(delay)\n",
    "                delay *= backoff_factor\n",
    "                retries += 1\n",
    "            else:\n",
    "                raise e\n",
    "    \n",
    "    # Max retries reached\n",
    "    print(\"Max retries reached. Giving up.\")\n",
    "    return None"
   ]
  },
  {
   "cell_type": "markdown",
   "id": "6a433d76",
   "metadata": {},
   "source": [
    "The dataset found on Kaggle which contains both metadata about the tracks as well as audio features about those same tracks Was actually due to pull from two separate places. So, in order to pull the same type of data From the API two separate functions need to be defined in order to pull both of those kinds of data.  "
   ]
  },
  {
   "cell_type": "code",
   "execution_count": 9,
   "id": "1a90b4fe",
   "metadata": {},
   "outputs": [],
   "source": [
    "# Defining function to retrieve track metadata in chunks of 50 tracks\n",
    "def get_tracks(ids):\n",
    "    '''\n",
    "    This function takes in a list of track IDs 'ids' and retrieves metadata for each track using the\n",
    "    'tracks' method of the Spotify API. The function retrieves metadata for up to 50 tracks at a time,\n",
    "    with a progress bar displayed using the 'tqdm' library.\n",
    "\n",
    "    The 'call_with_retry' function is used to handle any rate limiting errors that may occur during\n",
    "    the API call.\n",
    "    \n",
    "    - ids: a list of track IDs for which metadata should be retrieved\n",
    "    '''\n",
    "    tracks = []\n",
    "    for i in tqdm(range(0, len(ids), 50)):\n",
    "        chunk = ids[i:i+50]\n",
    "        results = call_with_retry(sp.tracks(chunk))\n",
    "        tracks += results['tracks']\n",
    "    return tracks"
   ]
  },
  {
   "cell_type": "code",
   "execution_count": 10,
   "id": "90e67200",
   "metadata": {},
   "outputs": [],
   "source": [
    "# Defining function to retrieve track audio features in chunks of 50 tracks\n",
    "def get_audio_features(ids):\n",
    "    '''\n",
    "    This function takes in a list of track IDs 'ids' and retrieves audio features for each track\n",
    "    using the 'audio_features' method of the Spotify API. The function retrieves audio features \n",
    "    for up to 50 tracks at a time, with a progress bar displayed using the 'tqdm' library.\n",
    "\n",
    "    The 'call_with_retry' function is used to handle any rate limiting errors that may occur\n",
    "    during the API call.\n",
    "    \n",
    "    - ids: a list of track IDs for which audio features should be retrieved\n",
    "    '''\n",
    "    audio_features = []\n",
    "    for i in tqdm(range(0, len(ids), 50)):\n",
    "        chunk = ids[i:i+50]\n",
    "        results = call_with_retry(sp.audio_features(chunk))\n",
    "        audio_features += results\n",
    "    return audio_features"
   ]
  },
  {
   "cell_type": "markdown",
   "id": "6caacc4c",
   "metadata": {},
   "source": [
    "Note that tracks and audio features are being pulled in increments of 50 as instructed by the Spotipy documentation. This is a feature provided by the API so that chunks of data can be pulled simultaneously such that the rate limit doesn't impose too much of an issue."
   ]
  },
  {
   "cell_type": "markdown",
   "id": "20b6a6e3",
   "metadata": {},
   "source": [
    "Now that we have functions that can pull tracks from the API using unique track ids, we now need A function that can pull random tracks that follow certain specifications. This can be done using the API's recommendations function."
   ]
  },
  {
   "cell_type": "code",
   "execution_count": 11,
   "id": "0d3b7c4b",
   "metadata": {},
   "outputs": [],
   "source": [
    "# Defining a function to retrieve recommendations in chunks of 50 tracks\n",
    "def get_recommendations(params):\n",
    "    '''\n",
    "    This function takes in a dictionary of parameters 'params' and retrieves a list\n",
    "    of recommended tracks using the 'recommendations' method of the Spotify API.\n",
    "\n",
    "    The 'call_with_retry' function is used to handle any rate limiting errors that\n",
    "    may occur during the API call.\n",
    "    \n",
    "    Parameters have minimum requirement of including at least three track seeds, a genre seed,\n",
    "    as well has some suplementry filters such as ranges for popularity values.\n",
    "    \n",
    "    sample params variable:\n",
    "        params = {\n",
    "            \"limit\": 100, # number of recommendations to return\n",
    "            \"seed_tracks\": [], # list of seed track ids to base recommendations on\n",
    "            \"min_popularity\": 80, # minimum popularity score for recommended tracks\n",
    "            'max_popularity': 90, # max  popularity score for recommended trac\n",
    "            \"seed_genre\": ['hip-hop'] # list of genre seeds to base recommendations on\n",
    "            }\n",
    "    '''\n",
    "    recommendations = []\n",
    "        \n",
    "    results = call_with_retry(sp.recommendations(**params))\n",
    "    recommendations += results['tracks']\n",
    "    \n",
    "    return recommendations"
   ]
  },
  {
   "cell_type": "markdown",
   "id": "bc3da832",
   "metadata": {},
   "source": [
    "Lastly, we need a function that can pull a somewhat balanced selection of track IDs from the existing Kaggle dataset. The function will try to select a track ID for each genre for each popularity bracket (0 - 20, 20 - 40, 40 - 60, 60 - 80, 80 - 100)."
   ]
  },
  {
   "cell_type": "code",
   "execution_count": 12,
   "id": "c6529d79",
   "metadata": {},
   "outputs": [],
   "source": [
    "def get_track_seeds(df, pop_bracket=None, genre=None):\n",
    "    '''\n",
    "    This recursive function returns a dictionary of genres with a list of five track IDs from various popularity \n",
    "    brackets from the df. The function works by Looping through each genre in the dataset, and then each \n",
    "    popularity bracket, attempting to pull an ID with those specifications.\n",
    "    \n",
    "    When pop_bracket and genre are at the default value (None), then all possible genres and popularity brackets\n",
    "    will be searched. But if those parameters are defined, then only one entry will be pulled with those specific\n",
    "    values. \n",
    "    \n",
    "    At any point where no entry exists that follows the specified parameters, an entry from the lower popularity\n",
    "    bracket will try to be pulled. This function does this by calling itself with adjusted parameters.\n",
    "    '''\n",
    "    final_d = {}\n",
    "    popularity_brackets = [(80, 100), (60, 80), (40, 60), (20, 40), (0, 20)]\n",
    "    \n",
    "    #the case where all popularity brackets are to be checked\n",
    "    if pop_bracket is None and genre is None: \n",
    "        \n",
    "        #looping through all posible genres\n",
    "        for gen in df['track_genre'].unique():\n",
    "            final_d[gen] = []\n",
    "            \n",
    "            #looping through all possible popularity brackets\n",
    "            for i, (start, end) in enumerate(popularity_brackets):\n",
    "                \n",
    "                #checks if a track of those specifications exists\n",
    "                if df[(df['track_genre'] == gen) & (df['popularity'] > start) & (df['popularity'] <= end)].shape[0] > 0: \n",
    "                    \n",
    "                    #appends the track id to a list for that genre inside the final dictionary \n",
    "                    final_d[gen].append(str(df[(df['track_genre'] == gen) &\n",
    "                                             (df['popularity'] > start) &\n",
    "                                             (df['popularity'] <= end)].sample(1)['track_id'].to_list()[0]))\n",
    "                \n",
    "                #recursively calling the same function at a lower popularity bracket\n",
    "                else: \n",
    "                    final_d[gen].append(get_track_seeds(df,(start - 20, end - 20), gen))\n",
    "    \n",
    "    #this case is only used when the function calls itself to find a specific singular track id\n",
    "    else: \n",
    "        \n",
    "        #checks if a track of those specifications exists\n",
    "        if df[(df['track_genre'] == genre) & (df['popularity'] > pop_bracket[0]) & (df['popularity'] <= pop_bracket[1])].shape[0] > 0:\n",
    "            return str(df[(df['track_genre'] == genre) &\n",
    "                          (df['popularity'] > pop_bracket[0]) &\n",
    "                          (df['popularity'] <= pop_bracket[1])].sample(1)['track_id'].to_list()[0])\n",
    "        else:\n",
    "        # if no tracks exist in that popularity bracket either, the next lower one is checked also as long as a lower bracket exists.\n",
    "            if pop_bracket[0] > 0:\n",
    "                return get_track_seeds(df, (pop_bracket[0] - 20, pop_bracket[1] - 20), genre)\n",
    "            else:\n",
    "        # if no songs of these specfication is found then None will be returned so that the function can move on to the next combination of specfications.\n",
    "                return None\n",
    "        \n",
    "    return final_d"
   ]
  },
  {
   "cell_type": "markdown",
   "id": "76234f83",
   "metadata": {},
   "source": [
    "**Note: The function assumes that the inputed df follows the format of the Kaggle dataset used at the start of the notebook. **"
   ]
  },
  {
   "cell_type": "markdown",
   "id": "8f2a12a6",
   "metadata": {},
   "source": [
    "### Setting Up Spotipy"
   ]
  },
  {
   "cell_type": "markdown",
   "id": "6fc8a16b",
   "metadata": {},
   "source": [
    "First we need to define the client_id and client_secret to use as credentials."
   ]
  },
  {
   "cell_type": "code",
   "execution_count": 13,
   "id": "a0507630",
   "metadata": {},
   "outputs": [],
   "source": [
    "#credential for using spoitpy (no longer active)\n",
    "client_id = '1b0f76afafac4d4898811b950e1a0c08'\n",
    "client_secret = '806820e9d6004f7c94723ef175ee547c'"
   ]
  },
  {
   "cell_type": "code",
   "execution_count": 14,
   "id": "60dbbfc1",
   "metadata": {},
   "outputs": [],
   "source": [
    "#importing spotipy\n",
    "import spotipy\n",
    "from spotipy.oauth2 import SpotifyClientCredentials\n",
    "\n",
    "# Set up Spotipy client\n",
    "client_credentials_manager = SpotifyClientCredentials(client_id=client_id, client_secret=client_secret)\n",
    "sp = spotipy.Spotify(client_credentials_manager=client_credentials_manager)"
   ]
  },
  {
   "cell_type": "markdown",
   "id": "b6c786e9",
   "metadata": {},
   "source": [
    "Once the spotipy object `sp` is instantiated we then gain access to the spotipy functions."
   ]
  },
  {
   "cell_type": "markdown",
   "id": "2dfa77b1",
   "metadata": {},
   "source": [
    "### Getting New Genres"
   ]
  },
  {
   "cell_type": "markdown",
   "id": "a8a15c79",
   "metadata": {},
   "source": [
    "Since it was previously established that the initial data set wasn't balanced, it becomes necessary to check if there were any other missights. Something to check is there are any other genres available. "
   ]
  },
  {
   "cell_type": "code",
   "execution_count": 15,
   "id": "35ff0aa8",
   "metadata": {},
   "outputs": [],
   "source": [
    "# Checking if there are any genres that the API has that arent in the intial data set\n",
    "new_genres = []\n",
    "for gen in list(sp.recommendation_genre_seeds()['genres']):\n",
    "    if gen not in list(df_kaggle['track_genre'].unique()):\n",
    "        new_genres.append(gen)"
   ]
  },
  {
   "cell_type": "code",
   "execution_count": 16,
   "id": "33645ddf",
   "metadata": {},
   "outputs": [
    {
     "name": "stdout",
     "output_type": "stream",
     "text": [
      "['bossanova', 'holidays', 'metal-misc', 'movies', 'new-release', 'philippines-opm', 'post-dubstep', 'rainy-day', 'road-trip', 'soundtracks', 'summer', 'work-out']\n",
      "\n",
      "\n",
      "Number of genres: 12\n"
     ]
    }
   ],
   "source": [
    "print(new_genres)\n",
    "print('\\n')\n",
    "print('Number of genres:', len(new_genres))"
   ]
  },
  {
   "cell_type": "markdown",
   "id": "4e56f7eb",
   "metadata": {},
   "source": [
    "It seems that there are 12 more genres available. Finding seed track ids for them using the API would likely be difficult, but there is a simpler option. Using the actual Spotify app, and Spotify's curated playlists I was able to find a few tracks that fit into 9 of the 12 new genres. These tracks were manually selected and saved in the form of .csv file *(Data/tracks_from_new_genres.csv)*"
   ]
  },
  {
   "cell_type": "code",
   "execution_count": 17,
   "id": "1d4f2672",
   "metadata": {
    "scrolled": true
   },
   "outputs": [
    {
     "data": {
      "text/html": [
       "<div>\n",
       "<style scoped>\n",
       "    .dataframe tbody tr th:only-of-type {\n",
       "        vertical-align: middle;\n",
       "    }\n",
       "\n",
       "    .dataframe tbody tr th {\n",
       "        vertical-align: top;\n",
       "    }\n",
       "\n",
       "    .dataframe thead th {\n",
       "        text-align: right;\n",
       "    }\n",
       "</style>\n",
       "<table border=\"1\" class=\"dataframe\">\n",
       "  <thead>\n",
       "    <tr style=\"text-align: right;\">\n",
       "      <th></th>\n",
       "      <th>name</th>\n",
       "      <th>artist</th>\n",
       "      <th>genre</th>\n",
       "    </tr>\n",
       "  </thead>\n",
       "  <tbody>\n",
       "    <tr>\n",
       "      <th>38</th>\n",
       "      <td>Sunflower - Spider-Man: Into the Spider-Verse</td>\n",
       "      <td>Post Malone</td>\n",
       "      <td>summer</td>\n",
       "    </tr>\n",
       "    <tr>\n",
       "      <th>11</th>\n",
       "      <td>We Own It (Fast &amp; Furious)</td>\n",
       "      <td>2 Chainz</td>\n",
       "      <td>movies</td>\n",
       "    </tr>\n",
       "    <tr>\n",
       "      <th>18</th>\n",
       "      <td>Kung Wala Ka</td>\n",
       "      <td>Hale</td>\n",
       "      <td>philippines-opm</td>\n",
       "    </tr>\n",
       "    <tr>\n",
       "      <th>16</th>\n",
       "      <td>Wag Na Lang</td>\n",
       "      <td>MC Einstein</td>\n",
       "      <td>philippines-opm</td>\n",
       "    </tr>\n",
       "    <tr>\n",
       "      <th>3</th>\n",
       "      <td>Fotografia</td>\n",
       "      <td>Elis Regina</td>\n",
       "      <td>bossanova</td>\n",
       "    </tr>\n",
       "    <tr>\n",
       "      <th>41</th>\n",
       "      <td>Miracle (with Ellie Goulding)</td>\n",
       "      <td>Calvin Harris</td>\n",
       "      <td>work-out</td>\n",
       "    </tr>\n",
       "    <tr>\n",
       "      <th>9</th>\n",
       "      <td>Frosty The Snowman - Remastered 2006</td>\n",
       "      <td>Bing Crosby</td>\n",
       "      <td>holidays</td>\n",
       "    </tr>\n",
       "    <tr>\n",
       "      <th>19</th>\n",
       "      <td>Miloves (Otw Sayo)</td>\n",
       "      <td>King Badger</td>\n",
       "      <td>philippines-opm</td>\n",
       "    </tr>\n",
       "  </tbody>\n",
       "</table>\n",
       "</div>"
      ],
      "text/plain": [
       "                                             name         artist  \\\n",
       "38  Sunflower - Spider-Man: Into the Spider-Verse    Post Malone   \n",
       "11                     We Own It (Fast & Furious)       2 Chainz   \n",
       "18                                   Kung Wala Ka           Hale   \n",
       "16                                    Wag Na Lang    MC Einstein   \n",
       "3                                      Fotografia    Elis Regina   \n",
       "41                  Miracle (with Ellie Goulding)  Calvin Harris   \n",
       "9            Frosty The Snowman - Remastered 2006    Bing Crosby   \n",
       "19                             Miloves (Otw Sayo)    King Badger   \n",
       "\n",
       "              genre  \n",
       "38           summer  \n",
       "11           movies  \n",
       "18  philippines-opm  \n",
       "16  philippines-opm  \n",
       "3         bossanova  \n",
       "41         work-out  \n",
       "9          holidays  \n",
       "19  philippines-opm  "
      ]
     },
     "execution_count": 17,
     "metadata": {},
     "output_type": "execute_result"
    }
   ],
   "source": [
    "# reading the tracks from new genres\n",
    "df_new_tracks = pd.read_csv('Data/tracks_from_new_genres.csv', index_col=0)\n",
    "df_new_tracks.sample(8)"
   ]
  },
  {
   "cell_type": "markdown",
   "id": "d83d807c",
   "metadata": {},
   "source": [
    "### Getting Ids for New Genre Track Seeds"
   ]
  },
  {
   "cell_type": "markdown",
   "id": "6359f527",
   "metadata": {},
   "source": [
    "Using the sp.search() function from the Spotipy library and some clever string parsing we can find the track ids corresponding to the new genre tracks as to use them as track id seeds when pulling the new dataset."
   ]
  },
  {
   "cell_type": "code",
   "execution_count": 18,
   "id": "de178c41",
   "metadata": {},
   "outputs": [],
   "source": [
    "#creating a dictionary to store the track ids for each new track seed in its respective genre list\n",
    "new_gen_track_seeds = {}\n",
    "for gen in df_new_tracks['genre'].unique():\n",
    "    new_gen_track_seeds[gen] = []\n",
    "\n",
    "#searching \n",
    "for i in range(df_new_tracks.shape[0]):\n",
    "    query = 'track:' + str(df_new_tracks['name'][i]) + ' artist:' + str(df_new_tracks['name'][i])\n",
    "    new_gen_track_seeds[df_new_tracks['genre'][i]].append(sp.search(q=query, type=\"track\")['tracks']['items'][0]['id'])"
   ]
  },
  {
   "cell_type": "code",
   "execution_count": 20,
   "id": "6ffe478c",
   "metadata": {
    "scrolled": true
   },
   "outputs": [],
   "source": [
    "#formatting the trackseeds into a dataframe\n",
    "track_seeds_new = pd.DataFrame(new_gen_track_seeds)"
   ]
  },
  {
   "cell_type": "code",
   "execution_count": 21,
   "id": "60d15c49",
   "metadata": {},
   "outputs": [
    {
     "data": {
      "text/html": [
       "<div>\n",
       "<style scoped>\n",
       "    .dataframe tbody tr th:only-of-type {\n",
       "        vertical-align: middle;\n",
       "    }\n",
       "\n",
       "    .dataframe tbody tr th {\n",
       "        vertical-align: top;\n",
       "    }\n",
       "\n",
       "    .dataframe thead th {\n",
       "        text-align: right;\n",
       "    }\n",
       "</style>\n",
       "<table border=\"1\" class=\"dataframe\">\n",
       "  <thead>\n",
       "    <tr style=\"text-align: right;\">\n",
       "      <th></th>\n",
       "      <th>bossanova</th>\n",
       "      <th>holidays</th>\n",
       "      <th>movies</th>\n",
       "      <th>philippines-opm</th>\n",
       "      <th>post-dubstep</th>\n",
       "      <th>rainy-day</th>\n",
       "      <th>road-trip</th>\n",
       "      <th>summer</th>\n",
       "      <th>work-out</th>\n",
       "    </tr>\n",
       "  </thead>\n",
       "  <tbody>\n",
       "    <tr>\n",
       "      <th>0</th>\n",
       "      <td>2gHQYQuoGGjpa6I1Km5kSh</td>\n",
       "      <td>6pVW5LRWgeLaHudxauOTJU</td>\n",
       "      <td>60nZcImufyMA1MKQY3dcCH</td>\n",
       "      <td>3h8uWt8HNyDNubPSEBgTPG</td>\n",
       "      <td>79pWgbXGSFEFOx2TGufW1b</td>\n",
       "      <td>7BSMSvK0WxrDeI98bswYa8</td>\n",
       "      <td>1jDJFeK9x3OZboIAHsY9k2</td>\n",
       "      <td>5YbPxJwPfrj7uswNwoF1pJ</td>\n",
       "      <td>57BGVV6wcyhbn3hsjlqEZB</td>\n",
       "    </tr>\n",
       "    <tr>\n",
       "      <th>1</th>\n",
       "      <td>5TUmfePkCdoSYSavOykhau</td>\n",
       "      <td>4SEam9rj61jkW7POxrdDHo</td>\n",
       "      <td>00QyLmjxaSEE8qIZQjBXBj</td>\n",
       "      <td>4Qs3DkTFVG1QiOwd0BUa9o</td>\n",
       "      <td>4AEAAygqwCYcksy5hwdZw7</td>\n",
       "      <td>4FxBG9VPpxPXMDgqLgW5ZD</td>\n",
       "      <td>6gXrEUzibufX9xYPk3HD5p</td>\n",
       "      <td>3GZD6HmiNUhxXYf8Gch723</td>\n",
       "      <td>5eTaQYBE1yrActixMAeLcZ</td>\n",
       "    </tr>\n",
       "    <tr>\n",
       "      <th>2</th>\n",
       "      <td>1cCKsJZbWUZbAkdrn2qviQ</td>\n",
       "      <td>0bYg9bo50gSsH3LtXe2SQn</td>\n",
       "      <td>0qcr5FMsEO85NAQjrlDRKo</td>\n",
       "      <td>6bMSUhAmaAGTb5RTTuzWE3</td>\n",
       "      <td>33IaAQxnG3sCAlxzWZdx7c</td>\n",
       "      <td>6Vejmu5dz6MMOnn2pIko9q</td>\n",
       "      <td>7b4yGtR0rujvLi5EBfKKJ2</td>\n",
       "      <td>1zi7xx7UVEFkmKfv06H8x0</td>\n",
       "      <td>0bNsRYvrZokG8s7rfK3LS4</td>\n",
       "    </tr>\n",
       "    <tr>\n",
       "      <th>3</th>\n",
       "      <td>4O2tMlIxlgRwmNQDElwIq4</td>\n",
       "      <td>1dtIaSlyrLI04sqYa8nLyN</td>\n",
       "      <td>1n8NKQRg8LVHy7oUhUgbFF</td>\n",
       "      <td>4he4CYDhvSPTxQc0e0Le1L</td>\n",
       "      <td>1hmwBh0zftM6KNB2XWlTCt</td>\n",
       "      <td>6If4a7ytTXliui3vJVi9px</td>\n",
       "      <td>18AXbzPzBS8Y3AkgSxzJPb</td>\n",
       "      <td>3KkXRkHbMCARz0aVfEt68P</td>\n",
       "      <td>722tgOgdIbNe3BEyLnejw4</td>\n",
       "    </tr>\n",
       "    <tr>\n",
       "      <th>4</th>\n",
       "      <td>7IdImuc0c87w4tOzNDf3Sj</td>\n",
       "      <td>35MqcEIVZ7svbBpRt4N30g</td>\n",
       "      <td>2TZbQZXOuR8osP2AK8yYMN</td>\n",
       "      <td>44jJiCwGdnqqCkgqlvCIdp</td>\n",
       "      <td>5KOTUgeeceKkLIb4zBTe7x</td>\n",
       "      <td>65q0qZbQBdPPYfAcZ7n0e3</td>\n",
       "      <td>1fDsrQ23eTAVFElUMaf38X</td>\n",
       "      <td>5r5cp9IpziiIsR6b93vcnQ</td>\n",
       "      <td>3bidbhpOYeV4knp8AIu8Xn</td>\n",
       "    </tr>\n",
       "  </tbody>\n",
       "</table>\n",
       "</div>"
      ],
      "text/plain": [
       "                bossanova                holidays                  movies  \\\n",
       "0  2gHQYQuoGGjpa6I1Km5kSh  6pVW5LRWgeLaHudxauOTJU  60nZcImufyMA1MKQY3dcCH   \n",
       "1  5TUmfePkCdoSYSavOykhau  4SEam9rj61jkW7POxrdDHo  00QyLmjxaSEE8qIZQjBXBj   \n",
       "2  1cCKsJZbWUZbAkdrn2qviQ  0bYg9bo50gSsH3LtXe2SQn  0qcr5FMsEO85NAQjrlDRKo   \n",
       "3  4O2tMlIxlgRwmNQDElwIq4  1dtIaSlyrLI04sqYa8nLyN  1n8NKQRg8LVHy7oUhUgbFF   \n",
       "4  7IdImuc0c87w4tOzNDf3Sj  35MqcEIVZ7svbBpRt4N30g  2TZbQZXOuR8osP2AK8yYMN   \n",
       "\n",
       "          philippines-opm            post-dubstep               rainy-day  \\\n",
       "0  3h8uWt8HNyDNubPSEBgTPG  79pWgbXGSFEFOx2TGufW1b  7BSMSvK0WxrDeI98bswYa8   \n",
       "1  4Qs3DkTFVG1QiOwd0BUa9o  4AEAAygqwCYcksy5hwdZw7  4FxBG9VPpxPXMDgqLgW5ZD   \n",
       "2  6bMSUhAmaAGTb5RTTuzWE3  33IaAQxnG3sCAlxzWZdx7c  6Vejmu5dz6MMOnn2pIko9q   \n",
       "3  4he4CYDhvSPTxQc0e0Le1L  1hmwBh0zftM6KNB2XWlTCt  6If4a7ytTXliui3vJVi9px   \n",
       "4  44jJiCwGdnqqCkgqlvCIdp  5KOTUgeeceKkLIb4zBTe7x  65q0qZbQBdPPYfAcZ7n0e3   \n",
       "\n",
       "                road-trip                  summer                work-out  \n",
       "0  1jDJFeK9x3OZboIAHsY9k2  5YbPxJwPfrj7uswNwoF1pJ  57BGVV6wcyhbn3hsjlqEZB  \n",
       "1  6gXrEUzibufX9xYPk3HD5p  3GZD6HmiNUhxXYf8Gch723  5eTaQYBE1yrActixMAeLcZ  \n",
       "2  7b4yGtR0rujvLi5EBfKKJ2  1zi7xx7UVEFkmKfv06H8x0  0bNsRYvrZokG8s7rfK3LS4  \n",
       "3  18AXbzPzBS8Y3AkgSxzJPb  3KkXRkHbMCARz0aVfEt68P  722tgOgdIbNe3BEyLnejw4  \n",
       "4  1fDsrQ23eTAVFElUMaf38X  5r5cp9IpziiIsR6b93vcnQ  3bidbhpOYeV4knp8AIu8Xn  "
      ]
     },
     "execution_count": 21,
     "metadata": {},
     "output_type": "execute_result"
    }
   ],
   "source": [
    "#checking the new track seeds\n",
    "track_seeds_new.head()"
   ]
  },
  {
   "cell_type": "markdown",
   "id": "2ca449e0",
   "metadata": {},
   "source": [
    "### Concatenating All Track Seeds to Single DataFrame"
   ]
  },
  {
   "cell_type": "markdown",
   "id": "9caa92ee",
   "metadata": {},
   "source": [
    "The last step of preparation for the data pull is to concatenate all the track seeds into a single dataframe so that when pulling the data iterating through all the seeds is simpler and more straight-forward."
   ]
  },
  {
   "cell_type": "code",
   "execution_count": 22,
   "id": "5baade82",
   "metadata": {},
   "outputs": [],
   "source": [
    "#selecting the track seeds for the initial 114 genres using the defined function\n",
    "track_seeds_1 = pd.DataFrame(get_track_seeds(df_kaggle))"
   ]
  },
  {
   "cell_type": "code",
   "execution_count": 24,
   "id": "8b196412",
   "metadata": {},
   "outputs": [
    {
     "data": {
      "text/html": [
       "<div>\n",
       "<style scoped>\n",
       "    .dataframe tbody tr th:only-of-type {\n",
       "        vertical-align: middle;\n",
       "    }\n",
       "\n",
       "    .dataframe tbody tr th {\n",
       "        vertical-align: top;\n",
       "    }\n",
       "\n",
       "    .dataframe thead th {\n",
       "        text-align: right;\n",
       "    }\n",
       "</style>\n",
       "<table border=\"1\" class=\"dataframe\">\n",
       "  <thead>\n",
       "    <tr style=\"text-align: right;\">\n",
       "      <th></th>\n",
       "      <th>acoustic</th>\n",
       "      <th>afrobeat</th>\n",
       "      <th>alt-rock</th>\n",
       "      <th>alternative</th>\n",
       "      <th>ambient</th>\n",
       "      <th>anime</th>\n",
       "      <th>black-metal</th>\n",
       "      <th>bluegrass</th>\n",
       "      <th>blues</th>\n",
       "      <th>brazil</th>\n",
       "      <th>...</th>\n",
       "      <th>spanish</th>\n",
       "      <th>study</th>\n",
       "      <th>swedish</th>\n",
       "      <th>synth-pop</th>\n",
       "      <th>tango</th>\n",
       "      <th>techno</th>\n",
       "      <th>trance</th>\n",
       "      <th>trip-hop</th>\n",
       "      <th>turkish</th>\n",
       "      <th>world-music</th>\n",
       "    </tr>\n",
       "  </thead>\n",
       "  <tbody>\n",
       "    <tr>\n",
       "      <th>0</th>\n",
       "      <td>5vjLSffimiIP26QG5WcN2K</td>\n",
       "      <td>1RIhd7jjWDQwSKsbxxGArN</td>\n",
       "      <td>3ZOEytgrvLwQaqXreDs2Jx</td>\n",
       "      <td>31AOj9sFz2gM0O3hMARRBx</td>\n",
       "      <td>0yc6Gst2xkRu0eMLeRMGCX</td>\n",
       "      <td>3khEEPRyBeOUabbmOPJzAG</td>\n",
       "      <td>7xNQMlboWKQvUzI1FxG6Cs</td>\n",
       "      <td>11TmWrHkxwtVcCtEdAXjJA</td>\n",
       "      <td>3dPQuX8Gs42Y7b454ybpMR</td>\n",
       "      <td>6GomT970rCOkKAyyrwJeZi</td>\n",
       "      <td>...</td>\n",
       "      <td>4OwhwvKESFtuu06dTgct7i</td>\n",
       "      <td>55ZUuMlOTxhJiLs3LkIqZH</td>\n",
       "      <td>3vkQ5DAB1qQMYO4Mr9zJN6</td>\n",
       "      <td>1TfqLAPs4K3s2rJMoCokcS</td>\n",
       "      <td>1jSiCrX3a7ie9Okck6lL1R</td>\n",
       "      <td>2vXKRlJBXyOcvZYTdNeckS</td>\n",
       "      <td>0bI7K9Becu2dtXK1Q3cZNB</td>\n",
       "      <td>6T10XPeC9X5xEaD6tMcK6M</td>\n",
       "      <td>46xC5pDq9vxl4JcHkb1QkX</td>\n",
       "      <td>1O6OPFAXdTdjHtT7Z2Hlt8</td>\n",
       "    </tr>\n",
       "    <tr>\n",
       "      <th>1</th>\n",
       "      <td>0IktbUcnAGrvD03AWnz3Q8</td>\n",
       "      <td>2Y3x5VcEAxLNmVHxQOE0jB</td>\n",
       "      <td>51c94ac31swyDQj9B3Lzs3</td>\n",
       "      <td>5anCkDvJ17aznvK5TED5uo</td>\n",
       "      <td>1A8qD0Ygjzsby5OmXh1PTa</td>\n",
       "      <td>7CSTVNXkW2AbmNktlP1hi2</td>\n",
       "      <td>50dpeks48j0zMECIKVAGUG</td>\n",
       "      <td>2oeEe3EdRBaUPRHmIbgQLU</td>\n",
       "      <td>3MJov5mT64K42o1Rffhblq</td>\n",
       "      <td>5GCz9BOkt17aI6ZOR3EiUl</td>\n",
       "      <td>...</td>\n",
       "      <td>42VgiRyg0YjtRVLiPFNxPJ</td>\n",
       "      <td>6iEEf0a4KOHbOsbJ4TslLY</td>\n",
       "      <td>71BJVUm9wse1WBFEGHIFsI</td>\n",
       "      <td>4sscDOZCkbLSlDqcCgUJnX</td>\n",
       "      <td>1jSiCrX3a7ie9Okck6lL1R</td>\n",
       "      <td>74PyndGWYtfs86n60lAsYW</td>\n",
       "      <td>5l4DU5tgUtLqFSxir6y0dp</td>\n",
       "      <td>7uv632EkfwYhXoqf8rhYrg</td>\n",
       "      <td>6g6MHm9u0h2Em9Xuk89eqR</td>\n",
       "      <td>524KQvc46Y1X6HRomMKoBJ</td>\n",
       "    </tr>\n",
       "    <tr>\n",
       "      <th>2</th>\n",
       "      <td>5fTJGZ6k0zokfh5KLfe0sm</td>\n",
       "      <td>6K8y9WcUbgv0j7RGceHvym</td>\n",
       "      <td>7rVJVRNCAJkoQ2ta6E9fY2</td>\n",
       "      <td>6A6PDawvZIfnJHW40sBHzz</td>\n",
       "      <td>2ozeCscFSmHW7FKLSTJlA4</td>\n",
       "      <td>3xGTUo0WtGSwCSxLIhCn0r</td>\n",
       "      <td>2956v4MaiU78SkPpeTXxhq</td>\n",
       "      <td>3d8oIEIdoU2ZWVmiGvdGCE</td>\n",
       "      <td>3giA44zxPL9lXeYhzdcMpX</td>\n",
       "      <td>7gsWcwi6Y1hj2WSNxnm12K</td>\n",
       "      <td>...</td>\n",
       "      <td>21kzkYl2j4Sq89FCj9HrqF</td>\n",
       "      <td>2WIkgLazRptoY6fxVmhoGA</td>\n",
       "      <td>3UmmyFRWJq42Hrj3N0uwaS</td>\n",
       "      <td>3jl1I9gvCXo5V9hu4hYGLY</td>\n",
       "      <td>3mGkPsZbHEBf8ZT1ExZnww</td>\n",
       "      <td>49tMnLt1iXNT6QBOsepFyg</td>\n",
       "      <td>3GYH6TqF2fIihKps1Sedxc</td>\n",
       "      <td>2Yz2Z1ENB85nYrK3Rg2qxO</td>\n",
       "      <td>4DA5sNDdnpku4K6URoi0Ku</td>\n",
       "      <td>1qxDqbzmWODOkr0Ja5Iotz</td>\n",
       "    </tr>\n",
       "    <tr>\n",
       "      <th>3</th>\n",
       "      <td>2zfmrdj03N55KX9epHrTg7</td>\n",
       "      <td>43368zd7iBhYvS721LOYDE</td>\n",
       "      <td>3eHYnUFpEZjnTQag1EVxHC</td>\n",
       "      <td>7aQvOqPkqGbug8TnMz3jxo</td>\n",
       "      <td>7lAruwEkie4qgyt0LNvUtL</td>\n",
       "      <td>6weLJLjwiXBRgMj4XtnSsf</td>\n",
       "      <td>3pJIlfJpdSYDSjjs5tVWSZ</td>\n",
       "      <td>7fJcX4n3jrr2Nd2oB6VnUd</td>\n",
       "      <td>110pEfj2ij3wmN7Cs9RG7D</td>\n",
       "      <td>6IzjGEM0s8Q3avi1DHc5Fc</td>\n",
       "      <td>...</td>\n",
       "      <td>3mN7adOOcExo8nb7Li8Tmc</td>\n",
       "      <td>0JCerv0mCCyf5IBIny6sYh</td>\n",
       "      <td>0Pft93lucdP9MiiWYQBSfw</td>\n",
       "      <td>6sXtdCMxgpmRVctBlYgWLu</td>\n",
       "      <td>3XtIOnKLnyfHeklaBKwIlp</td>\n",
       "      <td>5Kxk0Jj1oMhMNw3xzt6wr1</td>\n",
       "      <td>7E25uFkj24ZY9V4YI5o1qK</td>\n",
       "      <td>5bUeN1bZKkmP4SJb0aft8B</td>\n",
       "      <td>0NoGNBOL1IxYIWWcZBad6q</td>\n",
       "      <td>0jwJrWjeJLF9KmvVh5cYDc</td>\n",
       "    </tr>\n",
       "    <tr>\n",
       "      <th>4</th>\n",
       "      <td>2kMrCPZ0o5gErBPLCRgoli</td>\n",
       "      <td>7HuER5q1a5dJ0uKrfGrMCj</td>\n",
       "      <td>42Jkqzhm5Y7ab7f1d22GTq</td>\n",
       "      <td>4U1WGnRxI57j3Ebi9A3HtD</td>\n",
       "      <td>4ztaiZfY9lPy1ItQ3DoRiT</td>\n",
       "      <td>5IhAZmgprQOF7yeEe0faOE</td>\n",
       "      <td>79u7sIEIYPZ549jpH9FggZ</td>\n",
       "      <td>0tyhL8tIivPgkpBeUdY9jP</td>\n",
       "      <td>5g9aRY6CDZx8KOwahk0DjC</td>\n",
       "      <td>5dva7BVCxokQMBpa6c3iBi</td>\n",
       "      <td>...</td>\n",
       "      <td>2UFAjlh6NmjWX9IyMTMcxD</td>\n",
       "      <td>5TQuz8e5Jzjo4MR2y6pBtz</td>\n",
       "      <td>61kw5WDLBTr1m2Fe5xjB01</td>\n",
       "      <td>700D6C7VLoFuEuv1oDbd7A</td>\n",
       "      <td>7qdx4UFe97R1fsiHIUmaVv</td>\n",
       "      <td>6UpWvIIiycdBPMSjGJHNEg</td>\n",
       "      <td>6G6aJKF6u2NiA3hiY08yAQ</td>\n",
       "      <td>041Xf2o8yDouqWCDKqkGuC</td>\n",
       "      <td>5ol1YlrXJABoBwbZ4tNfQt</td>\n",
       "      <td>7GwYyLNFyAsSsmt2aa0z6u</td>\n",
       "    </tr>\n",
       "  </tbody>\n",
       "</table>\n",
       "<p>5 rows × 114 columns</p>\n",
       "</div>"
      ],
      "text/plain": [
       "                 acoustic                afrobeat                alt-rock  \\\n",
       "0  5vjLSffimiIP26QG5WcN2K  1RIhd7jjWDQwSKsbxxGArN  3ZOEytgrvLwQaqXreDs2Jx   \n",
       "1  0IktbUcnAGrvD03AWnz3Q8  2Y3x5VcEAxLNmVHxQOE0jB  51c94ac31swyDQj9B3Lzs3   \n",
       "2  5fTJGZ6k0zokfh5KLfe0sm  6K8y9WcUbgv0j7RGceHvym  7rVJVRNCAJkoQ2ta6E9fY2   \n",
       "3  2zfmrdj03N55KX9epHrTg7  43368zd7iBhYvS721LOYDE  3eHYnUFpEZjnTQag1EVxHC   \n",
       "4  2kMrCPZ0o5gErBPLCRgoli  7HuER5q1a5dJ0uKrfGrMCj  42Jkqzhm5Y7ab7f1d22GTq   \n",
       "\n",
       "              alternative                 ambient                   anime  \\\n",
       "0  31AOj9sFz2gM0O3hMARRBx  0yc6Gst2xkRu0eMLeRMGCX  3khEEPRyBeOUabbmOPJzAG   \n",
       "1  5anCkDvJ17aznvK5TED5uo  1A8qD0Ygjzsby5OmXh1PTa  7CSTVNXkW2AbmNktlP1hi2   \n",
       "2  6A6PDawvZIfnJHW40sBHzz  2ozeCscFSmHW7FKLSTJlA4  3xGTUo0WtGSwCSxLIhCn0r   \n",
       "3  7aQvOqPkqGbug8TnMz3jxo  7lAruwEkie4qgyt0LNvUtL  6weLJLjwiXBRgMj4XtnSsf   \n",
       "4  4U1WGnRxI57j3Ebi9A3HtD  4ztaiZfY9lPy1ItQ3DoRiT  5IhAZmgprQOF7yeEe0faOE   \n",
       "\n",
       "              black-metal               bluegrass                   blues  \\\n",
       "0  7xNQMlboWKQvUzI1FxG6Cs  11TmWrHkxwtVcCtEdAXjJA  3dPQuX8Gs42Y7b454ybpMR   \n",
       "1  50dpeks48j0zMECIKVAGUG  2oeEe3EdRBaUPRHmIbgQLU  3MJov5mT64K42o1Rffhblq   \n",
       "2  2956v4MaiU78SkPpeTXxhq  3d8oIEIdoU2ZWVmiGvdGCE  3giA44zxPL9lXeYhzdcMpX   \n",
       "3  3pJIlfJpdSYDSjjs5tVWSZ  7fJcX4n3jrr2Nd2oB6VnUd  110pEfj2ij3wmN7Cs9RG7D   \n",
       "4  79u7sIEIYPZ549jpH9FggZ  0tyhL8tIivPgkpBeUdY9jP  5g9aRY6CDZx8KOwahk0DjC   \n",
       "\n",
       "                   brazil  ...                 spanish  \\\n",
       "0  6GomT970rCOkKAyyrwJeZi  ...  4OwhwvKESFtuu06dTgct7i   \n",
       "1  5GCz9BOkt17aI6ZOR3EiUl  ...  42VgiRyg0YjtRVLiPFNxPJ   \n",
       "2  7gsWcwi6Y1hj2WSNxnm12K  ...  21kzkYl2j4Sq89FCj9HrqF   \n",
       "3  6IzjGEM0s8Q3avi1DHc5Fc  ...  3mN7adOOcExo8nb7Li8Tmc   \n",
       "4  5dva7BVCxokQMBpa6c3iBi  ...  2UFAjlh6NmjWX9IyMTMcxD   \n",
       "\n",
       "                    study                 swedish               synth-pop  \\\n",
       "0  55ZUuMlOTxhJiLs3LkIqZH  3vkQ5DAB1qQMYO4Mr9zJN6  1TfqLAPs4K3s2rJMoCokcS   \n",
       "1  6iEEf0a4KOHbOsbJ4TslLY  71BJVUm9wse1WBFEGHIFsI  4sscDOZCkbLSlDqcCgUJnX   \n",
       "2  2WIkgLazRptoY6fxVmhoGA  3UmmyFRWJq42Hrj3N0uwaS  3jl1I9gvCXo5V9hu4hYGLY   \n",
       "3  0JCerv0mCCyf5IBIny6sYh  0Pft93lucdP9MiiWYQBSfw  6sXtdCMxgpmRVctBlYgWLu   \n",
       "4  5TQuz8e5Jzjo4MR2y6pBtz  61kw5WDLBTr1m2Fe5xjB01  700D6C7VLoFuEuv1oDbd7A   \n",
       "\n",
       "                    tango                  techno                  trance  \\\n",
       "0  1jSiCrX3a7ie9Okck6lL1R  2vXKRlJBXyOcvZYTdNeckS  0bI7K9Becu2dtXK1Q3cZNB   \n",
       "1  1jSiCrX3a7ie9Okck6lL1R  74PyndGWYtfs86n60lAsYW  5l4DU5tgUtLqFSxir6y0dp   \n",
       "2  3mGkPsZbHEBf8ZT1ExZnww  49tMnLt1iXNT6QBOsepFyg  3GYH6TqF2fIihKps1Sedxc   \n",
       "3  3XtIOnKLnyfHeklaBKwIlp  5Kxk0Jj1oMhMNw3xzt6wr1  7E25uFkj24ZY9V4YI5o1qK   \n",
       "4  7qdx4UFe97R1fsiHIUmaVv  6UpWvIIiycdBPMSjGJHNEg  6G6aJKF6u2NiA3hiY08yAQ   \n",
       "\n",
       "                 trip-hop                 turkish             world-music  \n",
       "0  6T10XPeC9X5xEaD6tMcK6M  46xC5pDq9vxl4JcHkb1QkX  1O6OPFAXdTdjHtT7Z2Hlt8  \n",
       "1  7uv632EkfwYhXoqf8rhYrg  6g6MHm9u0h2Em9Xuk89eqR  524KQvc46Y1X6HRomMKoBJ  \n",
       "2  2Yz2Z1ENB85nYrK3Rg2qxO  4DA5sNDdnpku4K6URoi0Ku  1qxDqbzmWODOkr0Ja5Iotz  \n",
       "3  5bUeN1bZKkmP4SJb0aft8B  0NoGNBOL1IxYIWWcZBad6q  0jwJrWjeJLF9KmvVh5cYDc  \n",
       "4  041Xf2o8yDouqWCDKqkGuC  5ol1YlrXJABoBwbZ4tNfQt  7GwYyLNFyAsSsmt2aa0z6u  \n",
       "\n",
       "[5 rows x 114 columns]"
      ]
     },
     "execution_count": 24,
     "metadata": {},
     "output_type": "execute_result"
    }
   ],
   "source": [
    "track_seeds_1.head()"
   ]
  },
  {
   "cell_type": "markdown",
   "id": "a9e06e00",
   "metadata": {},
   "source": [
    "Next we need to concatenate that dataframe, with the dataframe of track seeds for the 9 new genres."
   ]
  },
  {
   "cell_type": "code",
   "execution_count": 25,
   "id": "b7ee3d2c",
   "metadata": {},
   "outputs": [],
   "source": [
    "track_seeds = pd.concat([track_seeds_1, track_seeds_new], axis = 1)"
   ]
  },
  {
   "cell_type": "code",
   "execution_count": 26,
   "id": "5073cea4",
   "metadata": {},
   "outputs": [
    {
     "data": {
      "text/plain": [
       "True"
      ]
     },
     "execution_count": 26,
     "metadata": {},
     "output_type": "execute_result"
    }
   ],
   "source": [
    "#checking that all desired gernes are included\n",
    "list(track_seeds.columns) == list(track_seeds_1.columns) + list(track_seeds_new.columns) "
   ]
  },
  {
   "cell_type": "code",
   "execution_count": 27,
   "id": "cde0357a",
   "metadata": {},
   "outputs": [],
   "source": [
    "#saving the final df of track seeds\n",
    "track_seeds.to_csv('Data/final_track_seeds.csv')"
   ]
  },
  {
   "cell_type": "markdown",
   "id": "5734a82b",
   "metadata": {},
   "source": [
    "## Pulling the New Data"
   ]
  },
  {
   "cell_type": "markdown",
   "id": "6cd04426",
   "metadata": {},
   "source": [
    "Since everything is prepared now, we can now pull the new data and format it into a more useful structure."
   ]
  },
  {
   "cell_type": "markdown",
   "id": "9e8f3e59",
   "metadata": {},
   "source": [
    "### The Meta Data"
   ]
  },
  {
   "cell_type": "code",
   "execution_count": 28,
   "id": "bc5ab89e",
   "metadata": {},
   "outputs": [
    {
     "data": {
      "application/vnd.jupyter.widget-view+json": {
       "model_id": "6e60d6890743429ead176ceb657f030f",
       "version_major": 2,
       "version_minor": 0
      },
      "text/plain": [
       "  0%|          | 0/123 [00:00<?, ?it/s]"
      ]
     },
     "metadata": {},
     "output_type": "display_data"
    }
   ],
   "source": [
    "#defining the dictionary that will store the pulled json files\n",
    "pulled_jsons = {}\n",
    "\n",
    "#looping through every desired genre\n",
    "for gen in tqdm(track_seeds.keys()):\n",
    "    \n",
    "    #making a seperate list for each genre to be pulled\n",
    "    pulled_jsons[gen] = []\n",
    "    \n",
    "    #looping through every popularity range (ranges of 10 eg. 10 - 20, 20 - 30, ...)\n",
    "    for x in range(0,100,10):\n",
    "        params = {\n",
    "        \"limit\": 100, # number of recommendations to return (the max limit is 100)\n",
    "        \"seed_tracks\": list(track_seeds[gen]), # list of seed tracks to base recommendations on\n",
    "        \"min_popularity\": 90 - x, # minimum popularity score for recommended tracks\n",
    "        'max_popularity': 100 - x, # maximum popularity score for recommended tracks\n",
    "        \"seed_genre\": [gen] # the genre seeds to make recommendation from \n",
    "        }\n",
    "        \n",
    "        #storing the pulled tracks into their respective genre lists in the disctionary\n",
    "        pulled_jsons[gen].append(get_recommendations(params))"
   ]
  },
  {
   "cell_type": "markdown",
   "id": "211e0d6e",
   "metadata": {},
   "source": [
    "The truth is that it is unlikely to find 100 tracks for each popularity bracket of each genre. Not because those tracks don't exist, but because those tracks might only be recommended by the API with a very different set of parameters. It's actually very likely that a few popularity brackets in every genre will have less than 100 tracks, and that a few brackets might have no tracks. "
   ]
  },
  {
   "cell_type": "code",
   "execution_count": 29,
   "id": "747d82c0",
   "metadata": {},
   "outputs": [
    {
     "data": {
      "text/plain": [
       "0"
      ]
     },
     "execution_count": 29,
     "metadata": {},
     "output_type": "execute_result"
    }
   ],
   "source": [
    "#showing that not every popularity bracket of every genre will contain tracks\n",
    "len(pulled_jsons['acoustic'][0])"
   ]
  },
  {
   "cell_type": "markdown",
   "id": "42a9ea37",
   "metadata": {},
   "source": [
    "As shown in the cell above, there were no acoustic tracks pulled in the highest popularity bracket (90 - 100)."
   ]
  },
  {
   "cell_type": "markdown",
   "id": "75fb08b7",
   "metadata": {},
   "source": [
    "The structure of the pulled_jsons dictionary looks like this:\n",
    "- Genre:\n",
    "    - list of tracks in popularity brackets:\n",
    "        - list of tracks for each popularity bracket\n",
    "            - track object:\n",
    "                - `'album'`: album object\n",
    "                    - `'release_date'`: the release date of the album\n",
    "                    - `'album_name'`: the name of the album\n",
    "                - `'artists'`: artists object\n",
    "                    - `'name'`: a list of strings that identify the artist / artists credited on the track\n",
    "                - `'available_markets'`: list of available markets\n",
    "                - `'disc_number'`: disc number of  where the track exists on the album\n",
    "                - `'duration_ms'`: duration in milliseconds\n",
    "                - `'explicit'`: whether the track has explicit content\n",
    "                - `'external_ids'`: external_ids dictionary\n",
    "                - `'external_urls'`: external_urls dictionary \n",
    "                - `'href'`: the URL of the track on the actual Spotify app\n",
    "                - `'id'`: the track_id\n",
    "                - `'is_local'`: If the track is available locally on a device\n",
    "                - `'name'`: The name of the track\n",
    "                - `'popularity'`: The popularity score of the track\n",
    "                - `'preview_url'`: A URL for a 25 second preview of the track \n",
    "                - `'track_number'`: The track number for its respective album  \n",
    "                - `'type'`: The data type of the object being pulled \n",
    "                - `'uri'`: an internal identifier used by spotify\n",
    "                \n",
    "    "
   ]
  },
  {
   "cell_type": "code",
   "execution_count": 30,
   "id": "e726a7f5",
   "metadata": {},
   "outputs": [
    {
     "data": {
      "text/plain": [
       "dict_keys(['album', 'artists', 'available_markets', 'disc_number', 'duration_ms', 'explicit', 'external_ids', 'external_urls', 'href', 'id', 'is_local', 'name', 'popularity', 'preview_url', 'track_number', 'type', 'uri'])"
      ]
     },
     "execution_count": 30,
     "metadata": {},
     "output_type": "execute_result"
    }
   ],
   "source": [
    "#showing the structure of the track object\n",
    "pulled_jsons['acoustic'][2][3].keys()"
   ]
  },
  {
   "cell_type": "markdown",
   "id": "947e6f5b",
   "metadata": {},
   "source": [
    "We can see that there are some features that we've seen before in the Kaggle dataset, but also a few features that we haven't seen before. There are also some features in the kaggle dataset (the audio features) that aren't in this first data pull. Those audio features will be pulled separately."
   ]
  },
  {
   "cell_type": "markdown",
   "id": "29ab7ffb",
   "metadata": {},
   "source": [
    "### Structuring the Meta Data"
   ]
  },
  {
   "cell_type": "markdown",
   "id": "7e0c976d",
   "metadata": {},
   "source": [
    "Seeing as the tracks' meta data that was pulled isn't in a very useful format, it needs to restructured so that it can be put into a dataframe."
   ]
  },
  {
   "cell_type": "code",
   "execution_count": 31,
   "id": "9cec016d",
   "metadata": {},
   "outputs": [],
   "source": [
    "#instantiating a dictionary to store the specfic data from the pulled_jsons dictionary\n",
    "pulled_tracks_dict = {}\n",
    "\n",
    "#creating an empty list for each of the values that are going to be formatted into the dataframe\n",
    "pulled_tracks_dict['track_id'] = []\n",
    "pulled_tracks_dict['artists'] = []\n",
    "pulled_tracks_dict['album_name'] = []\n",
    "pulled_tracks_dict['track_name'] = []\n",
    "pulled_tracks_dict['popularity'] = []\n",
    "pulled_tracks_dict['duration_ms'] = []\n",
    "pulled_tracks_dict['explicit'] = []\n",
    "pulled_tracks_dict['track_genre'] = []\n",
    "pulled_tracks_dict['release_date'] = []\n",
    "pulled_tracks_dict['preview_url'] = []\n",
    "\n",
    "#creating empty lists for the values that we aren't very interested in \n",
    "pulled_tracks_dict['available_markets'] = []\n",
    "pulled_tracks_dict['disc_number'] = []\n",
    "pulled_tracks_dict['external_ids'] = []\n",
    "pulled_tracks_dict['external_urls'] = []\n",
    "pulled_tracks_dict['href'] = []\n",
    "pulled_tracks_dict['is_local'] = []\n",
    "pulled_tracks_dict['track_number'] = []\n",
    "pulled_tracks_dict['type'] = []\n",
    "pulled_tracks_dict['uri'] = []"
   ]
  },
  {
   "cell_type": "code",
   "execution_count": 32,
   "id": "ded83f24",
   "metadata": {},
   "outputs": [
    {
     "data": {
      "application/vnd.jupyter.widget-view+json": {
       "model_id": "9c68787b3ee348f49ca18b9f892db187",
       "version_major": 2,
       "version_minor": 0
      },
      "text/plain": [
       "  0%|          | 0/123 [00:00<?, ?it/s]"
      ]
     },
     "metadata": {},
     "output_type": "display_data"
    }
   ],
   "source": [
    "#looping over all the json files in the pulled_jsons file and storing them into the pulled_tracks_dict dictionary\n",
    "for gen in tqdm(pulled_jsons.keys()):\n",
    "    for popularity_bracket in pulled_jsons[gen]:\n",
    "        for track in popularity_bracket:\n",
    "            for col in track.keys():\n",
    "                \n",
    "                #getting the album name and release date from the album object\n",
    "                if col == 'album':\n",
    "                    pulled_tracks_dict['album_name'].append(track[col]['name'])\n",
    "                    pulled_tracks_dict['release_date'].append(track[col]['release_date'])\n",
    "                \n",
    "                #getting the track_id \n",
    "                elif col == 'id':\n",
    "                    pulled_tracks_dict['track_id'].append(track[col])\n",
    "                \n",
    "                #getting the artist / artists names\n",
    "                elif col == 'artists':\n",
    "                    temp_s = ''\n",
    "                    # if multiple artists are credited on the track they will be stored as a single comma seperated string\n",
    "                    for c in track[col]:\n",
    "                        temp_s += c['name']\n",
    "                        if len(track[col]) > 1:\n",
    "                            temp_s += ', '\n",
    "                    pulled_tracks_dict['artists'].append(temp_s)\n",
    "                \n",
    "                #getting the track name    \n",
    "                elif col == 'name':\n",
    "                    pulled_tracks_dict['track_name'].append(track[col])\n",
    "                #    \n",
    "                else:\n",
    "                    pulled_tracks_dict[col].append(track[col])\n",
    "            pulled_tracks_dict['track_genre'].append(gen)"
   ]
  },
  {
   "cell_type": "markdown",
   "id": "a0f695b7",
   "metadata": {},
   "source": [
    "Now that all the data is placed into the pulled_tracks_dict dictionary in an organized fashion, we can transform it all into a dataframe and drop the columns we have no interest in."
   ]
  },
  {
   "cell_type": "code",
   "execution_count": 33,
   "id": "59887cde",
   "metadata": {},
   "outputs": [],
   "source": [
    "df_metadata = pd.DataFrame(pulled_tracks_dict).drop(columns=['available_markets','is_local','track_number','uri',\n",
    "                                                             'type', 'external_urls','external_ids', 'disc_number',\n",
    "                                                             'href'])"
   ]
  },
  {
   "cell_type": "code",
   "execution_count": 35,
   "id": "571fc01f",
   "metadata": {},
   "outputs": [
    {
     "data": {
      "text/html": [
       "<div>\n",
       "<style scoped>\n",
       "    .dataframe tbody tr th:only-of-type {\n",
       "        vertical-align: middle;\n",
       "    }\n",
       "\n",
       "    .dataframe tbody tr th {\n",
       "        vertical-align: top;\n",
       "    }\n",
       "\n",
       "    .dataframe thead th {\n",
       "        text-align: right;\n",
       "    }\n",
       "</style>\n",
       "<table border=\"1\" class=\"dataframe\">\n",
       "  <thead>\n",
       "    <tr style=\"text-align: right;\">\n",
       "      <th></th>\n",
       "      <th>track_id</th>\n",
       "      <th>artists</th>\n",
       "      <th>album_name</th>\n",
       "      <th>track_name</th>\n",
       "      <th>popularity</th>\n",
       "      <th>duration_ms</th>\n",
       "      <th>explicit</th>\n",
       "      <th>track_genre</th>\n",
       "      <th>release_date</th>\n",
       "      <th>preview_url</th>\n",
       "    </tr>\n",
       "  </thead>\n",
       "  <tbody>\n",
       "    <tr>\n",
       "      <th>0</th>\n",
       "      <td>5CZ40GBx1sQ9agT82CLQCT</td>\n",
       "      <td>Olivia Rodrigo</td>\n",
       "      <td>SOUR</td>\n",
       "      <td>traitor</td>\n",
       "      <td>85</td>\n",
       "      <td>229226</td>\n",
       "      <td>False</td>\n",
       "      <td>acoustic</td>\n",
       "      <td>2021-05-21</td>\n",
       "      <td>None</td>\n",
       "    </tr>\n",
       "    <tr>\n",
       "      <th>1</th>\n",
       "      <td>03V5hhD1z7CD41Dy4ZVthN</td>\n",
       "      <td>JJ Heller</td>\n",
       "      <td>Even Here</td>\n",
       "      <td>Even Here</td>\n",
       "      <td>35</td>\n",
       "      <td>248253</td>\n",
       "      <td>False</td>\n",
       "      <td>acoustic</td>\n",
       "      <td>2019-10-04</td>\n",
       "      <td>https://p.scdn.co/mp3-preview/19209115f0aa0b92...</td>\n",
       "    </tr>\n",
       "    <tr>\n",
       "      <th>2</th>\n",
       "      <td>20aW5uLdlOuleBQ5RTcSQb</td>\n",
       "      <td>Casey Breves</td>\n",
       "      <td>I'll Sing to You</td>\n",
       "      <td>I'll Sing to You</td>\n",
       "      <td>30</td>\n",
       "      <td>242173</td>\n",
       "      <td>False</td>\n",
       "      <td>acoustic</td>\n",
       "      <td>2017-11-10</td>\n",
       "      <td>https://p.scdn.co/mp3-preview/e7eda7988fbdecfd...</td>\n",
       "    </tr>\n",
       "    <tr>\n",
       "      <th>3</th>\n",
       "      <td>66iAV4LVKYYoxVeYoC8M3s</td>\n",
       "      <td>Hayd</td>\n",
       "      <td>I Fall Apart</td>\n",
       "      <td>I Fall Apart</td>\n",
       "      <td>40</td>\n",
       "      <td>240000</td>\n",
       "      <td>False</td>\n",
       "      <td>acoustic</td>\n",
       "      <td>2019-09-13</td>\n",
       "      <td>https://p.scdn.co/mp3-preview/ad4cba4f08444f52...</td>\n",
       "    </tr>\n",
       "    <tr>\n",
       "      <th>4</th>\n",
       "      <td>0oCAVym9c3xbXmeFHN6nUR</td>\n",
       "      <td>Front Porch Step</td>\n",
       "      <td>Aware</td>\n",
       "      <td>Lullaby</td>\n",
       "      <td>31</td>\n",
       "      <td>168250</td>\n",
       "      <td>False</td>\n",
       "      <td>acoustic</td>\n",
       "      <td>2013-11-12</td>\n",
       "      <td>https://p.scdn.co/mp3-preview/a0b9af0c08a6b332...</td>\n",
       "    </tr>\n",
       "  </tbody>\n",
       "</table>\n",
       "</div>"
      ],
      "text/plain": [
       "                 track_id           artists        album_name  \\\n",
       "0  5CZ40GBx1sQ9agT82CLQCT    Olivia Rodrigo              SOUR   \n",
       "1  03V5hhD1z7CD41Dy4ZVthN         JJ Heller         Even Here   \n",
       "2  20aW5uLdlOuleBQ5RTcSQb      Casey Breves  I'll Sing to You   \n",
       "3  66iAV4LVKYYoxVeYoC8M3s              Hayd      I Fall Apart   \n",
       "4  0oCAVym9c3xbXmeFHN6nUR  Front Porch Step             Aware   \n",
       "\n",
       "         track_name  popularity  duration_ms  explicit track_genre  \\\n",
       "0           traitor          85       229226     False    acoustic   \n",
       "1         Even Here          35       248253     False    acoustic   \n",
       "2  I'll Sing to You          30       242173     False    acoustic   \n",
       "3      I Fall Apart          40       240000     False    acoustic   \n",
       "4           Lullaby          31       168250     False    acoustic   \n",
       "\n",
       "  release_date                                        preview_url  \n",
       "0   2021-05-21                                               None  \n",
       "1   2019-10-04  https://p.scdn.co/mp3-preview/19209115f0aa0b92...  \n",
       "2   2017-11-10  https://p.scdn.co/mp3-preview/e7eda7988fbdecfd...  \n",
       "3   2019-09-13  https://p.scdn.co/mp3-preview/ad4cba4f08444f52...  \n",
       "4   2013-11-12  https://p.scdn.co/mp3-preview/a0b9af0c08a6b332...  "
      ]
     },
     "execution_count": 35,
     "metadata": {},
     "output_type": "execute_result"
    }
   ],
   "source": [
    "#sanity check\n",
    "df_metadata.head()"
   ]
  },
  {
   "cell_type": "markdown",
   "id": "7596ace5",
   "metadata": {},
   "source": [
    "### The Audio Features"
   ]
  },
  {
   "cell_type": "markdown",
   "id": "55a664c7",
   "metadata": {},
   "source": [
    "Now that we've pulled the meta data for the tracks, all thats left is to pull the audio features using the track_ids."
   ]
  },
  {
   "cell_type": "code",
   "execution_count": 36,
   "id": "d7e5e6e5",
   "metadata": {},
   "outputs": [
    {
     "data": {
      "application/vnd.jupyter.widget-view+json": {
       "model_id": "fede2824335b47acb3fea80185663f32",
       "version_major": 2,
       "version_minor": 0
      },
      "text/plain": [
       "  0%|          | 0/1318 [00:00<?, ?it/s]"
      ]
     },
     "metadata": {},
     "output_type": "display_data"
    }
   ],
   "source": [
    "#using the predefined get_audio_features() with track_ids of the pulled meta data\n",
    "pulled_audio_features = get_audio_features(df_metadata['track_id'].tolist())"
   ]
  },
  {
   "cell_type": "code",
   "execution_count": 37,
   "id": "51e6891c",
   "metadata": {},
   "outputs": [
    {
     "data": {
      "text/plain": [
       "True"
      ]
     },
     "execution_count": 37,
     "metadata": {},
     "output_type": "execute_result"
    }
   ],
   "source": [
    "#making sure audio features for each track were pulled\n",
    "len(pulled_audio_features) == df_metadata.shape[0]"
   ]
  },
  {
   "cell_type": "markdown",
   "id": "f0b02020",
   "metadata": {},
   "source": [
    "The pulled_audio_features list contains dictionaries of the audio features for each track. The structure of the dictionaries are:\n",
    "- `'danceability'`\n",
    "- `'energy'`\n",
    "- `'key'`\n",
    "- `'loudness'`\n",
    "- `'mode'`\n",
    "- `'speechiness'`\n",
    "- `'acousticness'`\n",
    "- `'instrumentalness'`\n",
    "- `'liveness'`\n",
    "- `'valence'`\n",
    "- `'tempo'`\n",
    "- `'type'`\n",
    "- `'id'`\n",
    "- `'uri'`\n",
    "- `'track_href'`\n",
    "- `'analysis_url'`\n",
    "- `'duration_ms'`\n",
    "- `'time_signature'`"
   ]
  },
  {
   "cell_type": "code",
   "execution_count": 38,
   "id": "8407672b",
   "metadata": {},
   "outputs": [
    {
     "data": {
      "text/plain": [
       "dict_keys(['danceability', 'energy', 'key', 'loudness', 'mode', 'speechiness', 'acousticness', 'instrumentalness', 'liveness', 'valence', 'tempo', 'type', 'id', 'uri', 'track_href', 'analysis_url', 'duration_ms', 'time_signature'])"
      ]
     },
     "execution_count": 38,
     "metadata": {},
     "output_type": "execute_result"
    }
   ],
   "source": [
    "#showing the types of values available in each audio feature dict\n",
    "pulled_audio_features[0].keys()"
   ]
  },
  {
   "cell_type": "markdown",
   "id": "b3688804",
   "metadata": {},
   "source": [
    "Since the audio features are stored in a more structured way, there is no need to hard code a dictionary full of empty lists for each feature. A simple for loop can set it up for us."
   ]
  },
  {
   "cell_type": "code",
   "execution_count": 39,
   "id": "442d5af6",
   "metadata": {},
   "outputs": [],
   "source": [
    "#creating a dictionary to store all pulled audio features\n",
    "formatted_audio_features = {}\n",
    "for x in pulled_audio_features[0].keys():\n",
    "    formatted_audio_features[x] = []"
   ]
  },
  {
   "cell_type": "markdown",
   "id": "5a11131a",
   "metadata": {},
   "source": [
    "And another simple for loop can put all those values into the dictionary."
   ]
  },
  {
   "cell_type": "code",
   "execution_count": 40,
   "id": "46979704",
   "metadata": {},
   "outputs": [
    {
     "data": {
      "application/vnd.jupyter.widget-view+json": {
       "model_id": "9acddafe314d4749a48fbfac8572e975",
       "version_major": 2,
       "version_minor": 0
      },
      "text/plain": [
       "  0%|          | 0/65871 [00:00<?, ?it/s]"
      ]
     },
     "metadata": {},
     "output_type": "display_data"
    }
   ],
   "source": [
    "#looping through every index in the list of audio feature dictionaries\n",
    "for i in tqdm(range(len(pulled_audio_features))):\n",
    "    \n",
    "    #checks if that item in the list is not None\n",
    "    if pulled_audio_features[i] is not None:\n",
    "        \n",
    "        #looping through all the audio features\n",
    "        for feature in formatted_audio_features.keys():\n",
    "            \n",
    "            #storing None values as np.nan to make processing data simpler later\n",
    "            if pulled_audio_features[i][feature] is None:\n",
    "                formatted_audio_features[feature].append(np.nan)\n",
    "            else:\n",
    "                formatted_audio_features[feature].append(pulled_audio_features[i][feature])"
   ]
  },
  {
   "cell_type": "markdown",
   "id": "3b1b6faf",
   "metadata": {},
   "source": [
    "The for loop thats storing the audio features into an organized dictionary accounts for None values, such that if a None value occurs the length of each list in the dictionary remains the same, and it can still be transformed into a dataframe."
   ]
  },
  {
   "cell_type": "code",
   "execution_count": 41,
   "id": "0706c70d",
   "metadata": {},
   "outputs": [],
   "source": [
    "df_audio_features = pd.DataFrame(formatted_audio_features)"
   ]
  },
  {
   "cell_type": "code",
   "execution_count": 42,
   "id": "bff942e0",
   "metadata": {},
   "outputs": [
    {
     "data": {
      "text/html": [
       "<div>\n",
       "<style scoped>\n",
       "    .dataframe tbody tr th:only-of-type {\n",
       "        vertical-align: middle;\n",
       "    }\n",
       "\n",
       "    .dataframe tbody tr th {\n",
       "        vertical-align: top;\n",
       "    }\n",
       "\n",
       "    .dataframe thead th {\n",
       "        text-align: right;\n",
       "    }\n",
       "</style>\n",
       "<table border=\"1\" class=\"dataframe\">\n",
       "  <thead>\n",
       "    <tr style=\"text-align: right;\">\n",
       "      <th></th>\n",
       "      <th>danceability</th>\n",
       "      <th>energy</th>\n",
       "      <th>key</th>\n",
       "      <th>loudness</th>\n",
       "      <th>mode</th>\n",
       "      <th>speechiness</th>\n",
       "      <th>acousticness</th>\n",
       "      <th>instrumentalness</th>\n",
       "      <th>liveness</th>\n",
       "      <th>valence</th>\n",
       "      <th>tempo</th>\n",
       "      <th>type</th>\n",
       "      <th>id</th>\n",
       "      <th>uri</th>\n",
       "      <th>track_href</th>\n",
       "      <th>analysis_url</th>\n",
       "      <th>duration_ms</th>\n",
       "      <th>time_signature</th>\n",
       "    </tr>\n",
       "  </thead>\n",
       "  <tbody>\n",
       "    <tr>\n",
       "      <th>0</th>\n",
       "      <td>0.380</td>\n",
       "      <td>0.339</td>\n",
       "      <td>3</td>\n",
       "      <td>-7.885</td>\n",
       "      <td>1</td>\n",
       "      <td>0.0338</td>\n",
       "      <td>0.691</td>\n",
       "      <td>0.000000</td>\n",
       "      <td>0.120</td>\n",
       "      <td>0.0849</td>\n",
       "      <td>100.607</td>\n",
       "      <td>audio_features</td>\n",
       "      <td>5CZ40GBx1sQ9agT82CLQCT</td>\n",
       "      <td>spotify:track:5CZ40GBx1sQ9agT82CLQCT</td>\n",
       "      <td>https://api.spotify.com/v1/tracks/5CZ40GBx1sQ9...</td>\n",
       "      <td>https://api.spotify.com/v1/audio-analysis/5CZ4...</td>\n",
       "      <td>229227</td>\n",
       "      <td>4</td>\n",
       "    </tr>\n",
       "    <tr>\n",
       "      <th>1</th>\n",
       "      <td>0.349</td>\n",
       "      <td>0.225</td>\n",
       "      <td>0</td>\n",
       "      <td>-10.705</td>\n",
       "      <td>1</td>\n",
       "      <td>0.0342</td>\n",
       "      <td>0.934</td>\n",
       "      <td>0.000016</td>\n",
       "      <td>0.111</td>\n",
       "      <td>0.2370</td>\n",
       "      <td>169.855</td>\n",
       "      <td>audio_features</td>\n",
       "      <td>03V5hhD1z7CD41Dy4ZVthN</td>\n",
       "      <td>spotify:track:03V5hhD1z7CD41Dy4ZVthN</td>\n",
       "      <td>https://api.spotify.com/v1/tracks/03V5hhD1z7CD...</td>\n",
       "      <td>https://api.spotify.com/v1/audio-analysis/03V5...</td>\n",
       "      <td>248253</td>\n",
       "      <td>4</td>\n",
       "    </tr>\n",
       "    <tr>\n",
       "      <th>2</th>\n",
       "      <td>0.489</td>\n",
       "      <td>0.176</td>\n",
       "      <td>7</td>\n",
       "      <td>-12.485</td>\n",
       "      <td>1</td>\n",
       "      <td>0.0346</td>\n",
       "      <td>0.868</td>\n",
       "      <td>0.000000</td>\n",
       "      <td>0.117</td>\n",
       "      <td>0.3800</td>\n",
       "      <td>137.590</td>\n",
       "      <td>audio_features</td>\n",
       "      <td>20aW5uLdlOuleBQ5RTcSQb</td>\n",
       "      <td>spotify:track:20aW5uLdlOuleBQ5RTcSQb</td>\n",
       "      <td>https://api.spotify.com/v1/tracks/20aW5uLdlOul...</td>\n",
       "      <td>https://api.spotify.com/v1/audio-analysis/20aW...</td>\n",
       "      <td>242174</td>\n",
       "      <td>4</td>\n",
       "    </tr>\n",
       "    <tr>\n",
       "      <th>3</th>\n",
       "      <td>0.634</td>\n",
       "      <td>0.199</td>\n",
       "      <td>10</td>\n",
       "      <td>-16.097</td>\n",
       "      <td>1</td>\n",
       "      <td>0.0403</td>\n",
       "      <td>0.863</td>\n",
       "      <td>0.000086</td>\n",
       "      <td>0.287</td>\n",
       "      <td>0.1690</td>\n",
       "      <td>128.024</td>\n",
       "      <td>audio_features</td>\n",
       "      <td>66iAV4LVKYYoxVeYoC8M3s</td>\n",
       "      <td>spotify:track:66iAV4LVKYYoxVeYoC8M3s</td>\n",
       "      <td>https://api.spotify.com/v1/tracks/66iAV4LVKYYo...</td>\n",
       "      <td>https://api.spotify.com/v1/audio-analysis/66iA...</td>\n",
       "      <td>240000</td>\n",
       "      <td>4</td>\n",
       "    </tr>\n",
       "    <tr>\n",
       "      <th>4</th>\n",
       "      <td>0.542</td>\n",
       "      <td>0.470</td>\n",
       "      <td>2</td>\n",
       "      <td>-4.169</td>\n",
       "      <td>1</td>\n",
       "      <td>0.0289</td>\n",
       "      <td>0.597</td>\n",
       "      <td>0.000000</td>\n",
       "      <td>0.175</td>\n",
       "      <td>0.4810</td>\n",
       "      <td>119.842</td>\n",
       "      <td>audio_features</td>\n",
       "      <td>0oCAVym9c3xbXmeFHN6nUR</td>\n",
       "      <td>spotify:track:0oCAVym9c3xbXmeFHN6nUR</td>\n",
       "      <td>https://api.spotify.com/v1/tracks/0oCAVym9c3xb...</td>\n",
       "      <td>https://api.spotify.com/v1/audio-analysis/0oCA...</td>\n",
       "      <td>168250</td>\n",
       "      <td>4</td>\n",
       "    </tr>\n",
       "  </tbody>\n",
       "</table>\n",
       "</div>"
      ],
      "text/plain": [
       "   danceability  energy  key  loudness  mode  speechiness  acousticness  \\\n",
       "0         0.380   0.339    3    -7.885     1       0.0338         0.691   \n",
       "1         0.349   0.225    0   -10.705     1       0.0342         0.934   \n",
       "2         0.489   0.176    7   -12.485     1       0.0346         0.868   \n",
       "3         0.634   0.199   10   -16.097     1       0.0403         0.863   \n",
       "4         0.542   0.470    2    -4.169     1       0.0289         0.597   \n",
       "\n",
       "   instrumentalness  liveness  valence    tempo            type  \\\n",
       "0          0.000000     0.120   0.0849  100.607  audio_features   \n",
       "1          0.000016     0.111   0.2370  169.855  audio_features   \n",
       "2          0.000000     0.117   0.3800  137.590  audio_features   \n",
       "3          0.000086     0.287   0.1690  128.024  audio_features   \n",
       "4          0.000000     0.175   0.4810  119.842  audio_features   \n",
       "\n",
       "                       id                                   uri  \\\n",
       "0  5CZ40GBx1sQ9agT82CLQCT  spotify:track:5CZ40GBx1sQ9agT82CLQCT   \n",
       "1  03V5hhD1z7CD41Dy4ZVthN  spotify:track:03V5hhD1z7CD41Dy4ZVthN   \n",
       "2  20aW5uLdlOuleBQ5RTcSQb  spotify:track:20aW5uLdlOuleBQ5RTcSQb   \n",
       "3  66iAV4LVKYYoxVeYoC8M3s  spotify:track:66iAV4LVKYYoxVeYoC8M3s   \n",
       "4  0oCAVym9c3xbXmeFHN6nUR  spotify:track:0oCAVym9c3xbXmeFHN6nUR   \n",
       "\n",
       "                                          track_href  \\\n",
       "0  https://api.spotify.com/v1/tracks/5CZ40GBx1sQ9...   \n",
       "1  https://api.spotify.com/v1/tracks/03V5hhD1z7CD...   \n",
       "2  https://api.spotify.com/v1/tracks/20aW5uLdlOul...   \n",
       "3  https://api.spotify.com/v1/tracks/66iAV4LVKYYo...   \n",
       "4  https://api.spotify.com/v1/tracks/0oCAVym9c3xb...   \n",
       "\n",
       "                                        analysis_url  duration_ms  \\\n",
       "0  https://api.spotify.com/v1/audio-analysis/5CZ4...       229227   \n",
       "1  https://api.spotify.com/v1/audio-analysis/03V5...       248253   \n",
       "2  https://api.spotify.com/v1/audio-analysis/20aW...       242174   \n",
       "3  https://api.spotify.com/v1/audio-analysis/66iA...       240000   \n",
       "4  https://api.spotify.com/v1/audio-analysis/0oCA...       168250   \n",
       "\n",
       "   time_signature  \n",
       "0               4  \n",
       "1               4  \n",
       "2               4  \n",
       "3               4  \n",
       "4               4  "
      ]
     },
     "execution_count": 42,
     "metadata": {},
     "output_type": "execute_result"
    }
   ],
   "source": [
    "df_audio_features.head()"
   ]
  },
  {
   "cell_type": "code",
   "execution_count": 43,
   "id": "cf5399c0",
   "metadata": {},
   "outputs": [
    {
     "data": {
      "text/plain": [
       "True"
      ]
     },
     "execution_count": 43,
     "metadata": {},
     "output_type": "execute_result"
    }
   ],
   "source": [
    "#checking that all track_ids are accounted for \n",
    "(df_audio_features['id'] == df_metadata['track_id']).sum() == df_metadata.shape[0]"
   ]
  },
  {
   "cell_type": "markdown",
   "id": "a9d2fdec",
   "metadata": {},
   "source": [
    "Now for a bit of reformatting so that we can merge the two data frames together and finalize the new dataset. This will be renaming the id column to track_id so that the merge can run smoothly, as well as dropping columns of duplicated and undesired data."
   ]
  },
  {
   "cell_type": "code",
   "execution_count": 44,
   "id": "8a76a5d8",
   "metadata": {},
   "outputs": [],
   "source": [
    "#storing track ids in a track_id column \n",
    "df_audio_features['track_id'] = df_audio_features['id']"
   ]
  },
  {
   "cell_type": "code",
   "execution_count": 45,
   "id": "8e5f8fce",
   "metadata": {},
   "outputs": [],
   "source": [
    "#dropping undesired and duplicate columns\n",
    "df_audio_features.drop(columns=['id', 'type', 'uri', 'track_href', 'analysis_url', 'duration_ms'], inplace=True)"
   ]
  },
  {
   "cell_type": "code",
   "execution_count": 46,
   "id": "81a404b2",
   "metadata": {},
   "outputs": [
    {
     "data": {
      "text/plain": [
       "True"
      ]
     },
     "execution_count": 46,
     "metadata": {},
     "output_type": "execute_result"
    }
   ],
   "source": [
    "#final sanity check\n",
    "df_audio_features.shape[0] == df_metadata.shape[0]"
   ]
  },
  {
   "cell_type": "markdown",
   "id": "2e54150c",
   "metadata": {},
   "source": [
    "Now to merge the two datasets on the track_id column."
   ]
  },
  {
   "cell_type": "code",
   "execution_count": 47,
   "id": "78bbf959",
   "metadata": {},
   "outputs": [],
   "source": [
    "df_final = pd.merge(df_metadata, df_audio_features, on='track_id', how='left')"
   ]
  },
  {
   "cell_type": "code",
   "execution_count": 48,
   "id": "5e5f391a",
   "metadata": {},
   "outputs": [
    {
     "data": {
      "text/html": [
       "<div>\n",
       "<style scoped>\n",
       "    .dataframe tbody tr th:only-of-type {\n",
       "        vertical-align: middle;\n",
       "    }\n",
       "\n",
       "    .dataframe tbody tr th {\n",
       "        vertical-align: top;\n",
       "    }\n",
       "\n",
       "    .dataframe thead th {\n",
       "        text-align: right;\n",
       "    }\n",
       "</style>\n",
       "<table border=\"1\" class=\"dataframe\">\n",
       "  <thead>\n",
       "    <tr style=\"text-align: right;\">\n",
       "      <th></th>\n",
       "      <th>track_id</th>\n",
       "      <th>artists</th>\n",
       "      <th>album_name</th>\n",
       "      <th>track_name</th>\n",
       "      <th>popularity</th>\n",
       "      <th>duration_ms</th>\n",
       "      <th>explicit</th>\n",
       "      <th>track_genre</th>\n",
       "      <th>release_date</th>\n",
       "      <th>preview_url</th>\n",
       "      <th>...</th>\n",
       "      <th>key</th>\n",
       "      <th>loudness</th>\n",
       "      <th>mode</th>\n",
       "      <th>speechiness</th>\n",
       "      <th>acousticness</th>\n",
       "      <th>instrumentalness</th>\n",
       "      <th>liveness</th>\n",
       "      <th>valence</th>\n",
       "      <th>tempo</th>\n",
       "      <th>time_signature</th>\n",
       "    </tr>\n",
       "  </thead>\n",
       "  <tbody>\n",
       "    <tr>\n",
       "      <th>0</th>\n",
       "      <td>5CZ40GBx1sQ9agT82CLQCT</td>\n",
       "      <td>Olivia Rodrigo</td>\n",
       "      <td>SOUR</td>\n",
       "      <td>traitor</td>\n",
       "      <td>85</td>\n",
       "      <td>229226</td>\n",
       "      <td>False</td>\n",
       "      <td>acoustic</td>\n",
       "      <td>2021-05-21</td>\n",
       "      <td>None</td>\n",
       "      <td>...</td>\n",
       "      <td>3</td>\n",
       "      <td>-7.885</td>\n",
       "      <td>1</td>\n",
       "      <td>0.0338</td>\n",
       "      <td>0.691</td>\n",
       "      <td>0.000000</td>\n",
       "      <td>0.120</td>\n",
       "      <td>0.0849</td>\n",
       "      <td>100.607</td>\n",
       "      <td>4</td>\n",
       "    </tr>\n",
       "    <tr>\n",
       "      <th>1</th>\n",
       "      <td>03V5hhD1z7CD41Dy4ZVthN</td>\n",
       "      <td>JJ Heller</td>\n",
       "      <td>Even Here</td>\n",
       "      <td>Even Here</td>\n",
       "      <td>35</td>\n",
       "      <td>248253</td>\n",
       "      <td>False</td>\n",
       "      <td>acoustic</td>\n",
       "      <td>2019-10-04</td>\n",
       "      <td>https://p.scdn.co/mp3-preview/19209115f0aa0b92...</td>\n",
       "      <td>...</td>\n",
       "      <td>0</td>\n",
       "      <td>-10.705</td>\n",
       "      <td>1</td>\n",
       "      <td>0.0342</td>\n",
       "      <td>0.934</td>\n",
       "      <td>0.000016</td>\n",
       "      <td>0.111</td>\n",
       "      <td>0.2370</td>\n",
       "      <td>169.855</td>\n",
       "      <td>4</td>\n",
       "    </tr>\n",
       "    <tr>\n",
       "      <th>2</th>\n",
       "      <td>20aW5uLdlOuleBQ5RTcSQb</td>\n",
       "      <td>Casey Breves</td>\n",
       "      <td>I'll Sing to You</td>\n",
       "      <td>I'll Sing to You</td>\n",
       "      <td>30</td>\n",
       "      <td>242173</td>\n",
       "      <td>False</td>\n",
       "      <td>acoustic</td>\n",
       "      <td>2017-11-10</td>\n",
       "      <td>https://p.scdn.co/mp3-preview/e7eda7988fbdecfd...</td>\n",
       "      <td>...</td>\n",
       "      <td>7</td>\n",
       "      <td>-12.485</td>\n",
       "      <td>1</td>\n",
       "      <td>0.0346</td>\n",
       "      <td>0.868</td>\n",
       "      <td>0.000000</td>\n",
       "      <td>0.117</td>\n",
       "      <td>0.3800</td>\n",
       "      <td>137.590</td>\n",
       "      <td>4</td>\n",
       "    </tr>\n",
       "    <tr>\n",
       "      <th>3</th>\n",
       "      <td>66iAV4LVKYYoxVeYoC8M3s</td>\n",
       "      <td>Hayd</td>\n",
       "      <td>I Fall Apart</td>\n",
       "      <td>I Fall Apart</td>\n",
       "      <td>40</td>\n",
       "      <td>240000</td>\n",
       "      <td>False</td>\n",
       "      <td>acoustic</td>\n",
       "      <td>2019-09-13</td>\n",
       "      <td>https://p.scdn.co/mp3-preview/ad4cba4f08444f52...</td>\n",
       "      <td>...</td>\n",
       "      <td>10</td>\n",
       "      <td>-16.097</td>\n",
       "      <td>1</td>\n",
       "      <td>0.0403</td>\n",
       "      <td>0.863</td>\n",
       "      <td>0.000086</td>\n",
       "      <td>0.287</td>\n",
       "      <td>0.1690</td>\n",
       "      <td>128.024</td>\n",
       "      <td>4</td>\n",
       "    </tr>\n",
       "    <tr>\n",
       "      <th>4</th>\n",
       "      <td>0oCAVym9c3xbXmeFHN6nUR</td>\n",
       "      <td>Front Porch Step</td>\n",
       "      <td>Aware</td>\n",
       "      <td>Lullaby</td>\n",
       "      <td>31</td>\n",
       "      <td>168250</td>\n",
       "      <td>False</td>\n",
       "      <td>acoustic</td>\n",
       "      <td>2013-11-12</td>\n",
       "      <td>https://p.scdn.co/mp3-preview/a0b9af0c08a6b332...</td>\n",
       "      <td>...</td>\n",
       "      <td>2</td>\n",
       "      <td>-4.169</td>\n",
       "      <td>1</td>\n",
       "      <td>0.0289</td>\n",
       "      <td>0.597</td>\n",
       "      <td>0.000000</td>\n",
       "      <td>0.175</td>\n",
       "      <td>0.4810</td>\n",
       "      <td>119.842</td>\n",
       "      <td>4</td>\n",
       "    </tr>\n",
       "  </tbody>\n",
       "</table>\n",
       "<p>5 rows × 22 columns</p>\n",
       "</div>"
      ],
      "text/plain": [
       "                 track_id           artists        album_name  \\\n",
       "0  5CZ40GBx1sQ9agT82CLQCT    Olivia Rodrigo              SOUR   \n",
       "1  03V5hhD1z7CD41Dy4ZVthN         JJ Heller         Even Here   \n",
       "2  20aW5uLdlOuleBQ5RTcSQb      Casey Breves  I'll Sing to You   \n",
       "3  66iAV4LVKYYoxVeYoC8M3s              Hayd      I Fall Apart   \n",
       "4  0oCAVym9c3xbXmeFHN6nUR  Front Porch Step             Aware   \n",
       "\n",
       "         track_name  popularity  duration_ms  explicit track_genre  \\\n",
       "0           traitor          85       229226     False    acoustic   \n",
       "1         Even Here          35       248253     False    acoustic   \n",
       "2  I'll Sing to You          30       242173     False    acoustic   \n",
       "3      I Fall Apart          40       240000     False    acoustic   \n",
       "4           Lullaby          31       168250     False    acoustic   \n",
       "\n",
       "  release_date                                        preview_url  ...  key  \\\n",
       "0   2021-05-21                                               None  ...    3   \n",
       "1   2019-10-04  https://p.scdn.co/mp3-preview/19209115f0aa0b92...  ...    0   \n",
       "2   2017-11-10  https://p.scdn.co/mp3-preview/e7eda7988fbdecfd...  ...    7   \n",
       "3   2019-09-13  https://p.scdn.co/mp3-preview/ad4cba4f08444f52...  ...   10   \n",
       "4   2013-11-12  https://p.scdn.co/mp3-preview/a0b9af0c08a6b332...  ...    2   \n",
       "\n",
       "   loudness  mode  speechiness  acousticness  instrumentalness  liveness  \\\n",
       "0    -7.885     1       0.0338         0.691          0.000000     0.120   \n",
       "1   -10.705     1       0.0342         0.934          0.000016     0.111   \n",
       "2   -12.485     1       0.0346         0.868          0.000000     0.117   \n",
       "3   -16.097     1       0.0403         0.863          0.000086     0.287   \n",
       "4    -4.169     1       0.0289         0.597          0.000000     0.175   \n",
       "\n",
       "   valence    tempo  time_signature  \n",
       "0   0.0849  100.607               4  \n",
       "1   0.2370  169.855               4  \n",
       "2   0.3800  137.590               4  \n",
       "3   0.1690  128.024               4  \n",
       "4   0.4810  119.842               4  \n",
       "\n",
       "[5 rows x 22 columns]"
      ]
     },
     "execution_count": 48,
     "metadata": {},
     "output_type": "execute_result"
    }
   ],
   "source": [
    "df_final.head()"
   ]
  },
  {
   "cell_type": "code",
   "execution_count": 49,
   "id": "a7be6ed7",
   "metadata": {},
   "outputs": [
    {
     "name": "stdout",
     "output_type": "stream",
     "text": [
      "<class 'pandas.core.frame.DataFrame'>\n",
      "Int64Index: 65871 entries, 0 to 65870\n",
      "Data columns (total 22 columns):\n",
      " #   Column            Non-Null Count  Dtype  \n",
      "---  ------            --------------  -----  \n",
      " 0   track_id          65871 non-null  object \n",
      " 1   artists           65871 non-null  object \n",
      " 2   album_name        65871 non-null  object \n",
      " 3   track_name        65871 non-null  object \n",
      " 4   popularity        65871 non-null  int64  \n",
      " 5   duration_ms       65871 non-null  int64  \n",
      " 6   explicit          65871 non-null  bool   \n",
      " 7   track_genre       65871 non-null  object \n",
      " 8   release_date      65871 non-null  object \n",
      " 9   preview_url       51938 non-null  object \n",
      " 10  danceability      65871 non-null  float64\n",
      " 11  energy            65871 non-null  float64\n",
      " 12  key               65871 non-null  int64  \n",
      " 13  loudness          65871 non-null  float64\n",
      " 14  mode              65871 non-null  int64  \n",
      " 15  speechiness       65871 non-null  float64\n",
      " 16  acousticness      65871 non-null  float64\n",
      " 17  instrumentalness  65871 non-null  float64\n",
      " 18  liveness          65871 non-null  float64\n",
      " 19  valence           65871 non-null  float64\n",
      " 20  tempo             65871 non-null  float64\n",
      " 21  time_signature    65871 non-null  int64  \n",
      "dtypes: bool(1), float64(9), int64(5), object(7)\n",
      "memory usage: 11.1+ MB\n"
     ]
    }
   ],
   "source": [
    "#Final check\n",
    "df_final.info()"
   ]
  },
  {
   "cell_type": "code",
   "execution_count": 50,
   "id": "ee0a2933",
   "metadata": {},
   "outputs": [],
   "source": [
    "#saving the dataset to a .csv file in the data folder\n",
    "df_final.to_csv('Data/pulled_dataset.csv')"
   ]
  },
  {
   "cell_type": "code",
   "execution_count": 51,
   "id": "b5d4defe",
   "metadata": {},
   "outputs": [],
   "source": [
    "#for some reason when using pd.to_csv() certain object values become NaN (album_names, track_names, etc..)\n",
    "#for the sake of perserving the data completly the final dataset will also be stored in pickle format\n",
    "with open('Data/pulled_dataset.pkl', \"wb\") as f:\n",
    "    pickle.dump(df_final, f)"
   ]
  },
  {
   "cell_type": "markdown",
   "id": "f7cd8623",
   "metadata": {},
   "source": [
    "## Conclusion to this Notebook"
   ]
  },
  {
   "cell_type": "markdown",
   "id": "0ff02378",
   "metadata": {},
   "source": [
    "We now have a finalized dataset with no NaN values in any field other than preview_url. This is acceptable as that feature will not be used for any modeling or analysis, and will only serve as a supplementary addition to the final presentation of this project.\n",
    "\n",
    "Otherwise, the data sets consists of 65,871 Tracks with 22 features. This is less than half the size of the kaggle dataset, however, there is a new feature that should prove useful (release_date), a supplementary feature that will aid the presentation of this project (preview_url), 9 new genres, and most importantly a far more balanced target value. The final dataset is stored in the Data folder as both a .csv file (pulled_dataset.csv) and as a pickle file (pulled_dataset.pkl).\n",
    "\n",
    "In the next notebook we will further explore the pulled dataset, preforming some EDA and preprocessing."
   ]
  }
 ],
 "metadata": {
  "kernelspec": {
   "display_name": "spoti",
   "language": "python",
   "name": "spoti"
  },
  "language_info": {
   "codemirror_mode": {
    "name": "ipython",
    "version": 3
   },
   "file_extension": ".py",
   "mimetype": "text/x-python",
   "name": "python",
   "nbconvert_exporter": "python",
   "pygments_lexer": "ipython3",
   "version": "3.9.13"
  },
  "toc": {
   "base_numbering": 1,
   "nav_menu": {},
   "number_sections": false,
   "sideBar": true,
   "skip_h1_title": false,
   "title_cell": "Table of Contents",
   "title_sidebar": "Contents",
   "toc_cell": false,
   "toc_position": {},
   "toc_section_display": true,
   "toc_window_display": false
  },
  "varInspector": {
   "cols": {
    "lenName": 16,
    "lenType": 16,
    "lenVar": 40
   },
   "kernels_config": {
    "python": {
     "delete_cmd_postfix": "",
     "delete_cmd_prefix": "del ",
     "library": "var_list.py",
     "varRefreshCmd": "print(var_dic_list())"
    },
    "r": {
     "delete_cmd_postfix": ") ",
     "delete_cmd_prefix": "rm(",
     "library": "var_list.r",
     "varRefreshCmd": "cat(var_dic_list()) "
    }
   },
   "types_to_exclude": [
    "module",
    "function",
    "builtin_function_or_method",
    "instance",
    "_Feature"
   ],
   "window_display": false
  }
 },
 "nbformat": 4,
 "nbformat_minor": 5
}
