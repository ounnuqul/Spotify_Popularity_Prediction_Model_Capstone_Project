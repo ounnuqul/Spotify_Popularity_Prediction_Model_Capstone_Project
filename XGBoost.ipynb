{
 "cells": [
  {
   "cell_type": "code",
   "execution_count": 1,
   "id": "0c92dcb7",
   "metadata": {},
   "outputs": [],
   "source": [
    "import pandas as pd\n",
    "import numpy as np \n",
    "import matplotlib.pyplot as plt\n",
    "import pickle\n",
    "from tqdm.notebook import tqdm\n",
    "from xgboost import XGBClassifier\n",
    "from sklearn.pipeline import Pipeline\n",
    "from sklearn.model_selection import GridSearchCV"
   ]
  },
  {
   "cell_type": "code",
   "execution_count": 2,
   "id": "82fa46c4",
   "metadata": {},
   "outputs": [],
   "source": [
    "#reading from pickle\n",
    "with open('processed_df_final.pkl', 'rb') as f:\n",
    "    df = pickle.load(f)"
   ]
  },
  {
   "cell_type": "code",
   "execution_count": 3,
   "id": "0b2d47ef",
   "metadata": {},
   "outputs": [
    {
     "name": "stdout",
     "output_type": "stream",
     "text": [
      "<class 'pandas.core.frame.DataFrame'>\n",
      "Int64Index: 60434 entries, 0 to 65868\n",
      "Data columns (total 25 columns):\n",
      " #   Column            Non-Null Count  Dtype  \n",
      "---  ------            --------------  -----  \n",
      " 0   track_id          60434 non-null  object \n",
      " 1   album_name        60434 non-null  object \n",
      " 2   artists           60434 non-null  object \n",
      " 3   track_name        60434 non-null  object \n",
      " 4   track_genre       60434 non-null  object \n",
      " 5   duration_ms       60434 non-null  int64  \n",
      " 6   explicit          60434 non-null  int64  \n",
      " 7   href              60434 non-null  object \n",
      " 8   danceability      60434 non-null  float64\n",
      " 9   energy            60434 non-null  float64\n",
      " 10  loudness          60434 non-null  float64\n",
      " 11  mode              60434 non-null  int64  \n",
      " 12  speechiness       60434 non-null  float64\n",
      " 13  acousticness      60434 non-null  float64\n",
      " 14  instrumentalness  60434 non-null  float64\n",
      " 15  liveness          60434 non-null  float64\n",
      " 16  valence           60434 non-null  float64\n",
      " 17  tempo             60434 non-null  float64\n",
      " 18  time_signature    60434 non-null  int64  \n",
      " 19  preview_url       47486 non-null  object \n",
      " 20  popularity        60434 non-null  int64  \n",
      " 21  year              60434 non-null  int64  \n",
      " 22  season            60434 non-null  int64  \n",
      " 23  key_sin           60434 non-null  float64\n",
      " 24  key_cos           60434 non-null  float64\n",
      "dtypes: float64(11), int64(7), object(7)\n",
      "memory usage: 12.0+ MB\n"
     ]
    }
   ],
   "source": [
    "df.info()"
   ]
  },
  {
   "cell_type": "code",
   "execution_count": 4,
   "id": "6ebc9145",
   "metadata": {},
   "outputs": [],
   "source": [
    "import re\n",
    "from sklearn.feature_extraction.text import CountVectorizer\n",
    "from sklearn.model_selection import train_test_split\n",
    "from sklearn.preprocessing import StandardScaler\n",
    "from sklearn.metrics import ConfusionMatrixDisplay, confusion_matrix, precision_score, recall_score, f1_score, accuracy_score"
   ]
  },
  {
   "cell_type": "code",
   "execution_count": 5,
   "id": "04f17e30",
   "metadata": {},
   "outputs": [],
   "source": [
    "df_vect = df.copy()"
   ]
  },
  {
   "cell_type": "code",
   "execution_count": 6,
   "id": "ae8fe1a6",
   "metadata": {},
   "outputs": [],
   "source": [
    "# creating a custom tokenizer that will only split words based on white space since multi-word genres \n",
    "# are formatted with dashes (-) to between the words\n",
    "def my_tokenizer(text):\n",
    "    # Split text into tokens based on whitespace characters\n",
    "    tokens = re.split(r'\\s+', text)\n",
    "    return tokens"
   ]
  },
  {
   "cell_type": "code",
   "execution_count": 7,
   "id": "01bcc240",
   "metadata": {},
   "outputs": [
    {
     "name": "stderr",
     "output_type": "stream",
     "text": [
      "/Users/ounnuqul/opt/anaconda3/lib/python3.9/site-packages/sklearn/feature_extraction/text.py:516: UserWarning: The parameter 'token_pattern' will not be used since 'tokenizer' is not None'\n",
      "  warnings.warn(\n"
     ]
    }
   ],
   "source": [
    "bagofwords = CountVectorizer(tokenizer=my_tokenizer).fit(df_vect['track_genre'])"
   ]
  },
  {
   "cell_type": "code",
   "execution_count": 8,
   "id": "2d3d06b4",
   "metadata": {},
   "outputs": [],
   "source": [
    "transformed = bagofwords.transform(df_vect['track_genre'])"
   ]
  },
  {
   "cell_type": "code",
   "execution_count": 9,
   "id": "bb8f4f05",
   "metadata": {},
   "outputs": [
    {
     "name": "stderr",
     "output_type": "stream",
     "text": [
      "/Users/ounnuqul/opt/anaconda3/lib/python3.9/site-packages/sklearn/utils/deprecation.py:87: FutureWarning: Function get_feature_names is deprecated; get_feature_names is deprecated in 1.0 and will be removed in 1.2. Please use get_feature_names_out instead.\n",
      "  warnings.warn(msg, category=FutureWarning)\n"
     ]
    },
    {
     "data": {
      "text/html": [
       "<div>\n",
       "<style scoped>\n",
       "    .dataframe tbody tr th:only-of-type {\n",
       "        vertical-align: middle;\n",
       "    }\n",
       "\n",
       "    .dataframe tbody tr th {\n",
       "        vertical-align: top;\n",
       "    }\n",
       "\n",
       "    .dataframe thead th {\n",
       "        text-align: right;\n",
       "    }\n",
       "</style>\n",
       "<table border=\"1\" class=\"dataframe\">\n",
       "  <thead>\n",
       "    <tr style=\"text-align: right;\">\n",
       "      <th></th>\n",
       "      <th>acoustic</th>\n",
       "      <th>afrobeat</th>\n",
       "      <th>alt-rock</th>\n",
       "      <th>alternative</th>\n",
       "      <th>ambient</th>\n",
       "      <th>anime</th>\n",
       "      <th>black-metal</th>\n",
       "      <th>bluegrass</th>\n",
       "      <th>blues</th>\n",
       "      <th>bossanova</th>\n",
       "      <th>...</th>\n",
       "      <th>summer</th>\n",
       "      <th>swedish</th>\n",
       "      <th>synth-pop</th>\n",
       "      <th>tango</th>\n",
       "      <th>techno</th>\n",
       "      <th>trance</th>\n",
       "      <th>trip-hop</th>\n",
       "      <th>turkish</th>\n",
       "      <th>work-out</th>\n",
       "      <th>world-music</th>\n",
       "    </tr>\n",
       "  </thead>\n",
       "  <tbody>\n",
       "    <tr>\n",
       "      <th>0</th>\n",
       "      <td>1</td>\n",
       "      <td>0</td>\n",
       "      <td>0</td>\n",
       "      <td>0</td>\n",
       "      <td>0</td>\n",
       "      <td>0</td>\n",
       "      <td>0</td>\n",
       "      <td>0</td>\n",
       "      <td>0</td>\n",
       "      <td>0</td>\n",
       "      <td>...</td>\n",
       "      <td>0</td>\n",
       "      <td>0</td>\n",
       "      <td>0</td>\n",
       "      <td>0</td>\n",
       "      <td>0</td>\n",
       "      <td>0</td>\n",
       "      <td>0</td>\n",
       "      <td>0</td>\n",
       "      <td>0</td>\n",
       "      <td>0</td>\n",
       "    </tr>\n",
       "    <tr>\n",
       "      <th>1</th>\n",
       "      <td>1</td>\n",
       "      <td>0</td>\n",
       "      <td>0</td>\n",
       "      <td>0</td>\n",
       "      <td>0</td>\n",
       "      <td>0</td>\n",
       "      <td>0</td>\n",
       "      <td>0</td>\n",
       "      <td>0</td>\n",
       "      <td>0</td>\n",
       "      <td>...</td>\n",
       "      <td>0</td>\n",
       "      <td>0</td>\n",
       "      <td>0</td>\n",
       "      <td>0</td>\n",
       "      <td>0</td>\n",
       "      <td>0</td>\n",
       "      <td>0</td>\n",
       "      <td>0</td>\n",
       "      <td>0</td>\n",
       "      <td>0</td>\n",
       "    </tr>\n",
       "    <tr>\n",
       "      <th>2</th>\n",
       "      <td>1</td>\n",
       "      <td>0</td>\n",
       "      <td>0</td>\n",
       "      <td>0</td>\n",
       "      <td>0</td>\n",
       "      <td>0</td>\n",
       "      <td>0</td>\n",
       "      <td>0</td>\n",
       "      <td>0</td>\n",
       "      <td>0</td>\n",
       "      <td>...</td>\n",
       "      <td>0</td>\n",
       "      <td>0</td>\n",
       "      <td>0</td>\n",
       "      <td>0</td>\n",
       "      <td>0</td>\n",
       "      <td>0</td>\n",
       "      <td>0</td>\n",
       "      <td>0</td>\n",
       "      <td>0</td>\n",
       "      <td>0</td>\n",
       "    </tr>\n",
       "    <tr>\n",
       "      <th>3</th>\n",
       "      <td>1</td>\n",
       "      <td>0</td>\n",
       "      <td>0</td>\n",
       "      <td>0</td>\n",
       "      <td>0</td>\n",
       "      <td>0</td>\n",
       "      <td>0</td>\n",
       "      <td>0</td>\n",
       "      <td>0</td>\n",
       "      <td>0</td>\n",
       "      <td>...</td>\n",
       "      <td>0</td>\n",
       "      <td>0</td>\n",
       "      <td>0</td>\n",
       "      <td>0</td>\n",
       "      <td>0</td>\n",
       "      <td>0</td>\n",
       "      <td>0</td>\n",
       "      <td>0</td>\n",
       "      <td>0</td>\n",
       "      <td>0</td>\n",
       "    </tr>\n",
       "    <tr>\n",
       "      <th>4</th>\n",
       "      <td>1</td>\n",
       "      <td>0</td>\n",
       "      <td>0</td>\n",
       "      <td>0</td>\n",
       "      <td>0</td>\n",
       "      <td>0</td>\n",
       "      <td>0</td>\n",
       "      <td>0</td>\n",
       "      <td>0</td>\n",
       "      <td>0</td>\n",
       "      <td>...</td>\n",
       "      <td>0</td>\n",
       "      <td>0</td>\n",
       "      <td>0</td>\n",
       "      <td>0</td>\n",
       "      <td>0</td>\n",
       "      <td>0</td>\n",
       "      <td>0</td>\n",
       "      <td>0</td>\n",
       "      <td>0</td>\n",
       "      <td>0</td>\n",
       "    </tr>\n",
       "  </tbody>\n",
       "</table>\n",
       "<p>5 rows × 123 columns</p>\n",
       "</div>"
      ],
      "text/plain": [
       "   acoustic  afrobeat  alt-rock  alternative  ambient  anime  black-metal  \\\n",
       "0         1         0         0            0        0      0            0   \n",
       "1         1         0         0            0        0      0            0   \n",
       "2         1         0         0            0        0      0            0   \n",
       "3         1         0         0            0        0      0            0   \n",
       "4         1         0         0            0        0      0            0   \n",
       "\n",
       "   bluegrass  blues  bossanova  ...  summer  swedish  synth-pop  tango  \\\n",
       "0          0      0          0  ...       0        0          0      0   \n",
       "1          0      0          0  ...       0        0          0      0   \n",
       "2          0      0          0  ...       0        0          0      0   \n",
       "3          0      0          0  ...       0        0          0      0   \n",
       "4          0      0          0  ...       0        0          0      0   \n",
       "\n",
       "   techno  trance  trip-hop  turkish  work-out  world-music  \n",
       "0       0       0         0        0         0            0  \n",
       "1       0       0         0        0         0            0  \n",
       "2       0       0         0        0         0            0  \n",
       "3       0       0         0        0         0            0  \n",
       "4       0       0         0        0         0            0  \n",
       "\n",
       "[5 rows x 123 columns]"
      ]
     },
     "execution_count": 9,
     "metadata": {},
     "output_type": "execute_result"
    }
   ],
   "source": [
    "vect_matrix = pd.DataFrame(columns=bagofwords.get_feature_names(), data=transformed.toarray())\n",
    "vect_matrix.head()"
   ]
  },
  {
   "cell_type": "code",
   "execution_count": 10,
   "id": "328c1477",
   "metadata": {},
   "outputs": [],
   "source": [
    "df_vect = pd.concat([df_vect.reset_index(),vect_matrix],axis=1)"
   ]
  },
  {
   "cell_type": "code",
   "execution_count": 11,
   "id": "1e47f6c2",
   "metadata": {},
   "outputs": [],
   "source": [
    "df_vect['popularity'] = np.where(df_vect['popularity'] >= np.median(df_vect['popularity']), 1, 0)"
   ]
  },
  {
   "cell_type": "code",
   "execution_count": 13,
   "id": "0571386c",
   "metadata": {},
   "outputs": [
    {
     "name": "stdout",
     "output_type": "stream",
     "text": [
      "<class 'pandas.core.frame.DataFrame'>\n",
      "RangeIndex: 60434 entries, 0 to 60433\n",
      "Columns: 149 entries, index to world-music\n",
      "dtypes: float64(11), int64(131), object(7)\n",
      "memory usage: 68.7+ MB\n"
     ]
    }
   ],
   "source": [
    "df_vect.info()"
   ]
  },
  {
   "cell_type": "code",
   "execution_count": 14,
   "id": "a4932893",
   "metadata": {},
   "outputs": [],
   "source": [
    "vect_rem, vect_test = train_test_split(df_vect, test_size=0.25, random_state=42,\n",
    "                                     stratify=df_vect[['track_genre','popularity']])"
   ]
  },
  {
   "cell_type": "markdown",
   "id": "0232095b",
   "metadata": {},
   "source": [
    "### Train and validation checking"
   ]
  },
  {
   "cell_type": "code",
   "execution_count": 14,
   "id": "eed25ed3",
   "metadata": {},
   "outputs": [],
   "source": [
    "vect_train, vect_validation = train_test_split(vect_rem, test_size=0.25, random_state=42,\n",
    "                                     stratify=vect_rem[['track_genre','popularity']])"
   ]
  },
  {
   "cell_type": "code",
   "execution_count": 16,
   "id": "d296e984",
   "metadata": {},
   "outputs": [],
   "source": [
    "X_train = vect_train.drop(columns='popularity')\n",
    "y_train = vect_train['popularity']\n",
    "X_val = vect_validation.drop(columns='popularity')\n",
    "y_val = vect_validation['popularity']"
   ]
  },
  {
   "cell_type": "code",
   "execution_count": 18,
   "id": "21a32ce5",
   "metadata": {},
   "outputs": [],
   "source": [
    "X_train.drop(columns=['track_id', 'album_name', 'artists', 'track_name', 'track_genre',\n",
    "       'href', 'preview_url'],inplace=True)\n",
    "X_val.drop(columns=['track_id', 'album_name', 'artists', 'track_name', 'track_genre',\n",
    "       'href', 'preview_url'],inplace=True)"
   ]
  },
  {
   "cell_type": "code",
   "execution_count": 19,
   "id": "d6f2ccf0",
   "metadata": {
    "run_control": {
     "marked": false
    }
   },
   "outputs": [],
   "source": [
    "scaler = StandardScaler()\n",
    "X_train_ss = scaler.fit_transform(X_train)\n",
    "X_val_ss = scaler.transform(X_val)"
   ]
  },
  {
   "cell_type": "code",
   "execution_count": 55,
   "id": "229ac8fa",
   "metadata": {},
   "outputs": [],
   "source": [
    "#X_rem = vect_train.drop(columns='popularity')\n",
    "#y_rem = vect_train['popularity']\n",
    "#X_test = vect_test.drop(columns='popularity')\n",
    "#y_test = vect_test['popularity']"
   ]
  },
  {
   "cell_type": "code",
   "execution_count": 26,
   "id": "657ee8af",
   "metadata": {},
   "outputs": [],
   "source": [
    "train_acc = []\n",
    "val_acc = []\n",
    "for x in [0.3,0.35,0.4,0.45,0.5,0.55,0.6]:\n",
    "    xgb = XGBClassifier(learning_rate=x).fit(X_train_ss,y_train)\n",
    "    train_acc.append(accuracy_score(xgb.predict(X_train_ss),y_train))\n",
    "    val_acc.append(accuracy_score(xgb.predict(X_val_ss),y_val))"
   ]
  },
  {
   "cell_type": "code",
   "execution_count": 28,
   "id": "49bc1650",
   "metadata": {},
   "outputs": [
    {
     "data": {
      "image/png": "[encoded data removed]",
      "text/plain": [
       "<Figure size 640x480 with 1 Axes>"
      ]
     },
     "metadata": {},
     "output_type": "display_data"
    }
   ],
   "source": [
    "plt.figure()\n",
    "plt.plot([0.3,0.35,0.4,0.45,0.5,0.55,0.6], train_acc, color='blue', label='train_acc')\n",
    "plt.plot([0.3,0.35,0.4,0.45,0.5,0.55,0.6], val_acc, color='orange', label='val_acc')\n",
    "plt.legend()\n",
    "plt.show()"
   ]
  },
  {
   "cell_type": "code",
   "execution_count": 29,
   "id": "9447a448",
   "metadata": {},
   "outputs": [],
   "source": [
    "train_acc = []\n",
    "val_acc = []\n",
    "for x in [0.5,0.55,0.6,0.65,0.7]:\n",
    "    xgb = XGBClassifier(learning_rate=x).fit(X_train_ss,y_train)\n",
    "    train_acc.append(accuracy_score(xgb.predict(X_train_ss),y_train))\n",
    "    val_acc.append(accuracy_score(xgb.predict(X_val_ss),y_val))"
   ]
  },
  {
   "cell_type": "code",
   "execution_count": 30,
   "id": "5fc73a89",
   "metadata": {},
   "outputs": [
    {
     "data": {
      "image/png": "[encoded data removed]",
      "text/plain": [
       "<Figure size 640x480 with 1 Axes>"
      ]
     },
     "metadata": {},
     "output_type": "display_data"
    }
   ],
   "source": [
    "plt.figure()\n",
    "plt.plot([0.5,0.55,0.6,0.65,0.7], train_acc, color='blue', label='train_acc')\n",
    "plt.plot([0.5,0.55,0.6,0.65,0.7], val_acc, color='orange', label='val_acc')\n",
    "plt.legend()\n",
    "plt.show()"
   ]
  },
  {
   "cell_type": "markdown",
   "id": "5067b64a",
   "metadata": {
    "heading_collapsed": true
   },
   "source": [
    "### Grid Search"
   ]
  },
  {
   "cell_type": "code",
   "execution_count": 20,
   "id": "2b5ac45f",
   "metadata": {
    "hidden": true
   },
   "outputs": [
    {
     "name": "stdout",
     "output_type": "stream",
     "text": [
      "Fitting 5 folds for each of 18 candidates, totalling 90 fits\n"
     ]
    },
    {
     "data": {
      "text/plain": [
       "GridSearchCV(cv=5,\n",
       "             estimator=Pipeline(steps=[('xgb',\n",
       "                                        XGBClassifier(base_score=None,\n",
       "                                                      booster=None,\n",
       "                                                      callbacks=None,\n",
       "                                                      colsample_bylevel=None,\n",
       "                                                      colsample_bynode=None,\n",
       "                                                      colsample_bytree=None,\n",
       "                                                      early_stopping_rounds=None,\n",
       "                                                      enable_categorical=False,\n",
       "                                                      eval_metric=None,\n",
       "                                                      feature_types=None,\n",
       "                                                      gamma=None, gpu_id=None,\n",
       "                                                      grow_policy=None,\n",
       "                                                      importance_type=None,\n",
       "                                                      interaction_constraints=N...\n",
       "                                                      max_cat_to_onehot=None,\n",
       "                                                      max_delta_step=None,\n",
       "                                                      max_depth=None,\n",
       "                                                      max_leaves=None,\n",
       "                                                      min_child_weight=None,\n",
       "                                                      missing=nan,\n",
       "                                                      monotone_constraints=None,\n",
       "                                                      n_estimators=100,\n",
       "                                                      n_jobs=None,\n",
       "                                                      num_parallel_tree=None,\n",
       "                                                      predictor=None,\n",
       "                                                      random_state=None, ...))]),\n",
       "             n_jobs=-1,\n",
       "             param_grid={'xgb__gamma': [0, 0.1, 0.2],\n",
       "                         'xgb__learning_rate': [0.05, 0.1, 0.3],\n",
       "                         'xgb__n_estimators': [50, 100]},\n",
       "             verbose=4)"
      ]
     },
     "execution_count": 20,
     "metadata": {},
     "output_type": "execute_result"
    }
   ],
   "source": [
    "# estimator\n",
    "estimator = Pipeline([\n",
    "    ('xgb', XGBClassifier())\n",
    "])\n",
    "\n",
    "# parameters\n",
    "params = {\n",
    "    #'xgb__booster': ['gbtree','dart'],\n",
    "    'xgb__learning_rate':[0.05, 0.1, 0.3],\n",
    "    'xgb__n_estimators': [50,100],\n",
    "    'xgb__gamma':[0, 0.1, 0.2],\n",
    "   # 'xgb__subsample': [0.5, 0.7, 0.9], for overfitting purposes\n",
    "   # 'xgb__min_child_weight':[0.5, 0.7, 0.9]\n",
    "}\n",
    "\n",
    "# grid search\n",
    "grid = GridSearchCV(estimator, param_grid=params, cv=5, n_jobs=-1, verbose=4)\n",
    "grid.fit(X_train_ss, y_train)"
   ]
  },
  {
   "cell_type": "code",
   "execution_count": 21,
   "id": "b4b4caa6",
   "metadata": {
    "hidden": true
   },
   "outputs": [
    {
     "data": {
      "text/plain": [
       "0.8977606177606179"
      ]
     },
     "execution_count": 21,
     "metadata": {},
     "output_type": "execute_result"
    }
   ],
   "source": [
    "grid.best_score_"
   ]
  },
  {
   "cell_type": "code",
   "execution_count": 44,
   "id": "baf1d5df",
   "metadata": {
    "hidden": true
   },
   "outputs": [
    {
     "data": {
      "text/plain": [
       "0.8977606177606179"
      ]
     },
     "execution_count": 44,
     "metadata": {},
     "output_type": "execute_result"
    }
   ],
   "source": [
    "grid.best_score_"
   ]
  },
  {
   "cell_type": "code",
   "execution_count": 28,
   "id": "e6c05141",
   "metadata": {
    "hidden": true
   },
   "outputs": [
    {
     "data": {
      "text/plain": [
       "{'xgb__gamma': 0, 'xgb__learning_rate': 0.3, 'xgb__n_estimators': 100}"
      ]
     },
     "execution_count": 28,
     "metadata": {},
     "output_type": "execute_result"
    }
   ],
   "source": [
    "pd.DataFrame(grid.cv_results_).iloc[5,:]['params']"
   ]
  },
  {
   "cell_type": "code",
   "execution_count": 31,
   "id": "9528f0a9",
   "metadata": {
    "hidden": true
   },
   "outputs": [],
   "source": [
    "xgboost = XGBClassifier(gamma=0,learning_rate=0.3,n_estimators=100).fit(X_train_ss,y_train)"
   ]
  },
  {
   "cell_type": "code",
   "execution_count": 32,
   "id": "1c6f3102",
   "metadata": {
    "hidden": true
   },
   "outputs": [],
   "source": [
    "y_pred = xgboost.predict(X_train_ss)"
   ]
  },
  {
   "cell_type": "code",
   "execution_count": 22,
   "id": "86f08e0b",
   "metadata": {
    "hidden": true
   },
   "outputs": [],
   "source": [
    "from sklearn.metrics import confusion_matrix, ConfusionMatrixDisplay, f1_score, precision_score, recall_score, accuracy_score"
   ]
  },
  {
   "cell_type": "code",
   "execution_count": 35,
   "id": "53012105",
   "metadata": {
    "hidden": true
   },
   "outputs": [
    {
     "data": {
      "text/plain": [
       "<sklearn.metrics._plot.confusion_matrix.ConfusionMatrixDisplay at 0x7fc68ab80d60>"
      ]
     },
     "execution_count": 35,
     "metadata": {},
     "output_type": "execute_result"
    },
    {
     "data": {
      "image/png": "[encoded data removed]",
      "text/plain": [
       "<Figure size 640x480 with 2 Axes>"
      ]
     },
     "metadata": {},
     "output_type": "display_data"
    }
   ],
   "source": [
    "cm = confusion_matrix(y_pred,y_train)\n",
    "ConfusionMatrixDisplay(cm).plot()"
   ]
  },
  {
   "cell_type": "code",
   "execution_count": 36,
   "id": "8d6d38be",
   "metadata": {
    "hidden": true
   },
   "outputs": [
    {
     "data": {
      "text/plain": [
       "0.9305479840380295"
      ]
     },
     "execution_count": 36,
     "metadata": {},
     "output_type": "execute_result"
    }
   ],
   "source": [
    "f1_score(y_pred,y_train)"
   ]
  },
  {
   "cell_type": "code",
   "execution_count": 37,
   "id": "42360a3e",
   "metadata": {
    "hidden": true
   },
   "outputs": [
    {
     "data": {
      "text/plain": [
       "0.9288263973532996"
      ]
     },
     "execution_count": 37,
     "metadata": {},
     "output_type": "execute_result"
    }
   ],
   "source": [
    "recall_score(y_pred,y_train)"
   ]
  },
  {
   "cell_type": "code",
   "execution_count": 38,
   "id": "a33733e1",
   "metadata": {
    "hidden": true
   },
   "outputs": [
    {
     "data": {
      "text/plain": [
       "0.932275964521344"
      ]
     },
     "execution_count": 38,
     "metadata": {},
     "output_type": "execute_result"
    }
   ],
   "source": [
    "precision_score(y_pred,y_train)"
   ]
  },
  {
   "cell_type": "code",
   "execution_count": 40,
   "id": "22c6830a",
   "metadata": {
    "hidden": true
   },
   "outputs": [
    {
     "data": {
      "text/plain": [
       "0.9297297297297298"
      ]
     },
     "execution_count": 40,
     "metadata": {},
     "output_type": "execute_result"
    }
   ],
   "source": [
    "accuracy_score(y_pred,y_train)"
   ]
  },
  {
   "cell_type": "code",
   "execution_count": null,
   "id": "554e7be5",
   "metadata": {
    "hidden": true
   },
   "outputs": [],
   "source": []
  },
  {
   "cell_type": "code",
   "execution_count": null,
   "id": "9f5699ec",
   "metadata": {
    "hidden": true
   },
   "outputs": [],
   "source": []
  },
  {
   "cell_type": "code",
   "execution_count": null,
   "id": "315869f0",
   "metadata": {
    "hidden": true
   },
   "outputs": [],
   "source": []
  },
  {
   "cell_type": "code",
   "execution_count": 45,
   "id": "8b298215",
   "metadata": {
    "hidden": true
   },
   "outputs": [],
   "source": [
    "xgboost1 = XGBClassifier().fit(X_train_ss,y_train)"
   ]
  },
  {
   "cell_type": "code",
   "execution_count": 47,
   "id": "5575ed1c",
   "metadata": {
    "hidden": true
   },
   "outputs": [
    {
     "data": {
      "text/plain": [
       "0.9297297297297298"
      ]
     },
     "execution_count": 47,
     "metadata": {},
     "output_type": "execute_result"
    }
   ],
   "source": [
    "xgboost1.score(X_train_ss,y_train)"
   ]
  },
  {
   "cell_type": "code",
   "execution_count": 49,
   "id": "58a00e41",
   "metadata": {
    "hidden": true
   },
   "outputs": [
    {
     "data": {
      "text/plain": [
       "popularity\n",
       "1             0.504953\n",
       "0             0.495047\n",
       "dtype: float64"
      ]
     },
     "execution_count": 49,
     "metadata": {},
     "output_type": "execute_result"
    }
   ],
   "source": [
    "pd.DataFrame(y_train).value_counts(normalize=True)"
   ]
  },
  {
   "cell_type": "code",
   "execution_count": null,
   "id": "0cf897fc",
   "metadata": {
    "hidden": true
   },
   "outputs": [],
   "source": []
  },
  {
   "cell_type": "markdown",
   "id": "bdd027c9",
   "metadata": {},
   "source": [
    "### The Over night grid search"
   ]
  },
  {
   "cell_type": "code",
   "execution_count": 16,
   "id": "17060492",
   "metadata": {},
   "outputs": [],
   "source": [
    "X_rem = vect_rem.drop(columns=['track_id', 'album_name', 'artists', 'track_name', 'track_genre',\n",
    "       'href', 'preview_url','popularity'])\n",
    "y_rem = vect_rem['popularity']"
   ]
  },
  {
   "cell_type": "code",
   "execution_count": 19,
   "id": "2b4c02ea",
   "metadata": {},
   "outputs": [
    {
     "name": "stdout",
     "output_type": "stream",
     "text": [
      "Fitting 5 folds for each of 54 candidates, totalling 270 fits\n"
     ]
    }
   ],
   "source": [
    "# estimator\n",
    "estimator = Pipeline([\n",
    "    ('xgb', XGBClassifier())\n",
    "])\n",
    "\n",
    "# parameters\n",
    "params = {\n",
    "    #'xgb__booster': ['gbtree','dart'],\n",
    "    'xgb__learning_rate':[0.3,0.4,0.5],\n",
    "    'xgb__n_estimators': [50,100],\n",
    "    'xgb__gamma':[0, 0.25, 0.5],\n",
    "    'xgb__subsample': [0.5, 0.7, 0.9],\n",
    "   # 'xgb__min_child_weight':[0.5, 0.7, 0.9]\n",
    "}\n",
    "\n",
    "# grid search\n",
    "grid = GridSearchCV(estimator, param_grid=params, cv=5, n_jobs=-1, verbose=3)\n",
    "grid.fit(X_rem, y_rem)\n",
    "\n",
    "#writting to pickle\n",
    "with open('XGBoost_grid_1.pkl', \"wb\") as f:\n",
    "    pickle.dump(grid, f)"
   ]
  },
  {
   "cell_type": "code",
   "execution_count": 20,
   "id": "ec62f7ad",
   "metadata": {},
   "outputs": [
    {
     "data": {
      "text/plain": [
       "0.9135576392719249"
      ]
     },
     "execution_count": 20,
     "metadata": {},
     "output_type": "execute_result"
    }
   ],
   "source": [
    "grid.best_score_"
   ]
  },
  {
   "cell_type": "code",
   "execution_count": 22,
   "id": "787222cf",
   "metadata": {},
   "outputs": [
    {
     "data": {
      "text/plain": [
       "{'xgb__gamma': 0.25,\n",
       " 'xgb__learning_rate': 0.5,\n",
       " 'xgb__n_estimators': 100,\n",
       " 'xgb__subsample': 0.9}"
      ]
     },
     "execution_count": 22,
     "metadata": {},
     "output_type": "execute_result"
    }
   ],
   "source": [
    "grid.best_params_"
   ]
  },
  {
   "cell_type": "code",
   "execution_count": null,
   "id": "014ca3c0",
   "metadata": {},
   "outputs": [],
   "source": []
  },
  {
   "cell_type": "code",
   "execution_count": null,
   "id": "7fe52027",
   "metadata": {},
   "outputs": [],
   "source": []
  },
  {
   "cell_type": "code",
   "execution_count": 24,
   "id": "a96515d4",
   "metadata": {},
   "outputs": [
    {
     "name": "stdout",
     "output_type": "stream",
     "text": [
      "Fitting 5 folds for each of 81 candidates, totalling 405 fits\n"
     ]
    }
   ],
   "source": [
    "# estimator\n",
    "estimator = Pipeline([\n",
    "    ('xgb', XGBClassifier())\n",
    "])\n",
    "\n",
    "# parameters\n",
    "params = {\n",
    "    #'xgb__booster': ['gbtree','dart'],\n",
    "    'xgb__learning_rate':[0.5,0.6,0.7],\n",
    "    'xgb__n_estimators': [100,150,200],\n",
    "    'xgb__gamma':[0.2, 0.25, 0.3],\n",
    "    'xgb__subsample': [0.8, 0.85, 0.9],\n",
    "   # 'xgb__min_child_weight':[0.5, 0.7, 0.9]\n",
    "}\n",
    "\n",
    "# grid search\n",
    "grid = GridSearchCV(estimator, param_grid=params, cv=5, n_jobs=-1, verbose=3)\n",
    "grid.fit(X_rem, y_rem)\n",
    "\n",
    "#writting to pickle\n",
    "with open('XGBoost_grid_2.pkl', \"wb\") as f:\n",
    "    pickle.dump(grid, f)"
   ]
  },
  {
   "cell_type": "code",
   "execution_count": 25,
   "id": "3f713232",
   "metadata": {},
   "outputs": [
    {
     "data": {
      "text/plain": [
       "0.9245670159955874"
      ]
     },
     "execution_count": 25,
     "metadata": {},
     "output_type": "execute_result"
    }
   ],
   "source": [
    "grid.best_score_"
   ]
  },
  {
   "cell_type": "code",
   "execution_count": 26,
   "id": "77895ca0",
   "metadata": {},
   "outputs": [
    {
     "data": {
      "text/plain": [
       "{'xgb__gamma': 0.2,\n",
       " 'xgb__learning_rate': 0.5,\n",
       " 'xgb__n_estimators': 200,\n",
       " 'xgb__subsample': 0.9}"
      ]
     },
     "execution_count": 26,
     "metadata": {},
     "output_type": "execute_result"
    }
   ],
   "source": [
    "grid.best_params_"
   ]
  },
  {
   "cell_type": "code",
   "execution_count": null,
   "id": "e2d24e74",
   "metadata": {},
   "outputs": [],
   "source": []
  },
  {
   "cell_type": "code",
   "execution_count": null,
   "id": "d3f0bf2a",
   "metadata": {},
   "outputs": [],
   "source": []
  },
  {
   "cell_type": "code",
   "execution_count": null,
   "id": "b4a04750",
   "metadata": {},
   "outputs": [],
   "source": []
  },
  {
   "cell_type": "code",
   "execution_count": null,
   "id": "762ae1c8",
   "metadata": {},
   "outputs": [],
   "source": []
  },
  {
   "cell_type": "code",
   "execution_count": 27,
   "id": "a26bf120",
   "metadata": {},
   "outputs": [
    {
     "name": "stdout",
     "output_type": "stream",
     "text": [
      "Fitting 5 folds for each of 54 candidates, totalling 270 fits\n"
     ]
    }
   ],
   "source": [
    "# estimator\n",
    "estimator = Pipeline([\n",
    "    ('xgb', XGBClassifier())\n",
    "])\n",
    "\n",
    "# parameters\n",
    "params = {\n",
    "    #'xgb__booster': ['gbtree','dart'],\n",
    "    'xgb__learning_rate':[0.45,0.5,0.55],\n",
    "    'xgb__n_estimators': [200,250,300],\n",
    "    'xgb__gamma':[0.15, 0.2],\n",
    "    'xgb__subsample': [0.7, 0.8, 0.9],\n",
    "   # 'xgb__min_child_weight':[0.5, 0.7, 0.9]\n",
    "}\n",
    "\n",
    "# grid search\n",
    "grid = GridSearchCV(estimator, param_grid=params, cv=5, n_jobs=-1, verbose=3)\n",
    "grid.fit(X_rem, y_rem)\n",
    "\n",
    "#writting to pickle\n",
    "with open('XGBoost_grid_3.pkl', \"wb\") as f:\n",
    "    pickle.dump(grid, f)"
   ]
  },
  {
   "cell_type": "code",
   "execution_count": 30,
   "id": "09efa55d",
   "metadata": {},
   "outputs": [
    {
     "data": {
      "text/plain": [
       "0.9266850523993382"
      ]
     },
     "execution_count": 30,
     "metadata": {},
     "output_type": "execute_result"
    }
   ],
   "source": [
    "grid.best_score_"
   ]
  },
  {
   "cell_type": "code",
   "execution_count": 32,
   "id": "799bf825",
   "metadata": {
    "scrolled": true
   },
   "outputs": [
    {
     "data": {
      "text/plain": [
       "{'xgb__gamma': 0.2,\n",
       " 'xgb__learning_rate': 0.45,\n",
       " 'xgb__n_estimators': 250,\n",
       " 'xgb__subsample': 0.9}"
      ]
     },
     "execution_count": 32,
     "metadata": {},
     "output_type": "execute_result"
    }
   ],
   "source": [
    "grid.best_params_"
   ]
  },
  {
   "cell_type": "code",
   "execution_count": null,
   "id": "36129f66",
   "metadata": {},
   "outputs": [],
   "source": []
  },
  {
   "cell_type": "code",
   "execution_count": null,
   "id": "e7058864",
   "metadata": {},
   "outputs": [],
   "source": []
  },
  {
   "cell_type": "code",
   "execution_count": null,
   "id": "599ba207",
   "metadata": {},
   "outputs": [],
   "source": []
  },
  {
   "cell_type": "code",
   "execution_count": 34,
   "id": "9697b49a",
   "metadata": {},
   "outputs": [
    {
     "name": "stdout",
     "output_type": "stream",
     "text": [
      "Fitting 5 folds for each of 81 candidates, totalling 405 fits\n"
     ]
    }
   ],
   "source": [
    "# estimator\n",
    "estimator = Pipeline([\n",
    "    ('xgb', XGBClassifier())\n",
    "])\n",
    "\n",
    "# parameters\n",
    "params = {\n",
    "    #'xgb__booster': ['gbtree','dart'],\n",
    "    'xgb__learning_rate':[0.43,0.45,0.47],\n",
    "    'xgb__n_estimators': [225,250,375],\n",
    "    'xgb__gamma':[0.2],\n",
    "    'xgb__subsample': [0.7, 0.8, 0.9],\n",
    "    'xgb__min_child_weight':[0.5, 0.7, 0.9]\n",
    "}\n",
    "\n",
    "# grid search\n",
    "grid = GridSearchCV(estimator, param_grid=params, cv=5, n_jobs=-1, verbose=3)\n",
    "grid.fit(X_rem, y_rem)\n",
    "\n",
    "#writting to pickle\n",
    "with open('XGBoost_grid_4.pkl', \"wb\") as f:\n",
    "    pickle.dump(grid, f)"
   ]
  },
  {
   "cell_type": "code",
   "execution_count": 35,
   "id": "cdbc2e38",
   "metadata": {},
   "outputs": [
    {
     "data": {
      "text/plain": [
       "0.9269939327082184"
      ]
     },
     "execution_count": 35,
     "metadata": {},
     "output_type": "execute_result"
    }
   ],
   "source": [
    "grid.best_score_"
   ]
  },
  {
   "cell_type": "code",
   "execution_count": 36,
   "id": "f8eca3e4",
   "metadata": {
    "scrolled": true
   },
   "outputs": [
    {
     "data": {
      "text/plain": [
       "{'xgb__gamma': 0.2,\n",
       " 'xgb__learning_rate': 0.43,\n",
       " 'xgb__min_child_weight': 0.5,\n",
       " 'xgb__n_estimators': 375,\n",
       " 'xgb__subsample': 0.9}"
      ]
     },
     "execution_count": 36,
     "metadata": {},
     "output_type": "execute_result"
    }
   ],
   "source": [
    "grid.best_params_"
   ]
  }
 ],
 "metadata": {
  "kernelspec": {
   "display_name": "Python 3 (ipykernel)",
   "language": "python",
   "name": "python3"
  },
  "language_info": {
   "codemirror_mode": {
    "name": "ipython",
    "version": 3
   },
   "file_extension": ".py",
   "mimetype": "text/x-python",
   "name": "python",
   "nbconvert_exporter": "python",
   "pygments_lexer": "ipython3",
   "version": "3.9.13"
  },
  "toc": {
   "base_numbering": 1,
   "nav_menu": {},
   "number_sections": false,
   "sideBar": true,
   "skip_h1_title": false,
   "title_cell": "Table of Contents",
   "title_sidebar": "Contents",
   "toc_cell": false,
   "toc_position": {},
   "toc_section_display": true,
   "toc_window_display": false
  },
  "varInspector": {
   "cols": {
    "lenName": 16,
    "lenType": 16,
    "lenVar": 40
   },
   "kernels_config": {
    "python": {
     "delete_cmd_postfix": "",
     "delete_cmd_prefix": "del ",
     "library": "var_list.py",
     "varRefreshCmd": "print(var_dic_list())"
    },
    "r": {
     "delete_cmd_postfix": ") ",
     "delete_cmd_prefix": "rm(",
     "library": "var_list.r",
     "varRefreshCmd": "cat(var_dic_list()) "
    }
   },
   "types_to_exclude": [
    "module",
    "function",
    "builtin_function_or_method",
    "instance",
    "_Feature"
   ],
   "window_display": false
  }
 },
 "nbformat": 4,
 "nbformat_minor": 5
}
