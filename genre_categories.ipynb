{
 "cells": [
  {
   "cell_type": "code",
   "execution_count": 7,
   "id": "0797c87f",
   "metadata": {},
   "outputs": [],
   "source": [
    "import pandas as pd\n",
    "import matplotlib as plt\n",
    "import numpy as np\n",
    "import re"
   ]
  },
  {
   "cell_type": "code",
   "execution_count": null,
   "id": "ea5cd4a7",
   "metadata": {},
   "outputs": [],
   "source": []
  },
  {
   "cell_type": "code",
   "execution_count": null,
   "id": "a4eeb091",
   "metadata": {},
   "outputs": [],
   "source": []
  },
  {
   "cell_type": "code",
   "execution_count": null,
   "id": "3a22f944",
   "metadata": {},
   "outputs": [],
   "source": []
  },
  {
   "cell_type": "code",
   "execution_count": null,
   "id": "a4a9b007",
   "metadata": {
    "run_control": {
     "marked": false
    }
   },
   "outputs": [],
   "source": [
    "\n",
    "l = [['Acoustic', 'Folk', 'Singer-Songwriter'],\n",
    "['Alternative', 'Emo', 'Indie', 'Punk', 'Grunge'],\n",
    "['Ambient', 'New Age', 'Chill', 'Sleep'],\n",
    "['Anime', 'J-Pop', 'J-Rock', 'J-Idol', 'J-Dance'],\n",
    "['Black Metal', 'Death Metal', 'Grindcore', 'Metal', 'Metalcore'],\n",
    "['Blues', 'Soul'],\n",
    "['Brazilian', 'Forro', 'MPB', 'Samba', 'Pagode', 'Sertanejo'],\n",
    "['Breakbeat', 'Drum and Bass', 'Dub', 'Dubstep', 'Jungle', 'Trip-hop'],\n",
    "['Britpop', 'British', 'Indie-pop', 'Power-pop'],\n",
    "['Cantopop', 'K-Pop', 'Mandopop'],\n",
    "['Chicago House', 'Detroit Techno', 'House', 'Techno', 'Trance'],\n",
    "['Children', 'Kids'],\n",
    "['Classical', 'Opera'],\n",
    "['Club', 'Dance', 'EDM', 'Electronic', 'Synth-pop'],\n",
    "['Comedy'],\n",
    "['Country', 'Honky-tonk'],\n",
    "['Disco'],\n",
    "['Disney', 'Pop Film', 'Show Tunes'],\n",
    "['French'],\n",
    "['Funk', 'Groove'],\n",
    "['Garage', 'Hard Rock', 'Heavy Metal'],\n",
    "['German'],\n",
    "['Gospel'],\n",
    "['Goth'],\n",
    "['Happy', 'Party'],\n",
    "[Hip Hop, 'Rap', R&B, 'Reggae', 'Reggaeton'],\n",
    "[Indian, Iranian, Turkish, Spanish, Latin, Malay, World Music],\n",
    "[Jazz],\n",
    "[Piano, Instrumental],\n",
    "[Romance, Sad]]"
   ]
  },
  {
   "cell_type": "code",
   "execution_count": 1,
   "id": "ae05d18e",
   "metadata": {},
   "outputs": [
    {
     "ename": "SyntaxError",
     "evalue": "invalid syntax (1050214242.py, line 3)",
     "output_type": "error",
     "traceback": [
      "\u001b[0;36m  File \u001b[0;32m\"/var/folders/4m/s0rbhscx6rl_1_04dd4yvbf40000gn/T/ipykernel_32335/1050214242.py\"\u001b[0;36m, line \u001b[0;32m3\u001b[0m\n\u001b[0;31m    Ambient, New Age, Chill, Sleep,\u001b[0m\n\u001b[0m                 ^\u001b[0m\n\u001b[0;31mSyntaxError\u001b[0m\u001b[0;31m:\u001b[0m invalid syntax\n"
     ]
    }
   ],
   "source": [
    "\n",
    "Acoustic, Folk, Singer-Songwriter,\n",
    "Alternative, Emo, Indie, Punk, Grunge,\n",
    "Ambient, New Age, Chill, Sleep,\n",
    "Anime, J-Pop, J-Rock, J-Idol, J-Dance,\n",
    "Black Metal, Death Metal, Grindcore, Metal, Metalcore,\n",
    "Blues, Soul,\n",
    "Brazilian, Forro, MPB, Samba, Pagode, Sertanejo,\n",
    "Breakbeat, Drum and Bass, Dub, Dubstep, Jungle, Trip-hop,\n",
    "Britpop, British, Indie-pop, Power-pop,\n",
    "Cantopop, K-Pop, Mandopop,\n",
    "Chicago House, Detroit Techno, House, Techno, Trance,\n",
    "Children, Kids,\n",
    "Classical, Opera,\n",
    "Club, Dance, EDM, Electronic, Synth-pop,\n",
    "Comedy,\n",
    "Country, Honky-tonk,\n",
    "Disco,\n",
    "Disney, Pop Film, Show Tunes,\n",
    "French,\n",
    "Funk, Groove,\n",
    "Garage, Hard Rock, Heavy Metal,\n",
    "German,\n",
    "Gospel,\n",
    "Goth,\n",
    "Happy, Party,\n",
    "Hip Hop, Rap, R&B, Reggae, Reggaeton,\n",
    "Indian, Iranian, Turkish, Spanish, Latin, Malay, World Music,\n",
    "Jazz,\n",
    "Piano, Instrumental,\n",
    "Romance, Sad"
   ]
  },
  {
   "cell_type": "code",
   "execution_count": 1,
   "id": "62f1de6b",
   "metadata": {},
   "outputs": [
    {
     "ename": "SyntaxError",
     "evalue": "invalid syntax (1050214242.py, line 3)",
     "output_type": "error",
     "traceback": [
      "\u001b[0;36m  File \u001b[0;32m\"/var/folders/4m/s0rbhscx6rl_1_04dd4yvbf40000gn/T/ipykernel_32335/1050214242.py\"\u001b[0;36m, line \u001b[0;32m3\u001b[0m\n\u001b[0;31m    Ambient, New Age, Chill, Sleep,\u001b[0m\n\u001b[0m                 ^\u001b[0m\n\u001b[0;31mSyntaxError\u001b[0m\u001b[0;31m:\u001b[0m invalid syntax\n"
     ]
    }
   ],
   "source": [
    "\n",
    "Acoustic, Folk, Singer-Songwriter,\n",
    "Alternative, Emo, Indie, Punk, Grunge,\n",
    "Ambient, New Age, Chill, Sleep,\n",
    "Anime, J-Pop, J-Rock, J-Idol, J-Dance,\n",
    "Black Metal, Death Metal, Grindcore, Metal, Metalcore,\n",
    "Blues, Soul,\n",
    "Brazilian, Forro, MPB, Samba, Pagode, Sertanejo,\n",
    "Breakbeat, Drum and Bass, Dub, Dubstep, Jungle, Trip-hop,\n",
    "Britpop, British, Indie-pop, Power-pop,\n",
    "Cantopop, K-Pop, Mandopop,\n",
    "Chicago House, Detroit Techno, House, Techno, Trance,\n",
    "Children, Kids,\n",
    "Classical, Opera,\n",
    "Club, Dance, EDM, Electronic, Synth-pop,\n",
    "Comedy,\n",
    "Country, Honky-tonk,\n",
    "Disco,\n",
    "Disney, Pop Film, Show Tunes,\n",
    "French,\n",
    "Funk, Groove,\n",
    "Garage, Hard Rock, Heavy Metal,\n",
    "German,\n",
    "Gospel,\n",
    "Goth,\n",
    "Happy, Party,\n",
    "Hip Hop, Rap, R&B, Reggae, Reggaeton,\n",
    "Indian, Iranian, Turkish, Spanish, Latin, Malay, World Music,\n",
    "Jazz,\n",
    "Piano, Instrumental,\n",
    "Romance, Sad"
   ]
  },
  {
   "cell_type": "code",
   "execution_count": 50,
   "id": "34ce5f0e",
   "metadata": {},
   "outputs": [],
   "source": [
    "\n",
    "l1 = ['Acoustic, Folk, Singer-Songwriter, ',\n",
    "'Alternative, Emo, Indie, Punk, Grunge, ',\n",
    "'Ambient, New Age, Chill, Sleep, ',\n",
    "'Anime, J-Pop, J-Rock, J-Idol, J-Dance, ',\n",
    "'Black Metal, Death Metal, Grindcore, Metal, Metalcore, ',\n",
    "'Blues, Soul, ',\n",
    "'Brazilian, Forro, MPB, Samba, Pagode, Sertanejo, ',\n",
    "'Breakbeat, Drum and Bass, Dub, Dubstep, Jungle, Trip-hop, ',\n",
    "'Britpop, British, Indie-pop, Power-pop, ',\n",
    "'Cantopop, K-Pop, Mandopop, ',\n",
    "'Chicago House, Detroit Techno, House, Techno, Trance, ',\n",
    "'Children, Kids, ',\n",
    "'Classical, Opera, ',\n",
    "'Club, Dance, EDM, Electronic, Synth-pop, ',\n",
    "'Comedy, ',\n",
    "'Country, Honky-tonk, ',\n",
    "'Disco, ',\n",
    "'Disney, Pop Film, Show Tunes, ',\n",
    "'French, ',\n",
    "'Funk, Groove, ',\n",
    "'Garage, Hard Rock, Heavy Metal, ',\n",
    "'German, ',\n",
    "'Gospel, ',\n",
    "'Goth, ',\n",
    "'Happy, Party, ',\n",
    "'Hip Hop, Rap, R&B, Reggae, Reggaeton, ',\n",
    "'Indian, Iranian, Turkish, Spanish, Latin, Malay, World Music, ',\n",
    "'Jazz, ',\n",
    "'Piano, Instrumental, ',\n",
    "'Romance, Sad']"
   ]
  },
  {
   "cell_type": "code",
   "execution_count": 51,
   "id": "afa15461",
   "metadata": {},
   "outputs": [],
   "source": [
    "l2 = []\n",
    "for i in l1:\n",
    "    l2.append(i.split(', '))\n",
    "    \n",
    "    \n",
    "    \n",
    "\n",
    "for a in range(len(l2)-1):\n",
    "    l2[a].pop()\n"
   ]
  },
  {
   "cell_type": "code",
   "execution_count": 52,
   "id": "14c7501b",
   "metadata": {},
   "outputs": [
    {
     "data": {
      "text/plain": [
       "[['Acoustic', 'Folk', 'Singer-Songwriter'],\n",
       " ['Alternative', 'Emo', 'Indie', 'Punk', 'Grunge'],\n",
       " ['Ambient', 'New Age', 'Chill', 'Sleep'],\n",
       " ['Anime', 'J-Pop', 'J-Rock', 'J-Idol', 'J-Dance'],\n",
       " ['Black Metal', 'Death Metal', 'Grindcore', 'Metal', 'Metalcore'],\n",
       " ['Blues', 'Soul'],\n",
       " ['Brazilian', 'Forro', 'MPB', 'Samba', 'Pagode', 'Sertanejo'],\n",
       " ['Breakbeat', 'Drum and Bass', 'Dub', 'Dubstep', 'Jungle', 'Trip-hop'],\n",
       " ['Britpop', 'British', 'Indie-pop', 'Power-pop'],\n",
       " ['Cantopop', 'K-Pop', 'Mandopop'],\n",
       " ['Chicago House', 'Detroit Techno', 'House', 'Techno', 'Trance'],\n",
       " ['Children', 'Kids'],\n",
       " ['Classical', 'Opera'],\n",
       " ['Club', 'Dance', 'EDM', 'Electronic', 'Synth-pop'],\n",
       " ['Comedy'],\n",
       " ['Country', 'Honky-tonk'],\n",
       " ['Disco'],\n",
       " ['Disney', 'Pop Film', 'Show Tunes'],\n",
       " ['French'],\n",
       " ['Funk', 'Groove'],\n",
       " ['Garage', 'Hard Rock', 'Heavy Metal'],\n",
       " ['German'],\n",
       " ['Gospel'],\n",
       " ['Goth'],\n",
       " ['Happy', 'Party'],\n",
       " ['Hip Hop', 'Rap', 'R&B', 'Reggae', 'Reggaeton'],\n",
       " ['Indian', 'Iranian', 'Turkish', 'Spanish', 'Latin', 'Malay', 'World Music'],\n",
       " ['Jazz'],\n",
       " ['Piano', 'Instrumental'],\n",
       " ['Romance', 'Sad']]"
      ]
     },
     "execution_count": 52,
     "metadata": {},
     "output_type": "execute_result"
    }
   ],
   "source": [
    "df = pd.DataFrame({})"
   ]
  },
  {
   "cell_type": "code",
   "execution_count": 53,
   "id": "3cbd543f",
   "metadata": {},
   "outputs": [
    {
     "ename": "ValueError",
     "evalue": "All arrays must be of the same length",
     "output_type": "error",
     "traceback": [
      "\u001b[0;31m---------------------------------------------------------------------------\u001b[0m",
      "\u001b[0;31mValueError\u001b[0m                                Traceback (most recent call last)",
      "\u001b[0;32m/var/folders/4m/s0rbhscx6rl_1_04dd4yvbf40000gn/T/ipykernel_32335/3253083473.py\u001b[0m in \u001b[0;36m<module>\u001b[0;34m\u001b[0m\n\u001b[0;32m----> 1\u001b[0;31m df = pd.DataFrame({'G1':['Acoustic', 'Folk', 'Singer-Songwriter'],\n\u001b[0m\u001b[1;32m      2\u001b[0m \u001b[0;34m'G2'\u001b[0m\u001b[0;34m:\u001b[0m\u001b[0;34m[\u001b[0m\u001b[0;34m'Alternative'\u001b[0m\u001b[0;34m,\u001b[0m \u001b[0;34m'Emo'\u001b[0m\u001b[0;34m,\u001b[0m \u001b[0;34m'Indie'\u001b[0m\u001b[0;34m,\u001b[0m \u001b[0;34m'Punk'\u001b[0m\u001b[0;34m,\u001b[0m \u001b[0;34m'Grunge'\u001b[0m\u001b[0;34m]\u001b[0m\u001b[0;34m,\u001b[0m\u001b[0;34m\u001b[0m\u001b[0;34m\u001b[0m\u001b[0m\n\u001b[1;32m      3\u001b[0m \u001b[0;34m'G3'\u001b[0m\u001b[0;34m:\u001b[0m\u001b[0;34m[\u001b[0m\u001b[0;34m'Ambient'\u001b[0m\u001b[0;34m,\u001b[0m \u001b[0;34m'New Age'\u001b[0m\u001b[0;34m,\u001b[0m \u001b[0;34m'Chill'\u001b[0m\u001b[0;34m,\u001b[0m \u001b[0;34m'Sleep'\u001b[0m\u001b[0;34m]\u001b[0m\u001b[0;34m,\u001b[0m\u001b[0;34m\u001b[0m\u001b[0;34m\u001b[0m\u001b[0m\n\u001b[1;32m      4\u001b[0m \u001b[0;34m'G4'\u001b[0m\u001b[0;34m:\u001b[0m\u001b[0;34m[\u001b[0m\u001b[0;34m'Anime'\u001b[0m\u001b[0;34m,\u001b[0m \u001b[0;34m'J-Pop'\u001b[0m\u001b[0;34m,\u001b[0m \u001b[0;34m'J-Rock'\u001b[0m\u001b[0;34m,\u001b[0m \u001b[0;34m'J-Idol'\u001b[0m\u001b[0;34m,\u001b[0m \u001b[0;34m'J-Dance'\u001b[0m\u001b[0;34m]\u001b[0m\u001b[0;34m,\u001b[0m\u001b[0;34m\u001b[0m\u001b[0;34m\u001b[0m\u001b[0m\n\u001b[1;32m      5\u001b[0m \u001b[0;34m'G5'\u001b[0m\u001b[0;34m:\u001b[0m\u001b[0;34m[\u001b[0m\u001b[0;34m'Black Metal'\u001b[0m\u001b[0;34m,\u001b[0m \u001b[0;34m'Death Metal'\u001b[0m\u001b[0;34m,\u001b[0m \u001b[0;34m'Grindcore'\u001b[0m\u001b[0;34m,\u001b[0m \u001b[0;34m'Metal'\u001b[0m\u001b[0;34m,\u001b[0m \u001b[0;34m'Metalcore'\u001b[0m\u001b[0;34m]\u001b[0m\u001b[0;34m,\u001b[0m\u001b[0;34m\u001b[0m\u001b[0;34m\u001b[0m\u001b[0m\n",
      "\u001b[0;32m~/opt/anaconda3/lib/python3.9/site-packages/pandas/core/frame.py\u001b[0m in \u001b[0;36m__init__\u001b[0;34m(self, data, index, columns, dtype, copy)\u001b[0m\n\u001b[1;32m    634\u001b[0m         \u001b[0;32melif\u001b[0m \u001b[0misinstance\u001b[0m\u001b[0;34m(\u001b[0m\u001b[0mdata\u001b[0m\u001b[0;34m,\u001b[0m \u001b[0mdict\u001b[0m\u001b[0;34m)\u001b[0m\u001b[0;34m:\u001b[0m\u001b[0;34m\u001b[0m\u001b[0;34m\u001b[0m\u001b[0m\n\u001b[1;32m    635\u001b[0m             \u001b[0;31m# GH#38939 de facto copy defaults to False only in non-dict cases\u001b[0m\u001b[0;34m\u001b[0m\u001b[0;34m\u001b[0m\u001b[0m\n\u001b[0;32m--> 636\u001b[0;31m             \u001b[0mmgr\u001b[0m \u001b[0;34m=\u001b[0m \u001b[0mdict_to_mgr\u001b[0m\u001b[0;34m(\u001b[0m\u001b[0mdata\u001b[0m\u001b[0;34m,\u001b[0m \u001b[0mindex\u001b[0m\u001b[0;34m,\u001b[0m \u001b[0mcolumns\u001b[0m\u001b[0;34m,\u001b[0m \u001b[0mdtype\u001b[0m\u001b[0;34m=\u001b[0m\u001b[0mdtype\u001b[0m\u001b[0;34m,\u001b[0m \u001b[0mcopy\u001b[0m\u001b[0;34m=\u001b[0m\u001b[0mcopy\u001b[0m\u001b[0;34m,\u001b[0m \u001b[0mtyp\u001b[0m\u001b[0;34m=\u001b[0m\u001b[0mmanager\u001b[0m\u001b[0;34m)\u001b[0m\u001b[0;34m\u001b[0m\u001b[0;34m\u001b[0m\u001b[0m\n\u001b[0m\u001b[1;32m    637\u001b[0m         \u001b[0;32melif\u001b[0m \u001b[0misinstance\u001b[0m\u001b[0;34m(\u001b[0m\u001b[0mdata\u001b[0m\u001b[0;34m,\u001b[0m \u001b[0mma\u001b[0m\u001b[0;34m.\u001b[0m\u001b[0mMaskedArray\u001b[0m\u001b[0;34m)\u001b[0m\u001b[0;34m:\u001b[0m\u001b[0;34m\u001b[0m\u001b[0;34m\u001b[0m\u001b[0m\n\u001b[1;32m    638\u001b[0m             \u001b[0;32mimport\u001b[0m \u001b[0mnumpy\u001b[0m\u001b[0;34m.\u001b[0m\u001b[0mma\u001b[0m\u001b[0;34m.\u001b[0m\u001b[0mmrecords\u001b[0m \u001b[0;32mas\u001b[0m \u001b[0mmrecords\u001b[0m\u001b[0;34m\u001b[0m\u001b[0;34m\u001b[0m\u001b[0m\n",
      "\u001b[0;32m~/opt/anaconda3/lib/python3.9/site-packages/pandas/core/internals/construction.py\u001b[0m in \u001b[0;36mdict_to_mgr\u001b[0;34m(data, index, columns, dtype, typ, copy)\u001b[0m\n\u001b[1;32m    500\u001b[0m         \u001b[0;31m# TODO: can we get rid of the dt64tz special case above?\u001b[0m\u001b[0;34m\u001b[0m\u001b[0;34m\u001b[0m\u001b[0m\n\u001b[1;32m    501\u001b[0m \u001b[0;34m\u001b[0m\u001b[0m\n\u001b[0;32m--> 502\u001b[0;31m     \u001b[0;32mreturn\u001b[0m \u001b[0marrays_to_mgr\u001b[0m\u001b[0;34m(\u001b[0m\u001b[0marrays\u001b[0m\u001b[0;34m,\u001b[0m \u001b[0mcolumns\u001b[0m\u001b[0;34m,\u001b[0m \u001b[0mindex\u001b[0m\u001b[0;34m,\u001b[0m \u001b[0mdtype\u001b[0m\u001b[0;34m=\u001b[0m\u001b[0mdtype\u001b[0m\u001b[0;34m,\u001b[0m \u001b[0mtyp\u001b[0m\u001b[0;34m=\u001b[0m\u001b[0mtyp\u001b[0m\u001b[0;34m,\u001b[0m \u001b[0mconsolidate\u001b[0m\u001b[0;34m=\u001b[0m\u001b[0mcopy\u001b[0m\u001b[0;34m)\u001b[0m\u001b[0;34m\u001b[0m\u001b[0;34m\u001b[0m\u001b[0m\n\u001b[0m\u001b[1;32m    503\u001b[0m \u001b[0;34m\u001b[0m\u001b[0m\n\u001b[1;32m    504\u001b[0m \u001b[0;34m\u001b[0m\u001b[0m\n",
      "\u001b[0;32m~/opt/anaconda3/lib/python3.9/site-packages/pandas/core/internals/construction.py\u001b[0m in \u001b[0;36marrays_to_mgr\u001b[0;34m(arrays, columns, index, dtype, verify_integrity, typ, consolidate)\u001b[0m\n\u001b[1;32m    118\u001b[0m         \u001b[0;31m# figure out the index, if necessary\u001b[0m\u001b[0;34m\u001b[0m\u001b[0;34m\u001b[0m\u001b[0m\n\u001b[1;32m    119\u001b[0m         \u001b[0;32mif\u001b[0m \u001b[0mindex\u001b[0m \u001b[0;32mis\u001b[0m \u001b[0;32mNone\u001b[0m\u001b[0;34m:\u001b[0m\u001b[0;34m\u001b[0m\u001b[0;34m\u001b[0m\u001b[0m\n\u001b[0;32m--> 120\u001b[0;31m             \u001b[0mindex\u001b[0m \u001b[0;34m=\u001b[0m \u001b[0m_extract_index\u001b[0m\u001b[0;34m(\u001b[0m\u001b[0marrays\u001b[0m\u001b[0;34m)\u001b[0m\u001b[0;34m\u001b[0m\u001b[0;34m\u001b[0m\u001b[0m\n\u001b[0m\u001b[1;32m    121\u001b[0m         \u001b[0;32melse\u001b[0m\u001b[0;34m:\u001b[0m\u001b[0;34m\u001b[0m\u001b[0;34m\u001b[0m\u001b[0m\n\u001b[1;32m    122\u001b[0m             \u001b[0mindex\u001b[0m \u001b[0;34m=\u001b[0m \u001b[0mensure_index\u001b[0m\u001b[0;34m(\u001b[0m\u001b[0mindex\u001b[0m\u001b[0;34m)\u001b[0m\u001b[0;34m\u001b[0m\u001b[0;34m\u001b[0m\u001b[0m\n",
      "\u001b[0;32m~/opt/anaconda3/lib/python3.9/site-packages/pandas/core/internals/construction.py\u001b[0m in \u001b[0;36m_extract_index\u001b[0;34m(data)\u001b[0m\n\u001b[1;32m    672\u001b[0m             \u001b[0mlengths\u001b[0m \u001b[0;34m=\u001b[0m \u001b[0mlist\u001b[0m\u001b[0;34m(\u001b[0m\u001b[0mset\u001b[0m\u001b[0;34m(\u001b[0m\u001b[0mraw_lengths\u001b[0m\u001b[0;34m)\u001b[0m\u001b[0;34m)\u001b[0m\u001b[0;34m\u001b[0m\u001b[0;34m\u001b[0m\u001b[0m\n\u001b[1;32m    673\u001b[0m             \u001b[0;32mif\u001b[0m \u001b[0mlen\u001b[0m\u001b[0;34m(\u001b[0m\u001b[0mlengths\u001b[0m\u001b[0;34m)\u001b[0m \u001b[0;34m>\u001b[0m \u001b[0;36m1\u001b[0m\u001b[0;34m:\u001b[0m\u001b[0;34m\u001b[0m\u001b[0;34m\u001b[0m\u001b[0m\n\u001b[0;32m--> 674\u001b[0;31m                 \u001b[0;32mraise\u001b[0m \u001b[0mValueError\u001b[0m\u001b[0;34m(\u001b[0m\u001b[0;34m\"All arrays must be of the same length\"\u001b[0m\u001b[0;34m)\u001b[0m\u001b[0;34m\u001b[0m\u001b[0;34m\u001b[0m\u001b[0m\n\u001b[0m\u001b[1;32m    675\u001b[0m \u001b[0;34m\u001b[0m\u001b[0m\n\u001b[1;32m    676\u001b[0m             \u001b[0;32mif\u001b[0m \u001b[0mhave_dicts\u001b[0m\u001b[0;34m:\u001b[0m\u001b[0;34m\u001b[0m\u001b[0;34m\u001b[0m\u001b[0m\n",
      "\u001b[0;31mValueError\u001b[0m: All arrays must be of the same length"
     ]
    }
   ],
   "source": [
    "df = pd.DataFrame({'G1':['Acoustic', 'Folk', 'Singer-Songwriter'],\n",
    "'G2':['Alternative', 'Emo', 'Indie', 'Punk', 'Grunge'],\n",
    "'G3':['Ambient', 'New Age', 'Chill', 'Sleep'],\n",
    "'G4':['Anime', 'J-Pop', 'J-Rock', 'J-Idol', 'J-Dance'],\n",
    "'G5':['Black Metal', 'Death Metal', 'Grindcore', 'Metal', 'Metalcore'],\n",
    "'G6':['Blues', 'Soul'],\n",
    "'G7':['Brazilian', 'Forro', 'MPB', 'Samba', 'Pagode', 'Sertanejo'],\n",
    "'G8':['Breakbeat', 'Drum and Bass', 'Dub', 'Dubstep', 'Jungle', 'Trip-hop'],\n",
    "'G9':['Britpop', 'British', 'Indie-pop', 'Power-pop'],\n",
    "'G10':['Cantopop', 'K-Pop', 'Mandopop'],\n",
    "'G11':['Chicago House', 'Detroit Techno', 'House', 'Techno', 'Trance'],\n",
    "'G12':['Children', 'Kids'],\n",
    "'G13':['Classical', 'Opera'],\n",
    "'G14':['Club', 'Dance', 'EDM', 'Electronic', 'Synth-pop'],\n",
    "'G15':['Comedy'],\n",
    "'G16':['Country', 'Honky-tonk'],\n",
    "'G17':['Disco'],\n",
    "'G18':['Disney', 'Pop Film', 'Show Tunes'],\n",
    "'G19':['French'],\n",
    "'G20':['Funk', 'Groove'],\n",
    "'G21':['Garage', 'Hard Rock', 'Heavy Metal'],\n",
    "'G22':['German'],\n",
    "'G23':['Gospel'],\n",
    "'G24':['Goth'],\n",
    "'G25':['Happy', 'Party'],\n",
    "'G26':['Hip Hop', 'Rap', 'R&B', 'Reggae', 'Reggaeton'],\n",
    "'G27':['Indian', 'Iranian', 'Turkish', 'Spanish', 'Latin', 'Malay', 'World Music'],\n",
    "'G28':['Jazz'],\n",
    "'G29':['Piano', 'Instrumental'],\n",
    "'G30':['Romance', 'Sad']})"
   ]
  },
  {
   "cell_type": "code",
   "execution_count": 39,
   "id": "4c9a0a7f",
   "metadata": {},
   "outputs": [
    {
     "ename": "AttributeError",
     "evalue": "'list' object has no attribute 'split'",
     "output_type": "error",
     "traceback": [
      "\u001b[0;31m---------------------------------------------------------------------------\u001b[0m",
      "\u001b[0;31mAttributeError\u001b[0m                            Traceback (most recent call last)",
      "\u001b[0;32m/var/folders/4m/s0rbhscx6rl_1_04dd4yvbf40000gn/T/ipykernel_32335/743869392.py\u001b[0m in \u001b[0;36m<module>\u001b[0;34m\u001b[0m\n\u001b[1;32m      1\u001b[0m \u001b[0ml3\u001b[0m \u001b[0;34m=\u001b[0m \u001b[0;34m[\u001b[0m\u001b[0;34m]\u001b[0m\u001b[0;34m\u001b[0m\u001b[0;34m\u001b[0m\u001b[0m\n\u001b[1;32m      2\u001b[0m \u001b[0;32mfor\u001b[0m \u001b[0mi\u001b[0m \u001b[0;32min\u001b[0m \u001b[0ml2\u001b[0m\u001b[0;34m:\u001b[0m\u001b[0;34m\u001b[0m\u001b[0;34m\u001b[0m\u001b[0m\n\u001b[0;32m----> 3\u001b[0;31m     \u001b[0ml3\u001b[0m\u001b[0;34m.\u001b[0m\u001b[0mappend\u001b[0m\u001b[0;34m(\u001b[0m\u001b[0mi\u001b[0m\u001b[0;34m.\u001b[0m\u001b[0msplit\u001b[0m\u001b[0;34m(\u001b[0m\u001b[0;34m','\u001b[0m\u001b[0;34m)\u001b[0m\u001b[0;34m)\u001b[0m\u001b[0;34m\u001b[0m\u001b[0;34m\u001b[0m\u001b[0m\n\u001b[0m",
      "\u001b[0;31mAttributeError\u001b[0m: 'list' object has no attribute 'split'"
     ]
    }
   ],
   "source": [
    "l3 = []\n",
    "for i in l2:\n",
    "    l3.append(i.split(','))"
   ]
  },
  {
   "cell_type": "code",
   "execution_count": 42,
   "id": "69710b43",
   "metadata": {},
   "outputs": [
    {
     "data": {
      "text/plain": [
       "[['Acoustic', 'Folk', 'Singer-Songwriter', ''],\n",
       " ['Alternative', 'Emo', 'Indie', 'Punk', 'Grunge', ''],\n",
       " ['Ambient', 'New Age', 'Chill', 'Sleep', ''],\n",
       " ['Anime', 'J-Pop', 'J-Rock', 'J-Idol', 'J-Dance', ''],\n",
       " ['Black Metal', 'Death Metal', 'Grindcore', 'Metal', 'Metalcore', ''],\n",
       " ['Blues', 'Soul', ''],\n",
       " ['Brazilian', 'Forro', 'MPB', 'Samba', 'Pagode', 'Sertanejo', ''],\n",
       " ['Breakbeat', 'Drum and Bass', 'Dub', 'Dubstep', 'Jungle', 'Trip-hop', ''],\n",
       " ['Britpop', 'British', 'Indie-pop', 'Power-pop', ''],\n",
       " ['Cantopop', 'K-Pop', 'Mandopop', ''],\n",
       " ['Chicago House', 'Detroit Techno', 'House', 'Techno', 'Trance', ''],\n",
       " ['Children', 'Kids', ''],\n",
       " ['Classical', 'Opera', ''],\n",
       " ['Club', 'Dance', 'EDM', 'Electronic', 'Synth-pop', ''],\n",
       " ['Comedy', ''],\n",
       " ['Country', 'Honky-tonk', ''],\n",
       " ['Disco', ''],\n",
       " ['Disney', 'Pop Film', 'Show Tunes', ''],\n",
       " ['French', ''],\n",
       " ['Funk', 'Groove', ''],\n",
       " ['Garage', 'Hard Rock', 'Heavy Metal', ''],\n",
       " ['German', ''],\n",
       " ['Gospel', ''],\n",
       " ['Goth', ''],\n",
       " ['Happy', 'Party', ''],\n",
       " ['Hip Hop', 'Rap', 'R&B', 'Reggae', 'Reggaeton', ''],\n",
       " ['Indian',\n",
       "  'Iranian',\n",
       "  'Turkish',\n",
       "  'Spanish',\n",
       "  'Latin',\n",
       "  'Malay',\n",
       "  'World Music',\n",
       "  ''],\n",
       " ['Jazz', ''],\n",
       " ['Piano', 'Instrumental', ''],\n",
       " ['Romance', 'Sad']]"
      ]
     },
     "execution_count": 42,
     "metadata": {},
     "output_type": "execute_result"
    }
   ],
   "source": [
    "l2"
   ]
  },
  {
   "cell_type": "code",
   "execution_count": 28,
   "id": "0aca3b9d",
   "metadata": {},
   "outputs": [],
   "source": [
    "s = ''\n",
    "s += 'Acoustic, Folk, Singer-Songwriter, '\n",
    "s += 'Alternative, Emo, Indie, Punk, Grunge, '\n",
    "s += 'Ambient, New Age, Chill, Sleep, '\n",
    "s += 'Anime, J-Pop, J-Rock, J-Idol, J-Dance, '\n",
    "s += 'Black Metal, Death Metal, Grindcore, Metal, Metalcore, '\n",
    "s += 'Blues, Soul, '\n",
    "s += 'Brazilian, Forro, MPB, Samba, Pagode, Sertanejo, '\n",
    "s += 'Breakbeat, Drum and Bass, Dub, Dubstep, Jungle, Trip-hop, '\n",
    "s += 'Britpop, British, Indie-pop, Power-pop, '\n",
    "s += 'Cantopop, K-Pop, Mandopop, '\n",
    "s += 'Chicago House, Detroit Techno, House, Techno, Trance, '\n",
    "s += 'Children, Kids, '\n",
    "s += 'Classical, Opera, '\n",
    "s += 'Club, Dance, EDM, Electronic, Synth-pop, '\n",
    "s += 'Comedy, '\n",
    "s += 'Country, Honky-tonk, '\n",
    "s += 'Disco, '\n",
    "s += 'Disney, Pop Film, Show Tunes, '\n",
    "s += 'French, '\n",
    "s += 'Funk, Groove, '\n",
    "s += 'Garage, Hard Rock, Heavy Metal, '\n",
    "s += 'German, '\n",
    "s += 'Gospel, '\n",
    "s += 'Goth, '\n",
    "s += 'Happy, Party, '\n",
    "s += 'Hip Hop, Rap, R&B, Reggae, Reggaeton, '\n",
    "s += 'Indian, Iranian, Turkish, Spanish, Latin, Malay, World Music, '\n",
    "s += 'Jazz, '\n",
    "s += 'Piano, Instrumental, '\n",
    "s += 'Romance, Sad '"
   ]
  },
  {
   "cell_type": "code",
   "execution_count": 29,
   "id": "cc391919",
   "metadata": {},
   "outputs": [],
   "source": [
    "l = s.split(', ')"
   ]
  },
  {
   "cell_type": "code",
   "execution_count": 30,
   "id": "68c8aaf1",
   "metadata": {},
   "outputs": [
    {
     "data": {
      "text/plain": [
       "['Acoustic',\n",
       " 'Folk',\n",
       " 'Singer-Songwriter',\n",
       " 'Alternative',\n",
       " 'Emo',\n",
       " 'Indie',\n",
       " 'Punk',\n",
       " 'Grunge',\n",
       " 'Ambient',\n",
       " 'New Age',\n",
       " 'Chill',\n",
       " 'Sleep',\n",
       " 'Anime',\n",
       " 'J-Pop',\n",
       " 'J-Rock',\n",
       " 'J-Idol',\n",
       " 'J-Dance',\n",
       " 'Black Metal',\n",
       " 'Death Metal',\n",
       " 'Grindcore',\n",
       " 'Metal',\n",
       " 'Metalcore',\n",
       " 'Blues',\n",
       " 'Soul',\n",
       " 'Brazilian',\n",
       " 'Forro',\n",
       " 'MPB',\n",
       " 'Samba',\n",
       " 'Pagode',\n",
       " 'Sertanejo',\n",
       " 'Breakbeat',\n",
       " 'Drum and Bass',\n",
       " 'Dub',\n",
       " 'Dubstep',\n",
       " 'Jungle',\n",
       " 'Trip-hop',\n",
       " 'Britpop',\n",
       " 'British',\n",
       " 'Indie-pop',\n",
       " 'Power-pop',\n",
       " 'Cantopop',\n",
       " 'K-Pop',\n",
       " 'Mandopop',\n",
       " 'Chicago House',\n",
       " 'Detroit Techno',\n",
       " 'House',\n",
       " 'Techno',\n",
       " 'Trance',\n",
       " 'Children',\n",
       " 'Kids',\n",
       " 'Classical',\n",
       " 'Opera',\n",
       " 'Club',\n",
       " 'Dance',\n",
       " 'EDM',\n",
       " 'Electronic',\n",
       " 'Synth-pop',\n",
       " 'Comedy',\n",
       " 'Country',\n",
       " 'Honky-tonk',\n",
       " 'Disco',\n",
       " 'Disney',\n",
       " 'Pop Film',\n",
       " 'Show Tunes',\n",
       " 'French',\n",
       " 'Funk',\n",
       " 'Groove',\n",
       " 'Garage',\n",
       " 'Hard Rock',\n",
       " 'Heavy Metal',\n",
       " 'German',\n",
       " 'Gospel',\n",
       " 'Goth',\n",
       " 'Happy',\n",
       " 'Party',\n",
       " 'Hip Hop',\n",
       " 'Rap',\n",
       " 'R&B',\n",
       " 'Reggae',\n",
       " 'Reggaeton',\n",
       " 'Indian',\n",
       " 'Iranian',\n",
       " 'Turkish',\n",
       " 'Spanish',\n",
       " 'Latin',\n",
       " 'Malay',\n",
       " 'World Music',\n",
       " 'Jazz',\n",
       " 'Piano',\n",
       " 'Instrumental',\n",
       " 'Romance',\n",
       " 'Sad ']"
      ]
     },
     "execution_count": 30,
     "metadata": {},
     "output_type": "execute_result"
    }
   ],
   "source": [
    "l"
   ]
  },
  {
   "cell_type": "code",
   "execution_count": 9,
   "id": "90434382",
   "metadata": {},
   "outputs": [],
   "source": [
    "for x in range(1,len(l)):\n",
    "    l[x] = l[x][1:]"
   ]
  },
  {
   "cell_type": "code",
   "execution_count": 23,
   "id": "5a5e6cb2",
   "metadata": {},
   "outputs": [],
   "source": [
    "for x in range(len(l)):\n",
    "    l[x] = l[x].strip()"
   ]
  },
  {
   "cell_type": "code",
   "execution_count": 26,
   "id": "74d49cf4",
   "metadata": {},
   "outputs": [],
   "source": [
    "import pandas as pd\n",
    "df = pd.DataFrame({'Genres':l})"
   ]
  },
  {
   "cell_type": "code",
   "execution_count": 27,
   "id": "b0feb64b",
   "metadata": {},
   "outputs": [
    {
     "data": {
      "text/html": [
       "<div>\n",
       "<style scoped>\n",
       "    .dataframe tbody tr th:only-of-type {\n",
       "        vertical-align: middle;\n",
       "    }\n",
       "\n",
       "    .dataframe tbody tr th {\n",
       "        vertical-align: top;\n",
       "    }\n",
       "\n",
       "    .dataframe thead th {\n",
       "        text-align: right;\n",
       "    }\n",
       "</style>\n",
       "<table border=\"1\" class=\"dataframe\">\n",
       "  <thead>\n",
       "    <tr style=\"text-align: right;\">\n",
       "      <th></th>\n",
       "      <th>Genres</th>\n",
       "    </tr>\n",
       "  </thead>\n",
       "  <tbody>\n",
       "    <tr>\n",
       "      <th>0</th>\n",
       "      <td>Acoustic</td>\n",
       "    </tr>\n",
       "    <tr>\n",
       "      <th>1</th>\n",
       "      <td>Folk</td>\n",
       "    </tr>\n",
       "    <tr>\n",
       "      <th>2</th>\n",
       "      <td>Singer-Songwriter</td>\n",
       "    </tr>\n",
       "    <tr>\n",
       "      <th>3</th>\n",
       "      <td>Alternative</td>\n",
       "    </tr>\n",
       "    <tr>\n",
       "      <th>4</th>\n",
       "      <td>Emo</td>\n",
       "    </tr>\n",
       "    <tr>\n",
       "      <th>...</th>\n",
       "      <td>...</td>\n",
       "    </tr>\n",
       "    <tr>\n",
       "      <th>87</th>\n",
       "      <td>Jazz</td>\n",
       "    </tr>\n",
       "    <tr>\n",
       "      <th>88</th>\n",
       "      <td>Piano</td>\n",
       "    </tr>\n",
       "    <tr>\n",
       "      <th>89</th>\n",
       "      <td>Instrumental</td>\n",
       "    </tr>\n",
       "    <tr>\n",
       "      <th>90</th>\n",
       "      <td>Romance</td>\n",
       "    </tr>\n",
       "    <tr>\n",
       "      <th>91</th>\n",
       "      <td>Sad</td>\n",
       "    </tr>\n",
       "  </tbody>\n",
       "</table>\n",
       "<p>92 rows × 1 columns</p>\n",
       "</div>"
      ],
      "text/plain": [
       "               Genres\n",
       "0            Acoustic\n",
       "1                Folk\n",
       "2   Singer-Songwriter\n",
       "3         Alternative\n",
       "4                 Emo\n",
       "..                ...\n",
       "87               Jazz\n",
       "88              Piano\n",
       "89       Instrumental\n",
       "90            Romance\n",
       "91                Sad\n",
       "\n",
       "[92 rows x 1 columns]"
      ]
     },
     "execution_count": 27,
     "metadata": {},
     "output_type": "execute_result"
    }
   ],
   "source": [
    "df"
   ]
  },
  {
   "cell_type": "code",
   "execution_count": 3,
   "id": "044662dc",
   "metadata": {},
   "outputs": [],
   "source": [
    "acoustic_folk_singer_songwriter = ['acoustic', 'folk', 'singer-songwriter']\n",
    "afro_brazilian_forro_mpb_samba_pagode_sertanejo_world_music = ['afrobeat', 'brazil', 'forro', 'mpb', 'samba', 'pagode', 'sertanejo', 'world-music']\n",
    "alternative_indie_grunge = ['alt-rock', 'alternative', 'indie', 'grunge']\n",
    "ambient_new_age_sleep = ['ambient', 'new-age', 'sleep']\n",
    "anime_jpop_jrock = ['anime', 'j-pop', 'j-rock']\n",
    "black_metal_death_metal_metalcore = ['black-metal', 'death-metal', 'metalcore']\n",
    "blues_soul = ['blues', 'soul']\n",
    "breakbeat_drum_and_bass_dubstep_trip_hop = ['breakbeat', 'drum-and-bass', 'dubstep', 'trip-hop']\n",
    "britpop_indie_pop_power_pop = ['british', 'indie-pop', 'power-pop']\n",
    "cantopop_kpop_mandopop = ['cantopop', 'k-pop', 'mandopop']\n",
    "chicago_house_detroit_techno_house_trance = ['chicago-house', 'detroit-techno', 'house', 'trance']\n",
    "children = ['children']\n",
    "classical_opera = ['classical', 'opera']\n",
    "club_dance_edm_synth_pop = ['club', 'dance', 'edm', 'synth-pop']\n",
    "comedy = ['comedy']\n",
    "country_honky_tonk = ['country', 'honky-tonk']\n",
    "disco = ['disco']\n",
    "disney_pop_film_show_tunes = ['disney', 'pop-film', 'show-tunes']\n",
    "french_spanish_latin_malay = ['french', 'spanish', 'latin', 'malay']\n",
    "funk_groove = ['funk', 'groove']\n",
    "garage_hard_rock_heavy_metal = ['garage', 'hard-rock', 'heavy-metal']\n",
    "german_industrial = ['german', 'industrial']\n",
    "gospel = ['gospel']\n",
    "goth = ['goth']\n",
    "hip_hop_rap_rnb_reggae_reggaeton = ['hip-hop', 'rap', 'r-n-b', 'reggae', 'reggaeton']\n",
    "indian_iranian_turkish = ['indian', 'iranian', 'turkish']\n",
    "jazz = ['jazz']\n",
    "piano_instrumental = ['piano', 'instrumental']\n",
    "pop = ['pop']\n",
    "techno_electronic = ['techno', 'electronic']\n"
   ]
  },
  {
   "cell_type": "code",
   "execution_count": 8,
   "id": "a9db7673",
   "metadata": {},
   "outputs": [
    {
     "data": {
      "text/plain": [
       "'[acoustic_folk_singer_songwriter, afro_brazilian_forro_mpb_samba_pagode_sertanejo_world_music, alternative_indie_grunge, ambient_new_age_sleep, anime_jpop_jrock, black_metal_death_metal_metalcore, blues_soul, breakbeat_drum_and_bass_dubstep_trip_hop, britpop_indie_pop_power_pop, cantopop_kpop_mandopop, chicago_house_detroit_techno_house_trance, children, classical_opera, club_dance_edm_synth_pop, comedy, country_honky_tonk, disco, disney_pop_film_show_tunes, french_spanish_latin_malay, funk_groove, garage_hard_rock_heavy_metal, german_industrial, gospel, goth, hip_hop_rap_rnb_reggae_reggaeton, indian_iranian_turkish, jazz, piano_instrumental, pop, techno_electronic]'"
      ]
     },
     "execution_count": 8,
     "metadata": {},
     "output_type": "execute_result"
    }
   ],
   "source": [
    "p = \"['acoustic_folk_singer_songwriter', 'afro_brazilian_forro_mpb_samba_pagode_sertanejo_world_music', 'alternative_indie_grunge', 'ambient_new_age_sleep', 'anime_jpop_jrock', 'black_metal_death_metal_metalcore', 'blues_soul', 'breakbeat_drum_and_bass_dubstep_trip_hop', 'britpop_indie_pop_power_pop', 'cantopop_kpop_mandopop', 'chicago_house_detroit_techno_house_trance', 'children', 'classical_opera', 'club_dance_edm_synth_pop', 'comedy', 'country_honky_tonk', 'disco', 'disney_pop_film_show_tunes', 'french_spanish_latin_malay', 'funk_groove', 'garage_hard_rock_heavy_metal', 'german_industrial', 'gospel', 'goth', 'hip_hop_rap_rnb_reggae_reggaeton', 'indian_iranian_turkish', 'jazz', 'piano_instrumental', 'pop', 'techno_electronic']\"\n",
    "p.replace('\\'', '')"
   ]
  },
  {
   "cell_type": "code",
   "execution_count": 10,
   "id": "03b8187e",
   "metadata": {},
   "outputs": [
    {
     "data": {
      "text/plain": [
       "[['acoustic', 'folk', 'singer-songwriter'],\n",
       " ['afrobeat',\n",
       "  'brazil',\n",
       "  'forro',\n",
       "  'mpb',\n",
       "  'samba',\n",
       "  'pagode',\n",
       "  'sertanejo',\n",
       "  'world-music'],\n",
       " ['alt-rock', 'alternative', 'indie', 'grunge'],\n",
       " ['ambient', 'new-age', 'sleep'],\n",
       " ['anime', 'j-pop', 'j-rock'],\n",
       " ['black-metal', 'death-metal', 'metalcore'],\n",
       " ['blues', 'soul'],\n",
       " ['breakbeat', 'drum-and-bass', 'dubstep', 'trip-hop'],\n",
       " ['british', 'indie-pop', 'power-pop'],\n",
       " ['cantopop', 'k-pop', 'mandopop'],\n",
       " ['chicago-house', 'detroit-techno', 'house', 'trance'],\n",
       " ['children'],\n",
       " ['classical', 'opera'],\n",
       " ['club', 'dance', 'edm', 'synth-pop'],\n",
       " ['comedy'],\n",
       " ['country', 'honky-tonk'],\n",
       " ['disco'],\n",
       " ['disney', 'pop-film', 'show-tunes'],\n",
       " ['french', 'spanish', 'latin', 'malay'],\n",
       " ['funk', 'groove'],\n",
       " ['garage', 'hard-rock', 'heavy-metal'],\n",
       " ['german', 'industrial'],\n",
       " ['gospel'],\n",
       " ['goth'],\n",
       " ['hip-hop', 'rap', 'r-n-b', 'reggae', 'reggaeton'],\n",
       " ['indian', 'iranian', 'turkish'],\n",
       " ['jazz'],\n",
       " ['piano', 'instrumental'],\n",
       " ['pop'],\n",
       " ['techno', 'electronic']]"
      ]
     },
     "execution_count": 10,
     "metadata": {},
     "output_type": "execute_result"
    }
   ],
   "source": [
    "\n",
    "bl = [acoustic_folk_singer_songwriter, afro_brazilian_forro_mpb_samba_pagode_sertanejo_world_music, alternative_indie_grunge, ambient_new_age_sleep, anime_jpop_jrock, black_metal_death_metal_metalcore, blues_soul, breakbeat_drum_and_bass_dubstep_trip_hop, britpop_indie_pop_power_pop, cantopop_kpop_mandopop, chicago_house_detroit_techno_house_trance, children, classical_opera, club_dance_edm_synth_pop, comedy, country_honky_tonk, disco, disney_pop_film_show_tunes, french_spanish_latin_malay, funk_groove, garage_hard_rock_heavy_metal, german_industrial, gospel, goth, hip_hop_rap_rnb_reggae_reggaeton, indian_iranian_turkish, jazz, piano_instrumental, pop, techno_electronic]\n",
    "bl"
   ]
  },
  {
   "cell_type": "code",
   "execution_count": 11,
   "id": "4839fac1",
   "metadata": {},
   "outputs": [
    {
     "data": {
      "text/plain": [
       "81"
      ]
     },
     "execution_count": 11,
     "metadata": {},
     "output_type": "execute_result"
    }
   ],
   "source": [
    "total = 0\n",
    "for x in bl:\n",
    "    total+= len(x)\n",
    "total"
   ]
  }
 ],
 "metadata": {
  "kernelspec": {
   "display_name": "Python 3 (ipykernel)",
   "language": "python",
   "name": "python3"
  },
  "language_info": {
   "codemirror_mode": {
    "name": "ipython",
    "version": 3
   },
   "file_extension": ".py",
   "mimetype": "text/x-python",
   "name": "python",
   "nbconvert_exporter": "python",
   "pygments_lexer": "ipython3",
   "version": "3.9.13"
  },
  "toc": {
   "base_numbering": 1,
   "nav_menu": {},
   "number_sections": true,
   "sideBar": true,
   "skip_h1_title": false,
   "title_cell": "Table of Contents",
   "title_sidebar": "Contents",
   "toc_cell": false,
   "toc_position": {},
   "toc_section_display": true,
   "toc_window_display": false
  },
  "varInspector": {
   "cols": {
    "lenName": 16,
    "lenType": 16,
    "lenVar": 40
   },
   "kernels_config": {
    "python": {
     "delete_cmd_postfix": "",
     "delete_cmd_prefix": "del ",
     "library": "var_list.py",
     "varRefreshCmd": "print(var_dic_list())"
    },
    "r": {
     "delete_cmd_postfix": ") ",
     "delete_cmd_prefix": "rm(",
     "library": "var_list.r",
     "varRefreshCmd": "cat(var_dic_list()) "
    }
   },
   "types_to_exclude": [
    "module",
    "function",
    "builtin_function_or_method",
    "instance",
    "_Feature"
   ],
   "window_display": false
  }
 },
 "nbformat": 4,
 "nbformat_minor": 5
}
