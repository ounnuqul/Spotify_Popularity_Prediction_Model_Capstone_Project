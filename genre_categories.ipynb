{
 "cells": [
  {
   "cell_type": "code",
   "execution_count": 1,
   "id": "0797c87f",
   "metadata": {},
   "outputs": [],
   "source": [
    "import pandas as pd\n",
    "import matplotlib as plt\n",
    "import numpy as np\n",
    "import re"
   ]
  },
  {
   "cell_type": "code",
   "execution_count": null,
   "id": "ea5cd4a7",
   "metadata": {},
   "outputs": [],
   "source": []
  },
  {
   "cell_type": "code",
   "execution_count": 4,
   "id": "a4eeb091",
   "metadata": {},
   "outputs": [],
   "source": [
    "df = pd.read_csv('dataset.csv')\n",
    "df.drop(columns='Unnamed: 0', inplace=True)"
   ]
  },
  {
   "cell_type": "code",
   "execution_count": 28,
   "id": "b8ac5a74",
   "metadata": {},
   "outputs": [],
   "source": [
    "df0 = pd.read_csv('dataset.csv')\n",
    "df0.drop(columns='Unnamed: 0', inplace=True)"
   ]
  },
  {
   "cell_type": "code",
   "execution_count": 8,
   "id": "3a22f944",
   "metadata": {},
   "outputs": [
    {
     "data": {
      "text/html": [
       "<div>\n",
       "<style scoped>\n",
       "    .dataframe tbody tr th:only-of-type {\n",
       "        vertical-align: middle;\n",
       "    }\n",
       "\n",
       "    .dataframe tbody tr th {\n",
       "        vertical-align: top;\n",
       "    }\n",
       "\n",
       "    .dataframe thead th {\n",
       "        text-align: right;\n",
       "    }\n",
       "</style>\n",
       "<table border=\"1\" class=\"dataframe\">\n",
       "  <thead>\n",
       "    <tr style=\"text-align: right;\">\n",
       "      <th></th>\n",
       "      <th>track_id</th>\n",
       "      <th>artists</th>\n",
       "      <th>album_name</th>\n",
       "      <th>track_name</th>\n",
       "      <th>popularity</th>\n",
       "      <th>duration_ms</th>\n",
       "      <th>explicit</th>\n",
       "      <th>danceability</th>\n",
       "      <th>energy</th>\n",
       "      <th>key</th>\n",
       "      <th>loudness</th>\n",
       "      <th>mode</th>\n",
       "      <th>speechiness</th>\n",
       "      <th>acousticness</th>\n",
       "      <th>instrumentalness</th>\n",
       "      <th>liveness</th>\n",
       "      <th>valence</th>\n",
       "      <th>tempo</th>\n",
       "      <th>time_signature</th>\n",
       "      <th>track_genre</th>\n",
       "    </tr>\n",
       "  </thead>\n",
       "  <tbody>\n",
       "    <tr>\n",
       "      <th>1925</th>\n",
       "      <td>0CDucx9lKxuCZplLXUz0iX</td>\n",
       "      <td>Buena Onda Reggae Club</td>\n",
       "      <td>Disco 2</td>\n",
       "      <td>Song for Rollins</td>\n",
       "      <td>16</td>\n",
       "      <td>219346</td>\n",
       "      <td>False</td>\n",
       "      <td>0.841</td>\n",
       "      <td>0.577</td>\n",
       "      <td>0</td>\n",
       "      <td>-7.544</td>\n",
       "      <td>1</td>\n",
       "      <td>0.0438</td>\n",
       "      <td>0.238000</td>\n",
       "      <td>0.860000</td>\n",
       "      <td>0.0571</td>\n",
       "      <td>0.843</td>\n",
       "      <td>90.522</td>\n",
       "      <td>4</td>\n",
       "      <td>afrobeat</td>\n",
       "    </tr>\n",
       "    <tr>\n",
       "      <th>2155</th>\n",
       "      <td>2aibwv5hGXSgw7Yru8IYTO</td>\n",
       "      <td>Red Hot Chili Peppers</td>\n",
       "      <td>Stadium Arcadium</td>\n",
       "      <td>Snow (Hey Oh)</td>\n",
       "      <td>80</td>\n",
       "      <td>334666</td>\n",
       "      <td>False</td>\n",
       "      <td>0.427</td>\n",
       "      <td>0.900</td>\n",
       "      <td>11</td>\n",
       "      <td>-3.674</td>\n",
       "      <td>1</td>\n",
       "      <td>0.0499</td>\n",
       "      <td>0.116000</td>\n",
       "      <td>0.000017</td>\n",
       "      <td>0.1190</td>\n",
       "      <td>0.599</td>\n",
       "      <td>104.655</td>\n",
       "      <td>4</td>\n",
       "      <td>alt-rock</td>\n",
       "    </tr>\n",
       "    <tr>\n",
       "      <th>3738</th>\n",
       "      <td>7mULVp0DJrI2Nd6GesLvxn</td>\n",
       "      <td>Joy Division</td>\n",
       "      <td>Timeless Rock Hits</td>\n",
       "      <td>Love Will Tear Us Apart</td>\n",
       "      <td>0</td>\n",
       "      <td>204621</td>\n",
       "      <td>False</td>\n",
       "      <td>0.524</td>\n",
       "      <td>0.902</td>\n",
       "      <td>2</td>\n",
       "      <td>-8.662</td>\n",
       "      <td>1</td>\n",
       "      <td>0.0368</td>\n",
       "      <td>0.000989</td>\n",
       "      <td>0.695000</td>\n",
       "      <td>0.1370</td>\n",
       "      <td>0.907</td>\n",
       "      <td>146.833</td>\n",
       "      <td>4</td>\n",
       "      <td>alternative</td>\n",
       "    </tr>\n",
       "    <tr>\n",
       "      <th>4648</th>\n",
       "      <td>6d3RIvHfVkoOtW1WHXmbX3</td>\n",
       "      <td>Little Symphony</td>\n",
       "      <td>Serenity</td>\n",
       "      <td>Margot</td>\n",
       "      <td>27</td>\n",
       "      <td>45714</td>\n",
       "      <td>False</td>\n",
       "      <td>0.269</td>\n",
       "      <td>0.142</td>\n",
       "      <td>0</td>\n",
       "      <td>-23.695</td>\n",
       "      <td>1</td>\n",
       "      <td>0.0509</td>\n",
       "      <td>0.866000</td>\n",
       "      <td>0.904000</td>\n",
       "      <td>0.1140</td>\n",
       "      <td>0.321</td>\n",
       "      <td>67.872</td>\n",
       "      <td>3</td>\n",
       "      <td>ambient</td>\n",
       "    </tr>\n",
       "    <tr>\n",
       "      <th>5769</th>\n",
       "      <td>481beimUiUnMUzSbOAFcUT</td>\n",
       "      <td>SUPER BEAVER</td>\n",
       "      <td>突破口 / 自慢になりたい</td>\n",
       "      <td>突破口</td>\n",
       "      <td>54</td>\n",
       "      <td>255080</td>\n",
       "      <td>False</td>\n",
       "      <td>0.472</td>\n",
       "      <td>0.994</td>\n",
       "      <td>8</td>\n",
       "      <td>-1.786</td>\n",
       "      <td>1</td>\n",
       "      <td>0.1140</td>\n",
       "      <td>0.025900</td>\n",
       "      <td>0.000000</td>\n",
       "      <td>0.0535</td>\n",
       "      <td>0.262</td>\n",
       "      <td>103.512</td>\n",
       "      <td>4</td>\n",
       "      <td>anime</td>\n",
       "    </tr>\n",
       "    <tr>\n",
       "      <th>...</th>\n",
       "      <td>...</td>\n",
       "      <td>...</td>\n",
       "      <td>...</td>\n",
       "      <td>...</td>\n",
       "      <td>...</td>\n",
       "      <td>...</td>\n",
       "      <td>...</td>\n",
       "      <td>...</td>\n",
       "      <td>...</td>\n",
       "      <td>...</td>\n",
       "      <td>...</td>\n",
       "      <td>...</td>\n",
       "      <td>...</td>\n",
       "      <td>...</td>\n",
       "      <td>...</td>\n",
       "      <td>...</td>\n",
       "      <td>...</td>\n",
       "      <td>...</td>\n",
       "      <td>...</td>\n",
       "      <td>...</td>\n",
       "    </tr>\n",
       "    <tr>\n",
       "      <th>111246</th>\n",
       "      <td>0sSjIvTvd6fUSZZ5rnTPDW</td>\n",
       "      <td>Everything But The Girl</td>\n",
       "      <td>Eden (Deluxe Edition)</td>\n",
       "      <td>Another Bridge - 2012 Remaster</td>\n",
       "      <td>26</td>\n",
       "      <td>132826</td>\n",
       "      <td>False</td>\n",
       "      <td>0.480</td>\n",
       "      <td>0.853</td>\n",
       "      <td>0</td>\n",
       "      <td>-6.276</td>\n",
       "      <td>1</td>\n",
       "      <td>0.0734</td>\n",
       "      <td>0.030600</td>\n",
       "      <td>0.000001</td>\n",
       "      <td>0.3200</td>\n",
       "      <td>0.775</td>\n",
       "      <td>85.181</td>\n",
       "      <td>4</td>\n",
       "      <td>trip-hop</td>\n",
       "    </tr>\n",
       "    <tr>\n",
       "      <th>111362</th>\n",
       "      <td>2zg3iJW4fK7KZgHOvJU67z</td>\n",
       "      <td>Faithless</td>\n",
       "      <td>Faithless 2.0</td>\n",
       "      <td>Tarantula</td>\n",
       "      <td>21</td>\n",
       "      <td>398152</td>\n",
       "      <td>False</td>\n",
       "      <td>0.622</td>\n",
       "      <td>0.816</td>\n",
       "      <td>6</td>\n",
       "      <td>-11.095</td>\n",
       "      <td>0</td>\n",
       "      <td>0.0483</td>\n",
       "      <td>0.009590</td>\n",
       "      <td>0.578000</td>\n",
       "      <td>0.0991</td>\n",
       "      <td>0.427</td>\n",
       "      <td>136.007</td>\n",
       "      <td>4</td>\n",
       "      <td>trip-hop</td>\n",
       "    </tr>\n",
       "    <tr>\n",
       "      <th>111980</th>\n",
       "      <td>46FPub2Fewe7XrgM0smTYI</td>\n",
       "      <td>Morcheeba</td>\n",
       "      <td>Parts of the Process</td>\n",
       "      <td>Undress Me Now</td>\n",
       "      <td>17</td>\n",
       "      <td>203773</td>\n",
       "      <td>False</td>\n",
       "      <td>0.576</td>\n",
       "      <td>0.352</td>\n",
       "      <td>7</td>\n",
       "      <td>-10.773</td>\n",
       "      <td>0</td>\n",
       "      <td>0.0268</td>\n",
       "      <td>0.700000</td>\n",
       "      <td>0.270000</td>\n",
       "      <td>0.1600</td>\n",
       "      <td>0.360</td>\n",
       "      <td>95.484</td>\n",
       "      <td>4</td>\n",
       "      <td>trip-hop</td>\n",
       "    </tr>\n",
       "    <tr>\n",
       "      <th>112968</th>\n",
       "      <td>6qVA1MqDrDKfk9144bhoKp</td>\n",
       "      <td>Acil Servis</td>\n",
       "      <td>Küçük Adam</td>\n",
       "      <td>Bebek</td>\n",
       "      <td>38</td>\n",
       "      <td>319933</td>\n",
       "      <td>False</td>\n",
       "      <td>0.486</td>\n",
       "      <td>0.485</td>\n",
       "      <td>5</td>\n",
       "      <td>-12.391</td>\n",
       "      <td>0</td>\n",
       "      <td>0.0331</td>\n",
       "      <td>0.004460</td>\n",
       "      <td>0.000017</td>\n",
       "      <td>0.3690</td>\n",
       "      <td>0.353</td>\n",
       "      <td>120.095</td>\n",
       "      <td>4</td>\n",
       "      <td>turkish</td>\n",
       "    </tr>\n",
       "    <tr>\n",
       "      <th>113345</th>\n",
       "      <td>5WaioelSGekDk3UNQy8zaw</td>\n",
       "      <td>Matt Redman</td>\n",
       "      <td>Sing Like Never Before: The Essential Collection</td>\n",
       "      <td>Our God - New Recording</td>\n",
       "      <td>34</td>\n",
       "      <td>265373</td>\n",
       "      <td>False</td>\n",
       "      <td>0.487</td>\n",
       "      <td>0.895</td>\n",
       "      <td>11</td>\n",
       "      <td>-5.061</td>\n",
       "      <td>1</td>\n",
       "      <td>0.0413</td>\n",
       "      <td>0.000183</td>\n",
       "      <td>0.000000</td>\n",
       "      <td>0.3590</td>\n",
       "      <td>0.384</td>\n",
       "      <td>105.021</td>\n",
       "      <td>4</td>\n",
       "      <td>world-music</td>\n",
       "    </tr>\n",
       "  </tbody>\n",
       "</table>\n",
       "<p>450 rows × 20 columns</p>\n",
       "</div>"
      ],
      "text/plain": [
       "                      track_id                  artists  \\\n",
       "1925    0CDucx9lKxuCZplLXUz0iX   Buena Onda Reggae Club   \n",
       "2155    2aibwv5hGXSgw7Yru8IYTO    Red Hot Chili Peppers   \n",
       "3738    7mULVp0DJrI2Nd6GesLvxn             Joy Division   \n",
       "4648    6d3RIvHfVkoOtW1WHXmbX3          Little Symphony   \n",
       "5769    481beimUiUnMUzSbOAFcUT             SUPER BEAVER   \n",
       "...                        ...                      ...   \n",
       "111246  0sSjIvTvd6fUSZZ5rnTPDW  Everything But The Girl   \n",
       "111362  2zg3iJW4fK7KZgHOvJU67z                Faithless   \n",
       "111980  46FPub2Fewe7XrgM0smTYI                Morcheeba   \n",
       "112968  6qVA1MqDrDKfk9144bhoKp              Acil Servis   \n",
       "113345  5WaioelSGekDk3UNQy8zaw              Matt Redman   \n",
       "\n",
       "                                              album_name  \\\n",
       "1925                                             Disco 2   \n",
       "2155                                    Stadium Arcadium   \n",
       "3738                                  Timeless Rock Hits   \n",
       "4648                                            Serenity   \n",
       "5769                                       突破口 / 自慢になりたい   \n",
       "...                                                  ...   \n",
       "111246                             Eden (Deluxe Edition)   \n",
       "111362                                     Faithless 2.0   \n",
       "111980                              Parts of the Process   \n",
       "112968                                        Küçük Adam   \n",
       "113345  Sing Like Never Before: The Essential Collection   \n",
       "\n",
       "                            track_name  popularity  duration_ms  explicit  \\\n",
       "1925                  Song for Rollins          16       219346     False   \n",
       "2155                     Snow (Hey Oh)          80       334666     False   \n",
       "3738           Love Will Tear Us Apart           0       204621     False   \n",
       "4648                            Margot          27        45714     False   \n",
       "5769                               突破口          54       255080     False   \n",
       "...                                ...         ...          ...       ...   \n",
       "111246  Another Bridge - 2012 Remaster          26       132826     False   \n",
       "111362                       Tarantula          21       398152     False   \n",
       "111980                  Undress Me Now          17       203773     False   \n",
       "112968                           Bebek          38       319933     False   \n",
       "113345         Our God - New Recording          34       265373     False   \n",
       "\n",
       "        danceability  energy  key  loudness  mode  speechiness  acousticness  \\\n",
       "1925           0.841   0.577    0    -7.544     1       0.0438      0.238000   \n",
       "2155           0.427   0.900   11    -3.674     1       0.0499      0.116000   \n",
       "3738           0.524   0.902    2    -8.662     1       0.0368      0.000989   \n",
       "4648           0.269   0.142    0   -23.695     1       0.0509      0.866000   \n",
       "5769           0.472   0.994    8    -1.786     1       0.1140      0.025900   \n",
       "...              ...     ...  ...       ...   ...          ...           ...   \n",
       "111246         0.480   0.853    0    -6.276     1       0.0734      0.030600   \n",
       "111362         0.622   0.816    6   -11.095     0       0.0483      0.009590   \n",
       "111980         0.576   0.352    7   -10.773     0       0.0268      0.700000   \n",
       "112968         0.486   0.485    5   -12.391     0       0.0331      0.004460   \n",
       "113345         0.487   0.895   11    -5.061     1       0.0413      0.000183   \n",
       "\n",
       "        instrumentalness  liveness  valence    tempo  time_signature  \\\n",
       "1925            0.860000    0.0571    0.843   90.522               4   \n",
       "2155            0.000017    0.1190    0.599  104.655               4   \n",
       "3738            0.695000    0.1370    0.907  146.833               4   \n",
       "4648            0.904000    0.1140    0.321   67.872               3   \n",
       "5769            0.000000    0.0535    0.262  103.512               4   \n",
       "...                  ...       ...      ...      ...             ...   \n",
       "111246          0.000001    0.3200    0.775   85.181               4   \n",
       "111362          0.578000    0.0991    0.427  136.007               4   \n",
       "111980          0.270000    0.1600    0.360   95.484               4   \n",
       "112968          0.000017    0.3690    0.353  120.095               4   \n",
       "113345          0.000000    0.3590    0.384  105.021               4   \n",
       "\n",
       "        track_genre  \n",
       "1925       afrobeat  \n",
       "2155       alt-rock  \n",
       "3738    alternative  \n",
       "4648        ambient  \n",
       "5769          anime  \n",
       "...             ...  \n",
       "111246     trip-hop  \n",
       "111362     trip-hop  \n",
       "111980     trip-hop  \n",
       "112968      turkish  \n",
       "113345  world-music  \n",
       "\n",
       "[450 rows x 20 columns]"
      ]
     },
     "execution_count": 8,
     "metadata": {},
     "output_type": "execute_result"
    }
   ],
   "source": [
    "df[df.duplicated() == True]"
   ]
  },
  {
   "cell_type": "code",
   "execution_count": 9,
   "id": "dd9391aa",
   "metadata": {
    "scrolled": true
   },
   "outputs": [
    {
     "data": {
      "text/html": [
       "<div>\n",
       "<style scoped>\n",
       "    .dataframe tbody tr th:only-of-type {\n",
       "        vertical-align: middle;\n",
       "    }\n",
       "\n",
       "    .dataframe tbody tr th {\n",
       "        vertical-align: top;\n",
       "    }\n",
       "\n",
       "    .dataframe thead th {\n",
       "        text-align: right;\n",
       "    }\n",
       "</style>\n",
       "<table border=\"1\" class=\"dataframe\">\n",
       "  <thead>\n",
       "    <tr style=\"text-align: right;\">\n",
       "      <th></th>\n",
       "      <th>track_id</th>\n",
       "      <th>artists</th>\n",
       "      <th>album_name</th>\n",
       "      <th>track_name</th>\n",
       "      <th>popularity</th>\n",
       "      <th>duration_ms</th>\n",
       "      <th>explicit</th>\n",
       "      <th>danceability</th>\n",
       "      <th>energy</th>\n",
       "      <th>key</th>\n",
       "      <th>loudness</th>\n",
       "      <th>mode</th>\n",
       "      <th>speechiness</th>\n",
       "      <th>acousticness</th>\n",
       "      <th>instrumentalness</th>\n",
       "      <th>liveness</th>\n",
       "      <th>valence</th>\n",
       "      <th>tempo</th>\n",
       "      <th>time_signature</th>\n",
       "      <th>track_genre</th>\n",
       "    </tr>\n",
       "  </thead>\n",
       "  <tbody>\n",
       "    <tr>\n",
       "      <th>1874</th>\n",
       "      <td>0CDucx9lKxuCZplLXUz0iX</td>\n",
       "      <td>Buena Onda Reggae Club</td>\n",
       "      <td>Disco 2</td>\n",
       "      <td>Song for Rollins</td>\n",
       "      <td>16</td>\n",
       "      <td>219346</td>\n",
       "      <td>False</td>\n",
       "      <td>0.841</td>\n",
       "      <td>0.577</td>\n",
       "      <td>0</td>\n",
       "      <td>-7.544</td>\n",
       "      <td>1</td>\n",
       "      <td>0.0438</td>\n",
       "      <td>0.238</td>\n",
       "      <td>0.86</td>\n",
       "      <td>0.0571</td>\n",
       "      <td>0.843</td>\n",
       "      <td>90.522</td>\n",
       "      <td>4</td>\n",
       "      <td>afrobeat</td>\n",
       "    </tr>\n",
       "    <tr>\n",
       "      <th>1925</th>\n",
       "      <td>0CDucx9lKxuCZplLXUz0iX</td>\n",
       "      <td>Buena Onda Reggae Club</td>\n",
       "      <td>Disco 2</td>\n",
       "      <td>Song for Rollins</td>\n",
       "      <td>16</td>\n",
       "      <td>219346</td>\n",
       "      <td>False</td>\n",
       "      <td>0.841</td>\n",
       "      <td>0.577</td>\n",
       "      <td>0</td>\n",
       "      <td>-7.544</td>\n",
       "      <td>1</td>\n",
       "      <td>0.0438</td>\n",
       "      <td>0.238</td>\n",
       "      <td>0.86</td>\n",
       "      <td>0.0571</td>\n",
       "      <td>0.843</td>\n",
       "      <td>90.522</td>\n",
       "      <td>4</td>\n",
       "      <td>afrobeat</td>\n",
       "    </tr>\n",
       "  </tbody>\n",
       "</table>\n",
       "</div>"
      ],
      "text/plain": [
       "                    track_id                 artists album_name  \\\n",
       "1874  0CDucx9lKxuCZplLXUz0iX  Buena Onda Reggae Club    Disco 2   \n",
       "1925  0CDucx9lKxuCZplLXUz0iX  Buena Onda Reggae Club    Disco 2   \n",
       "\n",
       "            track_name  popularity  duration_ms  explicit  danceability  \\\n",
       "1874  Song for Rollins          16       219346     False         0.841   \n",
       "1925  Song for Rollins          16       219346     False         0.841   \n",
       "\n",
       "      energy  key  loudness  mode  speechiness  acousticness  \\\n",
       "1874   0.577    0    -7.544     1       0.0438         0.238   \n",
       "1925   0.577    0    -7.544     1       0.0438         0.238   \n",
       "\n",
       "      instrumentalness  liveness  valence   tempo  time_signature track_genre  \n",
       "1874              0.86    0.0571    0.843  90.522               4    afrobeat  \n",
       "1925              0.86    0.0571    0.843  90.522               4    afrobeat  "
      ]
     },
     "execution_count": 9,
     "metadata": {},
     "output_type": "execute_result"
    }
   ],
   "source": [
    "df[df['track_id']== '0CDucx9lKxuCZplLXUz0iX']"
   ]
  },
  {
   "cell_type": "code",
   "execution_count": 11,
   "id": "9388ed40",
   "metadata": {},
   "outputs": [],
   "source": [
    "df.drop_duplicates(inplace=True)"
   ]
  },
  {
   "cell_type": "code",
   "execution_count": 13,
   "id": "f118ecf7",
   "metadata": {},
   "outputs": [],
   "source": [
    "df.drop(columns='track_genre',inplace=True)"
   ]
  },
  {
   "cell_type": "code",
   "execution_count": 15,
   "id": "29634833",
   "metadata": {},
   "outputs": [
    {
     "data": {
      "text/plain": [
       "23089"
      ]
     },
     "execution_count": 15,
     "metadata": {},
     "output_type": "execute_result"
    }
   ],
   "source": [
    "df.duplicated().sum()"
   ]
  },
  {
   "cell_type": "code",
   "execution_count": 18,
   "id": "591aff3d",
   "metadata": {},
   "outputs": [
    {
     "data": {
      "text/plain": [
       "0.2033377366798767"
      ]
     },
     "execution_count": 18,
     "metadata": {},
     "output_type": "execute_result"
    }
   ],
   "source": [
    "df.duplicated().sum()/df.shape[0]"
   ]
  },
  {
   "cell_type": "code",
   "execution_count": 25,
   "id": "031c45eb",
   "metadata": {},
   "outputs": [],
   "source": [
    "df_dups = df[df.duplicated() == True]"
   ]
  },
  {
   "cell_type": "code",
   "execution_count": 35,
   "id": "4bd0fb8b",
   "metadata": {},
   "outputs": [],
   "source": [
    "dup_tracks = df_dups['track_id'].to_list()"
   ]
  },
  {
   "cell_type": "code",
   "execution_count": 31,
   "id": "f90f6e43",
   "metadata": {},
   "outputs": [
    {
     "data": {
      "text/plain": [
       "['alt-rock', 'alternative', 'rock']"
      ]
     },
     "execution_count": 31,
     "metadata": {},
     "output_type": "execute_result"
    }
   ],
   "source": [
    "df0[df0['track_id'] == '5E30LdtzQTGqRvNd7l6kG5']['track_genre'].to_list()"
   ]
  },
  {
   "cell_type": "code",
   "execution_count": 37,
   "id": "d85209c4",
   "metadata": {},
   "outputs": [],
   "source": [
    "genre_combos = []\n",
    "for x in dup_tracks:\n",
    "    genre_combos.append(df0[df0['track_id'] == x]['track_genre'].to_list())"
   ]
  },
  {
   "cell_type": "code",
   "execution_count": null,
   "id": "a35d6d89",
   "metadata": {},
   "outputs": [],
   "source": [
    "gc = np.array(genre_combos)"
   ]
  },
  {
   "cell_type": "code",
   "execution_count": 49,
   "id": "77066633",
   "metadata": {},
   "outputs": [],
   "source": [
    "d = {'combos':genre_combos}\n",
    "unique_df = pd.DataFrame(d)"
   ]
  },
  {
   "cell_type": "code",
   "execution_count": 60,
   "id": "51636973",
   "metadata": {},
   "outputs": [
    {
     "data": {
      "text/plain": [
       "0             [alt-rock, alternative, rock]\n",
       "1             [alt-rock, alternative, rock]\n",
       "2        [alt-rock, alternative, pop, rock]\n",
       "3             [alt-rock, alternative, rock]\n",
       "4             [alt-rock, alternative, rock]\n",
       "                        ...                \n",
       "23084                [ambient, world-music]\n",
       "23085                [ambient, world-music]\n",
       "23086                [ambient, world-music]\n",
       "23087                [ambient, world-music]\n",
       "23088                [ambient, world-music]\n",
       "Name: combos, Length: 23089, dtype: object"
      ]
     },
     "execution_count": 60,
     "metadata": {},
     "output_type": "execute_result"
    }
   ],
   "source": [
    "unique_df['combos']"
   ]
  },
  {
   "cell_type": "code",
   "execution_count": 44,
   "id": "55e09277",
   "metadata": {
    "scrolled": false
   },
   "outputs": [
    {
     "name": "stderr",
     "output_type": "stream",
     "text": [
      "/Users/ounnuqul/opt/anaconda3/lib/python3.9/site-packages/numpy/lib/arraysetops.py:270: VisibleDeprecationWarning: Creating an ndarray from ragged nested sequences (which is a list-or-tuple of lists-or-tuples-or ndarrays with different lengths or shapes) is deprecated. If you meant to do this, you must specify 'dtype=object' when creating the ndarray.\n",
      "  ar = np.asanyarray(ar)\n"
     ]
    },
    {
     "data": {
      "text/plain": [
       "array([list(['acoustic', 'blues']), list(['acoustic', 'blues', 'j-pop']),\n",
       "       list(['acoustic', 'blues', 'j-rock', 'jazz']), ...,\n",
       "       list(['synth-pop', 'trip-hop']), list(['techno', 'trance']),\n",
       "       list(['techno', 'trip-hop'])], dtype=object)"
      ]
     },
     "metadata": {},
     "output_type": "display_data"
    }
   ],
   "source": [
    "display(np.unique(genre_combos)"
   ]
  },
  {
   "cell_type": "code",
   "execution_count": null,
   "id": "a4a9b007",
   "metadata": {
    "run_control": {
     "marked": false
    }
   },
   "outputs": [],
   "source": [
    "\n",
    "l = [['Acoustic', 'Folk', 'Singer-Songwriter'],\n",
    "['Alternative', 'Emo', 'Indie', 'Punk', 'Grunge'],\n",
    "['Ambient', 'New Age', 'Chill', 'Sleep'],\n",
    "['Anime', 'J-Pop', 'J-Rock', 'J-Idol', 'J-Dance'],\n",
    "['Black Metal', 'Death Metal', 'Grindcore', 'Metal', 'Metalcore'],\n",
    "['Blues', 'Soul'],\n",
    "['Brazilian', 'Forro', 'MPB', 'Samba', 'Pagode', 'Sertanejo'],\n",
    "['Breakbeat', 'Drum and Bass', 'Dub', 'Dubstep', 'Jungle', 'Trip-hop'],\n",
    "['Britpop', 'British', 'Indie-pop', 'Power-pop'],\n",
    "['Cantopop', 'K-Pop', 'Mandopop'],\n",
    "['Chicago House', 'Detroit Techno', 'House', 'Techno', 'Trance'],\n",
    "['Children', 'Kids'],\n",
    "['Classical', 'Opera'],\n",
    "['Club', 'Dance', 'EDM', 'Electronic', 'Synth-pop'],\n",
    "['Comedy'],\n",
    "['Country', 'Honky-tonk'],\n",
    "['Disco'],\n",
    "['Disney', 'Pop Film', 'Show Tunes'],\n",
    "['French'],\n",
    "['Funk', 'Groove'],\n",
    "['Garage', 'Hard Rock', 'Heavy Metal'],\n",
    "['German'],\n",
    "['Gospel'],\n",
    "['Goth'],\n",
    "['Happy', 'Party'],\n",
    "[Hip Hop, 'Rap', R&B, 'Reggae', 'Reggaeton'],\n",
    "[Indian, Iranian, Turkish, Spanish, Latin, Malay, World Music],\n",
    "[Jazz],\n",
    "[Piano, Instrumental],\n",
    "[Romance, Sad]]"
   ]
  },
  {
   "cell_type": "code",
   "execution_count": null,
   "id": "ae05d18e",
   "metadata": {},
   "outputs": [],
   "source": [
    "\n",
    "Acoustic, Folk, Singer-Songwriter,\n",
    "Alternative, Emo, Indie, Punk, Grunge,\n",
    "Ambient, New Age, Chill, Sleep,\n",
    "Anime, J-Pop, J-Rock, J-Idol, J-Dance,\n",
    "Black Metal, Death Metal, Grindcore, Metal, Metalcore,\n",
    "Blues, Soul,\n",
    "Brazilian, Forro, MPB, Samba, Pagode, Sertanejo,\n",
    "Breakbeat, Drum and Bass, Dub, Dubstep, Jungle, Trip-hop,\n",
    "Britpop, British, Indie-pop, Power-pop,\n",
    "Cantopop, K-Pop, Mandopop,\n",
    "Chicago House, Detroit Techno, House, Techno, Trance,\n",
    "Children, Kids,\n",
    "Classical, Opera,\n",
    "Club, Dance, EDM, Electronic, Synth-pop,\n",
    "Comedy,\n",
    "Country, Honky-tonk,\n",
    "Disco,\n",
    "Disney, Pop Film, Show Tunes,\n",
    "French,\n",
    "Funk, Groove,\n",
    "Garage, Hard Rock, Heavy Metal,\n",
    "German,\n",
    "Gospel,\n",
    "Goth,\n",
    "Happy, Party,\n",
    "Hip Hop, Rap, R&B, Reggae, Reggaeton,\n",
    "Indian, Iranian, Turkish, Spanish, Latin, Malay, World Music,\n",
    "Jazz,\n",
    "Piano, Instrumental,\n",
    "Romance, Sad"
   ]
  },
  {
   "cell_type": "code",
   "execution_count": 3,
   "id": "044662dc",
   "metadata": {},
   "outputs": [],
   "source": [
    "acoustic_folk_singer_songwriter = ['acoustic', 'folk', 'singer-songwriter']\n",
    "afro_brazilian_forro_mpb_samba_pagode_sertanejo_world_music = ['afrobeat', 'brazil', 'forro', 'mpb', 'samba', 'pagode', 'sertanejo', 'world-music']\n",
    "alternative_indie_grunge = ['alt-rock', 'alternative', 'indie', 'grunge']\n",
    "ambient_new_age_sleep = ['ambient', 'new-age', 'sleep']\n",
    "anime_jpop_jrock = ['anime', 'j-pop', 'j-rock']\n",
    "black_metal_death_metal_metalcore = ['black-metal', 'death-metal', 'metalcore']\n",
    "blues_soul = ['blues', 'soul']\n",
    "breakbeat_drum_and_bass_dubstep_trip_hop = ['breakbeat', 'drum-and-bass', 'dubstep', 'trip-hop']\n",
    "britpop_indie_pop_power_pop = ['british', 'indie-pop', 'power-pop']\n",
    "cantopop_kpop_mandopop = ['cantopop', 'k-pop', 'mandopop']\n",
    "chicago_house_detroit_techno_house_trance = ['chicago-house', 'detroit-techno', 'house', 'trance']\n",
    "children = ['children']\n",
    "classical_opera = ['classical', 'opera']\n",
    "club_dance_edm_synth_pop = ['club', 'dance', 'edm', 'synth-pop']\n",
    "comedy = ['comedy']\n",
    "country_honky_tonk = ['country', 'honky-tonk']\n",
    "disco = ['disco']\n",
    "disney_pop_film_show_tunes = ['disney', 'pop-film', 'show-tunes']\n",
    "french_spanish_latin_malay = ['french', 'spanish', 'latin', 'malay']\n",
    "funk_groove = ['funk', 'groove']\n",
    "garage_hard_rock_heavy_metal = ['garage', 'hard-rock', 'heavy-metal']\n",
    "german_industrial = ['german', 'industrial']\n",
    "gospel = ['gospel']\n",
    "goth = ['goth']\n",
    "hip_hop_rap_rnb_reggae_reggaeton = ['hip-hop', 'rap', 'r-n-b', 'reggae', 'reggaeton']\n",
    "indian_iranian_turkish = ['indian', 'iranian', 'turkish']\n",
    "jazz = ['jazz']\n",
    "piano_instrumental = ['piano', 'instrumental']\n",
    "pop = ['pop']\n",
    "techno_electronic = ['techno', 'electronic']\n"
   ]
  },
  {
   "cell_type": "code",
   "execution_count": 8,
   "id": "a9db7673",
   "metadata": {},
   "outputs": [
    {
     "data": {
      "text/plain": [
       "'[acoustic_folk_singer_songwriter, afro_brazilian_forro_mpb_samba_pagode_sertanejo_world_music, alternative_indie_grunge, ambient_new_age_sleep, anime_jpop_jrock, black_metal_death_metal_metalcore, blues_soul, breakbeat_drum_and_bass_dubstep_trip_hop, britpop_indie_pop_power_pop, cantopop_kpop_mandopop, chicago_house_detroit_techno_house_trance, children, classical_opera, club_dance_edm_synth_pop, comedy, country_honky_tonk, disco, disney_pop_film_show_tunes, french_spanish_latin_malay, funk_groove, garage_hard_rock_heavy_metal, german_industrial, gospel, goth, hip_hop_rap_rnb_reggae_reggaeton, indian_iranian_turkish, jazz, piano_instrumental, pop, techno_electronic]'"
      ]
     },
     "execution_count": 8,
     "metadata": {},
     "output_type": "execute_result"
    }
   ],
   "source": [
    "p = \"['acoustic_folk_singer_songwriter', 'afro_brazilian_forro_mpb_samba_pagode_sertanejo_world_music', 'alternative_indie_grunge', 'ambient_new_age_sleep', 'anime_jpop_jrock', 'black_metal_death_metal_metalcore', 'blues_soul', 'breakbeat_drum_and_bass_dubstep_trip_hop', 'britpop_indie_pop_power_pop', 'cantopop_kpop_mandopop', 'chicago_house_detroit_techno_house_trance', 'children', 'classical_opera', 'club_dance_edm_synth_pop', 'comedy', 'country_honky_tonk', 'disco', 'disney_pop_film_show_tunes', 'french_spanish_latin_malay', 'funk_groove', 'garage_hard_rock_heavy_metal', 'german_industrial', 'gospel', 'goth', 'hip_hop_rap_rnb_reggae_reggaeton', 'indian_iranian_turkish', 'jazz', 'piano_instrumental', 'pop', 'techno_electronic']\"\n",
    "p.replace('\\'', '')"
   ]
  },
  {
   "cell_type": "code",
   "execution_count": 10,
   "id": "03b8187e",
   "metadata": {},
   "outputs": [
    {
     "data": {
      "text/plain": [
       "[['acoustic', 'folk', 'singer-songwriter'],\n",
       " ['afrobeat',\n",
       "  'brazil',\n",
       "  'forro',\n",
       "  'mpb',\n",
       "  'samba',\n",
       "  'pagode',\n",
       "  'sertanejo',\n",
       "  'world-music'],\n",
       " ['alt-rock', 'alternative', 'indie', 'grunge'],\n",
       " ['ambient', 'new-age', 'sleep'],\n",
       " ['anime', 'j-pop', 'j-rock'],\n",
       " ['black-metal', 'death-metal', 'metalcore'],\n",
       " ['blues', 'soul'],\n",
       " ['breakbeat', 'drum-and-bass', 'dubstep', 'trip-hop'],\n",
       " ['british', 'indie-pop', 'power-pop'],\n",
       " ['cantopop', 'k-pop', 'mandopop'],\n",
       " ['chicago-house', 'detroit-techno', 'house', 'trance'],\n",
       " ['children'],\n",
       " ['classical', 'opera'],\n",
       " ['club', 'dance', 'edm', 'synth-pop'],\n",
       " ['comedy'],\n",
       " ['country', 'honky-tonk'],\n",
       " ['disco'],\n",
       " ['disney', 'pop-film', 'show-tunes'],\n",
       " ['french', 'spanish', 'latin', 'malay'],\n",
       " ['funk', 'groove'],\n",
       " ['garage', 'hard-rock', 'heavy-metal'],\n",
       " ['german', 'industrial'],\n",
       " ['gospel'],\n",
       " ['goth'],\n",
       " ['hip-hop', 'rap', 'r-n-b', 'reggae', 'reggaeton'],\n",
       " ['indian', 'iranian', 'turkish'],\n",
       " ['jazz'],\n",
       " ['piano', 'instrumental'],\n",
       " ['pop'],\n",
       " ['techno', 'electronic']]"
      ]
     },
     "execution_count": 10,
     "metadata": {},
     "output_type": "execute_result"
    }
   ],
   "source": [
    "\n",
    "bl = [acoustic_folk_singer_songwriter, afro_brazilian_forro_mpb_samba_pagode_sertanejo_world_music, alternative_indie_grunge, ambient_new_age_sleep, anime_jpop_jrock, black_metal_death_metal_metalcore, blues_soul, breakbeat_drum_and_bass_dubstep_trip_hop, britpop_indie_pop_power_pop, cantopop_kpop_mandopop, chicago_house_detroit_techno_house_trance, children, classical_opera, club_dance_edm_synth_pop, comedy, country_honky_tonk, disco, disney_pop_film_show_tunes, french_spanish_latin_malay, funk_groove, garage_hard_rock_heavy_metal, german_industrial, gospel, goth, hip_hop_rap_rnb_reggae_reggaeton, indian_iranian_turkish, jazz, piano_instrumental, pop, techno_electronic]\n",
    "bl"
   ]
  },
  {
   "cell_type": "code",
   "execution_count": 11,
   "id": "4839fac1",
   "metadata": {},
   "outputs": [
    {
     "data": {
      "text/plain": [
       "81"
      ]
     },
     "execution_count": 11,
     "metadata": {},
     "output_type": "execute_result"
    }
   ],
   "source": [
    "total = 0\n",
    "for x in bl:\n",
    "    total+= len(x)\n",
    "total"
   ]
  }
 ],
 "metadata": {
  "kernelspec": {
   "display_name": "Python 3 (ipykernel)",
   "language": "python",
   "name": "python3"
  },
  "language_info": {
   "codemirror_mode": {
    "name": "ipython",
    "version": 3
   },
   "file_extension": ".py",
   "mimetype": "text/x-python",
   "name": "python",
   "nbconvert_exporter": "python",
   "pygments_lexer": "ipython3",
   "version": "3.9.13"
  },
  "toc": {
   "base_numbering": 1,
   "nav_menu": {},
   "number_sections": true,
   "sideBar": true,
   "skip_h1_title": false,
   "title_cell": "Table of Contents",
   "title_sidebar": "Contents",
   "toc_cell": false,
   "toc_position": {},
   "toc_section_display": true,
   "toc_window_display": false
  },
  "varInspector": {
   "cols": {
    "lenName": 16,
    "lenType": 16,
    "lenVar": 40
   },
   "kernels_config": {
    "python": {
     "delete_cmd_postfix": "",
     "delete_cmd_prefix": "del ",
     "library": "var_list.py",
     "varRefreshCmd": "print(var_dic_list())"
    },
    "r": {
     "delete_cmd_postfix": ") ",
     "delete_cmd_prefix": "rm(",
     "library": "var_list.r",
     "varRefreshCmd": "cat(var_dic_list()) "
    }
   },
   "types_to_exclude": [
    "module",
    "function",
    "builtin_function_or_method",
    "instance",
    "_Feature"
   ],
   "window_display": false
  }
 },
 "nbformat": 4,
 "nbformat_minor": 5
}
