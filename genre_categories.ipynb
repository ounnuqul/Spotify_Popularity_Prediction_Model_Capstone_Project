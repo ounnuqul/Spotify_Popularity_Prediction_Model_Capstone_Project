{
 "cells": [
  {
   "cell_type": "code",
   "execution_count": 7,
   "id": "0797c87f",
   "metadata": {},
   "outputs": [],
   "source": [
    "import pandas as pd\n",
    "import matplotlib as plt\n",
    "import numpy as np\n",
    "import re"
   ]
  },
  {
   "cell_type": "code",
   "execution_count": null,
   "id": "ea5cd4a7",
   "metadata": {},
   "outputs": [],
   "source": []
  },
  {
   "cell_type": "code",
   "execution_count": null,
   "id": "a4eeb091",
   "metadata": {},
   "outputs": [],
   "source": []
  },
  {
   "cell_type": "code",
   "execution_count": null,
   "id": "3a22f944",
   "metadata": {},
   "outputs": [],
   "source": []
  },
  {
   "cell_type": "code",
   "execution_count": null,
   "id": "a4a9b007",
   "metadata": {
    "run_control": {
     "marked": false
    }
   },
   "outputs": [],
   "source": [
    "\n",
    "l = [['Acoustic', 'Folk', 'Singer-Songwriter'],\n",
    "['Alternative', 'Emo', 'Indie', 'Punk', 'Grunge'],\n",
    "['Ambient', 'New Age', 'Chill', 'Sleep'],\n",
    "['Anime', 'J-Pop', 'J-Rock', 'J-Idol', 'J-Dance'],\n",
    "['Black Metal', 'Death Metal', 'Grindcore', 'Metal', 'Metalcore'],\n",
    "['Blues', 'Soul'],\n",
    "['Brazilian', 'Forro', 'MPB', 'Samba', 'Pagode', 'Sertanejo'],\n",
    "['Breakbeat', 'Drum and Bass', 'Dub', 'Dubstep', 'Jungle', 'Trip-hop'],\n",
    "['Britpop', 'British', 'Indie-pop', 'Power-pop'],\n",
    "['Cantopop', 'K-Pop', 'Mandopop'],\n",
    "['Chicago House', 'Detroit Techno', 'House', 'Techno', 'Trance'],\n",
    "['Children', 'Kids'],\n",
    "['Classical', 'Opera'],\n",
    "['Club', 'Dance', 'EDM', 'Electronic', 'Synth-pop'],\n",
    "['Comedy'],\n",
    "['Country', 'Honky-tonk'],\n",
    "['Disco'],\n",
    "['Disney', 'Pop Film', 'Show Tunes'],\n",
    "['French'],\n",
    "['Funk', 'Groove'],\n",
    "['Garage', 'Hard Rock', 'Heavy Metal'],\n",
    "['German'],\n",
    "['Gospel'],\n",
    "['Goth'],\n",
    "['Happy', 'Party'],\n",
    "[Hip Hop, 'Rap', R&B, 'Reggae', 'Reggaeton'],\n",
    "[Indian, Iranian, Turkish, Spanish, Latin, Malay, World Music],\n",
    "[Jazz],\n",
    "[Piano, Instrumental],\n",
    "[Romance, Sad]]"
   ]
  },
  {
   "cell_type": "code",
   "execution_count": null,
   "id": "ae05d18e",
   "metadata": {},
   "outputs": [],
   "source": [
    "\n",
    "Acoustic, Folk, Singer-Songwriter,\n",
    "Alternative, Emo, Indie, Punk, Grunge,\n",
    "Ambient, New Age, Chill, Sleep,\n",
    "Anime, J-Pop, J-Rock, J-Idol, J-Dance,\n",
    "Black Metal, Death Metal, Grindcore, Metal, Metalcore,\n",
    "Blues, Soul,\n",
    "Brazilian, Forro, MPB, Samba, Pagode, Sertanejo,\n",
    "Breakbeat, Drum and Bass, Dub, Dubstep, Jungle, Trip-hop,\n",
    "Britpop, British, Indie-pop, Power-pop,\n",
    "Cantopop, K-Pop, Mandopop,\n",
    "Chicago House, Detroit Techno, House, Techno, Trance,\n",
    "Children, Kids,\n",
    "Classical, Opera,\n",
    "Club, Dance, EDM, Electronic, Synth-pop,\n",
    "Comedy,\n",
    "Country, Honky-tonk,\n",
    "Disco,\n",
    "Disney, Pop Film, Show Tunes,\n",
    "French,\n",
    "Funk, Groove,\n",
    "Garage, Hard Rock, Heavy Metal,\n",
    "German,\n",
    "Gospel,\n",
    "Goth,\n",
    "Happy, Party,\n",
    "Hip Hop, Rap, R&B, Reggae, Reggaeton,\n",
    "Indian, Iranian, Turkish, Spanish, Latin, Malay, World Music,\n",
    "Jazz,\n",
    "Piano, Instrumental,\n",
    "Romance, Sad"
   ]
  },
  {
   "cell_type": "code",
   "execution_count": 3,
   "id": "044662dc",
   "metadata": {},
   "outputs": [],
   "source": [
    "acoustic_folk_singer_songwriter = ['acoustic', 'folk', 'singer-songwriter']\n",
    "afro_brazilian_forro_mpb_samba_pagode_sertanejo_world_music = ['afrobeat', 'brazil', 'forro', 'mpb', 'samba', 'pagode', 'sertanejo', 'world-music']\n",
    "alternative_indie_grunge = ['alt-rock', 'alternative', 'indie', 'grunge']\n",
    "ambient_new_age_sleep = ['ambient', 'new-age', 'sleep']\n",
    "anime_jpop_jrock = ['anime', 'j-pop', 'j-rock']\n",
    "black_metal_death_metal_metalcore = ['black-metal', 'death-metal', 'metalcore']\n",
    "blues_soul = ['blues', 'soul']\n",
    "breakbeat_drum_and_bass_dubstep_trip_hop = ['breakbeat', 'drum-and-bass', 'dubstep', 'trip-hop']\n",
    "britpop_indie_pop_power_pop = ['british', 'indie-pop', 'power-pop']\n",
    "cantopop_kpop_mandopop = ['cantopop', 'k-pop', 'mandopop']\n",
    "chicago_house_detroit_techno_house_trance = ['chicago-house', 'detroit-techno', 'house', 'trance']\n",
    "children = ['children']\n",
    "classical_opera = ['classical', 'opera']\n",
    "club_dance_edm_synth_pop = ['club', 'dance', 'edm', 'synth-pop']\n",
    "comedy = ['comedy']\n",
    "country_honky_tonk = ['country', 'honky-tonk']\n",
    "disco = ['disco']\n",
    "disney_pop_film_show_tunes = ['disney', 'pop-film', 'show-tunes']\n",
    "french_spanish_latin_malay = ['french', 'spanish', 'latin', 'malay']\n",
    "funk_groove = ['funk', 'groove']\n",
    "garage_hard_rock_heavy_metal = ['garage', 'hard-rock', 'heavy-metal']\n",
    "german_industrial = ['german', 'industrial']\n",
    "gospel = ['gospel']\n",
    "goth = ['goth']\n",
    "hip_hop_rap_rnb_reggae_reggaeton = ['hip-hop', 'rap', 'r-n-b', 'reggae', 'reggaeton']\n",
    "indian_iranian_turkish = ['indian', 'iranian', 'turkish']\n",
    "jazz = ['jazz']\n",
    "piano_instrumental = ['piano', 'instrumental']\n",
    "pop = ['pop']\n",
    "techno_electronic = ['techno', 'electronic']\n"
   ]
  },
  {
   "cell_type": "code",
   "execution_count": 8,
   "id": "a9db7673",
   "metadata": {},
   "outputs": [
    {
     "data": {
      "text/plain": [
       "'[acoustic_folk_singer_songwriter, afro_brazilian_forro_mpb_samba_pagode_sertanejo_world_music, alternative_indie_grunge, ambient_new_age_sleep, anime_jpop_jrock, black_metal_death_metal_metalcore, blues_soul, breakbeat_drum_and_bass_dubstep_trip_hop, britpop_indie_pop_power_pop, cantopop_kpop_mandopop, chicago_house_detroit_techno_house_trance, children, classical_opera, club_dance_edm_synth_pop, comedy, country_honky_tonk, disco, disney_pop_film_show_tunes, french_spanish_latin_malay, funk_groove, garage_hard_rock_heavy_metal, german_industrial, gospel, goth, hip_hop_rap_rnb_reggae_reggaeton, indian_iranian_turkish, jazz, piano_instrumental, pop, techno_electronic]'"
      ]
     },
     "execution_count": 8,
     "metadata": {},
     "output_type": "execute_result"
    }
   ],
   "source": [
    "p = \"['acoustic_folk_singer_songwriter', 'afro_brazilian_forro_mpb_samba_pagode_sertanejo_world_music', 'alternative_indie_grunge', 'ambient_new_age_sleep', 'anime_jpop_jrock', 'black_metal_death_metal_metalcore', 'blues_soul', 'breakbeat_drum_and_bass_dubstep_trip_hop', 'britpop_indie_pop_power_pop', 'cantopop_kpop_mandopop', 'chicago_house_detroit_techno_house_trance', 'children', 'classical_opera', 'club_dance_edm_synth_pop', 'comedy', 'country_honky_tonk', 'disco', 'disney_pop_film_show_tunes', 'french_spanish_latin_malay', 'funk_groove', 'garage_hard_rock_heavy_metal', 'german_industrial', 'gospel', 'goth', 'hip_hop_rap_rnb_reggae_reggaeton', 'indian_iranian_turkish', 'jazz', 'piano_instrumental', 'pop', 'techno_electronic']\"\n",
    "p.replace('\\'', '')"
   ]
  },
  {
   "cell_type": "code",
   "execution_count": 10,
   "id": "03b8187e",
   "metadata": {},
   "outputs": [
    {
     "data": {
      "text/plain": [
       "[['acoustic', 'folk', 'singer-songwriter'],\n",
       " ['afrobeat',\n",
       "  'brazil',\n",
       "  'forro',\n",
       "  'mpb',\n",
       "  'samba',\n",
       "  'pagode',\n",
       "  'sertanejo',\n",
       "  'world-music'],\n",
       " ['alt-rock', 'alternative', 'indie', 'grunge'],\n",
       " ['ambient', 'new-age', 'sleep'],\n",
       " ['anime', 'j-pop', 'j-rock'],\n",
       " ['black-metal', 'death-metal', 'metalcore'],\n",
       " ['blues', 'soul'],\n",
       " ['breakbeat', 'drum-and-bass', 'dubstep', 'trip-hop'],\n",
       " ['british', 'indie-pop', 'power-pop'],\n",
       " ['cantopop', 'k-pop', 'mandopop'],\n",
       " ['chicago-house', 'detroit-techno', 'house', 'trance'],\n",
       " ['children'],\n",
       " ['classical', 'opera'],\n",
       " ['club', 'dance', 'edm', 'synth-pop'],\n",
       " ['comedy'],\n",
       " ['country', 'honky-tonk'],\n",
       " ['disco'],\n",
       " ['disney', 'pop-film', 'show-tunes'],\n",
       " ['french', 'spanish', 'latin', 'malay'],\n",
       " ['funk', 'groove'],\n",
       " ['garage', 'hard-rock', 'heavy-metal'],\n",
       " ['german', 'industrial'],\n",
       " ['gospel'],\n",
       " ['goth'],\n",
       " ['hip-hop', 'rap', 'r-n-b', 'reggae', 'reggaeton'],\n",
       " ['indian', 'iranian', 'turkish'],\n",
       " ['jazz'],\n",
       " ['piano', 'instrumental'],\n",
       " ['pop'],\n",
       " ['techno', 'electronic']]"
      ]
     },
     "execution_count": 10,
     "metadata": {},
     "output_type": "execute_result"
    }
   ],
   "source": [
    "\n",
    "bl = [acoustic_folk_singer_songwriter, afro_brazilian_forro_mpb_samba_pagode_sertanejo_world_music, alternative_indie_grunge, ambient_new_age_sleep, anime_jpop_jrock, black_metal_death_metal_metalcore, blues_soul, breakbeat_drum_and_bass_dubstep_trip_hop, britpop_indie_pop_power_pop, cantopop_kpop_mandopop, chicago_house_detroit_techno_house_trance, children, classical_opera, club_dance_edm_synth_pop, comedy, country_honky_tonk, disco, disney_pop_film_show_tunes, french_spanish_latin_malay, funk_groove, garage_hard_rock_heavy_metal, german_industrial, gospel, goth, hip_hop_rap_rnb_reggae_reggaeton, indian_iranian_turkish, jazz, piano_instrumental, pop, techno_electronic]\n",
    "bl"
   ]
  },
  {
   "cell_type": "code",
   "execution_count": 11,
   "id": "4839fac1",
   "metadata": {},
   "outputs": [
    {
     "data": {
      "text/plain": [
       "81"
      ]
     },
     "execution_count": 11,
     "metadata": {},
     "output_type": "execute_result"
    }
   ],
   "source": [
    "total = 0\n",
    "for x in bl:\n",
    "    total+= len(x)\n",
    "total"
   ]
  }
 ],
 "metadata": {
  "kernelspec": {
   "display_name": "Python 3 (ipykernel)",
   "language": "python",
   "name": "python3"
  },
  "language_info": {
   "codemirror_mode": {
    "name": "ipython",
    "version": 3
   },
   "file_extension": ".py",
   "mimetype": "text/x-python",
   "name": "python",
   "nbconvert_exporter": "python",
   "pygments_lexer": "ipython3",
   "version": "3.9.13"
  },
  "toc": {
   "base_numbering": 1,
   "nav_menu": {},
   "number_sections": true,
   "sideBar": true,
   "skip_h1_title": false,
   "title_cell": "Table of Contents",
   "title_sidebar": "Contents",
   "toc_cell": false,
   "toc_position": {},
   "toc_section_display": true,
   "toc_window_display": false
  },
  "varInspector": {
   "cols": {
    "lenName": 16,
    "lenType": 16,
    "lenVar": 40
   },
   "kernels_config": {
    "python": {
     "delete_cmd_postfix": "",
     "delete_cmd_prefix": "del ",
     "library": "var_list.py",
     "varRefreshCmd": "print(var_dic_list())"
    },
    "r": {
     "delete_cmd_postfix": ") ",
     "delete_cmd_prefix": "rm(",
     "library": "var_list.r",
     "varRefreshCmd": "cat(var_dic_list()) "
    }
   },
   "types_to_exclude": [
    "module",
    "function",
    "builtin_function_or_method",
    "instance",
    "_Feature"
   ],
   "window_display": false
  }
 },
 "nbformat": 4,
 "nbformat_minor": 5
}
