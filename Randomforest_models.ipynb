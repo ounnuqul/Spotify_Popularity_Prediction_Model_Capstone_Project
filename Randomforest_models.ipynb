{
 "cells": [
  {
   "cell_type": "code",
   "execution_count": 1,
   "id": "b1606793",
   "metadata": {},
   "outputs": [],
   "source": [
    "import pandas as pd\n",
    "import numpy as np \n",
    "import matplotlib.pyplot as plt\n",
    "import pickle\n",
    "\n",
    "from sklearn.pipeline import Pipeline\n",
    "from sklearn.model_selection import GridSearchCV"
   ]
  },
  {
   "cell_type": "code",
   "execution_count": 2,
   "id": "6e5fe660",
   "metadata": {},
   "outputs": [],
   "source": [
    "#reading from pickle\n",
    "with open('processed_df_final.pkl', 'rb') as f:\n",
    "    df = pickle.load(f)"
   ]
  },
  {
   "cell_type": "code",
   "execution_count": 3,
   "id": "75dc66c2",
   "metadata": {},
   "outputs": [],
   "source": [
    "import re\n",
    "from sklearn.feature_extraction.text import CountVectorizer\n",
    "from sklearn.model_selection import train_test_split\n",
    "from sklearn.preprocessing import StandardScaler\n",
    "from sklearn.metrics import ConfusionMatrixDisplay, confusion_matrix, precision_score, recall_score, f1_score, accuracy_score"
   ]
  },
  {
   "cell_type": "code",
   "execution_count": 4,
   "id": "b9411d11",
   "metadata": {},
   "outputs": [],
   "source": [
    "df_vect = df.copy()"
   ]
  },
  {
   "cell_type": "code",
   "execution_count": 5,
   "id": "e2b50d1c",
   "metadata": {},
   "outputs": [],
   "source": [
    "# creating a custom tokenizer that will only split words based on white space since multi-word genres \n",
    "# are formatted with dashes (-) to between the words\n",
    "def my_tokenizer(text):\n",
    "    # Split text into tokens based on whitespace characters\n",
    "    tokens = re.split(r'\\s+', text)\n",
    "    return tokens"
   ]
  },
  {
   "cell_type": "code",
   "execution_count": 6,
   "id": "6b1b57c5",
   "metadata": {},
   "outputs": [
    {
     "name": "stderr",
     "output_type": "stream",
     "text": [
      "/Users/ounnuqul/opt/anaconda3/lib/python3.9/site-packages/sklearn/feature_extraction/text.py:516: UserWarning: The parameter 'token_pattern' will not be used since 'tokenizer' is not None'\n",
      "  warnings.warn(\n"
     ]
    }
   ],
   "source": [
    "bagofwords = CountVectorizer(tokenizer=my_tokenizer).fit(df_vect['track_genre'])"
   ]
  },
  {
   "cell_type": "code",
   "execution_count": 7,
   "id": "ad6caded",
   "metadata": {},
   "outputs": [],
   "source": [
    "transformed = bagofwords.transform(df_vect['track_genre'])"
   ]
  },
  {
   "cell_type": "code",
   "execution_count": 8,
   "id": "d136d855",
   "metadata": {},
   "outputs": [
    {
     "name": "stderr",
     "output_type": "stream",
     "text": [
      "/Users/ounnuqul/opt/anaconda3/lib/python3.9/site-packages/sklearn/utils/deprecation.py:87: FutureWarning: Function get_feature_names is deprecated; get_feature_names is deprecated in 1.0 and will be removed in 1.2. Please use get_feature_names_out instead.\n",
      "  warnings.warn(msg, category=FutureWarning)\n"
     ]
    },
    {
     "data": {
      "text/html": [
       "<div>\n",
       "<style scoped>\n",
       "    .dataframe tbody tr th:only-of-type {\n",
       "        vertical-align: middle;\n",
       "    }\n",
       "\n",
       "    .dataframe tbody tr th {\n",
       "        vertical-align: top;\n",
       "    }\n",
       "\n",
       "    .dataframe thead th {\n",
       "        text-align: right;\n",
       "    }\n",
       "</style>\n",
       "<table border=\"1\" class=\"dataframe\">\n",
       "  <thead>\n",
       "    <tr style=\"text-align: right;\">\n",
       "      <th></th>\n",
       "      <th>acoustic</th>\n",
       "      <th>afrobeat</th>\n",
       "      <th>alt-rock</th>\n",
       "      <th>alternative</th>\n",
       "      <th>ambient</th>\n",
       "      <th>anime</th>\n",
       "      <th>black-metal</th>\n",
       "      <th>bluegrass</th>\n",
       "      <th>blues</th>\n",
       "      <th>bossanova</th>\n",
       "      <th>...</th>\n",
       "      <th>summer</th>\n",
       "      <th>swedish</th>\n",
       "      <th>synth-pop</th>\n",
       "      <th>tango</th>\n",
       "      <th>techno</th>\n",
       "      <th>trance</th>\n",
       "      <th>trip-hop</th>\n",
       "      <th>turkish</th>\n",
       "      <th>work-out</th>\n",
       "      <th>world-music</th>\n",
       "    </tr>\n",
       "  </thead>\n",
       "  <tbody>\n",
       "    <tr>\n",
       "      <th>0</th>\n",
       "      <td>1</td>\n",
       "      <td>0</td>\n",
       "      <td>0</td>\n",
       "      <td>0</td>\n",
       "      <td>0</td>\n",
       "      <td>0</td>\n",
       "      <td>0</td>\n",
       "      <td>0</td>\n",
       "      <td>0</td>\n",
       "      <td>0</td>\n",
       "      <td>...</td>\n",
       "      <td>0</td>\n",
       "      <td>0</td>\n",
       "      <td>0</td>\n",
       "      <td>0</td>\n",
       "      <td>0</td>\n",
       "      <td>0</td>\n",
       "      <td>0</td>\n",
       "      <td>0</td>\n",
       "      <td>0</td>\n",
       "      <td>0</td>\n",
       "    </tr>\n",
       "    <tr>\n",
       "      <th>1</th>\n",
       "      <td>1</td>\n",
       "      <td>0</td>\n",
       "      <td>0</td>\n",
       "      <td>0</td>\n",
       "      <td>0</td>\n",
       "      <td>0</td>\n",
       "      <td>0</td>\n",
       "      <td>0</td>\n",
       "      <td>0</td>\n",
       "      <td>0</td>\n",
       "      <td>...</td>\n",
       "      <td>0</td>\n",
       "      <td>0</td>\n",
       "      <td>0</td>\n",
       "      <td>0</td>\n",
       "      <td>0</td>\n",
       "      <td>0</td>\n",
       "      <td>0</td>\n",
       "      <td>0</td>\n",
       "      <td>0</td>\n",
       "      <td>0</td>\n",
       "    </tr>\n",
       "    <tr>\n",
       "      <th>2</th>\n",
       "      <td>1</td>\n",
       "      <td>0</td>\n",
       "      <td>0</td>\n",
       "      <td>0</td>\n",
       "      <td>0</td>\n",
       "      <td>0</td>\n",
       "      <td>0</td>\n",
       "      <td>0</td>\n",
       "      <td>0</td>\n",
       "      <td>0</td>\n",
       "      <td>...</td>\n",
       "      <td>0</td>\n",
       "      <td>0</td>\n",
       "      <td>0</td>\n",
       "      <td>0</td>\n",
       "      <td>0</td>\n",
       "      <td>0</td>\n",
       "      <td>0</td>\n",
       "      <td>0</td>\n",
       "      <td>0</td>\n",
       "      <td>0</td>\n",
       "    </tr>\n",
       "    <tr>\n",
       "      <th>3</th>\n",
       "      <td>1</td>\n",
       "      <td>0</td>\n",
       "      <td>0</td>\n",
       "      <td>0</td>\n",
       "      <td>0</td>\n",
       "      <td>0</td>\n",
       "      <td>0</td>\n",
       "      <td>0</td>\n",
       "      <td>0</td>\n",
       "      <td>0</td>\n",
       "      <td>...</td>\n",
       "      <td>0</td>\n",
       "      <td>0</td>\n",
       "      <td>0</td>\n",
       "      <td>0</td>\n",
       "      <td>0</td>\n",
       "      <td>0</td>\n",
       "      <td>0</td>\n",
       "      <td>0</td>\n",
       "      <td>0</td>\n",
       "      <td>0</td>\n",
       "    </tr>\n",
       "    <tr>\n",
       "      <th>4</th>\n",
       "      <td>1</td>\n",
       "      <td>0</td>\n",
       "      <td>0</td>\n",
       "      <td>0</td>\n",
       "      <td>0</td>\n",
       "      <td>0</td>\n",
       "      <td>0</td>\n",
       "      <td>0</td>\n",
       "      <td>0</td>\n",
       "      <td>0</td>\n",
       "      <td>...</td>\n",
       "      <td>0</td>\n",
       "      <td>0</td>\n",
       "      <td>0</td>\n",
       "      <td>0</td>\n",
       "      <td>0</td>\n",
       "      <td>0</td>\n",
       "      <td>0</td>\n",
       "      <td>0</td>\n",
       "      <td>0</td>\n",
       "      <td>0</td>\n",
       "    </tr>\n",
       "  </tbody>\n",
       "</table>\n",
       "<p>5 rows × 123 columns</p>\n",
       "</div>"
      ],
      "text/plain": [
       "   acoustic  afrobeat  alt-rock  alternative  ambient  anime  black-metal  \\\n",
       "0         1         0         0            0        0      0            0   \n",
       "1         1         0         0            0        0      0            0   \n",
       "2         1         0         0            0        0      0            0   \n",
       "3         1         0         0            0        0      0            0   \n",
       "4         1         0         0            0        0      0            0   \n",
       "\n",
       "   bluegrass  blues  bossanova  ...  summer  swedish  synth-pop  tango  \\\n",
       "0          0      0          0  ...       0        0          0      0   \n",
       "1          0      0          0  ...       0        0          0      0   \n",
       "2          0      0          0  ...       0        0          0      0   \n",
       "3          0      0          0  ...       0        0          0      0   \n",
       "4          0      0          0  ...       0        0          0      0   \n",
       "\n",
       "   techno  trance  trip-hop  turkish  work-out  world-music  \n",
       "0       0       0         0        0         0            0  \n",
       "1       0       0         0        0         0            0  \n",
       "2       0       0         0        0         0            0  \n",
       "3       0       0         0        0         0            0  \n",
       "4       0       0         0        0         0            0  \n",
       "\n",
       "[5 rows x 123 columns]"
      ]
     },
     "execution_count": 8,
     "metadata": {},
     "output_type": "execute_result"
    }
   ],
   "source": [
    "vect_matrix = pd.DataFrame(columns=bagofwords.get_feature_names(), data=transformed.toarray())\n",
    "vect_matrix.head()"
   ]
  },
  {
   "cell_type": "code",
   "execution_count": 9,
   "id": "6a5c9c35",
   "metadata": {},
   "outputs": [
    {
     "name": "stdout",
     "output_type": "stream",
     "text": [
      "<class 'pandas.core.frame.DataFrame'>\n",
      "RangeIndex: 60434 entries, 0 to 60433\n",
      "Columns: 149 entries, index to world-music\n",
      "dtypes: float64(11), int64(131), object(7)\n",
      "memory usage: 68.7+ MB\n"
     ]
    }
   ],
   "source": [
    "df_vect = pd.concat([df_vect.reset_index(),vect_matrix],axis=1)\n",
    "\n",
    "df_vect['popularity'] = np.where(df_vect['popularity'] >= np.median(df_vect['popularity']), 1, 0)\n",
    "\n",
    "df_vect.info()\n",
    "\n",
    "vect_rem, vect_test = train_test_split(df_vect, test_size=0.25, random_state=42,\n",
    "                                     stratify=df_vect[['track_genre','popularity']])"
   ]
  },
  {
   "cell_type": "code",
   "execution_count": 13,
   "id": "f88f888b",
   "metadata": {},
   "outputs": [],
   "source": [
    "X_rem = vect_rem.drop(columns=['track_id', 'album_name', 'artists', 'track_name', 'track_genre',\n",
    "       'href', 'preview_url','popularity'])\n",
    "y_rem = vect_rem['popularity']"
   ]
  },
  {
   "cell_type": "code",
   "execution_count": 14,
   "id": "e387eb4b",
   "metadata": {},
   "outputs": [],
   "source": [
    "from sklearn.ensemble import RandomForestClassifier"
   ]
  },
  {
   "cell_type": "code",
   "execution_count": 19,
   "id": "d5cef33c",
   "metadata": {},
   "outputs": [
    {
     "name": "stdout",
     "output_type": "stream",
     "text": [
      "Fitting 5 folds for each of 120 candidates, totalling 600 fits\n"
     ]
    }
   ],
   "source": [
    "# estimator\n",
    "estimator = Pipeline([\n",
    "    ('rf', RandomForestClassifier())\n",
    "])\n",
    "\n",
    "\n",
    "# parameters\n",
    "params = {\n",
    "    'rf__max_depth':[5,10,15,None],\n",
    "    'rf__n_estimators': [50,75,100],\n",
    "    'rf__min_samples_leaf':[2,4,6,8,10],\n",
    "    'rf__criterion': ['gini','entropy']\n",
    "}\n",
    "\n",
    "# grid search\n",
    "grid = GridSearchCV(estimator, param_grid=params, cv=5, n_jobs=-1, verbose=3)\n",
    "grid.fit(X_rem, y_rem)\n",
    "\n",
    "#writting to pickle\n",
    "with open('RandomForest_grid_1.pkl', \"wb\") as f:\n",
    "    pickle.dump(grid, f)"
   ]
  },
  {
   "cell_type": "code",
   "execution_count": 21,
   "id": "8e765bdb",
   "metadata": {},
   "outputs": [
    {
     "data": {
      "text/plain": [
       "{'rf__criterion': 'entropy',\n",
       " 'rf__max_depth': None,\n",
       " 'rf__min_samples_leaf': 2,\n",
       " 'rf__n_estimators': 100}"
      ]
     },
     "execution_count": 21,
     "metadata": {},
     "output_type": "execute_result"
    }
   ],
   "source": [
    "grid.best_params_"
   ]
  },
  {
   "cell_type": "code",
   "execution_count": 22,
   "id": "ab8a0d45",
   "metadata": {},
   "outputs": [
    {
     "data": {
      "text/plain": [
       "0.71715388858246"
      ]
     },
     "execution_count": 22,
     "metadata": {},
     "output_type": "execute_result"
    }
   ],
   "source": [
    "grid.best_score_"
   ]
  },
  {
   "cell_type": "code",
   "execution_count": null,
   "id": "d1b262d6",
   "metadata": {},
   "outputs": [],
   "source": []
  },
  {
   "cell_type": "code",
   "execution_count": null,
   "id": "0453b714",
   "metadata": {},
   "outputs": [],
   "source": []
  },
  {
   "cell_type": "code",
   "execution_count": null,
   "id": "b6a55566",
   "metadata": {},
   "outputs": [],
   "source": []
  },
  {
   "cell_type": "code",
   "execution_count": 23,
   "id": "afd82795",
   "metadata": {},
   "outputs": [
    {
     "name": "stdout",
     "output_type": "stream",
     "text": [
      "n_estimators = 50\n",
      "Train Accuracy Score: 0.9872311086596801\n",
      "Train Recall Score: 0.9869512994103516\n",
      "Train Precision Score: 0.9877602316813289\n",
      "Train F1 Score: 0.9873555998579894\n",
      "\n",
      "\n",
      "Validation Accuracy Score: 0.7166023166023165\n",
      "Validation Recall Score: 0.7132586170437725\n",
      "Validation Precision Score: 0.7354993458351504\n",
      "Validation F1 Score: 0.7242082662372517\n",
      "\n",
      "\n",
      "n_estimators = 60\n",
      "Train Accuracy Score: 0.9897683397683398\n",
      "Train Recall Score: 0.9893558951965066\n",
      "Train Precision Score: 0.9903830391781869\n",
      "Train F1 Score: 0.9898692007318205\n",
      "\n",
      "\n",
      "Validation Accuracy Score: 0.7178157749586321\n",
      "Validation Recall Score: 0.7163892445582587\n",
      "Validation Precision Score: 0.7320104666375927\n",
      "Validation F1 Score: 0.7241156169111304\n",
      "\n",
      "\n",
      "n_estimators = 70\n",
      "Train Accuracy Score: 0.9905681191395477\n",
      "Train Recall Score: 0.9903347348877847\n",
      "Train Precision Score: 0.9909840992295503\n",
      "Train F1 Score: 0.9906593106462008\n",
      "\n",
      "\n",
      "Validation Accuracy Score: 0.7162713734142305\n",
      "Validation Recall Score: 0.7125369354157872\n",
      "Validation Precision Score: 0.7361535106846926\n",
      "Validation F1 Score: 0.7241527241527242\n",
      "\n",
      "\n",
      "n_estimators = 80\n",
      "Train Accuracy Score: 0.990761169332598\n",
      "Train Recall Score: 0.9903384279475983\n",
      "Train Precision Score: 0.9913665919895087\n",
      "Train F1 Score: 0.9908522432484094\n",
      "\n",
      "\n",
      "Validation Accuracy Score: 0.7161610590182019\n",
      "Validation Recall Score: 0.7108736643620365\n",
      "Validation Precision Score: 0.7398604448320977\n",
      "Validation F1 Score: 0.7250774655411902\n",
      "\n",
      "\n",
      "n_estimators = 90\n",
      "Train Accuracy Score: 0.991753998896856\n",
      "Train Recall Score: 0.9919654569304766\n",
      "Train Precision Score: 0.991694442926616\n",
      "Train F1 Score: 0.9918299314151433\n",
      "\n",
      "\n",
      "Validation Accuracy Score: 0.7185879757308329\n",
      "Validation Recall Score: 0.7127325946058959\n",
      "Validation Precision Score: 0.7433493240296555\n",
      "Validation F1 Score: 0.7277190735403992\n",
      "\n",
      "\n",
      "n_estimators = 100\n",
      "Train Accuracy Score: 0.992388306674021\n",
      "Train Recall Score: 0.9926747936369102\n",
      "Train Precision Score: 0.9922408611551281\n",
      "Train F1 Score: 0.9924577799639285\n",
      "\n",
      "\n",
      "Validation Accuracy Score: 0.7154991726420298\n",
      "Validation Recall Score: 0.71042147200671\n",
      "Validation Precision Score: 0.7387701700828608\n",
      "Validation F1 Score: 0.7243185462319616\n",
      "\n",
      "\n",
      "n_estimators = 110\n",
      "Train Accuracy Score: 0.991753998896856\n",
      "Train Recall Score: 0.9921268452706397\n",
      "Train Precision Score: 0.9915305174580624\n",
      "Train F1 Score: 0.9918285917302069\n",
      "\n",
      "\n",
      "Validation Accuracy Score: 0.7181467181467182\n",
      "Validation Recall Score: 0.7111665626949469\n",
      "Validation Precision Score: 0.7457479284779764\n",
      "Validation F1 Score: 0.7280468334220329\n",
      "\n",
      "\n",
      "n_estimators = 120\n",
      "Train Accuracy Score: 0.9927468284611142\n",
      "Train Recall Score: 0.9931109896118098\n",
      "Train Precision Score: 0.9925140702693842\n",
      "Train F1 Score: 0.9928124402175399\n",
      "\n",
      "\n",
      "Validation Accuracy Score: 0.7221180364037507\n",
      "Validation Recall Score: 0.7169850934285115\n",
      "Validation Precision Score: 0.7446576537287396\n",
      "Validation F1 Score: 0.730559418119585\n",
      "\n",
      "\n",
      "n_estimators = 130\n",
      "Train Accuracy Score: 0.9931605074462218\n",
      "Train Recall Score: 0.9938720796629644\n",
      "Train Precision Score: 0.9925687120922354\n",
      "Train F1 Score: 0.9932199682869485\n",
      "\n",
      "\n",
      "Validation Accuracy Score: 0.7228902371759515\n",
      "Validation Recall Score: 0.7202633814783348\n",
      "Validation Precision Score: 0.739424334932403\n",
      "Validation F1 Score: 0.7297180976974392\n",
      "\n",
      "\n",
      "n_estimators = 140\n",
      "Train Accuracy Score: 0.9929950358521787\n",
      "Train Recall Score: 0.9937619699042408\n",
      "Train Precision Score: 0.9923501448008305\n",
      "Train F1 Score: 0.9930555555555556\n",
      "\n",
      "\n",
      "Validation Accuracy Score: 0.7225592939878654\n",
      "Validation Recall Score: 0.716405433646813\n",
      "Validation Precision Score: 0.7474923680767553\n",
      "Validation F1 Score: 0.7316188240315868\n",
      "\n",
      "\n"
     ]
    }
   ],
   "source": [
    "\n",
    "X_train, X_val, y_train, y_val = train_test_split(X_rem, y_rem, test_size=0.2, random_state=42)\n",
    "train_acc = []\n",
    "train_pre = []\n",
    "train_f1 = []\n",
    "train_rec = []\n",
    "\n",
    "val_acc = []\n",
    "val_pre = []\n",
    "val_f1 = []\n",
    "val_rec = []\n",
    "for x in range(50,150,10):\n",
    "    rf = RandomForestClassifier(n_estimators=x, criterion='entropy',min_samples_leaf=2).fit(X_train,y_train)\n",
    "    print(f'n_estimators = {x}')\n",
    "    y_pred = rf.predict(X_train)\n",
    "    print(f'Train Accuracy Score: {accuracy_score(y_pred,y_train)}')\n",
    "    print(f'Train Recall Score: {recall_score(y_pred,y_train)}')\n",
    "    print(f'Train Precision Score: {precision_score(y_pred,y_train)}')\n",
    "    print(f'Train F1 Score: {f1_score(y_pred,y_train)}')\n",
    "    \n",
    "    train_acc.append(accuracy_score(y_pred,y_train))\n",
    "    train_pre.append(recall_score(y_pred,y_train))\n",
    "    train_f1.append(precision_score(y_pred,y_train))\n",
    "    train_rec.append(f1_score(y_pred,y_train))\n",
    "    \n",
    "    print('\\n')\n",
    "    \n",
    "    y_pred1 = rf.predict(X_val)\n",
    "    print(f'Validation Accuracy Score: {accuracy_score(y_pred1,y_val)}')\n",
    "    print(f'Validation Recall Score: {recall_score(y_pred1,y_val)}')\n",
    "    print(f'Validation Precision Score: {precision_score(y_pred1,y_val)}')\n",
    "    print(f'Validation F1 Score: {f1_score(y_pred1,y_val)}')\n",
    "    \n",
    "    val_acc.append(accuracy_score(y_pred1,y_val))\n",
    "    val_pre.append(recall_score(y_pred1,y_val))\n",
    "    val_f1.append(precision_score(y_pred1,y_val))\n",
    "    val_rec.append(f1_score(y_pred1,y_val))\n",
    "    print('\\n')"
   ]
  },
  {
   "cell_type": "code",
   "execution_count": 24,
   "id": "927ee3aa",
   "metadata": {
    "run_control": {
     "marked": false
    }
   },
   "outputs": [
    {
     "data": {
      "image/png": "[encoded data removed]",
      "text/plain": [
       "<Figure size 1000x1000 with 4 Axes>"
      ]
     },
     "metadata": {},
     "output_type": "display_data"
    }
   ],
   "source": [
    "#Exploring the effect of n_estimators on overfitting\n",
    "plt.subplots(2,2,figsize=(10,10))\n",
    "\n",
    "plt.subplot(2,2,1)\n",
    "plt.plot(range(50,150,10),train_acc,label='train accuracy',color='blue')\n",
    "plt.plot(range(50,150,10),val_acc,label='Validation accuracy',color='orange')\n",
    "plt.legend()\n",
    "plt.xlabel('n_estimators')\n",
    "plt.ylabel('Score')\n",
    "\n",
    "\n",
    "plt.subplot(2,2,2)\n",
    "plt.plot(range(50,150,10),train_pre,label='train precision',color='blue')\n",
    "plt.plot(range(50,150,10),val_pre,label='Validation precision',color='orange')\n",
    "plt.legend()\n",
    "plt.xlabel('n_estimators')\n",
    "plt.ylabel('Score')\n",
    "\n",
    "\n",
    "plt.subplot(2,2,3)\n",
    "plt.plot(range(50,150,10),train_rec,label='train recall',color='blue')\n",
    "plt.plot(range(50,150,10),val_rec,label='Validation recall',color='orange')\n",
    "plt.legend()\n",
    "plt.xlabel('n_estimators')\n",
    "plt.ylabel('Score')\n",
    "\n",
    "\n",
    "plt.subplot(2,2,4)\n",
    "plt.plot(range(50,150,10),train_f1,label='train f1 score',color='blue')\n",
    "plt.plot(range(50,150,10),val_f1,label='Validation f1 score',color='orange')\n",
    "plt.legend()\n",
    "plt.xlabel('n_estimators')\n",
    "plt.ylabel('Score')\n",
    "\n",
    "plt.show()\n",
    "\n"
   ]
  },
  {
   "cell_type": "code",
   "execution_count": 26,
   "id": "a722cf50",
   "metadata": {},
   "outputs": [
    {
     "data": {
      "text/html": [
       "<div>\n",
       "<style scoped>\n",
       "    .dataframe tbody tr th:only-of-type {\n",
       "        vertical-align: middle;\n",
       "    }\n",
       "\n",
       "    .dataframe tbody tr th {\n",
       "        vertical-align: top;\n",
       "    }\n",
       "\n",
       "    .dataframe thead th {\n",
       "        text-align: right;\n",
       "    }\n",
       "</style>\n",
       "<table border=\"1\" class=\"dataframe\">\n",
       "  <thead>\n",
       "    <tr style=\"text-align: right;\">\n",
       "      <th></th>\n",
       "      <th>n_estimators</th>\n",
       "      <th>train acc</th>\n",
       "      <th>val acc</th>\n",
       "      <th>accuracy diffrence</th>\n",
       "    </tr>\n",
       "  </thead>\n",
       "  <tbody>\n",
       "    <tr>\n",
       "      <th>0</th>\n",
       "      <td>50</td>\n",
       "      <td>0.987231</td>\n",
       "      <td>0.716602</td>\n",
       "      <td>0.270629</td>\n",
       "    </tr>\n",
       "    <tr>\n",
       "      <th>1</th>\n",
       "      <td>60</td>\n",
       "      <td>0.989768</td>\n",
       "      <td>0.717816</td>\n",
       "      <td>0.271953</td>\n",
       "    </tr>\n",
       "    <tr>\n",
       "      <th>2</th>\n",
       "      <td>70</td>\n",
       "      <td>0.990568</td>\n",
       "      <td>0.716271</td>\n",
       "      <td>0.274297</td>\n",
       "    </tr>\n",
       "    <tr>\n",
       "      <th>3</th>\n",
       "      <td>80</td>\n",
       "      <td>0.990761</td>\n",
       "      <td>0.716161</td>\n",
       "      <td>0.274600</td>\n",
       "    </tr>\n",
       "    <tr>\n",
       "      <th>4</th>\n",
       "      <td>90</td>\n",
       "      <td>0.991754</td>\n",
       "      <td>0.718588</td>\n",
       "      <td>0.273166</td>\n",
       "    </tr>\n",
       "    <tr>\n",
       "      <th>5</th>\n",
       "      <td>100</td>\n",
       "      <td>0.992388</td>\n",
       "      <td>0.715499</td>\n",
       "      <td>0.276889</td>\n",
       "    </tr>\n",
       "    <tr>\n",
       "      <th>6</th>\n",
       "      <td>110</td>\n",
       "      <td>0.991754</td>\n",
       "      <td>0.718147</td>\n",
       "      <td>0.273607</td>\n",
       "    </tr>\n",
       "    <tr>\n",
       "      <th>7</th>\n",
       "      <td>120</td>\n",
       "      <td>0.992747</td>\n",
       "      <td>0.722118</td>\n",
       "      <td>0.270629</td>\n",
       "    </tr>\n",
       "    <tr>\n",
       "      <th>8</th>\n",
       "      <td>130</td>\n",
       "      <td>0.993161</td>\n",
       "      <td>0.722890</td>\n",
       "      <td>0.270270</td>\n",
       "    </tr>\n",
       "    <tr>\n",
       "      <th>9</th>\n",
       "      <td>140</td>\n",
       "      <td>0.992995</td>\n",
       "      <td>0.722559</td>\n",
       "      <td>0.270436</td>\n",
       "    </tr>\n",
       "  </tbody>\n",
       "</table>\n",
       "</div>"
      ],
      "text/plain": [
       "   n_estimators  train acc   val acc  accuracy diffrence\n",
       "0            50   0.987231  0.716602            0.270629\n",
       "1            60   0.989768  0.717816            0.271953\n",
       "2            70   0.990568  0.716271            0.274297\n",
       "3            80   0.990761  0.716161            0.274600\n",
       "4            90   0.991754  0.718588            0.273166\n",
       "5           100   0.992388  0.715499            0.276889\n",
       "6           110   0.991754  0.718147            0.273607\n",
       "7           120   0.992747  0.722118            0.270629\n",
       "8           130   0.993161  0.722890            0.270270\n",
       "9           140   0.992995  0.722559            0.270436"
      ]
     },
     "execution_count": 26,
     "metadata": {},
     "output_type": "execute_result"
    }
   ],
   "source": [
    "acc_diff = []\n",
    "for x in range(len(train_acc)):\n",
    "    acc_diff.append(train_acc[x] - val_acc[x])\n",
    "\n",
    "pd.DataFrame({'n_estimators':range(50,150,10),\n",
    "              'train acc':train_acc,'val acc':val_acc,\n",
    "              'accuracy diffrence':acc_diff})"
   ]
  },
  {
   "cell_type": "code",
   "execution_count": 27,
   "id": "04f2b846",
   "metadata": {},
   "outputs": [
    {
     "data": {
      "image/png": "[encoded data removed]",
      "text/plain": [
       "<Figure size 640x480 with 1 Axes>"
      ]
     },
     "metadata": {},
     "output_type": "display_data"
    }
   ],
   "source": [
    "plt.figure()\n",
    "\n",
    "plt.plot(range(50,150,10), acc_diff)\n",
    "plt.title('Diffrence between train and validation accuracy')\n",
    "plt.ylabel('score')\n",
    "plt.xlabel('n_estimators')\n",
    "plt.axhline(0.045, linestyle='--',color='black',label='Threshold of Overfitting', alpha=0.5)\n",
    "plt.legend()\n",
    "\n",
    "plt.show()"
   ]
  },
  {
   "cell_type": "code",
   "execution_count": null,
   "id": "039d2b99",
   "metadata": {},
   "outputs": [],
   "source": []
  },
  {
   "cell_type": "code",
   "execution_count": null,
   "id": "e3d3038e",
   "metadata": {},
   "outputs": [],
   "source": []
  },
  {
   "cell_type": "code",
   "execution_count": 37,
   "id": "a922ad38",
   "metadata": {},
   "outputs": [
    {
     "name": "stdout",
     "output_type": "stream",
     "text": [
      "Fitting 5 folds for each of 18 candidates, totalling 90 fits\n"
     ]
    },
    {
     "data": {
      "text/plain": [
       "GridSearchCV(cv=5, estimator=Pipeline(steps=[('rf', RandomForestClassifier())]),\n",
       "             n_jobs=-1,\n",
       "             param_grid={'rf__criterion': ['gini', 'entropy'],\n",
       "                         'rf__min_samples_leaf': [1, 2, 3],\n",
       "                         'rf__min_samples_split': [0.25, 0.5, 0.75],\n",
       "                         'rf__n_estimators': [100]},\n",
       "             verbose=3)"
      ]
     },
     "execution_count": 37,
     "metadata": {},
     "output_type": "execute_result"
    }
   ],
   "source": [
    "# estimator\n",
    "estimator = Pipeline([\n",
    "    ('rf', RandomForestClassifier())\n",
    "])\n",
    "\n",
    "\n",
    "# parameters\n",
    "params = {\n",
    "    'rf__n_estimators': [100],\n",
    "    'rf__min_samples_leaf':[1,2,3],\n",
    "    'rf__min_samples_split':[.25,.5,.75],\n",
    "    'rf__criterion': ['gini','entropy']\n",
    "}\n",
    "\n",
    "# grid search\n",
    "grid = GridSearchCV(estimator, param_grid=params, cv=5, n_jobs=-1, verbose=3)\n",
    "grid.fit(X_rem, y_rem)\n",
    "\n",
    "#writting to pickle\n",
    "with open('RandomForest_grid_2.pkl', \"wb\") as f:\n",
    "    pickle.dump(grid, f)"
   ]
  },
  {
   "cell_type": "code",
   "execution_count": 38,
   "id": "5dfd7d6b",
   "metadata": {
    "scrolled": true
   },
   "outputs": [
    {
     "data": {
      "text/plain": [
       "{'rf__criterion': 'entropy',\n",
       " 'rf__min_samples_leaf': 1,\n",
       " 'rf__min_samples_split': 0.25,\n",
       " 'rf__n_estimators': 100}"
      ]
     },
     "execution_count": 38,
     "metadata": {},
     "output_type": "execute_result"
    }
   ],
   "source": [
    "grid.best_params_"
   ]
  },
  {
   "cell_type": "code",
   "execution_count": 39,
   "id": "0066bcae",
   "metadata": {},
   "outputs": [
    {
     "data": {
      "text/plain": [
       "0.5981467181467182"
      ]
     },
     "execution_count": 39,
     "metadata": {},
     "output_type": "execute_result"
    }
   ],
   "source": [
    "grid.best_score_"
   ]
  },
  {
   "cell_type": "code",
   "execution_count": null,
   "id": "6fd2aa68",
   "metadata": {},
   "outputs": [],
   "source": []
  },
  {
   "cell_type": "code",
   "execution_count": null,
   "id": "25280b30",
   "metadata": {},
   "outputs": [],
   "source": []
  },
  {
   "cell_type": "code",
   "execution_count": null,
   "id": "966a6b92",
   "metadata": {},
   "outputs": [],
   "source": []
  },
  {
   "cell_type": "code",
   "execution_count": null,
   "id": "d5d2f9f4",
   "metadata": {},
   "outputs": [],
   "source": []
  },
  {
   "cell_type": "code",
   "execution_count": 34,
   "id": "574f0e2c",
   "metadata": {},
   "outputs": [
    {
     "name": "stdout",
     "output_type": "stream",
     "text": [
      "Fitting 5 folds for each of 6 candidates, totalling 30 fits\n"
     ]
    }
   ],
   "source": [
    "# estimator\n",
    "estimator = Pipeline([\n",
    "    ('rf', RandomForestClassifier())\n",
    "])\n",
    "\n",
    "\n",
    "# parameters\n",
    "params = {\n",
    "    'rf__n_estimators': [100],\n",
    "    'rf__min_samples_leaf':[1,2,3],\n",
    "    #'rf__min_samples_split':[.25,.5,.75],\n",
    "    'rf__criterion': ['gini','entropy']\n",
    "}\n",
    "\n",
    "# grid search\n",
    "grid = GridSearchCV(estimator, param_grid=params, cv=5, n_jobs=-1, verbose=3)\n",
    "grid.fit(X_rem, y_rem)\n",
    "\n",
    "#writting to pickle\n",
    "with open('RandomForest_grid_3.pkl', \"wb\") as f:\n",
    "    pickle.dump(grid, f)"
   ]
  },
  {
   "cell_type": "code",
   "execution_count": 35,
   "id": "a50cd73c",
   "metadata": {
    "scrolled": true
   },
   "outputs": [
    {
     "data": {
      "text/plain": [
       "{'rf__criterion': 'entropy',\n",
       " 'rf__min_samples_leaf': 1,\n",
       " 'rf__n_estimators': 100}"
      ]
     },
     "execution_count": 35,
     "metadata": {},
     "output_type": "execute_result"
    }
   ],
   "source": [
    "grid.best_params_"
   ]
  },
  {
   "cell_type": "code",
   "execution_count": 36,
   "id": "033219c6",
   "metadata": {},
   "outputs": [
    {
     "data": {
      "text/plain": [
       "0.721676778819636"
      ]
     },
     "execution_count": 36,
     "metadata": {},
     "output_type": "execute_result"
    }
   ],
   "source": [
    "grid.best_score_"
   ]
  },
  {
   "cell_type": "code",
   "execution_count": null,
   "id": "11f3421b",
   "metadata": {},
   "outputs": [],
   "source": []
  }
 ],
 "metadata": {
  "kernelspec": {
   "display_name": "Python 3 (ipykernel)",
   "language": "python",
   "name": "python3"
  },
  "language_info": {
   "codemirror_mode": {
    "name": "ipython",
    "version": 3
   },
   "file_extension": ".py",
   "mimetype": "text/x-python",
   "name": "python",
   "nbconvert_exporter": "python",
   "pygments_lexer": "ipython3",
   "version": "3.9.13"
  },
  "toc": {
   "base_numbering": 1,
   "nav_menu": {},
   "number_sections": false,
   "sideBar": true,
   "skip_h1_title": false,
   "title_cell": "Table of Contents",
   "title_sidebar": "Contents",
   "toc_cell": false,
   "toc_position": {},
   "toc_section_display": true,
   "toc_window_display": false
  },
  "varInspector": {
   "cols": {
    "lenName": 16,
    "lenType": 16,
    "lenVar": 40
   },
   "kernels_config": {
    "python": {
     "delete_cmd_postfix": "",
     "delete_cmd_prefix": "del ",
     "library": "var_list.py",
     "varRefreshCmd": "print(var_dic_list())"
    },
    "r": {
     "delete_cmd_postfix": ") ",
     "delete_cmd_prefix": "rm(",
     "library": "var_list.r",
     "varRefreshCmd": "cat(var_dic_list()) "
    }
   },
   "types_to_exclude": [
    "module",
    "function",
    "builtin_function_or_method",
    "instance",
    "_Feature"
   ],
   "window_display": false
  }
 },
 "nbformat": 4,
 "nbformat_minor": 5
}
