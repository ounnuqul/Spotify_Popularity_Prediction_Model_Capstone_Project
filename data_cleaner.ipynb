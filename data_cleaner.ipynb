{
 "cells": [
  {
   "cell_type": "code",
   "execution_count": 1,
   "id": "31a0ac08",
   "metadata": {},
   "outputs": [],
   "source": [
    "import pandas as pd\n",
    "import numpy as np\n",
    "import matplotlib.pyplot as plt\n",
    "\n",
    "from sklearn.preprocessing import OneHotEncoder\n",
    "from sklearn.model_selection import train_test_split\n",
    "from sklearn.linear_model import LinearRegression"
   ]
  },
  {
   "cell_type": "markdown",
   "id": "2d9106a5",
   "metadata": {},
   "source": [
    "## Loading"
   ]
  },
  {
   "cell_type": "code",
   "execution_count": 155,
   "id": "10bd309a",
   "metadata": {},
   "outputs": [],
   "source": [
    "# Genres to Categories Dictionary\n",
    "genre_categories_dict = {1 : ['acoustic','singer-songwriter','songwriter','folk'],\n",
    "2 : ['alternative','alt-rock'],\n",
    "3 : ['ambient','study','sleep','new-age'],\n",
    "4 : ['brazil','samba','pagode','sertanejo','tango','forro','mpb'],\n",
    "5 : ['british'],\n",
    "6 : ['classical'],\n",
    "7 : ['comedy'],\n",
    "8 : ['country','honky-tonk'],\n",
    "9 : ['indie','indie-pop'],\n",
    "10 : ['french'],\n",
    "11 : ['funk','disco'],\n",
    "12 : ['gospel'],\n",
    "13 : ['guitar'],\n",
    "14 : ['happy'],\n",
    "15 : ['hip-hop','trip-hop'],\n",
    "16 : ['dubstep','dub','synth-pop','electro','electronic','breakbeat','industrial','garage',],\n",
    "17 : ['progressive-house','house','deep-house','chicago-house','trance','techno','idm','edm','drum-and-bass','party','club','detroit-techno','minimal-techno'],\n",
    "18 : ['metalcore','metal','death-metal','heavy-metal','black-metal','hardstyle','hardcore','grindcore'],\n",
    "19 : ['j-dance','dancehall','dance'],\n",
    "20 : ['j-idol','emo','punk','punk-rock','hard-rock','goth','grunge'],\n",
    "21 : ['anime','j-rock','j-pop'],\n",
    "22 : ['k-pop'],\n",
    "23 : ['jazz','chill','groove','afrobeat','bluegrass'],\n",
    "24 : ['blues','sad','soul'],\n",
    "25 : ['kids','disney','children'],\n",
    "26 : ['latin','latino','reggae','reggaeton','ska'],\n",
    "27 : ['mandopop'],\n",
    "28 : ['cantopop'],\n",
    "29 : ['opera'],\n",
    "30 : ['piano'],\n",
    "31 : ['pop','power-pop','pop-film'],\n",
    "32 : ['psych-rock','rock-n-roll','rock','rockabilly'],\n",
    "33 : ['r-n-b'],\n",
    "34 : ['romance'],\n",
    "35 : ['salsa', 'spanish'],\n",
    "36 : ['show-tunes'],\n",
    "37 : ['world-music','turkish','swedish','iranian','indian','german','malay']}"
   ]
  },
  {
   "cell_type": "code",
   "execution_count": 275,
   "id": "9cb1c445",
   "metadata": {},
   "outputs": [],
   "source": [
    "#Load the data\n",
    "df = pd.read_csv('dataset.csv')\n",
    "df.drop(columns='Unnamed: 0', inplace=True)"
   ]
  },
  {
   "cell_type": "code",
   "execution_count": 278,
   "id": "7c046a34",
   "metadata": {},
   "outputs": [
    {
     "data": {
      "image/png": "[encoded data removed]",
      "text/plain": [
       "<Figure size 640x480 with 1 Axes>"
      ]
     },
     "metadata": {},
     "output_type": "display_data"
    }
   ],
   "source": [
    "plt.hist(np.log(df['popularity']+1),bins=100)\n",
    "plt.show()"
   ]
  },
  {
   "cell_type": "code",
   "execution_count": 279,
   "id": "b31b7193",
   "metadata": {},
   "outputs": [
    {
     "data": {
      "text/html": [
       "<div>\n",
       "<style scoped>\n",
       "    .dataframe tbody tr th:only-of-type {\n",
       "        vertical-align: middle;\n",
       "    }\n",
       "\n",
       "    .dataframe tbody tr th {\n",
       "        vertical-align: top;\n",
       "    }\n",
       "\n",
       "    .dataframe thead th {\n",
       "        text-align: right;\n",
       "    }\n",
       "</style>\n",
       "<table border=\"1\" class=\"dataframe\">\n",
       "  <thead>\n",
       "    <tr style=\"text-align: right;\">\n",
       "      <th></th>\n",
       "      <th>track_id</th>\n",
       "      <th>artists</th>\n",
       "      <th>album_name</th>\n",
       "      <th>track_name</th>\n",
       "      <th>popularity</th>\n",
       "      <th>duration_ms</th>\n",
       "      <th>explicit</th>\n",
       "      <th>danceability</th>\n",
       "      <th>energy</th>\n",
       "      <th>key</th>\n",
       "      <th>loudness</th>\n",
       "      <th>mode</th>\n",
       "      <th>speechiness</th>\n",
       "      <th>acousticness</th>\n",
       "      <th>instrumentalness</th>\n",
       "      <th>liveness</th>\n",
       "      <th>valence</th>\n",
       "      <th>tempo</th>\n",
       "      <th>time_signature</th>\n",
       "      <th>track_genre</th>\n",
       "    </tr>\n",
       "  </thead>\n",
       "  <tbody>\n",
       "    <tr>\n",
       "      <th>23</th>\n",
       "      <td>0BUuuEvNa5T4lMaewyiudB</td>\n",
       "      <td>Jason Mraz</td>\n",
       "      <td>Coffee Moment</td>\n",
       "      <td>93 Million Miles</td>\n",
       "      <td>0</td>\n",
       "      <td>216386</td>\n",
       "      <td>False</td>\n",
       "      <td>0.572</td>\n",
       "      <td>0.454</td>\n",
       "      <td>3</td>\n",
       "      <td>-10.286</td>\n",
       "      <td>1</td>\n",
       "      <td>0.0258</td>\n",
       "      <td>0.4770</td>\n",
       "      <td>0.000014</td>\n",
       "      <td>0.0974</td>\n",
       "      <td>0.515</td>\n",
       "      <td>140.182</td>\n",
       "      <td>4</td>\n",
       "      <td>acoustic</td>\n",
       "    </tr>\n",
       "    <tr>\n",
       "      <th>24</th>\n",
       "      <td>3Hn3LfhrQOaKihdCibJsTs</td>\n",
       "      <td>Jason Mraz</td>\n",
       "      <td>Human - Best Adult Pop Tunes</td>\n",
       "      <td>Unlonely</td>\n",
       "      <td>0</td>\n",
       "      <td>231266</td>\n",
       "      <td>False</td>\n",
       "      <td>0.796</td>\n",
       "      <td>0.667</td>\n",
       "      <td>5</td>\n",
       "      <td>-4.831</td>\n",
       "      <td>0</td>\n",
       "      <td>0.0392</td>\n",
       "      <td>0.3810</td>\n",
       "      <td>0.000000</td>\n",
       "      <td>0.2210</td>\n",
       "      <td>0.754</td>\n",
       "      <td>97.988</td>\n",
       "      <td>4</td>\n",
       "      <td>acoustic</td>\n",
       "    </tr>\n",
       "    <tr>\n",
       "      <th>26</th>\n",
       "      <td>5IfCZDRXZrqZSm8AwE44PG</td>\n",
       "      <td>Jason Mraz</td>\n",
       "      <td>Holly Jolly Christmas</td>\n",
       "      <td>Winter Wonderland</td>\n",
       "      <td>0</td>\n",
       "      <td>131760</td>\n",
       "      <td>False</td>\n",
       "      <td>0.620</td>\n",
       "      <td>0.309</td>\n",
       "      <td>5</td>\n",
       "      <td>-9.209</td>\n",
       "      <td>1</td>\n",
       "      <td>0.0495</td>\n",
       "      <td>0.7880</td>\n",
       "      <td>0.000000</td>\n",
       "      <td>0.1460</td>\n",
       "      <td>0.664</td>\n",
       "      <td>145.363</td>\n",
       "      <td>4</td>\n",
       "      <td>acoustic</td>\n",
       "    </tr>\n",
       "    <tr>\n",
       "      <th>27</th>\n",
       "      <td>0dzKBptH2P5j5a0MifBMwM</td>\n",
       "      <td>Jason Mraz</td>\n",
       "      <td>Feeling Good - Adult Pop Favorites</td>\n",
       "      <td>If It Kills Me</td>\n",
       "      <td>0</td>\n",
       "      <td>273653</td>\n",
       "      <td>False</td>\n",
       "      <td>0.633</td>\n",
       "      <td>0.429</td>\n",
       "      <td>4</td>\n",
       "      <td>-6.784</td>\n",
       "      <td>0</td>\n",
       "      <td>0.0381</td>\n",
       "      <td>0.0444</td>\n",
       "      <td>0.000000</td>\n",
       "      <td>0.1320</td>\n",
       "      <td>0.520</td>\n",
       "      <td>143.793</td>\n",
       "      <td>4</td>\n",
       "      <td>acoustic</td>\n",
       "    </tr>\n",
       "    <tr>\n",
       "      <th>28</th>\n",
       "      <td>5QAMZTM5cmLg3fHX9ZbTZi</td>\n",
       "      <td>Jason Mraz</td>\n",
       "      <td>Christmas Time</td>\n",
       "      <td>Winter Wonderland</td>\n",
       "      <td>0</td>\n",
       "      <td>131760</td>\n",
       "      <td>False</td>\n",
       "      <td>0.620</td>\n",
       "      <td>0.309</td>\n",
       "      <td>5</td>\n",
       "      <td>-9.209</td>\n",
       "      <td>1</td>\n",
       "      <td>0.0495</td>\n",
       "      <td>0.7880</td>\n",
       "      <td>0.000000</td>\n",
       "      <td>0.1460</td>\n",
       "      <td>0.664</td>\n",
       "      <td>145.363</td>\n",
       "      <td>4</td>\n",
       "      <td>acoustic</td>\n",
       "    </tr>\n",
       "    <tr>\n",
       "      <th>...</th>\n",
       "      <td>...</td>\n",
       "      <td>...</td>\n",
       "      <td>...</td>\n",
       "      <td>...</td>\n",
       "      <td>...</td>\n",
       "      <td>...</td>\n",
       "      <td>...</td>\n",
       "      <td>...</td>\n",
       "      <td>...</td>\n",
       "      <td>...</td>\n",
       "      <td>...</td>\n",
       "      <td>...</td>\n",
       "      <td>...</td>\n",
       "      <td>...</td>\n",
       "      <td>...</td>\n",
       "      <td>...</td>\n",
       "      <td>...</td>\n",
       "      <td>...</td>\n",
       "      <td>...</td>\n",
       "      <td>...</td>\n",
       "    </tr>\n",
       "    <tr>\n",
       "      <th>113046</th>\n",
       "      <td>3W73vndiqDkaYwYjSMaSWu</td>\n",
       "      <td>Rend Collective</td>\n",
       "      <td>Santa's Christmas List</td>\n",
       "      <td>Ding Dong Merrily On High (The Celebration's S...</td>\n",
       "      <td>0</td>\n",
       "      <td>117226</td>\n",
       "      <td>False</td>\n",
       "      <td>0.696</td>\n",
       "      <td>0.715</td>\n",
       "      <td>7</td>\n",
       "      <td>-7.741</td>\n",
       "      <td>1</td>\n",
       "      <td>0.0314</td>\n",
       "      <td>0.3400</td>\n",
       "      <td>0.000000</td>\n",
       "      <td>0.1800</td>\n",
       "      <td>0.959</td>\n",
       "      <td>130.021</td>\n",
       "      <td>4</td>\n",
       "      <td>world-music</td>\n",
       "    </tr>\n",
       "    <tr>\n",
       "      <th>113047</th>\n",
       "      <td>18FIFh4AGPC2zDLLFkJp4j</td>\n",
       "      <td>Kim Walker-Smith</td>\n",
       "      <td>Santa's Christmas List</td>\n",
       "      <td>Rudolph The Red-Nosed Reindeer</td>\n",
       "      <td>0</td>\n",
       "      <td>175426</td>\n",
       "      <td>False</td>\n",
       "      <td>0.581</td>\n",
       "      <td>0.436</td>\n",
       "      <td>8</td>\n",
       "      <td>-7.936</td>\n",
       "      <td>1</td>\n",
       "      <td>0.0443</td>\n",
       "      <td>0.2320</td>\n",
       "      <td>0.000000</td>\n",
       "      <td>0.0547</td>\n",
       "      <td>0.412</td>\n",
       "      <td>120.138</td>\n",
       "      <td>4</td>\n",
       "      <td>world-music</td>\n",
       "    </tr>\n",
       "    <tr>\n",
       "      <th>113048</th>\n",
       "      <td>6xw4sP2mGqAtVYZkBojxcI</td>\n",
       "      <td>Kim Walker-Smith</td>\n",
       "      <td>Santa's Christmas List</td>\n",
       "      <td>I'll Be Home For Christmas</td>\n",
       "      <td>0</td>\n",
       "      <td>193653</td>\n",
       "      <td>False</td>\n",
       "      <td>0.413</td>\n",
       "      <td>0.437</td>\n",
       "      <td>1</td>\n",
       "      <td>-7.983</td>\n",
       "      <td>0</td>\n",
       "      <td>0.0327</td>\n",
       "      <td>0.0420</td>\n",
       "      <td>0.000036</td>\n",
       "      <td>0.1460</td>\n",
       "      <td>0.102</td>\n",
       "      <td>120.259</td>\n",
       "      <td>4</td>\n",
       "      <td>world-music</td>\n",
       "    </tr>\n",
       "    <tr>\n",
       "      <th>113049</th>\n",
       "      <td>6E7Ix5jkd6uzfoxuvcI8Ww</td>\n",
       "      <td>Rend Collective;We The Kingdom</td>\n",
       "      <td>Santa's Christmas List</td>\n",
       "      <td>God Rest Ye Merry Gentlemen (Hallelujah)</td>\n",
       "      <td>0</td>\n",
       "      <td>217120</td>\n",
       "      <td>False</td>\n",
       "      <td>0.607</td>\n",
       "      <td>0.884</td>\n",
       "      <td>2</td>\n",
       "      <td>-4.059</td>\n",
       "      <td>1</td>\n",
       "      <td>0.0489</td>\n",
       "      <td>0.0230</td>\n",
       "      <td>0.000000</td>\n",
       "      <td>0.2260</td>\n",
       "      <td>0.555</td>\n",
       "      <td>139.988</td>\n",
       "      <td>4</td>\n",
       "      <td>world-music</td>\n",
       "    </tr>\n",
       "    <tr>\n",
       "      <th>113099</th>\n",
       "      <td>4pG38RfddM4XtRAjwBOmsF</td>\n",
       "      <td>Bryan &amp; Katie Torwalt</td>\n",
       "      <td>Santa's Christmas List</td>\n",
       "      <td>It's Beginning To Look A Lot Like Christmas</td>\n",
       "      <td>0</td>\n",
       "      <td>160199</td>\n",
       "      <td>False</td>\n",
       "      <td>0.412</td>\n",
       "      <td>0.340</td>\n",
       "      <td>4</td>\n",
       "      <td>-6.243</td>\n",
       "      <td>1</td>\n",
       "      <td>0.0339</td>\n",
       "      <td>0.4070</td>\n",
       "      <td>0.000000</td>\n",
       "      <td>0.4040</td>\n",
       "      <td>0.412</td>\n",
       "      <td>92.460</td>\n",
       "      <td>4</td>\n",
       "      <td>world-music</td>\n",
       "    </tr>\n",
       "  </tbody>\n",
       "</table>\n",
       "<p>16020 rows × 20 columns</p>\n",
       "</div>"
      ],
      "text/plain": [
       "                      track_id                         artists  \\\n",
       "23      0BUuuEvNa5T4lMaewyiudB                      Jason Mraz   \n",
       "24      3Hn3LfhrQOaKihdCibJsTs                      Jason Mraz   \n",
       "26      5IfCZDRXZrqZSm8AwE44PG                      Jason Mraz   \n",
       "27      0dzKBptH2P5j5a0MifBMwM                      Jason Mraz   \n",
       "28      5QAMZTM5cmLg3fHX9ZbTZi                      Jason Mraz   \n",
       "...                        ...                             ...   \n",
       "113046  3W73vndiqDkaYwYjSMaSWu                 Rend Collective   \n",
       "113047  18FIFh4AGPC2zDLLFkJp4j                Kim Walker-Smith   \n",
       "113048  6xw4sP2mGqAtVYZkBojxcI                Kim Walker-Smith   \n",
       "113049  6E7Ix5jkd6uzfoxuvcI8Ww  Rend Collective;We The Kingdom   \n",
       "113099  4pG38RfddM4XtRAjwBOmsF           Bryan & Katie Torwalt   \n",
       "\n",
       "                                album_name  \\\n",
       "23                           Coffee Moment   \n",
       "24            Human - Best Adult Pop Tunes   \n",
       "26                   Holly Jolly Christmas   \n",
       "27      Feeling Good - Adult Pop Favorites   \n",
       "28                          Christmas Time   \n",
       "...                                    ...   \n",
       "113046              Santa's Christmas List   \n",
       "113047              Santa's Christmas List   \n",
       "113048              Santa's Christmas List   \n",
       "113049              Santa's Christmas List   \n",
       "113099              Santa's Christmas List   \n",
       "\n",
       "                                               track_name  popularity  \\\n",
       "23                                       93 Million Miles           0   \n",
       "24                                               Unlonely           0   \n",
       "26                                      Winter Wonderland           0   \n",
       "27                                         If It Kills Me           0   \n",
       "28                                      Winter Wonderland           0   \n",
       "...                                                   ...         ...   \n",
       "113046  Ding Dong Merrily On High (The Celebration's S...           0   \n",
       "113047                     Rudolph The Red-Nosed Reindeer           0   \n",
       "113048                         I'll Be Home For Christmas           0   \n",
       "113049           God Rest Ye Merry Gentlemen (Hallelujah)           0   \n",
       "113099        It's Beginning To Look A Lot Like Christmas           0   \n",
       "\n",
       "        duration_ms  explicit  danceability  energy  key  loudness  mode  \\\n",
       "23           216386     False         0.572   0.454    3   -10.286     1   \n",
       "24           231266     False         0.796   0.667    5    -4.831     0   \n",
       "26           131760     False         0.620   0.309    5    -9.209     1   \n",
       "27           273653     False         0.633   0.429    4    -6.784     0   \n",
       "28           131760     False         0.620   0.309    5    -9.209     1   \n",
       "...             ...       ...           ...     ...  ...       ...   ...   \n",
       "113046       117226     False         0.696   0.715    7    -7.741     1   \n",
       "113047       175426     False         0.581   0.436    8    -7.936     1   \n",
       "113048       193653     False         0.413   0.437    1    -7.983     0   \n",
       "113049       217120     False         0.607   0.884    2    -4.059     1   \n",
       "113099       160199     False         0.412   0.340    4    -6.243     1   \n",
       "\n",
       "        speechiness  acousticness  instrumentalness  liveness  valence  \\\n",
       "23           0.0258        0.4770          0.000014    0.0974    0.515   \n",
       "24           0.0392        0.3810          0.000000    0.2210    0.754   \n",
       "26           0.0495        0.7880          0.000000    0.1460    0.664   \n",
       "27           0.0381        0.0444          0.000000    0.1320    0.520   \n",
       "28           0.0495        0.7880          0.000000    0.1460    0.664   \n",
       "...             ...           ...               ...       ...      ...   \n",
       "113046       0.0314        0.3400          0.000000    0.1800    0.959   \n",
       "113047       0.0443        0.2320          0.000000    0.0547    0.412   \n",
       "113048       0.0327        0.0420          0.000036    0.1460    0.102   \n",
       "113049       0.0489        0.0230          0.000000    0.2260    0.555   \n",
       "113099       0.0339        0.4070          0.000000    0.4040    0.412   \n",
       "\n",
       "          tempo  time_signature  track_genre  \n",
       "23      140.182               4     acoustic  \n",
       "24       97.988               4     acoustic  \n",
       "26      145.363               4     acoustic  \n",
       "27      143.793               4     acoustic  \n",
       "28      145.363               4     acoustic  \n",
       "...         ...             ...          ...  \n",
       "113046  130.021               4  world-music  \n",
       "113047  120.138               4  world-music  \n",
       "113048  120.259               4  world-music  \n",
       "113049  139.988               4  world-music  \n",
       "113099   92.460               4  world-music  \n",
       "\n",
       "[16020 rows x 20 columns]"
      ]
     },
     "execution_count": 279,
     "metadata": {},
     "output_type": "execute_result"
    }
   ],
   "source": [
    "df[df['popularity']==0]"
   ]
  },
  {
   "cell_type": "code",
   "execution_count": 280,
   "id": "f1962e19",
   "metadata": {},
   "outputs": [
    {
     "data": {
      "text/plain": [
       "Index(['track_id', 'artists', 'album_name', 'track_name', 'popularity',\n",
       "       'duration_ms', 'explicit', 'danceability', 'energy', 'key', 'loudness',\n",
       "       'mode', 'speechiness', 'acousticness', 'instrumentalness', 'liveness',\n",
       "       'valence', 'tempo', 'time_signature', 'track_genre'],\n",
       "      dtype='object')"
      ]
     },
     "execution_count": 280,
     "metadata": {},
     "output_type": "execute_result"
    }
   ],
   "source": [
    "df.columns"
   ]
  },
  {
   "cell_type": "code",
   "execution_count": 283,
   "id": "ef0685e4",
   "metadata": {},
   "outputs": [
    {
     "name": "stdout",
     "output_type": "stream",
     "text": [
      "<class 'pandas.core.frame.DataFrame'>\n",
      "RangeIndex: 114000 entries, 0 to 113999\n",
      "Data columns (total 14 columns):\n",
      " #   Column            Non-Null Count   Dtype  \n",
      "---  ------            --------------   -----  \n",
      " 0   popularity        114000 non-null  int64  \n",
      " 1   duration_ms       114000 non-null  int64  \n",
      " 2   danceability      114000 non-null  float64\n",
      " 3   energy            114000 non-null  float64\n",
      " 4   key               114000 non-null  int64  \n",
      " 5   loudness          114000 non-null  float64\n",
      " 6   mode              114000 non-null  int64  \n",
      " 7   speechiness       114000 non-null  float64\n",
      " 8   acousticness      114000 non-null  float64\n",
      " 9   instrumentalness  114000 non-null  float64\n",
      " 10  liveness          114000 non-null  float64\n",
      " 11  valence           114000 non-null  float64\n",
      " 12  tempo             114000 non-null  float64\n",
      " 13  time_signature    114000 non-null  int64  \n",
      "dtypes: float64(9), int64(5)\n",
      "memory usage: 12.2 MB\n"
     ]
    }
   ],
   "source": [
    "df.select_dtypes('number').info()"
   ]
  },
  {
   "cell_type": "markdown",
   "id": "61d8a57f",
   "metadata": {},
   "source": [
    "## Cleaning"
   ]
  },
  {
   "cell_type": "markdown",
   "id": "5255810d",
   "metadata": {},
   "source": [
    "### NaN values"
   ]
  },
  {
   "cell_type": "code",
   "execution_count": 175,
   "id": "cd55774a",
   "metadata": {
    "run_control": {
     "marked": false
    }
   },
   "outputs": [
    {
     "name": "stdout",
     "output_type": "stream",
     "text": [
      "<class 'pandas.core.frame.DataFrame'>\n",
      "RangeIndex: 114000 entries, 0 to 113999\n",
      "Data columns (total 20 columns):\n",
      " #   Column            Non-Null Count   Dtype  \n",
      "---  ------            --------------   -----  \n",
      " 0   track_id          114000 non-null  object \n",
      " 1   artists           113999 non-null  object \n",
      " 2   album_name        113999 non-null  object \n",
      " 3   track_name        113999 non-null  object \n",
      " 4   popularity        114000 non-null  int64  \n",
      " 5   duration_ms       114000 non-null  int64  \n",
      " 6   explicit          114000 non-null  bool   \n",
      " 7   danceability      114000 non-null  float64\n",
      " 8   energy            114000 non-null  float64\n",
      " 9   key               114000 non-null  int64  \n",
      " 10  loudness          114000 non-null  float64\n",
      " 11  mode              114000 non-null  int64  \n",
      " 12  speechiness       114000 non-null  float64\n",
      " 13  acousticness      114000 non-null  float64\n",
      " 14  instrumentalness  114000 non-null  float64\n",
      " 15  liveness          114000 non-null  float64\n",
      " 16  valence           114000 non-null  float64\n",
      " 17  tempo             114000 non-null  float64\n",
      " 18  time_signature    114000 non-null  int64  \n",
      " 19  track_genre       114000 non-null  object \n",
      "dtypes: bool(1), float64(9), int64(5), object(5)\n",
      "memory usage: 16.6+ MB\n"
     ]
    }
   ],
   "source": [
    "df.info()"
   ]
  },
  {
   "cell_type": "code",
   "execution_count": 176,
   "id": "75df2660",
   "metadata": {},
   "outputs": [
    {
     "data": {
      "text/plain": [
       "track_id            False\n",
       "artists              True\n",
       "album_name           True\n",
       "track_name           True\n",
       "popularity          False\n",
       "duration_ms         False\n",
       "explicit            False\n",
       "danceability        False\n",
       "energy              False\n",
       "key                 False\n",
       "loudness            False\n",
       "mode                False\n",
       "speechiness         False\n",
       "acousticness        False\n",
       "instrumentalness    False\n",
       "liveness            False\n",
       "valence             False\n",
       "tempo               False\n",
       "time_signature      False\n",
       "track_genre         False\n",
       "dtype: bool"
      ]
     },
     "execution_count": 176,
     "metadata": {},
     "output_type": "execute_result"
    }
   ],
   "source": [
    "df.isna().any()"
   ]
  },
  {
   "cell_type": "code",
   "execution_count": 177,
   "id": "65846148",
   "metadata": {},
   "outputs": [],
   "source": [
    "df.dropna(inplace=True)"
   ]
  },
  {
   "cell_type": "code",
   "execution_count": 178,
   "id": "688e1605",
   "metadata": {},
   "outputs": [
    {
     "data": {
      "text/plain": [
       "track_id            False\n",
       "artists             False\n",
       "album_name          False\n",
       "track_name          False\n",
       "popularity          False\n",
       "duration_ms         False\n",
       "explicit            False\n",
       "danceability        False\n",
       "energy              False\n",
       "key                 False\n",
       "loudness            False\n",
       "mode                False\n",
       "speechiness         False\n",
       "acousticness        False\n",
       "instrumentalness    False\n",
       "liveness            False\n",
       "valence             False\n",
       "tempo               False\n",
       "time_signature      False\n",
       "track_genre         False\n",
       "dtype: bool"
      ]
     },
     "execution_count": 178,
     "metadata": {},
     "output_type": "execute_result"
    }
   ],
   "source": [
    "df.isna().any()"
   ]
  },
  {
   "cell_type": "markdown",
   "id": "daef57ac",
   "metadata": {},
   "source": [
    "## Duplicates"
   ]
  },
  {
   "cell_type": "code",
   "execution_count": 179,
   "id": "10572cc7",
   "metadata": {},
   "outputs": [
    {
     "data": {
      "text/plain": [
       "450"
      ]
     },
     "execution_count": 179,
     "metadata": {},
     "output_type": "execute_result"
    }
   ],
   "source": [
    "df.duplicated().sum()"
   ]
  },
  {
   "cell_type": "markdown",
   "id": "9a262247",
   "metadata": {},
   "source": [
    "450 Exact duplicates"
   ]
  },
  {
   "cell_type": "code",
   "execution_count": 180,
   "id": "1f235fb5",
   "metadata": {
    "scrolled": true
   },
   "outputs": [
    {
     "data": {
      "text/plain": [
       "23539"
      ]
     },
     "execution_count": 180,
     "metadata": {},
     "output_type": "execute_result"
    }
   ],
   "source": [
    "df.drop(columns=['track_genre']).duplicated().sum()"
   ]
  },
  {
   "cell_type": "markdown",
   "id": "08cf22f0",
   "metadata": {},
   "source": [
    "23539 songs duplicated when genre and category are dropped.\n",
    "\n",
    "This mean that those are songs that are either exact duplicates or songs recorded across multiple entries as they have multiple genres associated to them."
   ]
  },
  {
   "cell_type": "code",
   "execution_count": 181,
   "id": "fb0fc861",
   "metadata": {},
   "outputs": [],
   "source": [
    "#dropping exact duplicates\n",
    "df.drop_duplicates(inplace=True)"
   ]
  },
  {
   "cell_type": "code",
   "execution_count": 182,
   "id": "9e5bf451",
   "metadata": {},
   "outputs": [
    {
     "data": {
      "text/plain": [
       "Index(['track_id', 'artists', 'album_name', 'track_name', 'popularity',\n",
       "       'duration_ms', 'explicit', 'danceability', 'energy', 'key', 'loudness',\n",
       "       'mode', 'speechiness', 'acousticness', 'instrumentalness', 'liveness',\n",
       "       'valence', 'tempo', 'time_signature', 'track_genre'],\n",
       "      dtype='object')"
      ]
     },
     "execution_count": 182,
     "metadata": {},
     "output_type": "execute_result"
    }
   ],
   "source": [
    "df.columns"
   ]
  },
  {
   "cell_type": "code",
   "execution_count": 184,
   "id": "f4fb134e",
   "metadata": {
    "scrolled": true
   },
   "outputs": [
    {
     "data": {
      "text/plain": [
       "23089"
      ]
     },
     "execution_count": 184,
     "metadata": {},
     "output_type": "execute_result"
    }
   ],
   "source": [
    "#same songs but multiple genres (might or might not drop)\n",
    "df.drop(columns=['track_genre']).duplicated().sum()"
   ]
  },
  {
   "cell_type": "code",
   "execution_count": 183,
   "id": "e895c560",
   "metadata": {
    "scrolled": false
   },
   "outputs": [
    {
     "data": {
      "text/plain": [
       "23089"
      ]
     },
     "execution_count": 183,
     "metadata": {},
     "output_type": "execute_result"
    }
   ],
   "source": [
    "#sanity check\n",
    "df.duplicated(subset = ['track_id', 'artists', 'album_name', 'track_name', 'popularity',\n",
    "       'duration_ms', 'explicit', 'danceability', 'energy', 'key', 'loudness',\n",
    "       'mode', 'speechiness', 'acousticness', 'instrumentalness', 'liveness',\n",
    "       'valence', 'tempo', 'time_signature']).sum()"
   ]
  },
  {
   "cell_type": "code",
   "execution_count": 185,
   "id": "5a7d82e7",
   "metadata": {},
   "outputs": [],
   "source": [
    "#dropping the songs that are across multiple genres (one song to one genre only)\n",
    "df.drop_duplicates(subset = ['track_id', 'artists', 'album_name', 'track_name', 'popularity',\n",
    "       'duration_ms', 'explicit', 'danceability', 'energy', 'key', 'loudness',\n",
    "       'mode', 'speechiness', 'acousticness', 'instrumentalness', 'liveness',\n",
    "       'valence', 'tempo', 'time_signature'],inplace=True)"
   ]
  },
  {
   "cell_type": "code",
   "execution_count": 186,
   "id": "9f1c380a",
   "metadata": {
    "scrolled": true
   },
   "outputs": [
    {
     "data": {
      "text/plain": [
       "0"
      ]
     },
     "execution_count": 186,
     "metadata": {},
     "output_type": "execute_result"
    }
   ],
   "source": [
    "#sanity check\n",
    "df.duplicated(subset = ['track_id', 'artists', 'album_name', 'track_name', 'popularity',\n",
    "       'duration_ms', 'explicit', 'danceability', 'energy', 'key', 'loudness',\n",
    "       'mode', 'speechiness', 'acousticness', 'instrumentalness', 'liveness',\n",
    "       'valence', 'tempo', 'time_signature']).sum()"
   ]
  },
  {
   "cell_type": "code",
   "execution_count": 196,
   "id": "3332a8e8",
   "metadata": {},
   "outputs": [
    {
     "data": {
      "text/plain": [
       "(90460, 20)"
      ]
     },
     "execution_count": 196,
     "metadata": {},
     "output_type": "execute_result"
    }
   ],
   "source": [
    "df.shape"
   ]
  },
  {
   "cell_type": "markdown",
   "id": "98244505",
   "metadata": {},
   "source": [
    "## Transforming"
   ]
  },
  {
   "cell_type": "code",
   "execution_count": 197,
   "id": "0f6382f2",
   "metadata": {},
   "outputs": [],
   "source": [
    "# Forming the track_category column\n",
    "df['track_category'] = None\n",
    "for x in genre_categories_dict.keys():\n",
    "    df['track_category'] = np.where(df['track_genre'].isin(genre_categories_dict[x]), x, df['track_category'])"
   ]
  },
  {
   "cell_type": "code",
   "execution_count": 198,
   "id": "042314c9",
   "metadata": {},
   "outputs": [],
   "source": [
    "# Making the track_category int\n",
    "df['track_category'] = df['track_category'].astype(int)"
   ]
  },
  {
   "cell_type": "code",
   "execution_count": 199,
   "id": "caa3657b",
   "metadata": {},
   "outputs": [],
   "source": [
    "# Making explicit column a binary column\n",
    "df['explicit'] = np.where(df['explicit'], 1, 0)"
   ]
  },
  {
   "cell_type": "code",
   "execution_count": 200,
   "id": "b4e36b54",
   "metadata": {},
   "outputs": [],
   "source": [
    "#Circular encoding the Key column\n",
    "\n",
    "# Define the circular encoding function\n",
    "def circular_encode(value, max_value):\n",
    "    sin_value = np.sin(2 * np.pi * value / max_value)\n",
    "    cos_value = np.cos(2 * np.pi * value / max_value)\n",
    "    return sin_value, cos_value\n",
    "\n",
    "# Apply the function to the key column of your DataFrame\n",
    "max_value = 11  # maximum value in the key column\n",
    "df[['key_sin', 'key_cos']] = df['key'].apply(circular_encode, max_value=max_value).apply(pd.Series)"
   ]
  },
  {
   "cell_type": "markdown",
   "id": "7aebc171",
   "metadata": {},
   "source": [
    "## One Hot Encoding"
   ]
  },
  {
   "cell_type": "code",
   "execution_count": 201,
   "id": "a74926e8",
   "metadata": {
    "scrolled": true
   },
   "outputs": [
    {
     "name": "stderr",
     "output_type": "stream",
     "text": [
      "/Users/ounnuqul/opt/anaconda3/lib/python3.9/site-packages/sklearn/utils/deprecation.py:87: FutureWarning: Function get_feature_names is deprecated; get_feature_names is deprecated in 1.0 and will be removed in 1.2. Please use get_feature_names_out instead.\n",
      "  warnings.warn(msg, category=FutureWarning)\n"
     ]
    },
    {
     "data": {
      "text/html": [
       "<div>\n",
       "<style scoped>\n",
       "    .dataframe tbody tr th:only-of-type {\n",
       "        vertical-align: middle;\n",
       "    }\n",
       "\n",
       "    .dataframe tbody tr th {\n",
       "        vertical-align: top;\n",
       "    }\n",
       "\n",
       "    .dataframe thead th {\n",
       "        text-align: right;\n",
       "    }\n",
       "</style>\n",
       "<table border=\"1\" class=\"dataframe\">\n",
       "  <thead>\n",
       "    <tr style=\"text-align: right;\">\n",
       "      <th></th>\n",
       "      <th>x0_1</th>\n",
       "      <th>x0_2</th>\n",
       "      <th>x0_3</th>\n",
       "      <th>x0_4</th>\n",
       "      <th>x0_5</th>\n",
       "      <th>x0_6</th>\n",
       "      <th>x0_7</th>\n",
       "      <th>x0_8</th>\n",
       "      <th>x0_9</th>\n",
       "      <th>x0_10</th>\n",
       "      <th>...</th>\n",
       "      <th>x0_28</th>\n",
       "      <th>x0_29</th>\n",
       "      <th>x0_30</th>\n",
       "      <th>x0_31</th>\n",
       "      <th>x0_32</th>\n",
       "      <th>x0_33</th>\n",
       "      <th>x0_34</th>\n",
       "      <th>x0_35</th>\n",
       "      <th>x0_36</th>\n",
       "      <th>x0_37</th>\n",
       "    </tr>\n",
       "  </thead>\n",
       "  <tbody>\n",
       "    <tr>\n",
       "      <th>0</th>\n",
       "      <td>1.0</td>\n",
       "      <td>0.0</td>\n",
       "      <td>0.0</td>\n",
       "      <td>0.0</td>\n",
       "      <td>0.0</td>\n",
       "      <td>0.0</td>\n",
       "      <td>0.0</td>\n",
       "      <td>0.0</td>\n",
       "      <td>0.0</td>\n",
       "      <td>0.0</td>\n",
       "      <td>...</td>\n",
       "      <td>0.0</td>\n",
       "      <td>0.0</td>\n",
       "      <td>0.0</td>\n",
       "      <td>0.0</td>\n",
       "      <td>0.0</td>\n",
       "      <td>0.0</td>\n",
       "      <td>0.0</td>\n",
       "      <td>0.0</td>\n",
       "      <td>0.0</td>\n",
       "      <td>0.0</td>\n",
       "    </tr>\n",
       "    <tr>\n",
       "      <th>1</th>\n",
       "      <td>1.0</td>\n",
       "      <td>0.0</td>\n",
       "      <td>0.0</td>\n",
       "      <td>0.0</td>\n",
       "      <td>0.0</td>\n",
       "      <td>0.0</td>\n",
       "      <td>0.0</td>\n",
       "      <td>0.0</td>\n",
       "      <td>0.0</td>\n",
       "      <td>0.0</td>\n",
       "      <td>...</td>\n",
       "      <td>0.0</td>\n",
       "      <td>0.0</td>\n",
       "      <td>0.0</td>\n",
       "      <td>0.0</td>\n",
       "      <td>0.0</td>\n",
       "      <td>0.0</td>\n",
       "      <td>0.0</td>\n",
       "      <td>0.0</td>\n",
       "      <td>0.0</td>\n",
       "      <td>0.0</td>\n",
       "    </tr>\n",
       "    <tr>\n",
       "      <th>2</th>\n",
       "      <td>1.0</td>\n",
       "      <td>0.0</td>\n",
       "      <td>0.0</td>\n",
       "      <td>0.0</td>\n",
       "      <td>0.0</td>\n",
       "      <td>0.0</td>\n",
       "      <td>0.0</td>\n",
       "      <td>0.0</td>\n",
       "      <td>0.0</td>\n",
       "      <td>0.0</td>\n",
       "      <td>...</td>\n",
       "      <td>0.0</td>\n",
       "      <td>0.0</td>\n",
       "      <td>0.0</td>\n",
       "      <td>0.0</td>\n",
       "      <td>0.0</td>\n",
       "      <td>0.0</td>\n",
       "      <td>0.0</td>\n",
       "      <td>0.0</td>\n",
       "      <td>0.0</td>\n",
       "      <td>0.0</td>\n",
       "    </tr>\n",
       "    <tr>\n",
       "      <th>3</th>\n",
       "      <td>1.0</td>\n",
       "      <td>0.0</td>\n",
       "      <td>0.0</td>\n",
       "      <td>0.0</td>\n",
       "      <td>0.0</td>\n",
       "      <td>0.0</td>\n",
       "      <td>0.0</td>\n",
       "      <td>0.0</td>\n",
       "      <td>0.0</td>\n",
       "      <td>0.0</td>\n",
       "      <td>...</td>\n",
       "      <td>0.0</td>\n",
       "      <td>0.0</td>\n",
       "      <td>0.0</td>\n",
       "      <td>0.0</td>\n",
       "      <td>0.0</td>\n",
       "      <td>0.0</td>\n",
       "      <td>0.0</td>\n",
       "      <td>0.0</td>\n",
       "      <td>0.0</td>\n",
       "      <td>0.0</td>\n",
       "    </tr>\n",
       "    <tr>\n",
       "      <th>4</th>\n",
       "      <td>1.0</td>\n",
       "      <td>0.0</td>\n",
       "      <td>0.0</td>\n",
       "      <td>0.0</td>\n",
       "      <td>0.0</td>\n",
       "      <td>0.0</td>\n",
       "      <td>0.0</td>\n",
       "      <td>0.0</td>\n",
       "      <td>0.0</td>\n",
       "      <td>0.0</td>\n",
       "      <td>...</td>\n",
       "      <td>0.0</td>\n",
       "      <td>0.0</td>\n",
       "      <td>0.0</td>\n",
       "      <td>0.0</td>\n",
       "      <td>0.0</td>\n",
       "      <td>0.0</td>\n",
       "      <td>0.0</td>\n",
       "      <td>0.0</td>\n",
       "      <td>0.0</td>\n",
       "      <td>0.0</td>\n",
       "    </tr>\n",
       "    <tr>\n",
       "      <th>...</th>\n",
       "      <td>...</td>\n",
       "      <td>...</td>\n",
       "      <td>...</td>\n",
       "      <td>...</td>\n",
       "      <td>...</td>\n",
       "      <td>...</td>\n",
       "      <td>...</td>\n",
       "      <td>...</td>\n",
       "      <td>...</td>\n",
       "      <td>...</td>\n",
       "      <td>...</td>\n",
       "      <td>...</td>\n",
       "      <td>...</td>\n",
       "      <td>...</td>\n",
       "      <td>...</td>\n",
       "      <td>...</td>\n",
       "      <td>...</td>\n",
       "      <td>...</td>\n",
       "      <td>...</td>\n",
       "      <td>...</td>\n",
       "      <td>...</td>\n",
       "    </tr>\n",
       "    <tr>\n",
       "      <th>90455</th>\n",
       "      <td>0.0</td>\n",
       "      <td>0.0</td>\n",
       "      <td>0.0</td>\n",
       "      <td>0.0</td>\n",
       "      <td>0.0</td>\n",
       "      <td>0.0</td>\n",
       "      <td>0.0</td>\n",
       "      <td>0.0</td>\n",
       "      <td>0.0</td>\n",
       "      <td>0.0</td>\n",
       "      <td>...</td>\n",
       "      <td>0.0</td>\n",
       "      <td>0.0</td>\n",
       "      <td>0.0</td>\n",
       "      <td>0.0</td>\n",
       "      <td>0.0</td>\n",
       "      <td>0.0</td>\n",
       "      <td>0.0</td>\n",
       "      <td>0.0</td>\n",
       "      <td>0.0</td>\n",
       "      <td>1.0</td>\n",
       "    </tr>\n",
       "    <tr>\n",
       "      <th>90456</th>\n",
       "      <td>0.0</td>\n",
       "      <td>0.0</td>\n",
       "      <td>0.0</td>\n",
       "      <td>0.0</td>\n",
       "      <td>0.0</td>\n",
       "      <td>0.0</td>\n",
       "      <td>0.0</td>\n",
       "      <td>0.0</td>\n",
       "      <td>0.0</td>\n",
       "      <td>0.0</td>\n",
       "      <td>...</td>\n",
       "      <td>0.0</td>\n",
       "      <td>0.0</td>\n",
       "      <td>0.0</td>\n",
       "      <td>0.0</td>\n",
       "      <td>0.0</td>\n",
       "      <td>0.0</td>\n",
       "      <td>0.0</td>\n",
       "      <td>0.0</td>\n",
       "      <td>0.0</td>\n",
       "      <td>1.0</td>\n",
       "    </tr>\n",
       "    <tr>\n",
       "      <th>90457</th>\n",
       "      <td>0.0</td>\n",
       "      <td>0.0</td>\n",
       "      <td>0.0</td>\n",
       "      <td>0.0</td>\n",
       "      <td>0.0</td>\n",
       "      <td>0.0</td>\n",
       "      <td>0.0</td>\n",
       "      <td>0.0</td>\n",
       "      <td>0.0</td>\n",
       "      <td>0.0</td>\n",
       "      <td>...</td>\n",
       "      <td>0.0</td>\n",
       "      <td>0.0</td>\n",
       "      <td>0.0</td>\n",
       "      <td>0.0</td>\n",
       "      <td>0.0</td>\n",
       "      <td>0.0</td>\n",
       "      <td>0.0</td>\n",
       "      <td>0.0</td>\n",
       "      <td>0.0</td>\n",
       "      <td>1.0</td>\n",
       "    </tr>\n",
       "    <tr>\n",
       "      <th>90458</th>\n",
       "      <td>0.0</td>\n",
       "      <td>0.0</td>\n",
       "      <td>0.0</td>\n",
       "      <td>0.0</td>\n",
       "      <td>0.0</td>\n",
       "      <td>0.0</td>\n",
       "      <td>0.0</td>\n",
       "      <td>0.0</td>\n",
       "      <td>0.0</td>\n",
       "      <td>0.0</td>\n",
       "      <td>...</td>\n",
       "      <td>0.0</td>\n",
       "      <td>0.0</td>\n",
       "      <td>0.0</td>\n",
       "      <td>0.0</td>\n",
       "      <td>0.0</td>\n",
       "      <td>0.0</td>\n",
       "      <td>0.0</td>\n",
       "      <td>0.0</td>\n",
       "      <td>0.0</td>\n",
       "      <td>1.0</td>\n",
       "    </tr>\n",
       "    <tr>\n",
       "      <th>90459</th>\n",
       "      <td>0.0</td>\n",
       "      <td>0.0</td>\n",
       "      <td>0.0</td>\n",
       "      <td>0.0</td>\n",
       "      <td>0.0</td>\n",
       "      <td>0.0</td>\n",
       "      <td>0.0</td>\n",
       "      <td>0.0</td>\n",
       "      <td>0.0</td>\n",
       "      <td>0.0</td>\n",
       "      <td>...</td>\n",
       "      <td>0.0</td>\n",
       "      <td>0.0</td>\n",
       "      <td>0.0</td>\n",
       "      <td>0.0</td>\n",
       "      <td>0.0</td>\n",
       "      <td>0.0</td>\n",
       "      <td>0.0</td>\n",
       "      <td>0.0</td>\n",
       "      <td>0.0</td>\n",
       "      <td>1.0</td>\n",
       "    </tr>\n",
       "  </tbody>\n",
       "</table>\n",
       "<p>90460 rows × 37 columns</p>\n",
       "</div>"
      ],
      "text/plain": [
       "       x0_1  x0_2  x0_3  x0_4  x0_5  x0_6  x0_7  x0_8  x0_9  x0_10  ...  \\\n",
       "0       1.0   0.0   0.0   0.0   0.0   0.0   0.0   0.0   0.0    0.0  ...   \n",
       "1       1.0   0.0   0.0   0.0   0.0   0.0   0.0   0.0   0.0    0.0  ...   \n",
       "2       1.0   0.0   0.0   0.0   0.0   0.0   0.0   0.0   0.0    0.0  ...   \n",
       "3       1.0   0.0   0.0   0.0   0.0   0.0   0.0   0.0   0.0    0.0  ...   \n",
       "4       1.0   0.0   0.0   0.0   0.0   0.0   0.0   0.0   0.0    0.0  ...   \n",
       "...     ...   ...   ...   ...   ...   ...   ...   ...   ...    ...  ...   \n",
       "90455   0.0   0.0   0.0   0.0   0.0   0.0   0.0   0.0   0.0    0.0  ...   \n",
       "90456   0.0   0.0   0.0   0.0   0.0   0.0   0.0   0.0   0.0    0.0  ...   \n",
       "90457   0.0   0.0   0.0   0.0   0.0   0.0   0.0   0.0   0.0    0.0  ...   \n",
       "90458   0.0   0.0   0.0   0.0   0.0   0.0   0.0   0.0   0.0    0.0  ...   \n",
       "90459   0.0   0.0   0.0   0.0   0.0   0.0   0.0   0.0   0.0    0.0  ...   \n",
       "\n",
       "       x0_28  x0_29  x0_30  x0_31  x0_32  x0_33  x0_34  x0_35  x0_36  x0_37  \n",
       "0        0.0    0.0    0.0    0.0    0.0    0.0    0.0    0.0    0.0    0.0  \n",
       "1        0.0    0.0    0.0    0.0    0.0    0.0    0.0    0.0    0.0    0.0  \n",
       "2        0.0    0.0    0.0    0.0    0.0    0.0    0.0    0.0    0.0    0.0  \n",
       "3        0.0    0.0    0.0    0.0    0.0    0.0    0.0    0.0    0.0    0.0  \n",
       "4        0.0    0.0    0.0    0.0    0.0    0.0    0.0    0.0    0.0    0.0  \n",
       "...      ...    ...    ...    ...    ...    ...    ...    ...    ...    ...  \n",
       "90455    0.0    0.0    0.0    0.0    0.0    0.0    0.0    0.0    0.0    1.0  \n",
       "90456    0.0    0.0    0.0    0.0    0.0    0.0    0.0    0.0    0.0    1.0  \n",
       "90457    0.0    0.0    0.0    0.0    0.0    0.0    0.0    0.0    0.0    1.0  \n",
       "90458    0.0    0.0    0.0    0.0    0.0    0.0    0.0    0.0    0.0    1.0  \n",
       "90459    0.0    0.0    0.0    0.0    0.0    0.0    0.0    0.0    0.0    1.0  \n",
       "\n",
       "[90460 rows x 37 columns]"
      ]
     },
     "execution_count": 201,
     "metadata": {},
     "output_type": "execute_result"
    }
   ],
   "source": [
    "#OHE\n",
    "from sklearn.preprocessing import OneHotEncoder\n",
    "\n",
    "encoder = OneHotEncoder()\n",
    "\n",
    "# Fit and transform the 'track_category' column\n",
    "encoded = encoder.fit_transform(df[['track_category']])\n",
    "\n",
    "# Convert the encoded sparse matrix to a dense DataFrame\n",
    "df_encoded = pd.DataFrame(encoded.toarray(), columns=encoder.get_feature_names())\n",
    "df_encoded"
   ]
  },
  {
   "cell_type": "code",
   "execution_count": 204,
   "id": "38b29d70",
   "metadata": {},
   "outputs": [
    {
     "data": {
      "text/plain": [
       "(90460, 37)"
      ]
     },
     "execution_count": 204,
     "metadata": {},
     "output_type": "execute_result"
    }
   ],
   "source": [
    "df_encoded.shape"
   ]
  },
  {
   "cell_type": "code",
   "execution_count": 205,
   "id": "32ae53a9",
   "metadata": {},
   "outputs": [
    {
     "data": {
      "text/plain": [
       "(90460, 23)"
      ]
     },
     "execution_count": 205,
     "metadata": {},
     "output_type": "execute_result"
    }
   ],
   "source": [
    "df.shape"
   ]
  },
  {
   "cell_type": "code",
   "execution_count": 212,
   "id": "fb4aedc8",
   "metadata": {},
   "outputs": [
    {
     "data": {
      "text/plain": [
       "track_id            False\n",
       "artists             False\n",
       "album_name          False\n",
       "track_name          False\n",
       "popularity          False\n",
       "duration_ms         False\n",
       "explicit            False\n",
       "danceability        False\n",
       "energy              False\n",
       "key                 False\n",
       "loudness            False\n",
       "mode                False\n",
       "speechiness         False\n",
       "acousticness        False\n",
       "instrumentalness    False\n",
       "liveness            False\n",
       "valence             False\n",
       "tempo               False\n",
       "time_signature      False\n",
       "track_genre         False\n",
       "track_category      False\n",
       "key_sin             False\n",
       "key_cos             False\n",
       "dtype: bool"
      ]
     },
     "execution_count": 212,
     "metadata": {},
     "output_type": "execute_result"
    }
   ],
   "source": [
    "df.isna().any()"
   ]
  },
  {
   "cell_type": "code",
   "execution_count": 230,
   "id": "30f0c8fb",
   "metadata": {},
   "outputs": [],
   "source": [
    "df_pro = pd.concat([df.reset_index(), df_encoded], axis=1)\n",
    "#df_pro.drop(columns='track_category',inplace=True)"
   ]
  },
  {
   "cell_type": "markdown",
   "id": "c45f91ab",
   "metadata": {},
   "source": [
    "## First model"
   ]
  },
  {
   "cell_type": "code",
   "execution_count": 269,
   "id": "aa8ef5ce",
   "metadata": {},
   "outputs": [
    {
     "data": {
      "text/plain": [
       "(90460, 53)"
      ]
     },
     "execution_count": 269,
     "metadata": {},
     "output_type": "execute_result"
    }
   ],
   "source": [
    "df_pro.shape"
   ]
  },
  {
   "cell_type": "code",
   "execution_count": 232,
   "id": "d7b011b0",
   "metadata": {},
   "outputs": [
    {
     "data": {
      "text/plain": [
       "index         0\n",
       "track_id      0\n",
       "artists       0\n",
       "album_name    0\n",
       "track_name    0\n",
       "             ..\n",
       "x0_33         0\n",
       "x0_34         0\n",
       "x0_35         0\n",
       "x0_36         0\n",
       "x0_37         0\n",
       "Length: 61, dtype: int64"
      ]
     },
     "execution_count": 232,
     "metadata": {},
     "output_type": "execute_result"
    }
   ],
   "source": [
    "df_pro.isna().sum()"
   ]
  },
  {
   "cell_type": "code",
   "execution_count": 219,
   "id": "241fe90a",
   "metadata": {},
   "outputs": [
    {
     "data": {
      "text/plain": [
       "0"
      ]
     },
     "execution_count": 219,
     "metadata": {},
     "output_type": "execute_result"
    }
   ],
   "source": [
    "df_pro.isna().sum().sum()"
   ]
  },
  {
   "cell_type": "code",
   "execution_count": 221,
   "id": "5a41eb61",
   "metadata": {
    "scrolled": true
   },
   "outputs": [
    {
     "name": "stdout",
     "output_type": "stream",
     "text": [
      "<class 'pandas.core.frame.DataFrame'>\n",
      "RangeIndex: 90460 entries, 0 to 90459\n",
      "Data columns (total 5 columns):\n",
      " #   Column       Non-Null Count  Dtype \n",
      "---  ------       --------------  ----- \n",
      " 0   track_id     90460 non-null  object\n",
      " 1   artists      90460 non-null  object\n",
      " 2   album_name   90460 non-null  object\n",
      " 3   track_name   90460 non-null  object\n",
      " 4   track_genre  90460 non-null  object\n",
      "dtypes: object(5)\n",
      "memory usage: 3.5+ MB\n"
     ]
    }
   ],
   "source": [
    "df_pro.select_dtypes(exclude='number').info()"
   ]
  },
  {
   "cell_type": "code",
   "execution_count": 233,
   "id": "8856c5e8",
   "metadata": {},
   "outputs": [],
   "source": [
    "df_pro.drop(columns=['track_id','artists','album_name','track_name','track_genre','index','key','track_category'],inplace=True)"
   ]
  },
  {
   "cell_type": "markdown",
   "id": "cc6a4a3e",
   "metadata": {},
   "source": [
    "### Linear Regression"
   ]
  },
  {
   "cell_type": "code",
   "execution_count": 270,
   "id": "ec7611b0",
   "metadata": {},
   "outputs": [],
   "source": [
    "#model 1 \n",
    "X = df_pro.drop(columns='popularity')\n",
    "y = df_pro['popularity']"
   ]
  },
  {
   "cell_type": "code",
   "execution_count": 224,
   "id": "4379d01b",
   "metadata": {},
   "outputs": [],
   "source": [
    "from sklearn.model_selection import cross_val_score"
   ]
  },
  {
   "cell_type": "code",
   "execution_count": 236,
   "id": "fe6ddc6f",
   "metadata": {},
   "outputs": [],
   "source": [
    "X_remainder, X_test, y_remainder, y_test = train_test_split(X, y, test_size=0.33, random_state=42)"
   ]
  },
  {
   "cell_type": "code",
   "execution_count": 237,
   "id": "fd2a2bd8",
   "metadata": {},
   "outputs": [],
   "source": [
    "scaler = StandardScaler()\n",
    "X_remainder_ss = scaler.fit_transform(X_remainder)\n",
    "X_test_ss = scaler.transform(X_test)"
   ]
  },
  {
   "cell_type": "code",
   "execution_count": 238,
   "id": "39201c86",
   "metadata": {},
   "outputs": [],
   "source": [
    "linreg = LinearRegression().fit(X_remainder_ss,y_remainder)"
   ]
  },
  {
   "cell_type": "code",
   "execution_count": 242,
   "id": "8ea8ff8e",
   "metadata": {
    "scrolled": true
   },
   "outputs": [
    {
     "data": {
      "text/plain": [
       "0.14837022217801835"
      ]
     },
     "execution_count": 242,
     "metadata": {},
     "output_type": "execute_result"
    }
   ],
   "source": [
    "np.mean(cross_val_score(linreg, X_remainder_ss, y_remainder, cv=5))"
   ]
  },
  {
   "cell_type": "markdown",
   "id": "3d7887b3",
   "metadata": {},
   "source": [
    "### Logistic Regression"
   ]
  },
  {
   "cell_type": "code",
   "execution_count": 273,
   "id": "4488e2e0",
   "metadata": {},
   "outputs": [],
   "source": [
    "#model 2\n",
    "X = df_pro.drop(columns='popularity')\n",
    "y = df_pro['popularity']"
   ]
  },
  {
   "cell_type": "code",
   "execution_count": 274,
   "id": "c3ac525c",
   "metadata": {},
   "outputs": [
    {
     "data": {
      "image/png": "[encoded data removed]",
      "text/plain": [
       "<Figure size 640x480 with 1 Axes>"
      ]
     },
     "metadata": {},
     "output_type": "display_data"
    }
   ],
   "source": [
    "plt.hist(y,bins=100)\n",
    "plt.show()"
   ]
  },
  {
   "cell_type": "code",
   "execution_count": 261,
   "id": "1adee160",
   "metadata": {},
   "outputs": [],
   "source": [
    "y = np.where(y > 50, 1, 0)"
   ]
  },
  {
   "cell_type": "code",
   "execution_count": 268,
   "id": "ce324dd2",
   "metadata": {},
   "outputs": [
    {
     "data": {
      "text/plain": [
       "0    0.777316\n",
       "1    0.222684\n",
       "dtype: float64"
      ]
     },
     "execution_count": 268,
     "metadata": {},
     "output_type": "execute_result"
    }
   ],
   "source": [
    "pd.DataFrame(y).value_counts(normalize=True)"
   ]
  },
  {
   "cell_type": "code",
   "execution_count": 262,
   "id": "5341ccd8",
   "metadata": {},
   "outputs": [],
   "source": [
    "X_remainder, X_test, y_remainder, y_test = train_test_split(X, y, test_size=0.33, random_state=42)"
   ]
  },
  {
   "cell_type": "code",
   "execution_count": 263,
   "id": "7dd55e39",
   "metadata": {},
   "outputs": [],
   "source": [
    "scaler = StandardScaler()\n",
    "X_remainder_ss = scaler.fit_transform(X_remainder)\n",
    "X_test_ss = scaler.transform(X_test)"
   ]
  },
  {
   "cell_type": "code",
   "execution_count": 254,
   "id": "55252370",
   "metadata": {},
   "outputs": [],
   "source": [
    "from sklearn.linear_model import LogisticRegression\n",
    "from sklearn.metrics import confusion_matrix"
   ]
  },
  {
   "cell_type": "code",
   "execution_count": 264,
   "id": "73012c27",
   "metadata": {},
   "outputs": [],
   "source": [
    "logit = LogisticRegression().fit(X_remainder_ss,y_remainder)"
   ]
  },
  {
   "cell_type": "code",
   "execution_count": 265,
   "id": "fa846282",
   "metadata": {},
   "outputs": [
    {
     "data": {
      "text/plain": [
       "0.7847478637591221"
      ]
     },
     "execution_count": 265,
     "metadata": {},
     "output_type": "execute_result"
    }
   ],
   "source": [
    "np.mean(cross_val_score(logit, X_remainder_ss, y_remainder, cv=5))"
   ]
  },
  {
   "cell_type": "code",
   "execution_count": 266,
   "id": "0ec97f26",
   "metadata": {},
   "outputs": [
    {
     "data": {
      "text/plain": [
       "(60608, 52)"
      ]
     },
     "execution_count": 266,
     "metadata": {},
     "output_type": "execute_result"
    }
   ],
   "source": [
    "X_remainder_ss.shape"
   ]
  },
  {
   "cell_type": "code",
   "execution_count": 267,
   "id": "ecc9f9e6",
   "metadata": {},
   "outputs": [
    {
     "data": {
      "text/plain": [
       "array([[45807, 11702],\n",
       "       [ 1303,  1796]])"
      ]
     },
     "execution_count": 267,
     "metadata": {},
     "output_type": "execute_result"
    }
   ],
   "source": [
    "confusion_matrix(logit.predict(X_remainder_ss),y_remainder)"
   ]
  }
 ],
 "metadata": {
  "kernelspec": {
   "display_name": "Python 3 (ipykernel)",
   "language": "python",
   "name": "python3"
  },
  "language_info": {
   "codemirror_mode": {
    "name": "ipython",
    "version": 3
   },
   "file_extension": ".py",
   "mimetype": "text/x-python",
   "name": "python",
   "nbconvert_exporter": "python",
   "pygments_lexer": "ipython3",
   "version": "3.9.13"
  },
  "toc": {
   "base_numbering": 1,
   "nav_menu": {},
   "number_sections": false,
   "sideBar": true,
   "skip_h1_title": false,
   "title_cell": "Table of Contents",
   "title_sidebar": "Contents",
   "toc_cell": false,
   "toc_position": {},
   "toc_section_display": true,
   "toc_window_display": false
  },
  "varInspector": {
   "cols": {
    "lenName": 16,
    "lenType": 16,
    "lenVar": 40
   },
   "kernels_config": {
    "python": {
     "delete_cmd_postfix": "",
     "delete_cmd_prefix": "del ",
     "library": "var_list.py",
     "varRefreshCmd": "print(var_dic_list())"
    },
    "r": {
     "delete_cmd_postfix": ") ",
     "delete_cmd_prefix": "rm(",
     "library": "var_list.r",
     "varRefreshCmd": "cat(var_dic_list()) "
    }
   },
   "types_to_exclude": [
    "module",
    "function",
    "builtin_function_or_method",
    "instance",
    "_Feature"
   ],
   "window_display": false
  }
 },
 "nbformat": 4,
 "nbformat_minor": 5
}
