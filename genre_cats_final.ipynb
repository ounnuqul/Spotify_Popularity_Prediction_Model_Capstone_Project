{
 "cells": [
  {
   "cell_type": "markdown",
   "id": "7189937c",
   "metadata": {},
   "source": [
    "Changing the genres"
   ]
  },
  {
   "cell_type": "code",
   "execution_count": 36,
   "id": "976f46a9",
   "metadata": {},
   "outputs": [],
   "source": [
    "cat_1 = ['acoustic','singer-songwriter','songwriter','folk']"
   ]
  },
  {
   "cell_type": "code",
   "execution_count": 37,
   "id": "a7cb9b7d",
   "metadata": {
    "run_control": {
     "marked": false
    }
   },
   "outputs": [],
   "source": [
    "cat_2 = ['alternative','alt-rock']"
   ]
  },
  {
   "cell_type": "code",
   "execution_count": 38,
   "id": "b05ac232",
   "metadata": {},
   "outputs": [],
   "source": [
    "cat_3 = ['ambient','study','sleep','new-age']"
   ]
  },
  {
   "cell_type": "code",
   "execution_count": 39,
   "id": "e0adc769",
   "metadata": {},
   "outputs": [],
   "source": [
    "cat_4 = ['brazil','samba','pagode','sertanejo','tango','forro','mpb']"
   ]
  },
  {
   "cell_type": "code",
   "execution_count": 40,
   "id": "27c98d77",
   "metadata": {},
   "outputs": [],
   "source": [
    "cat_5 = ['british']"
   ]
  },
  {
   "cell_type": "code",
   "execution_count": 41,
   "id": "095d194b",
   "metadata": {},
   "outputs": [],
   "source": [
    "cat_6 = ['classical']"
   ]
  },
  {
   "cell_type": "code",
   "execution_count": 42,
   "id": "fd23d1c9",
   "metadata": {},
   "outputs": [],
   "source": [
    "cat_7 = ['comedy']"
   ]
  },
  {
   "cell_type": "code",
   "execution_count": 43,
   "id": "461e0a50",
   "metadata": {},
   "outputs": [],
   "source": [
    "cat_8 = ['country','honky-tonk']"
   ]
  },
  {
   "cell_type": "code",
   "execution_count": 44,
   "id": "f22e29b4",
   "metadata": {},
   "outputs": [],
   "source": [
    "cat_9 = ['indie','indie-pop']"
   ]
  },
  {
   "cell_type": "code",
   "execution_count": 45,
   "id": "39d6259d",
   "metadata": {},
   "outputs": [],
   "source": [
    "cat_10 = ['french']"
   ]
  },
  {
   "cell_type": "code",
   "execution_count": 46,
   "id": "af5219a7",
   "metadata": {},
   "outputs": [],
   "source": [
    "cat_11 = ['funk','disco']"
   ]
  },
  {
   "cell_type": "code",
   "execution_count": 47,
   "id": "ede00ee0",
   "metadata": {},
   "outputs": [],
   "source": [
    "cat_12 = ['gospel']"
   ]
  },
  {
   "cell_type": "code",
   "execution_count": 48,
   "id": "72d89036",
   "metadata": {},
   "outputs": [],
   "source": [
    "cat_13 = ['guitar']"
   ]
  },
  {
   "cell_type": "code",
   "execution_count": 49,
   "id": "3860dd56",
   "metadata": {},
   "outputs": [],
   "source": [
    "cat_14 = ['happy']"
   ]
  },
  {
   "cell_type": "code",
   "execution_count": 50,
   "id": "fece1b0e",
   "metadata": {},
   "outputs": [],
   "source": [
    "cat_15 = ['hip-hop','trip-hop']"
   ]
  },
  {
   "cell_type": "code",
   "execution_count": 51,
   "id": "59ccb4fc",
   "metadata": {},
   "outputs": [],
   "source": [
    "cat_16 = ['dubstep','dub','synth-pop','electro','electronic','breakbeat','industrial','garage',]"
   ]
  },
  {
   "cell_type": "code",
   "execution_count": 52,
   "id": "12784f33",
   "metadata": {},
   "outputs": [],
   "source": [
    "cat_17 = ['progressive-house','house','deep-house','chicago-house','trance','techno','idm','edm','drum-and-bass','party','club','detroit-techno','minimal-techno']"
   ]
  },
  {
   "cell_type": "code",
   "execution_count": 53,
   "id": "69b59e29",
   "metadata": {},
   "outputs": [],
   "source": [
    "cat_18 = ['metalcore','metal','death-metal','heavy-metal','black-metal','hardstyle','hardcore','grindcore']"
   ]
  },
  {
   "cell_type": "code",
   "execution_count": 54,
   "id": "a593f8fb",
   "metadata": {},
   "outputs": [],
   "source": [
    "cat_19 = ['j-dance','dancehall','dance']"
   ]
  },
  {
   "cell_type": "code",
   "execution_count": 55,
   "id": "69e94822",
   "metadata": {},
   "outputs": [],
   "source": [
    "cat_20 = ['j-idol','emo','punk','punk-rock','hard-rock','goth','grunge']"
   ]
  },
  {
   "cell_type": "code",
   "execution_count": 56,
   "id": "d226083c",
   "metadata": {},
   "outputs": [],
   "source": [
    "cat_21 = ['anime','j-rock','j-pop']"
   ]
  },
  {
   "cell_type": "code",
   "execution_count": 57,
   "id": "f4dd24c6",
   "metadata": {},
   "outputs": [],
   "source": [
    "cat_22 = ['k-pop']"
   ]
  },
  {
   "cell_type": "code",
   "execution_count": 58,
   "id": "5c6b583a",
   "metadata": {},
   "outputs": [],
   "source": [
    "cat_23 = ['jazz','chill','groove','afrobeat','bluegrass']"
   ]
  },
  {
   "cell_type": "code",
   "execution_count": 59,
   "id": "1ad8a336",
   "metadata": {},
   "outputs": [],
   "source": [
    "cat_24 = ['blues','sad','soul']"
   ]
  },
  {
   "cell_type": "code",
   "execution_count": 60,
   "id": "126bc639",
   "metadata": {},
   "outputs": [],
   "source": [
    "cat_25 = ['kids','disney','children']"
   ]
  },
  {
   "cell_type": "code",
   "execution_count": 61,
   "id": "ee645a01",
   "metadata": {},
   "outputs": [],
   "source": [
    "cat_26 = ['latin','latino','reggae','reggaeton','ska']"
   ]
  },
  {
   "cell_type": "code",
   "execution_count": 62,
   "id": "06f75a91",
   "metadata": {},
   "outputs": [],
   "source": [
    "cat_27 = ['mandopop']"
   ]
  },
  {
   "cell_type": "code",
   "execution_count": 63,
   "id": "b11e8d78",
   "metadata": {},
   "outputs": [],
   "source": [
    "cat_28 = ['cantopop']"
   ]
  },
  {
   "cell_type": "code",
   "execution_count": 64,
   "id": "fffc991e",
   "metadata": {},
   "outputs": [],
   "source": [
    "cat_29 = ['opera']"
   ]
  },
  {
   "cell_type": "code",
   "execution_count": 65,
   "id": "78589430",
   "metadata": {},
   "outputs": [],
   "source": [
    "cat_30 = ['piano']"
   ]
  },
  {
   "cell_type": "code",
   "execution_count": 66,
   "id": "ffe04c7a",
   "metadata": {},
   "outputs": [],
   "source": [
    "cat_31 = ['pop','power-pop','pop-film']"
   ]
  },
  {
   "cell_type": "code",
   "execution_count": 67,
   "id": "6216d2a4",
   "metadata": {},
   "outputs": [],
   "source": [
    "cat_32 = ['psych-rock','rock-n-roll','rock','rockabilly']"
   ]
  },
  {
   "cell_type": "code",
   "execution_count": 68,
   "id": "e58b66eb",
   "metadata": {},
   "outputs": [],
   "source": [
    "cat_33 = ['r-n-b']"
   ]
  },
  {
   "cell_type": "code",
   "execution_count": 69,
   "id": "6cf14297",
   "metadata": {},
   "outputs": [],
   "source": [
    "cat_34 = ['romance']"
   ]
  },
  {
   "cell_type": "code",
   "execution_count": 70,
   "id": "299deeec",
   "metadata": {},
   "outputs": [],
   "source": [
    "cat_35 = ['salsa', 'spanish']"
   ]
  },
  {
   "cell_type": "code",
   "execution_count": 71,
   "id": "ac65887b",
   "metadata": {},
   "outputs": [],
   "source": [
    "cat_36 = ['show-tunes']"
   ]
  },
  {
   "cell_type": "code",
   "execution_count": 72,
   "id": "1fcbd90e",
   "metadata": {},
   "outputs": [],
   "source": [
    "cat_37 = ['world-music','turkish','swedish','iranian','indian','german','malay']"
   ]
  },
  {
   "cell_type": "code",
   "execution_count": null,
   "id": "496e3c91",
   "metadata": {},
   "outputs": [],
   "source": []
  },
  {
   "cell_type": "code",
   "execution_count": null,
   "id": "e77a3677",
   "metadata": {},
   "outputs": [],
   "source": []
  },
  {
   "cell_type": "code",
   "execution_count": null,
   "id": "6041aaf8",
   "metadata": {},
   "outputs": [],
   "source": []
  }
 ],
 "metadata": {
  "kernelspec": {
   "display_name": "Python 3 (ipykernel)",
   "language": "python",
   "name": "python3"
  },
  "language_info": {
   "codemirror_mode": {
    "name": "ipython",
    "version": 3
   },
   "file_extension": ".py",
   "mimetype": "text/x-python",
   "name": "python",
   "nbconvert_exporter": "python",
   "pygments_lexer": "ipython3",
   "version": "3.9.13"
  },
  "toc": {
   "base_numbering": 1,
   "nav_menu": {},
   "number_sections": false,
   "sideBar": true,
   "skip_h1_title": false,
   "title_cell": "Table of Contents",
   "title_sidebar": "Contents",
   "toc_cell": false,
   "toc_position": {},
   "toc_section_display": true,
   "toc_window_display": false
  },
  "varInspector": {
   "cols": {
    "lenName": 16,
    "lenType": 16,
    "lenVar": 40
   },
   "kernels_config": {
    "python": {
     "delete_cmd_postfix": "",
     "delete_cmd_prefix": "del ",
     "library": "var_list.py",
     "varRefreshCmd": "print(var_dic_list())"
    },
    "r": {
     "delete_cmd_postfix": ") ",
     "delete_cmd_prefix": "rm(",
     "library": "var_list.r",
     "varRefreshCmd": "cat(var_dic_list()) "
    }
   },
   "types_to_exclude": [
    "module",
    "function",
    "builtin_function_or_method",
    "instance",
    "_Feature"
   ],
   "window_display": false
  }
 },
 "nbformat": 4,
 "nbformat_minor": 5
}
