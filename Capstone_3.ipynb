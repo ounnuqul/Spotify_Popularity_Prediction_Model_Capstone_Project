{
 "cells": [
  {
   "cell_type": "markdown",
   "id": "fde6d3f8",
   "metadata": {},
   "source": [
    "# Spotify Popularity Prediction Model\n",
    "\n",
    "\n"
   ]
  },
  {
   "cell_type": "markdown",
   "id": "dc85f47a",
   "metadata": {},
   "source": [
    "___"
   ]
  },
  {
   "cell_type": "markdown",
   "id": "96eab440",
   "metadata": {},
   "source": [
    "**Author**: Oun Nuqul\n",
    "\n",
    "**Contact**: oun.nuqul@gmail.com\n",
    "\n",
    "**Date**: April 11th 2023"
   ]
  },
  {
   "cell_type": "markdown",
   "id": "6ffde7a2",
   "metadata": {},
   "source": [
    "____"
   ]
  },
  {
   "cell_type": "markdown",
   "id": "c369f926",
   "metadata": {},
   "source": [
    "## Table of Contents"
   ]
  },
  {
   "cell_type": "markdown",
   "id": "5c568fa3",
   "metadata": {},
   "source": [
    "1. Introducing this Notebook\n",
    "2. Logistic Regression\n",
    "    - Gridsearch\n",
    "    - Best Model\n",
    "    - Separate Model for Hip-hop, Acoustic, Metal, and Reggae\n",
    "3. RandomForest\n",
    "    - Gridsearches\n",
    "    - Best Model\n",
    "4. XGBoost\n",
    "    - Gridsearches\n",
    "    - Best Model\n",
    "5. Conclusion to this Notebook"
   ]
  },
  {
   "cell_type": "markdown",
   "id": "f48240d7",
   "metadata": {},
   "source": [
    "___"
   ]
  },
  {
   "cell_type": "markdown",
   "id": "43be3d17",
   "metadata": {},
   "source": [
    "## Introducing this Notebook"
   ]
  },
  {
   "cell_type": "markdown",
   "id": "cb20411a",
   "metadata": {},
   "source": [
    "In this notebook we will begin fitting classification models using the dataset we have cleaned and preprocessed in the last notebook. We will optimize the hyperparameters of all of these models in order to improve results as well as combat overfitting. This will be done through the use of gridsearches."
   ]
  },
  {
   "cell_type": "code",
   "execution_count": 1,
   "id": "1fcd8484",
   "metadata": {},
   "outputs": [],
   "source": [
    "import pandas as pd #importing pandas\n",
    "import numpy as np #importing numpy\n",
    "import matplotlib.pyplot as plt #importing matplotlib\n",
    "import pickle #importing pickle\n",
    "\n",
    "from sklearn.model_selection import train_test_split #importing train_test_split\n",
    "from sklearn.preprocessing import StandardScaler #importing scaler\n",
    "from sklearn.metrics import ConfusionMatrixDisplay, confusion_matrix #importing confusion matrix\n",
    "from sklearn.metrics import precision_score, recall_score, f1_score, accuracy_score #importing metric scoring functions\n",
    "from sklearn.linear_model import LogisticRegression #importing LogisticRegression\n",
    "from sklearn.ensemble import RandomForestClassifier #importing RandomForest\n",
    "from xgboost import XGBClassifier #importing XGBoost\n",
    "from sklearn.pipeline import Pipeline #importing pipelines\n",
    "from sklearn.model_selection import GridSearchCV #importing gridsearches"
   ]
  },
  {
   "cell_type": "code",
   "execution_count": 2,
   "id": "1ea96a66",
   "metadata": {},
   "outputs": [],
   "source": [
    "#loading the data using pickle as reading .csv file was losing certain categorical values\n",
    "with open('Data/df_for_modeling.pkl', 'rb') as f:\n",
    "    df = pickle.load(f)"
   ]
  },
  {
   "cell_type": "code",
   "execution_count": 3,
   "id": "7948719a",
   "metadata": {},
   "outputs": [
    {
     "data": {
      "text/html": [
       "<div>\n",
       "<style scoped>\n",
       "    .dataframe tbody tr th:only-of-type {\n",
       "        vertical-align: middle;\n",
       "    }\n",
       "\n",
       "    .dataframe tbody tr th {\n",
       "        vertical-align: top;\n",
       "    }\n",
       "\n",
       "    .dataframe thead th {\n",
       "        text-align: right;\n",
       "    }\n",
       "</style>\n",
       "<table border=\"1\" class=\"dataframe\">\n",
       "  <thead>\n",
       "    <tr style=\"text-align: right;\">\n",
       "      <th></th>\n",
       "      <th>track_id</th>\n",
       "      <th>artists</th>\n",
       "      <th>album_name</th>\n",
       "      <th>track_name</th>\n",
       "      <th>popularity</th>\n",
       "      <th>duration_ms</th>\n",
       "      <th>explicit</th>\n",
       "      <th>track_genre</th>\n",
       "      <th>preview_url</th>\n",
       "      <th>danceability</th>\n",
       "      <th>...</th>\n",
       "      <th>summer</th>\n",
       "      <th>swedish</th>\n",
       "      <th>synth-pop</th>\n",
       "      <th>tango</th>\n",
       "      <th>techno</th>\n",
       "      <th>trance</th>\n",
       "      <th>trip-hop</th>\n",
       "      <th>turkish</th>\n",
       "      <th>work-out</th>\n",
       "      <th>world-music</th>\n",
       "    </tr>\n",
       "  </thead>\n",
       "  <tbody>\n",
       "    <tr>\n",
       "      <th>0</th>\n",
       "      <td>5CZ40GBx1sQ9agT82CLQCT</td>\n",
       "      <td>Olivia Rodrigo</td>\n",
       "      <td>SOUR</td>\n",
       "      <td>traitor</td>\n",
       "      <td>1</td>\n",
       "      <td>229226</td>\n",
       "      <td>0</td>\n",
       "      <td>acoustic</td>\n",
       "      <td>None</td>\n",
       "      <td>0.380</td>\n",
       "      <td>...</td>\n",
       "      <td>0</td>\n",
       "      <td>0</td>\n",
       "      <td>0</td>\n",
       "      <td>0</td>\n",
       "      <td>0</td>\n",
       "      <td>0</td>\n",
       "      <td>0</td>\n",
       "      <td>0</td>\n",
       "      <td>0</td>\n",
       "      <td>0</td>\n",
       "    </tr>\n",
       "    <tr>\n",
       "      <th>1</th>\n",
       "      <td>03V5hhD1z7CD41Dy4ZVthN</td>\n",
       "      <td>JJ Heller</td>\n",
       "      <td>Even Here</td>\n",
       "      <td>Even Here</td>\n",
       "      <td>0</td>\n",
       "      <td>248253</td>\n",
       "      <td>0</td>\n",
       "      <td>acoustic</td>\n",
       "      <td>https://p.scdn.co/mp3-preview/19209115f0aa0b92...</td>\n",
       "      <td>0.349</td>\n",
       "      <td>...</td>\n",
       "      <td>0</td>\n",
       "      <td>0</td>\n",
       "      <td>0</td>\n",
       "      <td>0</td>\n",
       "      <td>0</td>\n",
       "      <td>0</td>\n",
       "      <td>0</td>\n",
       "      <td>0</td>\n",
       "      <td>0</td>\n",
       "      <td>0</td>\n",
       "    </tr>\n",
       "    <tr>\n",
       "      <th>2</th>\n",
       "      <td>20aW5uLdlOuleBQ5RTcSQb</td>\n",
       "      <td>Casey Breves</td>\n",
       "      <td>I'll Sing to You</td>\n",
       "      <td>I'll Sing to You</td>\n",
       "      <td>0</td>\n",
       "      <td>242173</td>\n",
       "      <td>0</td>\n",
       "      <td>acoustic</td>\n",
       "      <td>https://p.scdn.co/mp3-preview/e7eda7988fbdecfd...</td>\n",
       "      <td>0.489</td>\n",
       "      <td>...</td>\n",
       "      <td>0</td>\n",
       "      <td>0</td>\n",
       "      <td>0</td>\n",
       "      <td>0</td>\n",
       "      <td>0</td>\n",
       "      <td>0</td>\n",
       "      <td>0</td>\n",
       "      <td>0</td>\n",
       "      <td>0</td>\n",
       "      <td>0</td>\n",
       "    </tr>\n",
       "    <tr>\n",
       "      <th>3</th>\n",
       "      <td>66iAV4LVKYYoxVeYoC8M3s</td>\n",
       "      <td>Hayd</td>\n",
       "      <td>I Fall Apart</td>\n",
       "      <td>I Fall Apart</td>\n",
       "      <td>1</td>\n",
       "      <td>240000</td>\n",
       "      <td>0</td>\n",
       "      <td>acoustic</td>\n",
       "      <td>https://p.scdn.co/mp3-preview/ad4cba4f08444f52...</td>\n",
       "      <td>0.634</td>\n",
       "      <td>...</td>\n",
       "      <td>0</td>\n",
       "      <td>0</td>\n",
       "      <td>0</td>\n",
       "      <td>0</td>\n",
       "      <td>0</td>\n",
       "      <td>0</td>\n",
       "      <td>0</td>\n",
       "      <td>0</td>\n",
       "      <td>0</td>\n",
       "      <td>0</td>\n",
       "    </tr>\n",
       "    <tr>\n",
       "      <th>4</th>\n",
       "      <td>0oCAVym9c3xbXmeFHN6nUR</td>\n",
       "      <td>Front Porch Step</td>\n",
       "      <td>Aware</td>\n",
       "      <td>Lullaby</td>\n",
       "      <td>0</td>\n",
       "      <td>168250</td>\n",
       "      <td>0</td>\n",
       "      <td>acoustic</td>\n",
       "      <td>https://p.scdn.co/mp3-preview/a0b9af0c08a6b332...</td>\n",
       "      <td>0.542</td>\n",
       "      <td>...</td>\n",
       "      <td>0</td>\n",
       "      <td>0</td>\n",
       "      <td>0</td>\n",
       "      <td>0</td>\n",
       "      <td>0</td>\n",
       "      <td>0</td>\n",
       "      <td>0</td>\n",
       "      <td>0</td>\n",
       "      <td>0</td>\n",
       "      <td>0</td>\n",
       "    </tr>\n",
       "  </tbody>\n",
       "</table>\n",
       "<p>5 rows × 147 columns</p>\n",
       "</div>"
      ],
      "text/plain": [
       "                 track_id           artists        album_name  \\\n",
       "0  5CZ40GBx1sQ9agT82CLQCT    Olivia Rodrigo              SOUR   \n",
       "1  03V5hhD1z7CD41Dy4ZVthN         JJ Heller         Even Here   \n",
       "2  20aW5uLdlOuleBQ5RTcSQb      Casey Breves  I'll Sing to You   \n",
       "3  66iAV4LVKYYoxVeYoC8M3s              Hayd      I Fall Apart   \n",
       "4  0oCAVym9c3xbXmeFHN6nUR  Front Porch Step             Aware   \n",
       "\n",
       "         track_name  popularity  duration_ms  explicit track_genre  \\\n",
       "0           traitor           1       229226         0    acoustic   \n",
       "1         Even Here           0       248253         0    acoustic   \n",
       "2  I'll Sing to You           0       242173         0    acoustic   \n",
       "3      I Fall Apart           1       240000         0    acoustic   \n",
       "4           Lullaby           0       168250         0    acoustic   \n",
       "\n",
       "                                         preview_url  danceability  ...  \\\n",
       "0                                               None         0.380  ...   \n",
       "1  https://p.scdn.co/mp3-preview/19209115f0aa0b92...         0.349  ...   \n",
       "2  https://p.scdn.co/mp3-preview/e7eda7988fbdecfd...         0.489  ...   \n",
       "3  https://p.scdn.co/mp3-preview/ad4cba4f08444f52...         0.634  ...   \n",
       "4  https://p.scdn.co/mp3-preview/a0b9af0c08a6b332...         0.542  ...   \n",
       "\n",
       "   summer  swedish  synth-pop  tango  techno  trance  trip-hop  turkish  \\\n",
       "0       0        0          0      0       0       0         0        0   \n",
       "1       0        0          0      0       0       0         0        0   \n",
       "2       0        0          0      0       0       0         0        0   \n",
       "3       0        0          0      0       0       0         0        0   \n",
       "4       0        0          0      0       0       0         0        0   \n",
       "\n",
       "   work-out  world-music  \n",
       "0         0            0  \n",
       "1         0            0  \n",
       "2         0            0  \n",
       "3         0            0  \n",
       "4         0            0  \n",
       "\n",
       "[5 rows x 147 columns]"
      ]
     },
     "execution_count": 3,
     "metadata": {},
     "output_type": "execute_result"
    }
   ],
   "source": [
    "#sanity check\n",
    "df.head()"
   ]
  },
  {
   "cell_type": "code",
   "execution_count": 4,
   "id": "aacf5708",
   "metadata": {},
   "outputs": [
    {
     "name": "stdout",
     "output_type": "stream",
     "text": [
      "<class 'pandas.core.frame.DataFrame'>\n",
      "RangeIndex: 60434 entries, 0 to 60433\n",
      "Columns: 147 entries, track_id to world-music\n",
      "dtypes: float64(11), int64(130), object(6)\n",
      "memory usage: 67.8+ MB\n"
     ]
    }
   ],
   "source": [
    "df.info()"
   ]
  },
  {
   "cell_type": "code",
   "execution_count": 5,
   "id": "68f40d1b",
   "metadata": {},
   "outputs": [],
   "source": [
    "#splitting into remainder and test set\n",
    "df_remainder, df_test = train_test_split(df, test_size=0.25, random_state=42,\n",
    "                                         stratify=df[['track_genre','popularity']])"
   ]
  },
  {
   "cell_type": "markdown",
   "id": "53634ad9",
   "metadata": {},
   "source": [
    "### Logistic Regression "
   ]
  },
  {
   "cell_type": "markdown",
   "id": "d675958c",
   "metadata": {},
   "source": [
    "The first model we are fitting is the age old linear classifier model LogisticRegression. It is unlikely that this model will yield good results, but it's worth exploring how the model will deal with the data in different circumstances. Once the gridsearch is finalized, we will use those hyperparameters in four smaller models that specifically fit to a single genre."
   ]
  },
  {
   "cell_type": "markdown",
   "id": "8d4aa937",
   "metadata": {},
   "source": [
    "### Gridsearch"
   ]
  },
  {
   "cell_type": "code",
   "execution_count": 6,
   "id": "b656cd7e",
   "metadata": {},
   "outputs": [],
   "source": [
    "#dropping the columns that introduce multicollinearity and object type columns \n",
    "df_logit = df_remainder.drop(columns=['loudness','acousticness','instrumentalness','valence',\n",
    "                            'track_id', 'artists', 'album_name', 'track_name', 'track_genre','preview_url'])"
   ]
  },
  {
   "cell_type": "code",
   "execution_count": 7,
   "id": "67969f90",
   "metadata": {},
   "outputs": [],
   "source": [
    "#splitting into X and y\n",
    "X_rem = df_logit.drop(columns='popularity')\n",
    "y_rem = df_logit['popularity']"
   ]
  },
  {
   "cell_type": "markdown",
   "id": "1ed5c854",
   "metadata": {},
   "source": [
    "Here is the first and only gridsearch for LogisticRegression. It's the only one as this model is fairly simple one with only two hyperparameters worth optimizing. The Solver, and the C value."
   ]
  },
  {
   "cell_type": "code",
   "execution_count": 8,
   "id": "33ebaf01",
   "metadata": {},
   "outputs": [],
   "source": [
    "# estimator\n",
    "estimator = Pipeline([\n",
    "    ('scaler', StandardScaler()),\n",
    "    ('logit', LogisticRegression(max_iter=10000))\n",
    "])\n",
    "\n",
    "# parameters\n",
    "params = {\n",
    "    'logit__solver': ['lbfgs' ,'sag', 'saga'],\n",
    "    'logit__C': [0.1,0.2,0.3,0.4,0.5,0.6,0.7,0.8,0.9]\n",
    "}\n",
    "\n",
    "# grid search\n",
    "grid = GridSearchCV(estimator, param_grid=params, cv=5, n_jobs=-1, verbose=2)\n",
    "grid.fit(X_rem, y_rem)\n",
    "    \n",
    "#writting to pickle\n",
    "with open('Gridsearches/LogisticRegression/Logit_grid_1.pkl', \"wb\") as f:\n",
    "    pickle.dump(grid, f)"
   ]
  },
  {
   "cell_type": "code",
   "execution_count": 9,
   "id": "292f7326",
   "metadata": {},
   "outputs": [
    {
     "data": {
      "text/plain": [
       "{'logit__C': 0.2, 'logit__solver': 'lbfgs'}"
      ]
     },
     "execution_count": 9,
     "metadata": {},
     "output_type": "execute_result"
    }
   ],
   "source": [
    "#the best parameters the gridsearch found\n",
    "grid.best_params_"
   ]
  },
  {
   "cell_type": "code",
   "execution_count": 10,
   "id": "b7f9440d",
   "metadata": {},
   "outputs": [
    {
     "data": {
      "text/plain": [
       "0.6096414782129068"
      ]
     },
     "execution_count": 10,
     "metadata": {},
     "output_type": "execute_result"
    }
   ],
   "source": [
    "#the best score the gridsearch found\n",
    "grid.best_score_"
   ]
  },
  {
   "cell_type": "code",
   "execution_count": 11,
   "id": "20aa9f7f",
   "metadata": {
    "scrolled": false
   },
   "outputs": [
    {
     "data": {
      "text/html": [
       "<div>\n",
       "<style scoped>\n",
       "    .dataframe tbody tr th:only-of-type {\n",
       "        vertical-align: middle;\n",
       "    }\n",
       "\n",
       "    .dataframe tbody tr th {\n",
       "        vertical-align: top;\n",
       "    }\n",
       "\n",
       "    .dataframe thead th {\n",
       "        text-align: right;\n",
       "    }\n",
       "</style>\n",
       "<table border=\"1\" class=\"dataframe\">\n",
       "  <thead>\n",
       "    <tr style=\"text-align: right;\">\n",
       "      <th></th>\n",
       "      <th>mean_fit_time</th>\n",
       "      <th>std_fit_time</th>\n",
       "      <th>mean_score_time</th>\n",
       "      <th>std_score_time</th>\n",
       "      <th>param_logit__C</th>\n",
       "      <th>param_logit__solver</th>\n",
       "      <th>params</th>\n",
       "      <th>split0_test_score</th>\n",
       "      <th>split1_test_score</th>\n",
       "      <th>split2_test_score</th>\n",
       "      <th>split3_test_score</th>\n",
       "      <th>split4_test_score</th>\n",
       "      <th>mean_test_score</th>\n",
       "      <th>std_test_score</th>\n",
       "      <th>rank_test_score</th>\n",
       "    </tr>\n",
       "  </thead>\n",
       "  <tbody>\n",
       "    <tr>\n",
       "      <th>3</th>\n",
       "      <td>0.473584</td>\n",
       "      <td>0.056069</td>\n",
       "      <td>0.035544</td>\n",
       "      <td>0.004709</td>\n",
       "      <td>0.2</td>\n",
       "      <td>lbfgs</td>\n",
       "      <td>{'logit__C': 0.2, 'logit__solver': 'lbfgs'}</td>\n",
       "      <td>0.59636</td>\n",
       "      <td>0.618423</td>\n",
       "      <td>0.613017</td>\n",
       "      <td>0.609928</td>\n",
       "      <td>0.61048</td>\n",
       "      <td>0.609641</td>\n",
       "      <td>0.007290</td>\n",
       "      <td>1</td>\n",
       "    </tr>\n",
       "    <tr>\n",
       "      <th>4</th>\n",
       "      <td>4.502686</td>\n",
       "      <td>0.431744</td>\n",
       "      <td>0.035738</td>\n",
       "      <td>0.005091</td>\n",
       "      <td>0.2</td>\n",
       "      <td>sag</td>\n",
       "      <td>{'logit__C': 0.2, 'logit__solver': 'sag'}</td>\n",
       "      <td>0.59636</td>\n",
       "      <td>0.618423</td>\n",
       "      <td>0.613017</td>\n",
       "      <td>0.609928</td>\n",
       "      <td>0.61048</td>\n",
       "      <td>0.609641</td>\n",
       "      <td>0.007290</td>\n",
       "      <td>1</td>\n",
       "    </tr>\n",
       "    <tr>\n",
       "      <th>5</th>\n",
       "      <td>2.566851</td>\n",
       "      <td>0.210620</td>\n",
       "      <td>0.033403</td>\n",
       "      <td>0.001869</td>\n",
       "      <td>0.2</td>\n",
       "      <td>saga</td>\n",
       "      <td>{'logit__C': 0.2, 'logit__solver': 'saga'}</td>\n",
       "      <td>0.59636</td>\n",
       "      <td>0.618423</td>\n",
       "      <td>0.613017</td>\n",
       "      <td>0.609928</td>\n",
       "      <td>0.61048</td>\n",
       "      <td>0.609641</td>\n",
       "      <td>0.007290</td>\n",
       "      <td>1</td>\n",
       "    </tr>\n",
       "    <tr>\n",
       "      <th>7</th>\n",
       "      <td>4.733896</td>\n",
       "      <td>0.138351</td>\n",
       "      <td>0.041050</td>\n",
       "      <td>0.006975</td>\n",
       "      <td>0.3</td>\n",
       "      <td>sag</td>\n",
       "      <td>{'logit__C': 0.3, 'logit__solver': 'sag'}</td>\n",
       "      <td>0.59636</td>\n",
       "      <td>0.618423</td>\n",
       "      <td>0.613017</td>\n",
       "      <td>0.609928</td>\n",
       "      <td>0.61048</td>\n",
       "      <td>0.609641</td>\n",
       "      <td>0.007290</td>\n",
       "      <td>1</td>\n",
       "    </tr>\n",
       "    <tr>\n",
       "      <th>14</th>\n",
       "      <td>2.883290</td>\n",
       "      <td>0.190846</td>\n",
       "      <td>0.037874</td>\n",
       "      <td>0.004555</td>\n",
       "      <td>0.5</td>\n",
       "      <td>saga</td>\n",
       "      <td>{'logit__C': 0.5, 'logit__solver': 'saga'}</td>\n",
       "      <td>0.59636</td>\n",
       "      <td>0.618312</td>\n",
       "      <td>0.613017</td>\n",
       "      <td>0.609928</td>\n",
       "      <td>0.61048</td>\n",
       "      <td>0.609619</td>\n",
       "      <td>0.007263</td>\n",
       "      <td>5</td>\n",
       "    </tr>\n",
       "  </tbody>\n",
       "</table>\n",
       "</div>"
      ],
      "text/plain": [
       "    mean_fit_time  std_fit_time  mean_score_time  std_score_time  \\\n",
       "3        0.473584      0.056069         0.035544        0.004709   \n",
       "4        4.502686      0.431744         0.035738        0.005091   \n",
       "5        2.566851      0.210620         0.033403        0.001869   \n",
       "7        4.733896      0.138351         0.041050        0.006975   \n",
       "14       2.883290      0.190846         0.037874        0.004555   \n",
       "\n",
       "   param_logit__C param_logit__solver  \\\n",
       "3             0.2               lbfgs   \n",
       "4             0.2                 sag   \n",
       "5             0.2                saga   \n",
       "7             0.3                 sag   \n",
       "14            0.5                saga   \n",
       "\n",
       "                                         params  split0_test_score  \\\n",
       "3   {'logit__C': 0.2, 'logit__solver': 'lbfgs'}            0.59636   \n",
       "4     {'logit__C': 0.2, 'logit__solver': 'sag'}            0.59636   \n",
       "5    {'logit__C': 0.2, 'logit__solver': 'saga'}            0.59636   \n",
       "7     {'logit__C': 0.3, 'logit__solver': 'sag'}            0.59636   \n",
       "14   {'logit__C': 0.5, 'logit__solver': 'saga'}            0.59636   \n",
       "\n",
       "    split1_test_score  split2_test_score  split3_test_score  \\\n",
       "3            0.618423           0.613017           0.609928   \n",
       "4            0.618423           0.613017           0.609928   \n",
       "5            0.618423           0.613017           0.609928   \n",
       "7            0.618423           0.613017           0.609928   \n",
       "14           0.618312           0.613017           0.609928   \n",
       "\n",
       "    split4_test_score  mean_test_score  std_test_score  rank_test_score  \n",
       "3             0.61048         0.609641        0.007290                1  \n",
       "4             0.61048         0.609641        0.007290                1  \n",
       "5             0.61048         0.609641        0.007290                1  \n",
       "7             0.61048         0.609641        0.007290                1  \n",
       "14            0.61048         0.609619        0.007263                5  "
      ]
     },
     "execution_count": 11,
     "metadata": {},
     "output_type": "execute_result"
    }
   ],
   "source": [
    "#the top hyperparameter combinations for this model\n",
    "pd.DataFrame(grid.cv_results_).sort_values(by='rank_test_score').head()"
   ]
  },
  {
   "cell_type": "markdown",
   "id": "27e65446",
   "metadata": {},
   "source": [
    "The best model for LogisticRegression uses the 'lbfgs' solver with a C value for 0.2 to regularize the fitting as to deal with potential overfitting."
   ]
  },
  {
   "cell_type": "markdown",
   "id": "18ddd04e",
   "metadata": {},
   "source": [
    "### Best Model"
   ]
  },
  {
   "cell_type": "markdown",
   "id": "6649cba1",
   "metadata": {},
   "source": [
    "Now to fit that model on its own so that we can explore the coefficients and find out which features are the heavies influences on the model."
   ]
  },
  {
   "cell_type": "code",
   "execution_count": 12,
   "id": "804e8f3a",
   "metadata": {},
   "outputs": [],
   "source": [
    "#scaling\n",
    "scaler = StandardScaler()\n",
    "X_rem_ss = scaler.fit_transform(X_rem)\n",
    "\n",
    "#fitting the final logit model\n",
    "Logit_final = LogisticRegression(C=0.2, max_iter=10000).fit(X_rem_ss,y_rem)"
   ]
  },
  {
   "cell_type": "code",
   "execution_count": 13,
   "id": "928560eb",
   "metadata": {},
   "outputs": [],
   "source": [
    "#creating dataframe for coefs of logit model\n",
    "Logit_final_coefs = pd.DataFrame({'Feature':list(X_rem.columns), 'Coef':list(Logit_final.coef_.reshape(-1))})\n",
    "Logit_final_coefs = Logit_final_coefs.sort_values(by='Coef', ascending=False)"
   ]
  },
  {
   "cell_type": "code",
   "execution_count": 14,
   "id": "f7780d25",
   "metadata": {},
   "outputs": [
    {
     "data": {
      "image/png": "[encoded data removed]",
      "text/plain": [
       "<Figure size 800x500 with 1 Axes>"
      ]
     },
     "metadata": {},
     "output_type": "display_data"
    }
   ],
   "source": [
    "#plotting top coefs\n",
    "plt.figure(figsize=(8,5))\n",
    "plt.barh(Logit_final_coefs.tail(10).sort_values(by='Coef')['Feature'],\n",
    "         Logit_final_coefs.tail(10).sort_values(by='Coef')['Coef'], color='#1f77b4')\n",
    "plt.barh(Logit_final_coefs.head(10).sort_values(by='Coef')['Feature'],\n",
    "         Logit_final_coefs.head(10).sort_values(by='Coef')['Coef'], color='#1f77b4')\n",
    "\n",
    "plt.show()"
   ]
  },
  {
   "cell_type": "markdown",
   "id": "d35084c4",
   "metadata": {},
   "source": [
    "We can see from the plot that `explicit`, `chill`, `dance`, `k-pop`, `reggae`, `metalcore`, `summer`, and `anime` have the highest positive effects on the model. Meaning that tracks that embody these features more are more likely to be popular. Adversely, we see that `country`, `rockabilly`, `honky-tonk`, `grindcore`, `tango`, `study`, `post-dubstep`, `speechiness`, `romance`, `year`, and `duration_ms`have the highest negative effects on the model. This means that tracks that embody these features more are more likely to be not-popular."
   ]
  },
  {
   "cell_type": "code",
   "execution_count": 15,
   "id": "0e84f1db",
   "metadata": {},
   "outputs": [
    {
     "data": {
      "text/plain": [
       "<sklearn.metrics._plot.confusion_matrix.ConfusionMatrixDisplay at 0x7ff90fd2deb0>"
      ]
     },
     "execution_count": 15,
     "metadata": {},
     "output_type": "execute_result"
    },
    {
     "data": {
      "image/png": "[encoded data removed]",
      "text/plain": [
       "<Figure size 640x480 with 2 Axes>"
      ]
     },
     "metadata": {},
     "output_type": "display_data"
    }
   ],
   "source": [
    "y_pred = Logit_final.predict(X_rem_ss)\n",
    "ConfusionMatrixDisplay(confusion_matrix(y_pred,y_rem)).plot()"
   ]
  },
  {
   "cell_type": "code",
   "execution_count": 16,
   "id": "bab18eef",
   "metadata": {},
   "outputs": [
    {
     "name": "stdout",
     "output_type": "stream",
     "text": [
      "Accuarcy Score:  0.6153778268063982\n",
      "recall Score:  0.6140717811428094\n",
      "f1 Score:  0.6274442758532259\n",
      "precision Score:  0.6414121553720452\n"
     ]
    }
   ],
   "source": [
    "print('Accuarcy Score: ',accuracy_score(y_pred,y_rem))\n",
    "print('recall Score: ',recall_score(y_pred,y_rem))\n",
    "print('f1 Score: ',f1_score(y_pred,y_rem))\n",
    "print('precision Score: ',precision_score(y_pred,y_rem))"
   ]
  },
  {
   "cell_type": "markdown",
   "id": "a433f5fe",
   "metadata": {},
   "source": [
    "Overall, the performance of the general logisticregression model isn't the best, which is as expected. Accuracy is at 61% with recall at 61%, f1-score at 63% and precision at 64%. This means that the model misclassifies a huge chunk of the data as false not-popular and false popular predictions."
   ]
  },
  {
   "cell_type": "markdown",
   "id": "dd5a61a6",
   "metadata": {},
   "source": [
    "### Separate Model for Hip-hop, Acoustic, Metal, and Reggae"
   ]
  },
  {
   "cell_type": "markdown",
   "id": "70a455bf",
   "metadata": {},
   "source": [
    "Now to create separate logit models for the four genres hip-hop, acoustic, metal, and reggae."
   ]
  },
  {
   "cell_type": "code",
   "execution_count": 17,
   "id": "35db6b80",
   "metadata": {},
   "outputs": [],
   "source": [
    "df_logit_genres = df_remainder.drop(columns=['loudness','acousticness','instrumentalness','valence',\n",
    "                            'track_id', 'artists', 'album_name', 'track_name','preview_url'])"
   ]
  },
  {
   "cell_type": "code",
   "execution_count": 18,
   "id": "30223eaf",
   "metadata": {},
   "outputs": [],
   "source": [
    "#dropping countvectorized genre features\n",
    "for gen in df['track_genre'].unique():\n",
    "    df_logit_genres.drop(columns=gen, inplace=True)"
   ]
  },
  {
   "cell_type": "code",
   "execution_count": 19,
   "id": "85c9634c",
   "metadata": {},
   "outputs": [],
   "source": [
    "#looping over each desired genre and storing the model, coefs, and scores.\n",
    "genres = ['hip-hop', 'acoustic', 'metal', 'reggae']\n",
    "\n",
    "logit_models = {'genre':[],'model':[],'Coefs':[], 'train_score':[],'validation_score':[]}\n",
    "for gen in genres:\n",
    "    df_temp = df_logit_genres[df_logit_genres['track_genre'] == gen].copy().drop(columns='track_genre')\n",
    "    \n",
    "    #spliting while stratifying \n",
    "    df_train, df_validation = train_test_split(df_temp, test_size=0.3, random_state=42,\n",
    "                                         stratify=df_temp['popularity'])\n",
    "    \n",
    "    #splitting into X and y\n",
    "    X_train = df_train.drop(columns='popularity')\n",
    "    y_train = df_train['popularity']\n",
    "    \n",
    "    X_val = df_validation.drop(columns='popularity')\n",
    "    y_val = df_validation['popularity']\n",
    "    \n",
    "    scaler = StandardScaler()\n",
    "    X_train_ss = scaler.fit_transform(X_train)\n",
    "    X_val_ss = scaler.transform(X_val)\n",
    "    \n",
    "    logit_temp = LogisticRegression(C=0.2, max_iter=10000).fit(X_train_ss,y_train)\n",
    "    \n",
    "    logit_models['genre'].append(gen)\n",
    "    logit_models['model'].append(logit_temp)\n",
    "    logit_models['Coefs'].append(logit_temp.coef_)\n",
    "    \n",
    "    y_pred_train = logit_temp.predict(X_train_ss)\n",
    "    logit_models['train_score'].append(accuracy_score(y_pred_train,y_train))\n",
    "    \n",
    "    y_pred_val = logit_temp.predict(X_val_ss)\n",
    "    logit_models['validation_score'].append(accuracy_score(y_pred_val,y_val))"
   ]
  },
  {
   "cell_type": "code",
   "execution_count": 20,
   "id": "369a9e8f",
   "metadata": {},
   "outputs": [],
   "source": [
    "#organizing the new models coefs and scores into seperate dataframes\n",
    "genre_logit_scores = pd.DataFrame({'genre':logit_models['genre'], 'train_score':logit_models['train_score'],\n",
    "                                   'validation_score':logit_models['validation_score']})\n",
    "\n",
    "hiphop_coefs = pd.DataFrame({'Coef': list(logit_models['Coefs'][0].reshape(-1)),\n",
    "                             'Feature': list(X_train.columns)}).sort_values(by='Coef',ascending=False)\n",
    "acoustic_coefs = pd.DataFrame({'Coef': list(logit_models['Coefs'][1].reshape(-1)),\n",
    "                             'Feature': list(X_train.columns)}).sort_values(by='Coef',ascending=False)\n",
    "metal_coefs = pd.DataFrame({'Coef': list(logit_models['Coefs'][2].reshape(-1)),\n",
    "                             'Feature': list(X_train.columns)}).sort_values(by='Coef',ascending=False)\n",
    "reggae_coefs = pd.DataFrame({'Coef': list(logit_models['Coefs'][3].reshape(-1)),\n",
    "                             'Feature': list(X_train.columns)}).sort_values(by='Coef',ascending=False)"
   ]
  },
  {
   "cell_type": "code",
   "execution_count": 21,
   "id": "46903ff4",
   "metadata": {},
   "outputs": [
    {
     "data": {
      "text/plain": [
       "Text(0.5, 1.0, 'Reggae Genre Top 10 Coefs')"
      ]
     },
     "execution_count": 21,
     "metadata": {},
     "output_type": "execute_result"
    },
    {
     "data": {
      "image/png": "[encoded data removed]",
      "text/plain": [
       "<Figure size 2000x2000 with 4 Axes>"
      ]
     },
     "metadata": {},
     "output_type": "display_data"
    }
   ],
   "source": [
    "#plotting the coefs of each of the fours models\n",
    "plt.subplots(2,2, figsize=(20,20))\n",
    "\n",
    "plt.subplot(2,2,1)\n",
    "plt.barh(hiphop_coefs.tail(10).sort_values(by='Coef')['Feature'],\n",
    "         hiphop_coefs.tail(10).sort_values(by='Coef')['Coef'], color='#1f77b4')\n",
    "plt.barh(hiphop_coefs.head(10).sort_values(by='Coef')['Feature'],\n",
    "         hiphop_coefs.head(10).sort_values(by='Coef')['Coef'], color='#1f77b4')\n",
    "plt.title('Hiphop Genre Top 10 Coefs')\n",
    "\n",
    "\n",
    "plt.subplot(2,2,2)\n",
    "plt.barh(acoustic_coefs.tail(10).sort_values(by='Coef')['Feature'],\n",
    "         acoustic_coefs.tail(10).sort_values(by='Coef')['Coef'], color='#1f77b4')\n",
    "plt.barh(acoustic_coefs.head(10).sort_values(by='Coef')['Feature'],\n",
    "         acoustic_coefs.head(10).sort_values(by='Coef')['Coef'], color='#1f77b4')\n",
    "plt.title('Acoustic Genre Top 10 Coefs')\n",
    "\n",
    "plt.subplot(2,2,3)\n",
    "plt.barh(metal_coefs.tail(10).sort_values(by='Coef')['Feature'],\n",
    "         metal_coefs.tail(10).sort_values(by='Coef')['Coef'], color='#1f77b4')\n",
    "plt.barh(metal_coefs.head(10).sort_values(by='Coef')['Feature'],\n",
    "         metal_coefs.head(10).sort_values(by='Coef')['Coef'], color='#1f77b4')\n",
    "plt.title('Metal Genre Top 10 Coefs')\n",
    "\n",
    "plt.subplot(2,2,4)\n",
    "plt.barh(reggae_coefs.tail(10).sort_values(by='Coef')['Feature'],\n",
    "         reggae_coefs.tail(10).sort_values(by='Coef')['Coef'], color='#1f77b4')\n",
    "plt.barh(reggae_coefs.head(10).sort_values(by='Coef')['Feature'],\n",
    "         reggae_coefs.head(10).sort_values(by='Coef')['Coef'], color='#1f77b4')\n",
    "plt.title('Reggae Genre Top 10 Coefs')\n"
   ]
  },
  {
   "cell_type": "markdown",
   "id": "31bfadcd",
   "metadata": {},
   "source": [
    "When fitting a model the same hyperparameters, but to a specific genre only, we see that the value of coefficients begin to change drastically. For example `explicit` was the greatest positive coefficient in the general model, but only remains as a positive coefficient in the hip-hop model. In the case of the three other genre specific models it switches into a negative coefficient. `tempo` seems to be important for popularity in all four genres even though that feature was no where to be found amongst the most influential coefficients of the general logit model. `year` was the second greatest negative coefficient of the general model, and remains that way for both Hip-hop and Acoustic tracks. However, in the case of metal and reggae, `year` moves to a positive coefficient. This means that older hip-hop and acoustic tracks are more popular, while newer metal and reggae tracks are more popular.\n",
    "\n",
    "Essentially, the coefficient values of the general model differ greatly from models that are fit specifically to a genre. That much was expected, but the drastic nature of those coefficient changes is whats surprising."
   ]
  },
  {
   "cell_type": "code",
   "execution_count": 22,
   "id": "9d4d9819",
   "metadata": {
    "scrolled": false
   },
   "outputs": [
    {
     "data": {
      "image/png": "[encoded data removed]",
      "text/plain": [
       "<Figure size 800x500 with 1 Axes>"
      ]
     },
     "metadata": {},
     "output_type": "display_data"
    }
   ],
   "source": [
    "genre_logit_scores.plot(kind='bar',x='genre',figsize=(8,5))\n",
    "plt.axhline( 0.615, label='Logit_Final Accuracy', linestyle='--', color='black', alpha=0.5)\n",
    "plt.xticks(rotation=0)\n",
    "plt.title('Genre Specific Logit Models Accuarcy')\n",
    "plt.ylabel('Accuracy Score')\n",
    "plt.legend()\n",
    "plt.show()"
   ]
  },
  {
   "cell_type": "markdown",
   "id": "ee07357e",
   "metadata": {},
   "source": [
    "Overall, the four specified LogisticRegression models all achieve a higher accuracy score than the general model. This makes sense as the popularity of music is subjective and greatly based on taste, and a commonly agreed category for music taste is what a genre generally is. So when a model is only attempting to predict popularity for a single genre, it will likely yield more accurate results."
   ]
  },
  {
   "cell_type": "markdown",
   "id": "16f79622",
   "metadata": {},
   "source": [
    "## RandomForest"
   ]
  },
  {
   "cell_type": "markdown",
   "id": "fdce5842",
   "metadata": {},
   "source": [
    "The next model that we will be using is the RandomForest ensemble model. This model is a decision tree ensemble model, which means it runs multiple recursive decision trees in an attempt to fit a more effective model. "
   ]
  },
  {
   "cell_type": "markdown",
   "id": "6c3f9075",
   "metadata": {},
   "source": [
    "### Gridsearches"
   ]
  },
  {
   "cell_type": "code",
   "execution_count": 23,
   "id": "e4ace122",
   "metadata": {},
   "outputs": [],
   "source": [
    "#splitting into X and y\n",
    "X_rem = df_remainder.drop(columns=['track_id', 'album_name', 'artists', 'track_name', 'track_genre','preview_url','popularity'])\n",
    "y_rem = df_remainder['popularity']"
   ]
  },
  {
   "cell_type": "code",
   "execution_count": 24,
   "id": "26909c5c",
   "metadata": {},
   "outputs": [
    {
     "name": "stdout",
     "output_type": "stream",
     "text": [
      "Fitting 5 folds for each of 40 candidates, totalling 200 fits\n"
     ]
    }
   ],
   "source": [
    "# estimator\n",
    "estimator = Pipeline([\n",
    "    ('rf', RandomForestClassifier())\n",
    "])\n",
    "\n",
    "\n",
    "# parameters\n",
    "params = {\n",
    "    'rf__max_depth':[5,10,15,None],\n",
    "    'rf__n_estimators': [100],\n",
    "    'rf__min_samples_leaf':[2,4,6,8,10],\n",
    "    'rf__criterion': ['gini','entropy']\n",
    "}\n",
    "\n",
    "# grid search\n",
    "grid = GridSearchCV(estimator, param_grid=params, cv=5, n_jobs=-1, verbose=3)\n",
    "grid.fit(X_rem, y_rem)\n",
    "\n",
    "#writting to pickle\n",
    "with open('Gridsearches/RandomForest/RandomForest_grid_1.pkl', \"wb\") as f:\n",
    "    pickle.dump(grid, f)"
   ]
  },
  {
   "cell_type": "code",
   "execution_count": 25,
   "id": "719cc103",
   "metadata": {},
   "outputs": [
    {
     "data": {
      "text/plain": [
       "{'rf__criterion': 'entropy',\n",
       " 'rf__max_depth': None,\n",
       " 'rf__min_samples_leaf': 2,\n",
       " 'rf__n_estimators': 100}"
      ]
     },
     "execution_count": 25,
     "metadata": {},
     "output_type": "execute_result"
    }
   ],
   "source": [
    "#the best parameters the gridsearch found\n",
    "grid.best_params_"
   ]
  },
  {
   "cell_type": "code",
   "execution_count": 26,
   "id": "a6f153d0",
   "metadata": {},
   "outputs": [
    {
     "data": {
      "text/plain": [
       "0.6697186982901269"
      ]
     },
     "execution_count": 26,
     "metadata": {},
     "output_type": "execute_result"
    }
   ],
   "source": [
    "#the best score the gridsearch found\n",
    "grid.best_score_"
   ]
  },
  {
   "cell_type": "code",
   "execution_count": 27,
   "id": "0e4411e8",
   "metadata": {},
   "outputs": [
    {
     "data": {
      "text/html": [
       "<div>\n",
       "<style scoped>\n",
       "    .dataframe tbody tr th:only-of-type {\n",
       "        vertical-align: middle;\n",
       "    }\n",
       "\n",
       "    .dataframe tbody tr th {\n",
       "        vertical-align: top;\n",
       "    }\n",
       "\n",
       "    .dataframe thead th {\n",
       "        text-align: right;\n",
       "    }\n",
       "</style>\n",
       "<table border=\"1\" class=\"dataframe\">\n",
       "  <thead>\n",
       "    <tr style=\"text-align: right;\">\n",
       "      <th></th>\n",
       "      <th>mean_fit_time</th>\n",
       "      <th>std_fit_time</th>\n",
       "      <th>mean_score_time</th>\n",
       "      <th>std_score_time</th>\n",
       "      <th>param_rf__criterion</th>\n",
       "      <th>param_rf__max_depth</th>\n",
       "      <th>param_rf__min_samples_leaf</th>\n",
       "      <th>param_rf__n_estimators</th>\n",
       "      <th>params</th>\n",
       "      <th>split0_test_score</th>\n",
       "      <th>split1_test_score</th>\n",
       "      <th>split2_test_score</th>\n",
       "      <th>split3_test_score</th>\n",
       "      <th>split4_test_score</th>\n",
       "      <th>mean_test_score</th>\n",
       "      <th>std_test_score</th>\n",
       "      <th>rank_test_score</th>\n",
       "    </tr>\n",
       "  </thead>\n",
       "  <tbody>\n",
       "    <tr>\n",
       "      <th>35</th>\n",
       "      <td>20.652220</td>\n",
       "      <td>0.128928</td>\n",
       "      <td>0.443973</td>\n",
       "      <td>0.007728</td>\n",
       "      <td>entropy</td>\n",
       "      <td>None</td>\n",
       "      <td>2</td>\n",
       "      <td>100</td>\n",
       "      <td>{'rf__criterion': 'entropy', 'rf__max_depth': ...</td>\n",
       "      <td>0.665747</td>\n",
       "      <td>0.673911</td>\n",
       "      <td>0.677551</td>\n",
       "      <td>0.666409</td>\n",
       "      <td>0.664975</td>\n",
       "      <td>0.669719</td>\n",
       "      <td>0.005062</td>\n",
       "      <td>1</td>\n",
       "    </tr>\n",
       "    <tr>\n",
       "      <th>15</th>\n",
       "      <td>17.548055</td>\n",
       "      <td>0.128390</td>\n",
       "      <td>0.440189</td>\n",
       "      <td>0.003644</td>\n",
       "      <td>gini</td>\n",
       "      <td>None</td>\n",
       "      <td>2</td>\n",
       "      <td>100</td>\n",
       "      <td>{'rf__criterion': 'gini', 'rf__max_depth': Non...</td>\n",
       "      <td>0.660563</td>\n",
       "      <td>0.674021</td>\n",
       "      <td>0.673138</td>\n",
       "      <td>0.667512</td>\n",
       "      <td>0.666078</td>\n",
       "      <td>0.668263</td>\n",
       "      <td>0.004931</td>\n",
       "      <td>2</td>\n",
       "    </tr>\n",
       "    <tr>\n",
       "      <th>36</th>\n",
       "      <td>18.124961</td>\n",
       "      <td>0.157298</td>\n",
       "      <td>0.385239</td>\n",
       "      <td>0.009313</td>\n",
       "      <td>entropy</td>\n",
       "      <td>None</td>\n",
       "      <td>4</td>\n",
       "      <td>100</td>\n",
       "      <td>{'rf__criterion': 'entropy', 'rf__max_depth': ...</td>\n",
       "      <td>0.660232</td>\n",
       "      <td>0.675565</td>\n",
       "      <td>0.666520</td>\n",
       "      <td>0.666630</td>\n",
       "      <td>0.666299</td>\n",
       "      <td>0.667049</td>\n",
       "      <td>0.004899</td>\n",
       "      <td>3</td>\n",
       "    </tr>\n",
       "    <tr>\n",
       "      <th>16</th>\n",
       "      <td>15.338536</td>\n",
       "      <td>0.422789</td>\n",
       "      <td>0.377812</td>\n",
       "      <td>0.005183</td>\n",
       "      <td>gini</td>\n",
       "      <td>None</td>\n",
       "      <td>4</td>\n",
       "      <td>100</td>\n",
       "      <td>{'rf__criterion': 'gini', 'rf__max_depth': Non...</td>\n",
       "      <td>0.653282</td>\n",
       "      <td>0.665306</td>\n",
       "      <td>0.668174</td>\n",
       "      <td>0.660783</td>\n",
       "      <td>0.660342</td>\n",
       "      <td>0.661577</td>\n",
       "      <td>0.005067</td>\n",
       "      <td>4</td>\n",
       "    </tr>\n",
       "    <tr>\n",
       "      <th>17</th>\n",
       "      <td>14.180512</td>\n",
       "      <td>0.202374</td>\n",
       "      <td>0.348943</td>\n",
       "      <td>0.002426</td>\n",
       "      <td>gini</td>\n",
       "      <td>None</td>\n",
       "      <td>6</td>\n",
       "      <td>100</td>\n",
       "      <td>{'rf__criterion': 'gini', 'rf__max_depth': Non...</td>\n",
       "      <td>0.656591</td>\n",
       "      <td>0.662107</td>\n",
       "      <td>0.669939</td>\n",
       "      <td>0.661666</td>\n",
       "      <td>0.656371</td>\n",
       "      <td>0.661335</td>\n",
       "      <td>0.004937</td>\n",
       "      <td>5</td>\n",
       "    </tr>\n",
       "  </tbody>\n",
       "</table>\n",
       "</div>"
      ],
      "text/plain": [
       "    mean_fit_time  std_fit_time  mean_score_time  std_score_time  \\\n",
       "35      20.652220      0.128928         0.443973        0.007728   \n",
       "15      17.548055      0.128390         0.440189        0.003644   \n",
       "36      18.124961      0.157298         0.385239        0.009313   \n",
       "16      15.338536      0.422789         0.377812        0.005183   \n",
       "17      14.180512      0.202374         0.348943        0.002426   \n",
       "\n",
       "   param_rf__criterion param_rf__max_depth param_rf__min_samples_leaf  \\\n",
       "35             entropy                None                          2   \n",
       "15                gini                None                          2   \n",
       "36             entropy                None                          4   \n",
       "16                gini                None                          4   \n",
       "17                gini                None                          6   \n",
       "\n",
       "   param_rf__n_estimators                                             params  \\\n",
       "35                    100  {'rf__criterion': 'entropy', 'rf__max_depth': ...   \n",
       "15                    100  {'rf__criterion': 'gini', 'rf__max_depth': Non...   \n",
       "36                    100  {'rf__criterion': 'entropy', 'rf__max_depth': ...   \n",
       "16                    100  {'rf__criterion': 'gini', 'rf__max_depth': Non...   \n",
       "17                    100  {'rf__criterion': 'gini', 'rf__max_depth': Non...   \n",
       "\n",
       "    split0_test_score  split1_test_score  split2_test_score  \\\n",
       "35           0.665747           0.673911           0.677551   \n",
       "15           0.660563           0.674021           0.673138   \n",
       "36           0.660232           0.675565           0.666520   \n",
       "16           0.653282           0.665306           0.668174   \n",
       "17           0.656591           0.662107           0.669939   \n",
       "\n",
       "    split3_test_score  split4_test_score  mean_test_score  std_test_score  \\\n",
       "35           0.666409           0.664975         0.669719        0.005062   \n",
       "15           0.667512           0.666078         0.668263        0.004931   \n",
       "36           0.666630           0.666299         0.667049        0.004899   \n",
       "16           0.660783           0.660342         0.661577        0.005067   \n",
       "17           0.661666           0.656371         0.661335        0.004937   \n",
       "\n",
       "    rank_test_score  \n",
       "35                1  \n",
       "15                2  \n",
       "36                3  \n",
       "16                4  \n",
       "17                5  "
      ]
     },
     "execution_count": 27,
     "metadata": {},
     "output_type": "execute_result"
    }
   ],
   "source": [
    "#the top hyperparameter combinations for this model\n",
    "pd.DataFrame(grid.cv_results_).sort_values(by='rank_test_score').head()"
   ]
  },
  {
   "cell_type": "markdown",
   "id": "e8fcf638",
   "metadata": {},
   "source": []
  },
  {
   "cell_type": "markdown",
   "id": "afcd0657",
   "metadata": {},
   "source": []
  },
  {
   "cell_type": "markdown",
   "id": "a46b4f03",
   "metadata": {},
   "source": []
  },
  {
   "cell_type": "code",
   "execution_count": 28,
   "id": "f8f0f0de",
   "metadata": {},
   "outputs": [
    {
     "name": "stdout",
     "output_type": "stream",
     "text": [
      "Fitting 5 folds for each of 18 candidates, totalling 90 fits\n"
     ]
    }
   ],
   "source": [
    "# estimator\n",
    "estimator = Pipeline([\n",
    "    ('rf', RandomForestClassifier())\n",
    "])\n",
    "\n",
    "\n",
    "# parameters\n",
    "params = {\n",
    "    'rf__n_estimators': [100],\n",
    "    'rf__min_samples_leaf':[1,2,3],\n",
    "    'rf__min_samples_split':[.25,.5,.75],\n",
    "    'rf__criterion': ['gini','entropy']\n",
    "}\n",
    "\n",
    "# grid search\n",
    "grid = GridSearchCV(estimator, param_grid=params, cv=5, n_jobs=-1, verbose=3)\n",
    "grid.fit(X_rem, y_rem)\n",
    "\n",
    "#writting to pickle\n",
    "with open('Gridsearches/RandomForest/RandomForest_grid_2.pkl', \"wb\") as f:\n",
    "    pickle.dump(grid, f)"
   ]
  },
  {
   "cell_type": "code",
   "execution_count": 29,
   "id": "0fc5eeb7",
   "metadata": {},
   "outputs": [
    {
     "data": {
      "text/plain": [
       "{'rf__criterion': 'entropy',\n",
       " 'rf__min_samples_leaf': 3,\n",
       " 'rf__min_samples_split': 0.25,\n",
       " 'rf__n_estimators': 100}"
      ]
     },
     "execution_count": 29,
     "metadata": {},
     "output_type": "execute_result"
    }
   ],
   "source": [
    "#the best parameters the gridsearch found\n",
    "grid.best_params_"
   ]
  },
  {
   "cell_type": "code",
   "execution_count": 30,
   "id": "a80be285",
   "metadata": {},
   "outputs": [
    {
     "data": {
      "text/plain": [
       "0.5940650854936569"
      ]
     },
     "execution_count": 30,
     "metadata": {},
     "output_type": "execute_result"
    }
   ],
   "source": [
    "#the best score the gridsearch found\n",
    "grid.best_score_"
   ]
  },
  {
   "cell_type": "code",
   "execution_count": 31,
   "id": "b8d881dc",
   "metadata": {},
   "outputs": [
    {
     "data": {
      "text/html": [
       "<div>\n",
       "<style scoped>\n",
       "    .dataframe tbody tr th:only-of-type {\n",
       "        vertical-align: middle;\n",
       "    }\n",
       "\n",
       "    .dataframe tbody tr th {\n",
       "        vertical-align: top;\n",
       "    }\n",
       "\n",
       "    .dataframe thead th {\n",
       "        text-align: right;\n",
       "    }\n",
       "</style>\n",
       "<table border=\"1\" class=\"dataframe\">\n",
       "  <thead>\n",
       "    <tr style=\"text-align: right;\">\n",
       "      <th></th>\n",
       "      <th>mean_fit_time</th>\n",
       "      <th>std_fit_time</th>\n",
       "      <th>mean_score_time</th>\n",
       "      <th>std_score_time</th>\n",
       "      <th>param_rf__criterion</th>\n",
       "      <th>param_rf__min_samples_leaf</th>\n",
       "      <th>param_rf__min_samples_split</th>\n",
       "      <th>param_rf__n_estimators</th>\n",
       "      <th>params</th>\n",
       "      <th>split0_test_score</th>\n",
       "      <th>split1_test_score</th>\n",
       "      <th>split2_test_score</th>\n",
       "      <th>split3_test_score</th>\n",
       "      <th>split4_test_score</th>\n",
       "      <th>mean_test_score</th>\n",
       "      <th>std_test_score</th>\n",
       "      <th>rank_test_score</th>\n",
       "    </tr>\n",
       "  </thead>\n",
       "  <tbody>\n",
       "    <tr>\n",
       "      <th>15</th>\n",
       "      <td>4.651801</td>\n",
       "      <td>0.202454</td>\n",
       "      <td>0.155275</td>\n",
       "      <td>0.010407</td>\n",
       "      <td>entropy</td>\n",
       "      <td>3</td>\n",
       "      <td>0.25</td>\n",
       "      <td>100</td>\n",
       "      <td>{'rf__criterion': 'entropy', 'rf__min_samples_...</td>\n",
       "      <td>0.590734</td>\n",
       "      <td>0.592940</td>\n",
       "      <td>0.595367</td>\n",
       "      <td>0.592940</td>\n",
       "      <td>0.598345</td>\n",
       "      <td>0.594065</td>\n",
       "      <td>0.002594</td>\n",
       "      <td>1</td>\n",
       "    </tr>\n",
       "    <tr>\n",
       "      <th>12</th>\n",
       "      <td>4.741336</td>\n",
       "      <td>0.165000</td>\n",
       "      <td>0.155360</td>\n",
       "      <td>0.001805</td>\n",
       "      <td>entropy</td>\n",
       "      <td>2</td>\n",
       "      <td>0.25</td>\n",
       "      <td>100</td>\n",
       "      <td>{'rf__criterion': 'entropy', 'rf__min_samples_...</td>\n",
       "      <td>0.589851</td>\n",
       "      <td>0.594153</td>\n",
       "      <td>0.597022</td>\n",
       "      <td>0.592830</td>\n",
       "      <td>0.595918</td>\n",
       "      <td>0.593955</td>\n",
       "      <td>0.002506</td>\n",
       "      <td>2</td>\n",
       "    </tr>\n",
       "    <tr>\n",
       "      <th>0</th>\n",
       "      <td>4.063946</td>\n",
       "      <td>0.089461</td>\n",
       "      <td>0.133502</td>\n",
       "      <td>0.001867</td>\n",
       "      <td>gini</td>\n",
       "      <td>1</td>\n",
       "      <td>0.25</td>\n",
       "      <td>100</td>\n",
       "      <td>{'rf__criterion': 'gini', 'rf__min_samples_lea...</td>\n",
       "      <td>0.591285</td>\n",
       "      <td>0.592278</td>\n",
       "      <td>0.595698</td>\n",
       "      <td>0.589961</td>\n",
       "      <td>0.597022</td>\n",
       "      <td>0.593249</td>\n",
       "      <td>0.002677</td>\n",
       "      <td>3</td>\n",
       "    </tr>\n",
       "    <tr>\n",
       "      <th>3</th>\n",
       "      <td>3.936726</td>\n",
       "      <td>0.099357</td>\n",
       "      <td>0.136553</td>\n",
       "      <td>0.002268</td>\n",
       "      <td>gini</td>\n",
       "      <td>2</td>\n",
       "      <td>0.25</td>\n",
       "      <td>100</td>\n",
       "      <td>{'rf__criterion': 'gini', 'rf__min_samples_lea...</td>\n",
       "      <td>0.591506</td>\n",
       "      <td>0.592278</td>\n",
       "      <td>0.594374</td>\n",
       "      <td>0.591616</td>\n",
       "      <td>0.595808</td>\n",
       "      <td>0.593116</td>\n",
       "      <td>0.001696</td>\n",
       "      <td>4</td>\n",
       "    </tr>\n",
       "    <tr>\n",
       "      <th>6</th>\n",
       "      <td>4.030192</td>\n",
       "      <td>0.046461</td>\n",
       "      <td>0.157249</td>\n",
       "      <td>0.004077</td>\n",
       "      <td>gini</td>\n",
       "      <td>3</td>\n",
       "      <td>0.25</td>\n",
       "      <td>100</td>\n",
       "      <td>{'rf__criterion': 'gini', 'rf__min_samples_lea...</td>\n",
       "      <td>0.589520</td>\n",
       "      <td>0.589851</td>\n",
       "      <td>0.593933</td>\n",
       "      <td>0.590623</td>\n",
       "      <td>0.595698</td>\n",
       "      <td>0.591925</td>\n",
       "      <td>0.002451</td>\n",
       "      <td>5</td>\n",
       "    </tr>\n",
       "  </tbody>\n",
       "</table>\n",
       "</div>"
      ],
      "text/plain": [
       "    mean_fit_time  std_fit_time  mean_score_time  std_score_time  \\\n",
       "15       4.651801      0.202454         0.155275        0.010407   \n",
       "12       4.741336      0.165000         0.155360        0.001805   \n",
       "0        4.063946      0.089461         0.133502        0.001867   \n",
       "3        3.936726      0.099357         0.136553        0.002268   \n",
       "6        4.030192      0.046461         0.157249        0.004077   \n",
       "\n",
       "   param_rf__criterion param_rf__min_samples_leaf param_rf__min_samples_split  \\\n",
       "15             entropy                          3                        0.25   \n",
       "12             entropy                          2                        0.25   \n",
       "0                 gini                          1                        0.25   \n",
       "3                 gini                          2                        0.25   \n",
       "6                 gini                          3                        0.25   \n",
       "\n",
       "   param_rf__n_estimators                                             params  \\\n",
       "15                    100  {'rf__criterion': 'entropy', 'rf__min_samples_...   \n",
       "12                    100  {'rf__criterion': 'entropy', 'rf__min_samples_...   \n",
       "0                     100  {'rf__criterion': 'gini', 'rf__min_samples_lea...   \n",
       "3                     100  {'rf__criterion': 'gini', 'rf__min_samples_lea...   \n",
       "6                     100  {'rf__criterion': 'gini', 'rf__min_samples_lea...   \n",
       "\n",
       "    split0_test_score  split1_test_score  split2_test_score  \\\n",
       "15           0.590734           0.592940           0.595367   \n",
       "12           0.589851           0.594153           0.597022   \n",
       "0            0.591285           0.592278           0.595698   \n",
       "3            0.591506           0.592278           0.594374   \n",
       "6            0.589520           0.589851           0.593933   \n",
       "\n",
       "    split3_test_score  split4_test_score  mean_test_score  std_test_score  \\\n",
       "15           0.592940           0.598345         0.594065        0.002594   \n",
       "12           0.592830           0.595918         0.593955        0.002506   \n",
       "0            0.589961           0.597022         0.593249        0.002677   \n",
       "3            0.591616           0.595808         0.593116        0.001696   \n",
       "6            0.590623           0.595698         0.591925        0.002451   \n",
       "\n",
       "    rank_test_score  \n",
       "15                1  \n",
       "12                2  \n",
       "0                 3  \n",
       "3                 4  \n",
       "6                 5  "
      ]
     },
     "execution_count": 31,
     "metadata": {},
     "output_type": "execute_result"
    }
   ],
   "source": [
    "#the top hyperparameter combinations for this model\n",
    "pd.DataFrame(grid.cv_results_).sort_values(by='rank_test_score').head()"
   ]
  },
  {
   "cell_type": "code",
   "execution_count": null,
   "id": "d2fc7d62",
   "metadata": {},
   "outputs": [],
   "source": []
  },
  {
   "cell_type": "code",
   "execution_count": null,
   "id": "ca8cb52a",
   "metadata": {},
   "outputs": [],
   "source": []
  },
  {
   "cell_type": "code",
   "execution_count": 32,
   "id": "1b53c82b",
   "metadata": {},
   "outputs": [
    {
     "name": "stdout",
     "output_type": "stream",
     "text": [
      "Fitting 5 folds for each of 6 candidates, totalling 30 fits\n"
     ]
    }
   ],
   "source": [
    "# estimator\n",
    "estimator = Pipeline([\n",
    "    ('rf', RandomForestClassifier())\n",
    "])\n",
    "\n",
    "\n",
    "# parameters\n",
    "params = {\n",
    "    'rf__n_estimators': [100],\n",
    "    'rf__min_samples_leaf':[1,2,3],\n",
    "    'rf__criterion': ['gini','entropy']\n",
    "}\n",
    "\n",
    "# grid search\n",
    "grid = GridSearchCV(estimator, param_grid=params, cv=5, n_jobs=-1, verbose=3)\n",
    "grid.fit(X_rem, y_rem)\n",
    "\n",
    "#writting to pickle\n",
    "with open('Gridsearches/RandomForest/RandomForest_grid_3.pkl', \"wb\") as f:\n",
    "    pickle.dump(grid, f)"
   ]
  },
  {
   "cell_type": "code",
   "execution_count": 33,
   "id": "a311c891",
   "metadata": {},
   "outputs": [
    {
     "data": {
      "text/plain": [
       "{'rf__criterion': 'entropy',\n",
       " 'rf__min_samples_leaf': 1,\n",
       " 'rf__n_estimators': 100}"
      ]
     },
     "execution_count": 33,
     "metadata": {},
     "output_type": "execute_result"
    }
   ],
   "source": [
    "#the best parameters the gridsearch found\n",
    "grid.best_params_"
   ]
  },
  {
   "cell_type": "code",
   "execution_count": 34,
   "id": "29b1eb89",
   "metadata": {},
   "outputs": [
    {
     "data": {
      "text/plain": [
       "0.6696525096525097"
      ]
     },
     "execution_count": 34,
     "metadata": {},
     "output_type": "execute_result"
    }
   ],
   "source": [
    "#the best score the gridsearch found\n",
    "grid.best_score_"
   ]
  },
  {
   "cell_type": "code",
   "execution_count": 35,
   "id": "ca839954",
   "metadata": {},
   "outputs": [
    {
     "data": {
      "text/html": [
       "<div>\n",
       "<style scoped>\n",
       "    .dataframe tbody tr th:only-of-type {\n",
       "        vertical-align: middle;\n",
       "    }\n",
       "\n",
       "    .dataframe tbody tr th {\n",
       "        vertical-align: top;\n",
       "    }\n",
       "\n",
       "    .dataframe thead th {\n",
       "        text-align: right;\n",
       "    }\n",
       "</style>\n",
       "<table border=\"1\" class=\"dataframe\">\n",
       "  <thead>\n",
       "    <tr style=\"text-align: right;\">\n",
       "      <th></th>\n",
       "      <th>mean_fit_time</th>\n",
       "      <th>std_fit_time</th>\n",
       "      <th>mean_score_time</th>\n",
       "      <th>std_score_time</th>\n",
       "      <th>param_rf__criterion</th>\n",
       "      <th>param_rf__min_samples_leaf</th>\n",
       "      <th>param_rf__n_estimators</th>\n",
       "      <th>params</th>\n",
       "      <th>split0_test_score</th>\n",
       "      <th>split1_test_score</th>\n",
       "      <th>split2_test_score</th>\n",
       "      <th>split3_test_score</th>\n",
       "      <th>split4_test_score</th>\n",
       "      <th>mean_test_score</th>\n",
       "      <th>std_test_score</th>\n",
       "      <th>rank_test_score</th>\n",
       "    </tr>\n",
       "  </thead>\n",
       "  <tbody>\n",
       "    <tr>\n",
       "      <th>3</th>\n",
       "      <td>26.373136</td>\n",
       "      <td>0.436089</td>\n",
       "      <td>0.613596</td>\n",
       "      <td>0.008764</td>\n",
       "      <td>entropy</td>\n",
       "      <td>1</td>\n",
       "      <td>100</td>\n",
       "      <td>{'rf__criterion': 'entropy', 'rf__min_samples_...</td>\n",
       "      <td>0.669498</td>\n",
       "      <td>0.667733</td>\n",
       "      <td>0.674242</td>\n",
       "      <td>0.671594</td>\n",
       "      <td>0.665196</td>\n",
       "      <td>0.669653</td>\n",
       "      <td>0.003111</td>\n",
       "      <td>1</td>\n",
       "    </tr>\n",
       "    <tr>\n",
       "      <th>5</th>\n",
       "      <td>17.731591</td>\n",
       "      <td>0.391331</td>\n",
       "      <td>0.317943</td>\n",
       "      <td>0.039775</td>\n",
       "      <td>entropy</td>\n",
       "      <td>3</td>\n",
       "      <td>100</td>\n",
       "      <td>{'rf__criterion': 'entropy', 'rf__min_samples_...</td>\n",
       "      <td>0.664313</td>\n",
       "      <td>0.672146</td>\n",
       "      <td>0.675014</td>\n",
       "      <td>0.668395</td>\n",
       "      <td>0.665747</td>\n",
       "      <td>0.669123</td>\n",
       "      <td>0.003972</td>\n",
       "      <td>2</td>\n",
       "    </tr>\n",
       "    <tr>\n",
       "      <th>4</th>\n",
       "      <td>22.335534</td>\n",
       "      <td>1.640196</td>\n",
       "      <td>0.466506</td>\n",
       "      <td>0.087802</td>\n",
       "      <td>entropy</td>\n",
       "      <td>2</td>\n",
       "      <td>100</td>\n",
       "      <td>{'rf__criterion': 'entropy', 'rf__min_samples_...</td>\n",
       "      <td>0.659901</td>\n",
       "      <td>0.673359</td>\n",
       "      <td>0.675676</td>\n",
       "      <td>0.668064</td>\n",
       "      <td>0.664534</td>\n",
       "      <td>0.668307</td>\n",
       "      <td>0.005741</td>\n",
       "      <td>3</td>\n",
       "    </tr>\n",
       "    <tr>\n",
       "      <th>0</th>\n",
       "      <td>26.473257</td>\n",
       "      <td>0.465138</td>\n",
       "      <td>0.921653</td>\n",
       "      <td>0.123882</td>\n",
       "      <td>gini</td>\n",
       "      <td>1</td>\n",
       "      <td>100</td>\n",
       "      <td>{'rf__criterion': 'gini', 'rf__min_samples_lea...</td>\n",
       "      <td>0.660894</td>\n",
       "      <td>0.671263</td>\n",
       "      <td>0.668174</td>\n",
       "      <td>0.665527</td>\n",
       "      <td>0.666520</td>\n",
       "      <td>0.666475</td>\n",
       "      <td>0.003402</td>\n",
       "      <td>4</td>\n",
       "    </tr>\n",
       "    <tr>\n",
       "      <th>2</th>\n",
       "      <td>19.024656</td>\n",
       "      <td>0.422883</td>\n",
       "      <td>0.456700</td>\n",
       "      <td>0.011728</td>\n",
       "      <td>gini</td>\n",
       "      <td>3</td>\n",
       "      <td>100</td>\n",
       "      <td>{'rf__criterion': 'gini', 'rf__min_samples_lea...</td>\n",
       "      <td>0.655929</td>\n",
       "      <td>0.672146</td>\n",
       "      <td>0.674021</td>\n",
       "      <td>0.665196</td>\n",
       "      <td>0.664644</td>\n",
       "      <td>0.666387</td>\n",
       "      <td>0.006407</td>\n",
       "      <td>5</td>\n",
       "    </tr>\n",
       "  </tbody>\n",
       "</table>\n",
       "</div>"
      ],
      "text/plain": [
       "   mean_fit_time  std_fit_time  mean_score_time  std_score_time  \\\n",
       "3      26.373136      0.436089         0.613596        0.008764   \n",
       "5      17.731591      0.391331         0.317943        0.039775   \n",
       "4      22.335534      1.640196         0.466506        0.087802   \n",
       "0      26.473257      0.465138         0.921653        0.123882   \n",
       "2      19.024656      0.422883         0.456700        0.011728   \n",
       "\n",
       "  param_rf__criterion param_rf__min_samples_leaf param_rf__n_estimators  \\\n",
       "3             entropy                          1                    100   \n",
       "5             entropy                          3                    100   \n",
       "4             entropy                          2                    100   \n",
       "0                gini                          1                    100   \n",
       "2                gini                          3                    100   \n",
       "\n",
       "                                              params  split0_test_score  \\\n",
       "3  {'rf__criterion': 'entropy', 'rf__min_samples_...           0.669498   \n",
       "5  {'rf__criterion': 'entropy', 'rf__min_samples_...           0.664313   \n",
       "4  {'rf__criterion': 'entropy', 'rf__min_samples_...           0.659901   \n",
       "0  {'rf__criterion': 'gini', 'rf__min_samples_lea...           0.660894   \n",
       "2  {'rf__criterion': 'gini', 'rf__min_samples_lea...           0.655929   \n",
       "\n",
       "   split1_test_score  split2_test_score  split3_test_score  split4_test_score  \\\n",
       "3           0.667733           0.674242           0.671594           0.665196   \n",
       "5           0.672146           0.675014           0.668395           0.665747   \n",
       "4           0.673359           0.675676           0.668064           0.664534   \n",
       "0           0.671263           0.668174           0.665527           0.666520   \n",
       "2           0.672146           0.674021           0.665196           0.664644   \n",
       "\n",
       "   mean_test_score  std_test_score  rank_test_score  \n",
       "3         0.669653        0.003111                1  \n",
       "5         0.669123        0.003972                2  \n",
       "4         0.668307        0.005741                3  \n",
       "0         0.666475        0.003402                4  \n",
       "2         0.666387        0.006407                5  "
      ]
     },
     "execution_count": 35,
     "metadata": {},
     "output_type": "execute_result"
    }
   ],
   "source": [
    "#the top hyperparameter combinations for this model\n",
    "pd.DataFrame(grid.cv_results_).sort_values(by='rank_test_score').head()"
   ]
  },
  {
   "cell_type": "code",
   "execution_count": null,
   "id": "295d56d8",
   "metadata": {},
   "outputs": [],
   "source": []
  },
  {
   "cell_type": "markdown",
   "id": "0b22e77d",
   "metadata": {},
   "source": [
    "### Best Model"
   ]
  },
  {
   "cell_type": "code",
   "execution_count": 36,
   "id": "e547f076",
   "metadata": {},
   "outputs": [],
   "source": [
    "df_train, df_validation = train_test_split(df_remainder, test_size=0.2, random_state=42, \n",
    "                                           stratify=df_remainder[['track_genre','popularity']])\n",
    "\n",
    "df_train.drop(columns=['track_id', 'artists', 'album_name', 'track_name', 'track_genre','preview_url'],inplace=True)\n",
    "df_validation.drop(columns=['track_id', 'artists', 'album_name', 'track_name', 'track_genre','preview_url'],inplace=True)\n",
    "\n",
    "X_train = df_train.drop(columns='popularity')\n",
    "y_train = df_train['popularity']\n",
    "    \n",
    "X_val = df_validation.drop(columns='popularity')\n",
    "y_val = df_validation['popularity']"
   ]
  },
  {
   "cell_type": "code",
   "execution_count": 37,
   "id": "350979e4",
   "metadata": {},
   "outputs": [],
   "source": [
    "RF = RandomForestClassifier(n_estimators=100, min_samples_leaf=1, criterion='entropy').fit(X_train,y_train)"
   ]
  },
  {
   "cell_type": "code",
   "execution_count": 38,
   "id": "cb446357",
   "metadata": {},
   "outputs": [
    {
     "name": "stdout",
     "output_type": "stream",
     "text": [
      "Accuarcy Score:  1.0\n",
      "recall Score:  1.0\n",
      "f1 Score:  1.0\n",
      "precision Score:  1.0\n"
     ]
    }
   ],
   "source": [
    "y_pred_train = RF.predict(X_train)\n",
    "\n",
    "print('Accuarcy Score: ',accuracy_score(y_pred_train,y_train))\n",
    "print('recall Score: ',recall_score(y_pred_train,y_train))\n",
    "print('f1 Score: ',f1_score(y_pred_train,y_train))\n",
    "print('precision Score: ',precision_score(y_pred_train,y_train))"
   ]
  },
  {
   "cell_type": "code",
   "execution_count": 39,
   "id": "2a9497e0",
   "metadata": {},
   "outputs": [
    {
     "name": "stdout",
     "output_type": "stream",
     "text": [
      "Accuarcy Score:  0.6773303916161059\n",
      "recall Score:  0.6747038917089678\n",
      "f1 Score:  0.6856528747984953\n",
      "precision Score:  0.6969630762508193\n"
     ]
    }
   ],
   "source": [
    "y_pred_val = RF.predict(X_val)\n",
    "\n",
    "print('Accuarcy Score: ',accuracy_score(y_pred_val,y_val))\n",
    "print('recall Score: ',recall_score(y_pred_val,y_val))\n",
    "print('f1 Score: ',f1_score(y_pred_val,y_val))\n",
    "print('precision Score: ',precision_score(y_pred_val,y_val))"
   ]
  },
  {
   "cell_type": "markdown",
   "id": "f1192018",
   "metadata": {},
   "source": [
    "## XGBoost"
   ]
  },
  {
   "cell_type": "markdown",
   "id": "bcae101f",
   "metadata": {},
   "source": [
    "### Gridsearches"
   ]
  },
  {
   "cell_type": "code",
   "execution_count": 40,
   "id": "d64803ac",
   "metadata": {},
   "outputs": [],
   "source": [
    "#splitting into X and y\n",
    "X_rem = df_remainder.drop(columns=['track_id', 'album_name', 'artists', 'track_name', 'track_genre',\n",
    "                                   'preview_url','popularity'])\n",
    "y_rem = df_remainder['popularity']"
   ]
  },
  {
   "cell_type": "code",
   "execution_count": 41,
   "id": "d81f9760",
   "metadata": {},
   "outputs": [
    {
     "name": "stdout",
     "output_type": "stream",
     "text": [
      "Fitting 5 folds for each of 12 candidates, totalling 60 fits\n"
     ]
    }
   ],
   "source": [
    "# estimator\n",
    "estimator = Pipeline([\n",
    "    ('xgb', XGBClassifier())\n",
    "])\n",
    "\n",
    "\n",
    "# parameters\n",
    "params = {\n",
    "    'xgb__booster': ['gbtree','dart'],\n",
    "    'xgb__learning_rate':[0.42,0.43,0.44],\n",
    "    'xgb__n_estimators': [100,200],\n",
    "    'xgb__gamma':[0.2],\n",
    "    'xgb__subsample': [0.5]\n",
    "}\n",
    "\n",
    "# grid search\n",
    "grid = GridSearchCV(estimator, param_grid=params, cv=5, n_jobs=-1, verbose=3)\n",
    "grid.fit(X_rem, y_rem)\n",
    "\n",
    "#writting to pickle\n",
    "with open('Gridsearches/XGBoost/XGBoost_grid_1.pkl', \"wb\") as f:\n",
    "    pickle.dump(grid, f)"
   ]
  },
  {
   "cell_type": "code",
   "execution_count": 42,
   "id": "89149de7",
   "metadata": {},
   "outputs": [
    {
     "data": {
      "text/plain": [
       "{'xgb__booster': 'gbtree',\n",
       " 'xgb__gamma': 0.2,\n",
       " 'xgb__learning_rate': 0.42,\n",
       " 'xgb__n_estimators': 200,\n",
       " 'xgb__subsample': 0.5}"
      ]
     },
     "execution_count": 42,
     "metadata": {},
     "output_type": "execute_result"
    }
   ],
   "source": [
    "#the best parameters the gridsearch found\n",
    "grid.best_params_"
   ]
  },
  {
   "cell_type": "code",
   "execution_count": 43,
   "id": "c6748583",
   "metadata": {},
   "outputs": [
    {
     "data": {
      "text/plain": [
       "0.893811362382791"
      ]
     },
     "execution_count": 43,
     "metadata": {},
     "output_type": "execute_result"
    }
   ],
   "source": [
    "#the best score the gridsearch found\n",
    "grid.best_score_"
   ]
  },
  {
   "cell_type": "code",
   "execution_count": 44,
   "id": "4d8a10ee",
   "metadata": {},
   "outputs": [
    {
     "data": {
      "text/html": [
       "<div>\n",
       "<style scoped>\n",
       "    .dataframe tbody tr th:only-of-type {\n",
       "        vertical-align: middle;\n",
       "    }\n",
       "\n",
       "    .dataframe tbody tr th {\n",
       "        vertical-align: top;\n",
       "    }\n",
       "\n",
       "    .dataframe thead th {\n",
       "        text-align: right;\n",
       "    }\n",
       "</style>\n",
       "<table border=\"1\" class=\"dataframe\">\n",
       "  <thead>\n",
       "    <tr style=\"text-align: right;\">\n",
       "      <th></th>\n",
       "      <th>mean_fit_time</th>\n",
       "      <th>std_fit_time</th>\n",
       "      <th>mean_score_time</th>\n",
       "      <th>std_score_time</th>\n",
       "      <th>param_xgb__booster</th>\n",
       "      <th>param_xgb__gamma</th>\n",
       "      <th>param_xgb__learning_rate</th>\n",
       "      <th>param_xgb__n_estimators</th>\n",
       "      <th>param_xgb__subsample</th>\n",
       "      <th>params</th>\n",
       "      <th>split0_test_score</th>\n",
       "      <th>split1_test_score</th>\n",
       "      <th>split2_test_score</th>\n",
       "      <th>split3_test_score</th>\n",
       "      <th>split4_test_score</th>\n",
       "      <th>mean_test_score</th>\n",
       "      <th>std_test_score</th>\n",
       "      <th>rank_test_score</th>\n",
       "    </tr>\n",
       "  </thead>\n",
       "  <tbody>\n",
       "    <tr>\n",
       "      <th>1</th>\n",
       "      <td>102.929858</td>\n",
       "      <td>0.350713</td>\n",
       "      <td>0.250449</td>\n",
       "      <td>0.035657</td>\n",
       "      <td>gbtree</td>\n",
       "      <td>0.2</td>\n",
       "      <td>0.42</td>\n",
       "      <td>200</td>\n",
       "      <td>0.5</td>\n",
       "      <td>{'xgb__booster': 'gbtree', 'xgb__gamma': 0.2, ...</td>\n",
       "      <td>0.888252</td>\n",
       "      <td>0.894650</td>\n",
       "      <td>0.892554</td>\n",
       "      <td>0.898952</td>\n",
       "      <td>0.894650</td>\n",
       "      <td>0.893811</td>\n",
       "      <td>0.003473</td>\n",
       "      <td>1</td>\n",
       "    </tr>\n",
       "    <tr>\n",
       "      <th>5</th>\n",
       "      <td>123.968467</td>\n",
       "      <td>0.181626</td>\n",
       "      <td>0.317292</td>\n",
       "      <td>0.031700</td>\n",
       "      <td>gbtree</td>\n",
       "      <td>0.2</td>\n",
       "      <td>0.44</td>\n",
       "      <td>200</td>\n",
       "      <td>0.5</td>\n",
       "      <td>{'xgb__booster': 'gbtree', 'xgb__gamma': 0.2, ...</td>\n",
       "      <td>0.885052</td>\n",
       "      <td>0.895753</td>\n",
       "      <td>0.891892</td>\n",
       "      <td>0.892113</td>\n",
       "      <td>0.893436</td>\n",
       "      <td>0.891649</td>\n",
       "      <td>0.003573</td>\n",
       "      <td>2</td>\n",
       "    </tr>\n",
       "    <tr>\n",
       "      <th>9</th>\n",
       "      <td>624.516945</td>\n",
       "      <td>6.342649</td>\n",
       "      <td>19.826617</td>\n",
       "      <td>0.852312</td>\n",
       "      <td>dart</td>\n",
       "      <td>0.2</td>\n",
       "      <td>0.43</td>\n",
       "      <td>200</td>\n",
       "      <td>0.5</td>\n",
       "      <td>{'xgb__booster': 'dart', 'xgb__gamma': 0.2, 'x...</td>\n",
       "      <td>0.893547</td>\n",
       "      <td>0.895422</td>\n",
       "      <td>0.887700</td>\n",
       "      <td>0.886707</td>\n",
       "      <td>0.891671</td>\n",
       "      <td>0.891009</td>\n",
       "      <td>0.003341</td>\n",
       "      <td>3</td>\n",
       "    </tr>\n",
       "    <tr>\n",
       "      <th>7</th>\n",
       "      <td>603.283437</td>\n",
       "      <td>4.593616</td>\n",
       "      <td>20.039887</td>\n",
       "      <td>0.196625</td>\n",
       "      <td>dart</td>\n",
       "      <td>0.2</td>\n",
       "      <td>0.42</td>\n",
       "      <td>200</td>\n",
       "      <td>0.5</td>\n",
       "      <td>{'xgb__booster': 'dart', 'xgb__gamma': 0.2, 'x...</td>\n",
       "      <td>0.895532</td>\n",
       "      <td>0.891561</td>\n",
       "      <td>0.891340</td>\n",
       "      <td>0.889244</td>\n",
       "      <td>0.887259</td>\n",
       "      <td>0.890987</td>\n",
       "      <td>0.002759</td>\n",
       "      <td>4</td>\n",
       "    </tr>\n",
       "    <tr>\n",
       "      <th>3</th>\n",
       "      <td>104.919617</td>\n",
       "      <td>3.224885</td>\n",
       "      <td>0.221992</td>\n",
       "      <td>0.008652</td>\n",
       "      <td>gbtree</td>\n",
       "      <td>0.2</td>\n",
       "      <td>0.43</td>\n",
       "      <td>200</td>\n",
       "      <td>0.5</td>\n",
       "      <td>{'xgb__booster': 'gbtree', 'xgb__gamma': 0.2, ...</td>\n",
       "      <td>0.886045</td>\n",
       "      <td>0.892995</td>\n",
       "      <td>0.886045</td>\n",
       "      <td>0.887590</td>\n",
       "      <td>0.895532</td>\n",
       "      <td>0.889641</td>\n",
       "      <td>0.003899</td>\n",
       "      <td>5</td>\n",
       "    </tr>\n",
       "  </tbody>\n",
       "</table>\n",
       "</div>"
      ],
      "text/plain": [
       "   mean_fit_time  std_fit_time  mean_score_time  std_score_time  \\\n",
       "1     102.929858      0.350713         0.250449        0.035657   \n",
       "5     123.968467      0.181626         0.317292        0.031700   \n",
       "9     624.516945      6.342649        19.826617        0.852312   \n",
       "7     603.283437      4.593616        20.039887        0.196625   \n",
       "3     104.919617      3.224885         0.221992        0.008652   \n",
       "\n",
       "  param_xgb__booster param_xgb__gamma param_xgb__learning_rate  \\\n",
       "1             gbtree              0.2                     0.42   \n",
       "5             gbtree              0.2                     0.44   \n",
       "9               dart              0.2                     0.43   \n",
       "7               dart              0.2                     0.42   \n",
       "3             gbtree              0.2                     0.43   \n",
       "\n",
       "  param_xgb__n_estimators param_xgb__subsample  \\\n",
       "1                     200                  0.5   \n",
       "5                     200                  0.5   \n",
       "9                     200                  0.5   \n",
       "7                     200                  0.5   \n",
       "3                     200                  0.5   \n",
       "\n",
       "                                              params  split0_test_score  \\\n",
       "1  {'xgb__booster': 'gbtree', 'xgb__gamma': 0.2, ...           0.888252   \n",
       "5  {'xgb__booster': 'gbtree', 'xgb__gamma': 0.2, ...           0.885052   \n",
       "9  {'xgb__booster': 'dart', 'xgb__gamma': 0.2, 'x...           0.893547   \n",
       "7  {'xgb__booster': 'dart', 'xgb__gamma': 0.2, 'x...           0.895532   \n",
       "3  {'xgb__booster': 'gbtree', 'xgb__gamma': 0.2, ...           0.886045   \n",
       "\n",
       "   split1_test_score  split2_test_score  split3_test_score  split4_test_score  \\\n",
       "1           0.894650           0.892554           0.898952           0.894650   \n",
       "5           0.895753           0.891892           0.892113           0.893436   \n",
       "9           0.895422           0.887700           0.886707           0.891671   \n",
       "7           0.891561           0.891340           0.889244           0.887259   \n",
       "3           0.892995           0.886045           0.887590           0.895532   \n",
       "\n",
       "   mean_test_score  std_test_score  rank_test_score  \n",
       "1         0.893811        0.003473                1  \n",
       "5         0.891649        0.003573                2  \n",
       "9         0.891009        0.003341                3  \n",
       "7         0.890987        0.002759                4  \n",
       "3         0.889641        0.003899                5  "
      ]
     },
     "execution_count": 44,
     "metadata": {},
     "output_type": "execute_result"
    }
   ],
   "source": [
    "#the top hyperparameter combinations for this model\n",
    "pd.DataFrame(grid.cv_results_).sort_values(by='rank_test_score').head()"
   ]
  },
  {
   "cell_type": "code",
   "execution_count": null,
   "id": "35d59449",
   "metadata": {},
   "outputs": [],
   "source": []
  },
  {
   "cell_type": "code",
   "execution_count": null,
   "id": "1dd6ebbd",
   "metadata": {},
   "outputs": [],
   "source": []
  },
  {
   "cell_type": "code",
   "execution_count": null,
   "id": "901d6de4",
   "metadata": {},
   "outputs": [],
   "source": []
  },
  {
   "cell_type": "code",
   "execution_count": 45,
   "id": "0e516541",
   "metadata": {},
   "outputs": [
    {
     "name": "stdout",
     "output_type": "stream",
     "text": [
      "Fitting 5 folds for each of 108 candidates, totalling 540 fits\n"
     ]
    }
   ],
   "source": [
    "# estimator\n",
    "estimator = Pipeline([\n",
    "    ('scaler', StandardScaler()),\n",
    "    ('xgb', XGBClassifier()\n",
    ")])\n",
    "\n",
    "# parameters\n",
    "params = {\n",
    "    'xgb__booster': ['gbtree'],\n",
    "    'xgb__learning_rate':[0.2,0.4,0.6],\n",
    "    'xgb__n_estimators': [50,75,100],\n",
    "    'xgb__gamma':[0.2,0.25,0.3],\n",
    "    'xgb__subsample': [0.5],\n",
    "    'xgb__min_child_weight':[0.5, 1,5,10]\n",
    "}\n",
    "\n",
    "\n",
    "\n",
    "# grid search\n",
    "grid = GridSearchCV(estimator, param_grid=params, cv=5, n_jobs=-1, verbose=3)\n",
    "grid.fit(X_rem, y_rem)\n",
    "\n",
    "#writting to pickle\n",
    "with open('Gridsearches/XGBoost/XGBoost_grid_2.pkl', \"wb\") as f:\n",
    "    pickle.dump(grid, f)"
   ]
  },
  {
   "cell_type": "code",
   "execution_count": 46,
   "id": "e3344ef7",
   "metadata": {},
   "outputs": [
    {
     "data": {
      "text/plain": [
       "{'xgb__booster': 'gbtree',\n",
       " 'xgb__gamma': 0.25,\n",
       " 'xgb__learning_rate': 0.4,\n",
       " 'xgb__min_child_weight': 1,\n",
       " 'xgb__n_estimators': 100,\n",
       " 'xgb__subsample': 0.5}"
      ]
     },
     "execution_count": 46,
     "metadata": {},
     "output_type": "execute_result"
    }
   ],
   "source": [
    "#the best parameters the gridsearch found\n",
    "grid.best_params_"
   ]
  },
  {
   "cell_type": "code",
   "execution_count": 47,
   "id": "72414c1b",
   "metadata": {},
   "outputs": [
    {
     "data": {
      "text/plain": [
       "0.8783452840595697"
      ]
     },
     "execution_count": 47,
     "metadata": {},
     "output_type": "execute_result"
    }
   ],
   "source": [
    "#the best score the gridsearch found\n",
    "grid.best_score_"
   ]
  },
  {
   "cell_type": "code",
   "execution_count": 48,
   "id": "d0a41148",
   "metadata": {},
   "outputs": [
    {
     "data": {
      "text/html": [
       "<div>\n",
       "<style scoped>\n",
       "    .dataframe tbody tr th:only-of-type {\n",
       "        vertical-align: middle;\n",
       "    }\n",
       "\n",
       "    .dataframe tbody tr th {\n",
       "        vertical-align: top;\n",
       "    }\n",
       "\n",
       "    .dataframe thead th {\n",
       "        text-align: right;\n",
       "    }\n",
       "</style>\n",
       "<table border=\"1\" class=\"dataframe\">\n",
       "  <thead>\n",
       "    <tr style=\"text-align: right;\">\n",
       "      <th></th>\n",
       "      <th>mean_fit_time</th>\n",
       "      <th>std_fit_time</th>\n",
       "      <th>mean_score_time</th>\n",
       "      <th>std_score_time</th>\n",
       "      <th>param_xgb__booster</th>\n",
       "      <th>param_xgb__gamma</th>\n",
       "      <th>param_xgb__learning_rate</th>\n",
       "      <th>param_xgb__min_child_weight</th>\n",
       "      <th>param_xgb__n_estimators</th>\n",
       "      <th>param_xgb__subsample</th>\n",
       "      <th>params</th>\n",
       "      <th>split0_test_score</th>\n",
       "      <th>split1_test_score</th>\n",
       "      <th>split2_test_score</th>\n",
       "      <th>split3_test_score</th>\n",
       "      <th>split4_test_score</th>\n",
       "      <th>mean_test_score</th>\n",
       "      <th>std_test_score</th>\n",
       "      <th>rank_test_score</th>\n",
       "    </tr>\n",
       "  </thead>\n",
       "  <tbody>\n",
       "    <tr>\n",
       "      <th>53</th>\n",
       "      <td>49.718121</td>\n",
       "      <td>0.030146</td>\n",
       "      <td>0.164026</td>\n",
       "      <td>0.006544</td>\n",
       "      <td>gbtree</td>\n",
       "      <td>0.25</td>\n",
       "      <td>0.4</td>\n",
       "      <td>1</td>\n",
       "      <td>100</td>\n",
       "      <td>0.5</td>\n",
       "      <td>{'xgb__booster': 'gbtree', 'xgb__gamma': 0.25,...</td>\n",
       "      <td>0.874242</td>\n",
       "      <td>0.881853</td>\n",
       "      <td>0.876889</td>\n",
       "      <td>0.885383</td>\n",
       "      <td>0.873359</td>\n",
       "      <td>0.878345</td>\n",
       "      <td>0.004597</td>\n",
       "      <td>1</td>\n",
       "    </tr>\n",
       "    <tr>\n",
       "      <th>86</th>\n",
       "      <td>50.028678</td>\n",
       "      <td>0.169291</td>\n",
       "      <td>0.163386</td>\n",
       "      <td>0.006373</td>\n",
       "      <td>gbtree</td>\n",
       "      <td>0.3</td>\n",
       "      <td>0.4</td>\n",
       "      <td>0.5</td>\n",
       "      <td>100</td>\n",
       "      <td>0.5</td>\n",
       "      <td>{'xgb__booster': 'gbtree', 'xgb__gamma': 0.3, ...</td>\n",
       "      <td>0.868395</td>\n",
       "      <td>0.867181</td>\n",
       "      <td>0.887259</td>\n",
       "      <td>0.883067</td>\n",
       "      <td>0.880750</td>\n",
       "      <td>0.877330</td>\n",
       "      <td>0.008075</td>\n",
       "      <td>2</td>\n",
       "    </tr>\n",
       "    <tr>\n",
       "      <th>89</th>\n",
       "      <td>49.703447</td>\n",
       "      <td>0.166600</td>\n",
       "      <td>0.160996</td>\n",
       "      <td>0.004109</td>\n",
       "      <td>gbtree</td>\n",
       "      <td>0.3</td>\n",
       "      <td>0.4</td>\n",
       "      <td>1</td>\n",
       "      <td>100</td>\n",
       "      <td>0.5</td>\n",
       "      <td>{'xgb__booster': 'gbtree', 'xgb__gamma': 0.3, ...</td>\n",
       "      <td>0.864203</td>\n",
       "      <td>0.886045</td>\n",
       "      <td>0.877882</td>\n",
       "      <td>0.879868</td>\n",
       "      <td>0.877882</td>\n",
       "      <td>0.877176</td>\n",
       "      <td>0.007144</td>\n",
       "      <td>3</td>\n",
       "    </tr>\n",
       "    <tr>\n",
       "      <th>50</th>\n",
       "      <td>50.093948</td>\n",
       "      <td>0.181275</td>\n",
       "      <td>0.163336</td>\n",
       "      <td>0.011146</td>\n",
       "      <td>gbtree</td>\n",
       "      <td>0.25</td>\n",
       "      <td>0.4</td>\n",
       "      <td>0.5</td>\n",
       "      <td>100</td>\n",
       "      <td>0.5</td>\n",
       "      <td>{'xgb__booster': 'gbtree', 'xgb__gamma': 0.25,...</td>\n",
       "      <td>0.871815</td>\n",
       "      <td>0.871484</td>\n",
       "      <td>0.878103</td>\n",
       "      <td>0.881191</td>\n",
       "      <td>0.881081</td>\n",
       "      <td>0.876735</td>\n",
       "      <td>0.004299</td>\n",
       "      <td>4</td>\n",
       "    </tr>\n",
       "    <tr>\n",
       "      <th>14</th>\n",
       "      <td>59.414940</td>\n",
       "      <td>1.643178</td>\n",
       "      <td>0.203993</td>\n",
       "      <td>0.016273</td>\n",
       "      <td>gbtree</td>\n",
       "      <td>0.2</td>\n",
       "      <td>0.4</td>\n",
       "      <td>0.5</td>\n",
       "      <td>100</td>\n",
       "      <td>0.5</td>\n",
       "      <td>{'xgb__booster': 'gbtree', 'xgb__gamma': 0.2, ...</td>\n",
       "      <td>0.865968</td>\n",
       "      <td>0.882846</td>\n",
       "      <td>0.869498</td>\n",
       "      <td>0.875345</td>\n",
       "      <td>0.881412</td>\n",
       "      <td>0.875014</td>\n",
       "      <td>0.006552</td>\n",
       "      <td>5</td>\n",
       "    </tr>\n",
       "  </tbody>\n",
       "</table>\n",
       "</div>"
      ],
      "text/plain": [
       "    mean_fit_time  std_fit_time  mean_score_time  std_score_time  \\\n",
       "53      49.718121      0.030146         0.164026        0.006544   \n",
       "86      50.028678      0.169291         0.163386        0.006373   \n",
       "89      49.703447      0.166600         0.160996        0.004109   \n",
       "50      50.093948      0.181275         0.163336        0.011146   \n",
       "14      59.414940      1.643178         0.203993        0.016273   \n",
       "\n",
       "   param_xgb__booster param_xgb__gamma param_xgb__learning_rate  \\\n",
       "53             gbtree             0.25                      0.4   \n",
       "86             gbtree              0.3                      0.4   \n",
       "89             gbtree              0.3                      0.4   \n",
       "50             gbtree             0.25                      0.4   \n",
       "14             gbtree              0.2                      0.4   \n",
       "\n",
       "   param_xgb__min_child_weight param_xgb__n_estimators param_xgb__subsample  \\\n",
       "53                           1                     100                  0.5   \n",
       "86                         0.5                     100                  0.5   \n",
       "89                           1                     100                  0.5   \n",
       "50                         0.5                     100                  0.5   \n",
       "14                         0.5                     100                  0.5   \n",
       "\n",
       "                                               params  split0_test_score  \\\n",
       "53  {'xgb__booster': 'gbtree', 'xgb__gamma': 0.25,...           0.874242   \n",
       "86  {'xgb__booster': 'gbtree', 'xgb__gamma': 0.3, ...           0.868395   \n",
       "89  {'xgb__booster': 'gbtree', 'xgb__gamma': 0.3, ...           0.864203   \n",
       "50  {'xgb__booster': 'gbtree', 'xgb__gamma': 0.25,...           0.871815   \n",
       "14  {'xgb__booster': 'gbtree', 'xgb__gamma': 0.2, ...           0.865968   \n",
       "\n",
       "    split1_test_score  split2_test_score  split3_test_score  \\\n",
       "53           0.881853           0.876889           0.885383   \n",
       "86           0.867181           0.887259           0.883067   \n",
       "89           0.886045           0.877882           0.879868   \n",
       "50           0.871484           0.878103           0.881191   \n",
       "14           0.882846           0.869498           0.875345   \n",
       "\n",
       "    split4_test_score  mean_test_score  std_test_score  rank_test_score  \n",
       "53           0.873359         0.878345        0.004597                1  \n",
       "86           0.880750         0.877330        0.008075                2  \n",
       "89           0.877882         0.877176        0.007144                3  \n",
       "50           0.881081         0.876735        0.004299                4  \n",
       "14           0.881412         0.875014        0.006552                5  "
      ]
     },
     "execution_count": 48,
     "metadata": {},
     "output_type": "execute_result"
    }
   ],
   "source": [
    "#the top hyperparameter combinations for this model\n",
    "pd.DataFrame(grid.cv_results_).sort_values(by='rank_test_score').head()"
   ]
  },
  {
   "cell_type": "code",
   "execution_count": null,
   "id": "25abf3e9",
   "metadata": {},
   "outputs": [],
   "source": []
  },
  {
   "cell_type": "code",
   "execution_count": null,
   "id": "da38025b",
   "metadata": {},
   "outputs": [],
   "source": []
  },
  {
   "cell_type": "code",
   "execution_count": null,
   "id": "7792df5b",
   "metadata": {},
   "outputs": [],
   "source": []
  },
  {
   "cell_type": "code",
   "execution_count": 49,
   "id": "d7d7c714",
   "metadata": {},
   "outputs": [
    {
     "name": "stdout",
     "output_type": "stream",
     "text": [
      "Fitting 5 folds for each of 27 candidates, totalling 135 fits\n"
     ]
    }
   ],
   "source": [
    "# estimator\n",
    "estimator = Pipeline([\n",
    "    ('scaler', StandardScaler()),\n",
    "    ('xgb', XGBClassifier()\n",
    ")])\n",
    "\n",
    "# parameters\n",
    "params = {\n",
    "    'xgb__booster': ['gbtree'],\n",
    "    'xgb__learning_rate':[0.3,0.4,0.5],\n",
    "    'xgb__n_estimators': [70],\n",
    "    'xgb__gamma':[0.23,0.25,0.27],\n",
    "    'xgb__subsample': [0.5],\n",
    "    'xgb__min_child_weight':[0.5, 0.75, 1]\n",
    "}\n",
    "\n",
    "# grid search\n",
    "grid = GridSearchCV(estimator, param_grid=params, cv=5, n_jobs=-1, verbose=3)\n",
    "grid.fit(X_rem, y_rem)\n",
    "\n",
    "#writting to pickle\n",
    "with open('Gridsearches/XGBoost/XGBoost_grid_3.pkl', \"wb\") as f:\n",
    "    pickle.dump(grid, f)"
   ]
  },
  {
   "cell_type": "code",
   "execution_count": 50,
   "id": "8bc2828a",
   "metadata": {},
   "outputs": [
    {
     "data": {
      "text/plain": [
       "{'xgb__booster': 'gbtree',\n",
       " 'xgb__gamma': 0.27,\n",
       " 'xgb__learning_rate': 0.5,\n",
       " 'xgb__min_child_weight': 1,\n",
       " 'xgb__n_estimators': 70,\n",
       " 'xgb__subsample': 0.5}"
      ]
     },
     "execution_count": 50,
     "metadata": {},
     "output_type": "execute_result"
    }
   ],
   "source": [
    "#the best parameters the gridsearch found\n",
    "grid.best_params_"
   ]
  },
  {
   "cell_type": "code",
   "execution_count": 51,
   "id": "e89ff453",
   "metadata": {},
   "outputs": [
    {
     "data": {
      "text/plain": [
       "0.8673579702151131"
      ]
     },
     "execution_count": 51,
     "metadata": {},
     "output_type": "execute_result"
    }
   ],
   "source": [
    "#the best score the gridsearch found\n",
    "grid.best_score_"
   ]
  },
  {
   "cell_type": "code",
   "execution_count": 52,
   "id": "98b03400",
   "metadata": {},
   "outputs": [
    {
     "data": {
      "text/html": [
       "<div>\n",
       "<style scoped>\n",
       "    .dataframe tbody tr th:only-of-type {\n",
       "        vertical-align: middle;\n",
       "    }\n",
       "\n",
       "    .dataframe tbody tr th {\n",
       "        vertical-align: top;\n",
       "    }\n",
       "\n",
       "    .dataframe thead th {\n",
       "        text-align: right;\n",
       "    }\n",
       "</style>\n",
       "<table border=\"1\" class=\"dataframe\">\n",
       "  <thead>\n",
       "    <tr style=\"text-align: right;\">\n",
       "      <th></th>\n",
       "      <th>mean_fit_time</th>\n",
       "      <th>std_fit_time</th>\n",
       "      <th>mean_score_time</th>\n",
       "      <th>std_score_time</th>\n",
       "      <th>param_xgb__booster</th>\n",
       "      <th>param_xgb__gamma</th>\n",
       "      <th>param_xgb__learning_rate</th>\n",
       "      <th>param_xgb__min_child_weight</th>\n",
       "      <th>param_xgb__n_estimators</th>\n",
       "      <th>param_xgb__subsample</th>\n",
       "      <th>params</th>\n",
       "      <th>split0_test_score</th>\n",
       "      <th>split1_test_score</th>\n",
       "      <th>split2_test_score</th>\n",
       "      <th>split3_test_score</th>\n",
       "      <th>split4_test_score</th>\n",
       "      <th>mean_test_score</th>\n",
       "      <th>std_test_score</th>\n",
       "      <th>rank_test_score</th>\n",
       "    </tr>\n",
       "  </thead>\n",
       "  <tbody>\n",
       "    <tr>\n",
       "      <th>26</th>\n",
       "      <td>32.714467</td>\n",
       "      <td>0.128123</td>\n",
       "      <td>0.118486</td>\n",
       "      <td>0.009130</td>\n",
       "      <td>gbtree</td>\n",
       "      <td>0.27</td>\n",
       "      <td>0.5</td>\n",
       "      <td>1</td>\n",
       "      <td>70</td>\n",
       "      <td>0.5</td>\n",
       "      <td>{'xgb__booster': 'gbtree', 'xgb__gamma': 0.27,...</td>\n",
       "      <td>0.859459</td>\n",
       "      <td>0.857694</td>\n",
       "      <td>0.878764</td>\n",
       "      <td>0.868285</td>\n",
       "      <td>0.872587</td>\n",
       "      <td>0.867358</td>\n",
       "      <td>0.007926</td>\n",
       "      <td>1</td>\n",
       "    </tr>\n",
       "    <tr>\n",
       "      <th>17</th>\n",
       "      <td>36.131855</td>\n",
       "      <td>0.180548</td>\n",
       "      <td>0.153994</td>\n",
       "      <td>0.005765</td>\n",
       "      <td>gbtree</td>\n",
       "      <td>0.25</td>\n",
       "      <td>0.5</td>\n",
       "      <td>1</td>\n",
       "      <td>70</td>\n",
       "      <td>0.5</td>\n",
       "      <td>{'xgb__booster': 'gbtree', 'xgb__gamma': 0.25,...</td>\n",
       "      <td>0.856040</td>\n",
       "      <td>0.860563</td>\n",
       "      <td>0.873249</td>\n",
       "      <td>0.869829</td>\n",
       "      <td>0.869277</td>\n",
       "      <td>0.865792</td>\n",
       "      <td>0.006427</td>\n",
       "      <td>2</td>\n",
       "    </tr>\n",
       "    <tr>\n",
       "      <th>8</th>\n",
       "      <td>36.241225</td>\n",
       "      <td>0.048454</td>\n",
       "      <td>0.185108</td>\n",
       "      <td>0.016963</td>\n",
       "      <td>gbtree</td>\n",
       "      <td>0.23</td>\n",
       "      <td>0.5</td>\n",
       "      <td>1</td>\n",
       "      <td>70</td>\n",
       "      <td>0.5</td>\n",
       "      <td>{'xgb__booster': 'gbtree', 'xgb__gamma': 0.23,...</td>\n",
       "      <td>0.859680</td>\n",
       "      <td>0.866740</td>\n",
       "      <td>0.866409</td>\n",
       "      <td>0.869498</td>\n",
       "      <td>0.865747</td>\n",
       "      <td>0.865615</td>\n",
       "      <td>0.003232</td>\n",
       "      <td>3</td>\n",
       "    </tr>\n",
       "    <tr>\n",
       "      <th>22</th>\n",
       "      <td>35.789471</td>\n",
       "      <td>0.024658</td>\n",
       "      <td>0.153529</td>\n",
       "      <td>0.004794</td>\n",
       "      <td>gbtree</td>\n",
       "      <td>0.27</td>\n",
       "      <td>0.4</td>\n",
       "      <td>0.75</td>\n",
       "      <td>70</td>\n",
       "      <td>0.5</td>\n",
       "      <td>{'xgb__booster': 'gbtree', 'xgb__gamma': 0.27,...</td>\n",
       "      <td>0.852068</td>\n",
       "      <td>0.864093</td>\n",
       "      <td>0.870050</td>\n",
       "      <td>0.865085</td>\n",
       "      <td>0.866078</td>\n",
       "      <td>0.863475</td>\n",
       "      <td>0.006051</td>\n",
       "      <td>4</td>\n",
       "    </tr>\n",
       "    <tr>\n",
       "      <th>24</th>\n",
       "      <td>36.034271</td>\n",
       "      <td>0.082944</td>\n",
       "      <td>0.154343</td>\n",
       "      <td>0.007443</td>\n",
       "      <td>gbtree</td>\n",
       "      <td>0.27</td>\n",
       "      <td>0.5</td>\n",
       "      <td>0.5</td>\n",
       "      <td>70</td>\n",
       "      <td>0.5</td>\n",
       "      <td>{'xgb__booster': 'gbtree', 'xgb__gamma': 0.27,...</td>\n",
       "      <td>0.855929</td>\n",
       "      <td>0.864755</td>\n",
       "      <td>0.861886</td>\n",
       "      <td>0.864975</td>\n",
       "      <td>0.867512</td>\n",
       "      <td>0.863012</td>\n",
       "      <td>0.003964</td>\n",
       "      <td>5</td>\n",
       "    </tr>\n",
       "  </tbody>\n",
       "</table>\n",
       "</div>"
      ],
      "text/plain": [
       "    mean_fit_time  std_fit_time  mean_score_time  std_score_time  \\\n",
       "26      32.714467      0.128123         0.118486        0.009130   \n",
       "17      36.131855      0.180548         0.153994        0.005765   \n",
       "8       36.241225      0.048454         0.185108        0.016963   \n",
       "22      35.789471      0.024658         0.153529        0.004794   \n",
       "24      36.034271      0.082944         0.154343        0.007443   \n",
       "\n",
       "   param_xgb__booster param_xgb__gamma param_xgb__learning_rate  \\\n",
       "26             gbtree             0.27                      0.5   \n",
       "17             gbtree             0.25                      0.5   \n",
       "8              gbtree             0.23                      0.5   \n",
       "22             gbtree             0.27                      0.4   \n",
       "24             gbtree             0.27                      0.5   \n",
       "\n",
       "   param_xgb__min_child_weight param_xgb__n_estimators param_xgb__subsample  \\\n",
       "26                           1                      70                  0.5   \n",
       "17                           1                      70                  0.5   \n",
       "8                            1                      70                  0.5   \n",
       "22                        0.75                      70                  0.5   \n",
       "24                         0.5                      70                  0.5   \n",
       "\n",
       "                                               params  split0_test_score  \\\n",
       "26  {'xgb__booster': 'gbtree', 'xgb__gamma': 0.27,...           0.859459   \n",
       "17  {'xgb__booster': 'gbtree', 'xgb__gamma': 0.25,...           0.856040   \n",
       "8   {'xgb__booster': 'gbtree', 'xgb__gamma': 0.23,...           0.859680   \n",
       "22  {'xgb__booster': 'gbtree', 'xgb__gamma': 0.27,...           0.852068   \n",
       "24  {'xgb__booster': 'gbtree', 'xgb__gamma': 0.27,...           0.855929   \n",
       "\n",
       "    split1_test_score  split2_test_score  split3_test_score  \\\n",
       "26           0.857694           0.878764           0.868285   \n",
       "17           0.860563           0.873249           0.869829   \n",
       "8            0.866740           0.866409           0.869498   \n",
       "22           0.864093           0.870050           0.865085   \n",
       "24           0.864755           0.861886           0.864975   \n",
       "\n",
       "    split4_test_score  mean_test_score  std_test_score  rank_test_score  \n",
       "26           0.872587         0.867358        0.007926                1  \n",
       "17           0.869277         0.865792        0.006427                2  \n",
       "8            0.865747         0.865615        0.003232                3  \n",
       "22           0.866078         0.863475        0.006051                4  \n",
       "24           0.867512         0.863012        0.003964                5  "
      ]
     },
     "execution_count": 52,
     "metadata": {},
     "output_type": "execute_result"
    }
   ],
   "source": [
    "#the top hyperparameter combinations for this model\n",
    "pd.DataFrame(grid.cv_results_).sort_values(by='rank_test_score').head()"
   ]
  },
  {
   "cell_type": "code",
   "execution_count": null,
   "id": "39f8ac3c",
   "metadata": {},
   "outputs": [],
   "source": []
  },
  {
   "cell_type": "markdown",
   "id": "73d8cc89",
   "metadata": {},
   "source": [
    "### Best Model"
   ]
  },
  {
   "cell_type": "code",
   "execution_count": null,
   "id": "20ca525a",
   "metadata": {},
   "outputs": [],
   "source": []
  },
  {
   "cell_type": "code",
   "execution_count": 53,
   "id": "427e1a19",
   "metadata": {},
   "outputs": [],
   "source": [
    " Final_XGB = XGBClassifier(booster='gbtree', gamma=0.27, learning_rate=0.5,\n",
    "                          min_child_weight=1, n_estimators=70, subsample=0.5).fit(X_rem, y_rem)"
   ]
  },
  {
   "cell_type": "code",
   "execution_count": 54,
   "id": "5d373746",
   "metadata": {},
   "outputs": [],
   "source": [
    "y_pred_final_xg = Final_XGB.predict(X_rem)"
   ]
  },
  {
   "cell_type": "code",
   "execution_count": 55,
   "id": "d455af40",
   "metadata": {},
   "outputs": [
    {
     "data": {
      "text/plain": [
       "<sklearn.metrics._plot.confusion_matrix.ConfusionMatrixDisplay at 0x7ff8f02d6eb0>"
      ]
     },
     "execution_count": 55,
     "metadata": {},
     "output_type": "execute_result"
    },
    {
     "data": {
      "image/png": "[encoded data removed]",
      "text/plain": [
       "<Figure size 640x480 with 2 Axes>"
      ]
     },
     "metadata": {},
     "output_type": "display_data"
    }
   ],
   "source": [
    "ConfusionMatrixDisplay(confusion_matrix(y_pred_final_xg,y_rem)).plot()"
   ]
  },
  {
   "cell_type": "code",
   "execution_count": 56,
   "id": "bc4d0859",
   "metadata": {},
   "outputs": [
    {
     "name": "stdout",
     "output_type": "stream",
     "text": [
      "Accuarcy Score:  0.9160948703805847\n",
      "recall Score:  0.9218333551797964\n",
      "f1 Score:  0.912859120803046\n",
      "precision Score:  0.9173242896584707\n"
     ]
    }
   ],
   "source": [
    "print('Accuarcy Score: ', accuracy_score(y_pred_final_xg,y_rem))\n",
    "print('recall Score: ', precision_score(y_pred_final_xg,y_rem))\n",
    "print('f1 Score: ', recall_score(y_pred_final_xg,y_rem))\n",
    "print('precision Score: ', f1_score(y_pred_final_xg,y_rem))"
   ]
  },
  {
   "cell_type": "markdown",
   "id": "e4ada70e",
   "metadata": {},
   "source": [
    "## Conclusion to this Notebook"
   ]
  }
 ],
 "metadata": {
  "kernelspec": {
   "display_name": "Python 3 (ipykernel)",
   "language": "python",
   "name": "python3"
  },
  "language_info": {
   "codemirror_mode": {
    "name": "ipython",
    "version": 3
   },
   "file_extension": ".py",
   "mimetype": "text/x-python",
   "name": "python",
   "nbconvert_exporter": "python",
   "pygments_lexer": "ipython3",
   "version": "3.9.13"
  },
  "toc": {
   "base_numbering": 1,
   "nav_menu": {},
   "number_sections": false,
   "sideBar": true,
   "skip_h1_title": false,
   "title_cell": "Table of Contents",
   "title_sidebar": "Contents",
   "toc_cell": false,
   "toc_position": {},
   "toc_section_display": true,
   "toc_window_display": true
  },
  "varInspector": {
   "cols": {
    "lenName": 16,
    "lenType": 16,
    "lenVar": 40
   },
   "kernels_config": {
    "python": {
     "delete_cmd_postfix": "",
     "delete_cmd_prefix": "del ",
     "library": "var_list.py",
     "varRefreshCmd": "print(var_dic_list())"
    },
    "r": {
     "delete_cmd_postfix": ") ",
     "delete_cmd_prefix": "rm(",
     "library": "var_list.r",
     "varRefreshCmd": "cat(var_dic_list()) "
    }
   },
   "types_to_exclude": [
    "module",
    "function",
    "builtin_function_or_method",
    "instance",
    "_Feature"
   ],
   "window_display": false
  }
 },
 "nbformat": 4,
 "nbformat_minor": 5
}
